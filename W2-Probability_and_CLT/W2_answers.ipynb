{
  "cells": [
    {
      "cell_type": "markdown",
      "metadata": {
        "id": "Jld572X-CIDJ"
      },
      "source": [
        "# Week 2: Probability and the Central Limit Theorem (CLT)"
      ]
    },
    {
      "cell_type": "markdown",
      "metadata": {
        "id": "PFmdyJqYCK_m"
      },
      "source": [
        "## **Notebook Overview**"
      ]
    },
    {
      "cell_type": "markdown",
      "metadata": {
        "id": "wjAkzaEGkQGT"
      },
      "source": [
        "\n",
        "This notebook reviews:\n",
        "\n",
        "- Probability\n",
        "- The central limit theorem\n",
        "\n",
        "I am aware the central limit theorem was only briefly covered in class so we will be doing a big recap in the Friday TA session."
      ]
    },
    {
      "cell_type": "markdown",
      "metadata": {
        "id": "t9s-LZhpLlZe"
      },
      "source": [
        "### **Additional Resources**"
      ]
    },
    {
      "cell_type": "markdown",
      "metadata": {
        "id": "Uu03A_0MG2pb"
      },
      "source": [
        "\n",
        "Some of you have been asking for additional resources to help understand the problems so here are a few below. Keep in mind that these are textbooks designed for whole degrees of study so they are in much more detail than you need and cover far more topics. Be selective with your reading and keep in mind that the theory in these books is far deeper than we need.\n",
        "\n",
        "1. [Wooldridge Econometrics:](https://www.academia.edu/44467534/ECONOMETRICS_A_Modern_Approach) A great textbook for statistical modelling, though goes into far more theoretical details than we need for this course. Maths Refreshers A, B and C would be very useful for people who have been away from maths for a while. Maths Refresher A (page 666) starts with recaps of things like percentages, summation...etc. Maths Refresher B (page 684) is a good section for probability. Maths Refresher C (page 714) is about statistics. All three of these chapters have more topics/theory than needed for this course so be selective with your reading. In general this is a great textbook for anyone wanting to explore the theory of the course in more detail.\n",
        "\n",
        "2. A-level/high school maths textbooks. The UK A-level maths textbooks explain this content from an introductory level. [Edexcel A-Level Maths Old-spec S1:](https://app.box.com/s/amidflaiy8mt2b19uxre6k59mjdfsuhg) Good for the basics. Probability, discrete random variables, normal distributions. [Edexcel A-Level Maths Old-spec S2:](https://app.box.com/s/nl94ctzktuhqofd0gngh6339oqvu85rk) Great for distributions, continuous random variables. [Edexcel A-Level Maths Old-spec S3 and S4:](https://www.aectutors.co.uk/resources/resources-maths-alevel-old-specs/maths-a-level-text-ebooks) You can download these from here though the online previews don't load for me. S3 is a good introduction to the central limit theorem and confidence intervals. S4 introduces the t-distribution and t-tests.\n",
        "\n",
        "3. The Fox textbook (available on the Canvas reading list) is also okay but mainly starts at regression (Week 3 onwards). Not fantastic for an introduction to statistical theory.\n",
        "\n",
        "4. [Ben Lambert's YouTube channel](https://www.youtube.com/@SpartacanUsuals). Has courses in introductory econometrics, advanced econometrics and other statistical content. Really well explained short videos. Awesome videos and I used this a lot during my studies. [Central Limit Theorem Introduction:](https://www.youtube.com/watch?v=RzxYTQKjdTo) --> great explainer for the CLT. For those of you who have done a lot of maths and econometrics at undergrad then check out [Central Limit Theorem Proof (part 1)](https://www.youtube.com/watch?v=0oHjbr2_AhQ). This is NOT beginner friendly at all but interesting for those of you with lots of maths experience.\n",
        "___"
      ]
    },
    {
      "cell_type": "markdown",
      "metadata": {
        "id": "KgJSZgf-G6Nr"
      },
      "source": [
        "### **Notebook Questions**\n",
        "\n",
        "In each subsection there is text, some code which is already filled in and then code or questions for you to answer at the end.\n",
        "\n",
        "Please work through each section. It's not a massively long notebook so worth doing it in detail."
      ]
    },
    {
      "cell_type": "markdown",
      "metadata": {
        "id": "5vzhBZ2I_UFF"
      },
      "source": [
        "As usual we will start by importing some useful libraries. Recall from the\n",
        "[previous\n",
        "notebook](https://github.com/Yushi-Y/AAS-ongoing-tutorials/tree/main/W1-Intro_to_Python)\n",
        "that it is good practise to import these packages with the standard\n",
        "abbreviations of their names."
      ]
    },
    {
      "cell_type": "code",
      "execution_count": null,
      "metadata": {
        "id": "GQ4PO72tkQGY"
      },
      "outputs": [],
      "source": [
        "import pandas as pd\n",
        "import numpy as np\n",
        "import scipy.stats as stats\n",
        "import matplotlib.pyplot as plt\n",
        "%config InlineBackend.figure_format = 'svg' # format images as svgs (higher quality)"
      ]
    },
    {
      "cell_type": "markdown",
      "metadata": {
        "id": "kYNObWr1kQGc"
      },
      "source": [
        "## **Probability Review**\n"
      ]
    },
    {
      "cell_type": "markdown",
      "metadata": {
        "id": "aLW_CD1ykQGd"
      },
      "source": [
        "This section is a brief review of probability as a way to work towards the central limit theorem."
      ]
    },
    {
      "cell_type": "markdown",
      "metadata": {
        "id": "xLAMD8JpkQGd"
      },
      "source": [
        "### Expected Value"
      ]
    },
    {
      "cell_type": "markdown",
      "metadata": {
        "id": "jIcZ-4MfkQGe"
      },
      "source": [
        "For a real-valued random variable, the expected value is the average of the possible outcomes weighted by the respective probabilities of occurring. See the lecture notes for more explanation on this."
      ]
    },
    {
      "cell_type": "markdown",
      "metadata": {
        "id": "FmGKx_RLkQGf"
      },
      "source": [
        "### Question 1:\n",
        "\n",
        "Define a random variable X as follows: you roll a fair six-sided die until a six is rolled, X is the total number of rolls required to get a six (inclusive of the final roll). What is the expected value of X?\n",
        "\n",
        "We have answered this question mathematically below. Simulate this procedure and show the result with a chart to verify the math is correct."
      ]
    },
    {
      "cell_type": "markdown",
      "metadata": {
        "id": "_KikBrsZkQGg"
      },
      "source": [
        "### Mathematical Answer\n",
        "\n",
        "The expected value is given by the summation over all possible values of X multiplied by their probabilites:\n",
        "\n",
        "$\\mathbb{E}(X) = \\sum_{i=1}^{\\infty}i*P(X=i)$\n",
        "\n",
        "For a fair die, the probability $P(X=i) = \\frac{5}{6}^{i-1}*\\frac{1}{6}$.\n",
        "\n",
        "i.e. you have $i-1$ rolls which are not a six and then get a six.\n",
        "\n",
        "The summation is then:\n",
        "\n",
        "$\\mathbb{E}(X) = \\sum_{i=1}^{\\infty}i*\\frac{5}{6}^{i-1}*\\frac{1}{6} $\n",
        "\n",
        "$= 1*\\frac{5}{6}^{0}*\\frac{1}{6} + 2*\\frac{5}{6}^{1}*\\frac{1}{6} + 3*\\frac{5}{6}^{2}*\\frac{1}{6} ... $\n",
        "\n",
        "This is an infinite geometric series. Recall that a geometric series is a series such that each term of the summation is equal to the previous term times some ratio $r$,\n",
        "\n",
        "$a + ar + ar^2 + ar^3...$\n",
        "\n",
        "and the sum of an infinite geometric series is $\\frac{a}{1-r}$.\n",
        "\n",
        "We can observe that this is a sum of several geometric series with $r=\\frac{5}{6}$:\n",
        "\n",
        "$\\frac{5}{6}^{0}*\\frac{1}{6} + 2*\\frac{5}{6}^{1}*\\frac{1}{6} + 3*\\frac{5}{6}^{2}*\\frac{1}{6}... = $\n",
        "\n",
        "$\\frac{5}{6}^{0}*\\frac{1}{6} + \\quad  \\frac{5}{6}^{1}*\\frac{1}{6}  + \\quad \\frac{5}{6}^{2}*\\frac{1}{6}...$\n",
        "\n",
        "$\\qquad \\quad + \\quad  \\frac{5}{6}^{1}*\\frac{1}{6} + \\quad \\frac{5}{6}^{2}*\\frac{1}{6}...$\n",
        "\n",
        "$\\qquad \\quad + \\qquad  \\qquad + \\quad \\frac{5}{6}^{2}*\\frac{1}{6}...$\n",
        "\n",
        "The sum of each series is $\\frac{a}{1-r}$ where $a$ is the first term, so this is equivalent to:\n",
        "\n",
        "$\\frac{\\frac{1}{6}}{1-\\frac{5}{6}} + \\frac{\\frac{5}{36}}{1-\\frac{5}{6}} + \\frac{\\frac{25}{216}}{1-\\frac{5}{6}}...$\n",
        "\n",
        "$ = 1 + \\frac{5}{6} + \\frac{25}{36}...$\n",
        "\n",
        "Which is itself a geometric series:\n",
        "\n",
        "$\\sum_{i=1}^{\\infty}\\frac{5}{6}^i = \\frac{1}{1-\\frac{5}{6}} = 6$\n",
        "\n",
        "Therefore, $\\mathbb{E}(X) = 6$\n",
        "\n",
        "\n",
        "**NOTE:** As a shortcut, you could have noticed that this is one of the definitions of a geometric random variable and looked up the mean to find that it is $\\frac{1}{p}$\n",
        "\n",
        "\n"
      ]
    },
    {
      "cell_type": "markdown",
      "metadata": {
        "id": "zvDAQ4tjkQGh"
      },
      "source": [
        "### Monte Carlo Approach\n",
        "The Monte Carlo approach is a method of getting to the answer by simulating reality ([Wikipedia](https://en.wikipedia.org/wiki/Monte_Carlo_method)). It's generally used in siutations where determining the answer to a problem is mathematically difficult or even impossible. To overcome this, the user simulates the real world enviornment and runs a large number of repeats. The mean result gives an estimation for the answer.\n",
        "\n",
        "In this example, write a set of code to model the world described. Perhaps you need a function to model rolling a dice. Then, maybe a function to count the number of rolls until a 6...etc. With the real world modelled you should then repeat these functions many times. This can be hundreds, thoudands, tens of thousands... the more the better as it will reduce your sample error (in general Monte Carlo simulations you are limited by the time your code takes to run).\n",
        "\n",
        "From the repeats then calculate the empirical mean, which, given the set up and large number of repeats, should be close to the true mean.\n"
      ]
    },
    {
      "cell_type": "code",
      "execution_count": null,
      "metadata": {
        "id": "V-dYe-4-kQGi"
      },
      "outputs": [],
      "source": [
        "# Define the random die function\n",
        "def random_die():\n",
        "    \"\"\" Simulates a random die being rolled. Returns an integer.\"\"\"\n",
        "    return stats.randint(1,7).rvs(1)\n",
        "\n",
        "# Define the counting function\n",
        "def random_rolls_until_six():\n",
        "    \"\"\" Operates the random_die() function until a 6 is rolled. Counts rolls inclusive of the final roll. \"\"\"\n",
        "    count = 0\n",
        "    while True:\n",
        "        count += 1\n",
        "        if random_die() == 6:\n",
        "            return count"
      ]
    },
    {
      "cell_type": "code",
      "source": [
        "# Generate array of the counts for 1000 repeats\n",
        "counts = np.array([random_rolls_until_six() for _ in range(1000)])\n",
        "\n",
        "# Plot the counts as a histogram\n",
        "plt.hist(counts, bins=np.max(counts))\n",
        "plt.show()\n",
        "\n",
        "# Print the empirical mean (should be close to 6)\n",
        "print(f'Empirical mean: {np.mean(counts):0.4f}')"
      ],
      "metadata": {
        "colab": {
          "base_uri": "https://localhost:8080/",
          "height": 432
        },
        "id": "X2I2MoyOClov",
        "outputId": "23393795-5e1c-42fb-af95-ebd17ee0467b"
      },
      "execution_count": null,
      "outputs": [
        {
          "output_type": "display_data",
          "data": {
            "text/plain": [
              "<Figure size 640x480 with 1 Axes>"
            ],
            "image/svg+xml": "<?xml version=\"1.0\" encoding=\"utf-8\" standalone=\"no\"?>\n<!DOCTYPE svg PUBLIC \"-//W3C//DTD SVG 1.1//EN\"\n  \"http://www.w3.org/Graphics/SVG/1.1/DTD/svg11.dtd\">\n<svg xmlns:xlink=\"http://www.w3.org/1999/xlink\" width=\"397.6075pt\" height=\"297.190125pt\" viewBox=\"0 0 397.6075 297.190125\" xmlns=\"http://www.w3.org/2000/svg\" version=\"1.1\">\n <metadata>\n  <rdf:RDF xmlns:dc=\"http://purl.org/dc/elements/1.1/\" xmlns:cc=\"http://creativecommons.org/ns#\" xmlns:rdf=\"http://www.w3.org/1999/02/22-rdf-syntax-ns#\">\n   <cc:Work>\n    <dc:type rdf:resource=\"http://purl.org/dc/dcmitype/StillImage\"/>\n    <dc:date>2023-10-19T13:05:27.627730</dc:date>\n    <dc:format>image/svg+xml</dc:format>\n    <dc:creator>\n     <cc:Agent>\n      <dc:title>Matplotlib v3.7.1, https://matplotlib.org/</dc:title>\n     </cc:Agent>\n    </dc:creator>\n   </cc:Work>\n  </rdf:RDF>\n </metadata>\n <defs>\n  <style type=\"text/css\">*{stroke-linejoin: round; stroke-linecap: butt}</style>\n </defs>\n <g id=\"figure_1\">\n  <g id=\"patch_1\">\n   <path d=\"M 0 297.190125 \nL 397.6075 297.190125 \nL 397.6075 0 \nL 0 0 \nz\n\" style=\"fill: #ffffff\"/>\n  </g>\n  <g id=\"axes_1\">\n   <g id=\"patch_2\">\n    <path d=\"M 33.2875 273.312 \nL 390.4075 273.312 \nL 390.4075 7.2 \nL 33.2875 7.2 \nz\n\" style=\"fill: #ffffff\"/>\n   </g>\n   <g id=\"patch_3\">\n    <path d=\"M 49.520227 273.312 \nL 59.06889 273.312 \nL 59.06889 21.584432 \nL 49.520227 21.584432 \nz\n\" clip-path=\"url(#p5be88304de)\" style=\"fill: #1f77b4\"/>\n   </g>\n   <g id=\"patch_4\">\n    <path d=\"M 59.06889 273.312 \nL 68.617553 273.312 \nL 68.617553 19.872 \nL 59.06889 19.872 \nz\n\" clip-path=\"url(#p5be88304de)\" style=\"fill: #1f77b4\"/>\n   </g>\n   <g id=\"patch_5\">\n    <path d=\"M 68.617553 273.312 \nL 78.166217 273.312 \nL 78.166217 64.395243 \nL 68.617553 64.395243 \nz\n\" clip-path=\"url(#p5be88304de)\" style=\"fill: #1f77b4\"/>\n   </g>\n   <g id=\"patch_6\">\n    <path d=\"M 78.166217 273.312 \nL 87.71488 273.312 \nL 87.71488 105.493622 \nL 78.166217 105.493622 \nz\n\" clip-path=\"url(#p5be88304de)\" style=\"fill: #1f77b4\"/>\n   </g>\n   <g id=\"patch_7\">\n    <path d=\"M 87.71488 273.312 \nL 97.263543 273.312 \nL 97.263543 136.317405 \nL 87.71488 136.317405 \nz\n\" clip-path=\"url(#p5be88304de)\" style=\"fill: #1f77b4\"/>\n   </g>\n   <g id=\"patch_8\">\n    <path d=\"M 97.263543 273.312 \nL 106.812206 273.312 \nL 106.812206 151.729297 \nL 97.263543 151.729297 \nz\n\" clip-path=\"url(#p5be88304de)\" style=\"fill: #1f77b4\"/>\n   </g>\n   <g id=\"patch_9\">\n    <path d=\"M 106.812206 273.312 \nL 116.360869 273.312 \nL 116.360869 182.553081 \nL 106.812206 182.553081 \nz\n\" clip-path=\"url(#p5be88304de)\" style=\"fill: #1f77b4\"/>\n   </g>\n   <g id=\"patch_10\">\n    <path d=\"M 116.360869 273.312 \nL 125.909532 273.312 \nL 125.909532 192.827676 \nL 116.360869 192.827676 \nz\n\" clip-path=\"url(#p5be88304de)\" style=\"fill: #1f77b4\"/>\n   </g>\n   <g id=\"patch_11\">\n    <path d=\"M 125.909532 273.312 \nL 135.458195 273.312 \nL 135.458195 223.651459 \nL 125.909532 223.651459 \nz\n\" clip-path=\"url(#p5be88304de)\" style=\"fill: #1f77b4\"/>\n   </g>\n   <g id=\"patch_12\">\n    <path d=\"M 135.458195 273.312 \nL 145.006858 273.312 \nL 145.006858 220.226595 \nL 135.458195 220.226595 \nz\n\" clip-path=\"url(#p5be88304de)\" style=\"fill: #1f77b4\"/>\n   </g>\n   <g id=\"patch_13\">\n    <path d=\"M 145.006858 273.312 \nL 154.555521 273.312 \nL 154.555521 220.226595 \nL 145.006858 220.226595 \nz\n\" clip-path=\"url(#p5be88304de)\" style=\"fill: #1f77b4\"/>\n   </g>\n   <g id=\"patch_14\">\n    <path d=\"M 154.555521 273.312 \nL 164.104184 273.312 \nL 164.104184 228.788757 \nL 154.555521 228.788757 \nz\n\" clip-path=\"url(#p5be88304de)\" style=\"fill: #1f77b4\"/>\n   </g>\n   <g id=\"patch_15\">\n    <path d=\"M 164.104184 273.312 \nL 173.652848 273.312 \nL 173.652848 239.063351 \nL 164.104184 239.063351 \nz\n\" clip-path=\"url(#p5be88304de)\" style=\"fill: #1f77b4\"/>\n   </g>\n   <g id=\"patch_16\">\n    <path d=\"M 173.652848 273.312 \nL 183.201511 273.312 \nL 183.201511 240.775784 \nL 173.652848 240.775784 \nz\n\" clip-path=\"url(#p5be88304de)\" style=\"fill: #1f77b4\"/>\n   </g>\n   <g id=\"patch_17\">\n    <path d=\"M 183.201511 273.312 \nL 192.750174 273.312 \nL 192.750174 251.050378 \nL 183.201511 251.050378 \nz\n\" clip-path=\"url(#p5be88304de)\" style=\"fill: #1f77b4\"/>\n   </g>\n   <g id=\"patch_18\">\n    <path d=\"M 192.750174 273.312 \nL 202.298837 273.312 \nL 202.298837 252.762811 \nL 192.750174 252.762811 \nz\n\" clip-path=\"url(#p5be88304de)\" style=\"fill: #1f77b4\"/>\n   </g>\n   <g id=\"patch_19\">\n    <path d=\"M 202.298837 273.312 \nL 211.8475 273.312 \nL 211.8475 247.625514 \nL 202.298837 247.625514 \nz\n\" clip-path=\"url(#p5be88304de)\" style=\"fill: #1f77b4\"/>\n   </g>\n   <g id=\"patch_20\">\n    <path d=\"M 211.8475 273.312 \nL 221.396163 273.312 \nL 221.396163 254.475243 \nL 211.8475 254.475243 \nz\n\" clip-path=\"url(#p5be88304de)\" style=\"fill: #1f77b4\"/>\n   </g>\n   <g id=\"patch_21\">\n    <path d=\"M 221.396163 273.312 \nL 230.944826 273.312 \nL 230.944826 259.612541 \nL 221.396163 259.612541 \nz\n\" clip-path=\"url(#p5be88304de)\" style=\"fill: #1f77b4\"/>\n   </g>\n   <g id=\"patch_22\">\n    <path d=\"M 230.944826 273.312 \nL 240.493489 273.312 \nL 240.493489 269.887135 \nL 230.944826 269.887135 \nz\n\" clip-path=\"url(#p5be88304de)\" style=\"fill: #1f77b4\"/>\n   </g>\n   <g id=\"patch_23\">\n    <path d=\"M 240.493489 273.312 \nL 250.042152 273.312 \nL 250.042152 269.887135 \nL 240.493489 269.887135 \nz\n\" clip-path=\"url(#p5be88304de)\" style=\"fill: #1f77b4\"/>\n   </g>\n   <g id=\"patch_24\">\n    <path d=\"M 250.042152 273.312 \nL 259.590816 273.312 \nL 259.590816 268.174703 \nL 250.042152 268.174703 \nz\n\" clip-path=\"url(#p5be88304de)\" style=\"fill: #1f77b4\"/>\n   </g>\n   <g id=\"patch_25\">\n    <path d=\"M 259.590816 273.312 \nL 269.139479 273.312 \nL 269.139479 268.174703 \nL 259.590816 268.174703 \nz\n\" clip-path=\"url(#p5be88304de)\" style=\"fill: #1f77b4\"/>\n   </g>\n   <g id=\"patch_26\">\n    <path d=\"M 269.139479 273.312 \nL 278.688142 273.312 \nL 278.688142 271.599568 \nL 269.139479 271.599568 \nz\n\" clip-path=\"url(#p5be88304de)\" style=\"fill: #1f77b4\"/>\n   </g>\n   <g id=\"patch_27\">\n    <path d=\"M 278.688142 273.312 \nL 288.236805 273.312 \nL 288.236805 273.312 \nL 278.688142 273.312 \nz\n\" clip-path=\"url(#p5be88304de)\" style=\"fill: #1f77b4\"/>\n   </g>\n   <g id=\"patch_28\">\n    <path d=\"M 288.236805 273.312 \nL 297.785468 273.312 \nL 297.785468 273.312 \nL 288.236805 273.312 \nz\n\" clip-path=\"url(#p5be88304de)\" style=\"fill: #1f77b4\"/>\n   </g>\n   <g id=\"patch_29\">\n    <path d=\"M 297.785468 273.312 \nL 307.334131 273.312 \nL 307.334131 271.599568 \nL 297.785468 271.599568 \nz\n\" clip-path=\"url(#p5be88304de)\" style=\"fill: #1f77b4\"/>\n   </g>\n   <g id=\"patch_30\">\n    <path d=\"M 307.334131 273.312 \nL 316.882794 273.312 \nL 316.882794 271.599568 \nL 307.334131 271.599568 \nz\n\" clip-path=\"url(#p5be88304de)\" style=\"fill: #1f77b4\"/>\n   </g>\n   <g id=\"patch_31\">\n    <path d=\"M 316.882794 273.312 \nL 326.431457 273.312 \nL 326.431457 271.599568 \nL 316.882794 271.599568 \nz\n\" clip-path=\"url(#p5be88304de)\" style=\"fill: #1f77b4\"/>\n   </g>\n   <g id=\"patch_32\">\n    <path d=\"M 326.431457 273.312 \nL 335.98012 273.312 \nL 335.98012 269.887135 \nL 326.431457 269.887135 \nz\n\" clip-path=\"url(#p5be88304de)\" style=\"fill: #1f77b4\"/>\n   </g>\n   <g id=\"patch_33\">\n    <path d=\"M 335.98012 273.312 \nL 345.528783 273.312 \nL 345.528783 271.599568 \nL 335.98012 271.599568 \nz\n\" clip-path=\"url(#p5be88304de)\" style=\"fill: #1f77b4\"/>\n   </g>\n   <g id=\"patch_34\">\n    <path d=\"M 345.528783 273.312 \nL 355.077447 273.312 \nL 355.077447 271.599568 \nL 345.528783 271.599568 \nz\n\" clip-path=\"url(#p5be88304de)\" style=\"fill: #1f77b4\"/>\n   </g>\n   <g id=\"patch_35\">\n    <path d=\"M 355.077447 273.312 \nL 364.62611 273.312 \nL 364.62611 273.312 \nL 355.077447 273.312 \nz\n\" clip-path=\"url(#p5be88304de)\" style=\"fill: #1f77b4\"/>\n   </g>\n   <g id=\"patch_36\">\n    <path d=\"M 364.62611 273.312 \nL 374.174773 273.312 \nL 374.174773 271.599568 \nL 364.62611 271.599568 \nz\n\" clip-path=\"url(#p5be88304de)\" style=\"fill: #1f77b4\"/>\n   </g>\n   <g id=\"matplotlib.axis_1\">\n    <g id=\"xtick_1\">\n     <g id=\"line2d_1\">\n      <defs>\n       <path id=\"mc81c2d7f06\" d=\"M 0 0 \nL 0 3.5 \n\" style=\"stroke: #000000; stroke-width: 0.8\"/>\n      </defs>\n      <g>\n       <use xlink:href=\"#mc81c2d7f06\" x=\"39.682211\" y=\"273.312\" style=\"stroke: #000000; stroke-width: 0.8\"/>\n      </g>\n     </g>\n     <g id=\"text_1\">\n      <!-- 0 -->\n      <g transform=\"translate(36.500961 287.910437) scale(0.1 -0.1)\">\n       <defs>\n        <path id=\"DejaVuSans-30\" d=\"M 2034 4250 \nQ 1547 4250 1301 3770 \nQ 1056 3291 1056 2328 \nQ 1056 1369 1301 889 \nQ 1547 409 2034 409 \nQ 2525 409 2770 889 \nQ 3016 1369 3016 2328 \nQ 3016 3291 2770 3770 \nQ 2525 4250 2034 4250 \nz\nM 2034 4750 \nQ 2819 4750 3233 4129 \nQ 3647 3509 3647 2328 \nQ 3647 1150 3233 529 \nQ 2819 -91 2034 -91 \nQ 1250 -91 836 529 \nQ 422 1150 422 2328 \nQ 422 3509 836 4129 \nQ 1250 4750 2034 4750 \nz\n\" transform=\"scale(0.015625)\"/>\n       </defs>\n       <use xlink:href=\"#DejaVuSans-30\"/>\n      </g>\n     </g>\n    </g>\n    <g id=\"xtick_2\">\n     <g id=\"line2d_2\">\n      <g>\n       <use xlink:href=\"#mc81c2d7f06\" x=\"88.872293\" y=\"273.312\" style=\"stroke: #000000; stroke-width: 0.8\"/>\n      </g>\n     </g>\n     <g id=\"text_2\">\n      <!-- 5 -->\n      <g transform=\"translate(85.691043 287.910437) scale(0.1 -0.1)\">\n       <defs>\n        <path id=\"DejaVuSans-35\" d=\"M 691 4666 \nL 3169 4666 \nL 3169 4134 \nL 1269 4134 \nL 1269 2991 \nQ 1406 3038 1543 3061 \nQ 1681 3084 1819 3084 \nQ 2600 3084 3056 2656 \nQ 3513 2228 3513 1497 \nQ 3513 744 3044 326 \nQ 2575 -91 1722 -91 \nQ 1428 -91 1123 -41 \nQ 819 9 494 109 \nL 494 744 \nQ 775 591 1075 516 \nQ 1375 441 1709 441 \nQ 2250 441 2565 725 \nQ 2881 1009 2881 1497 \nQ 2881 1984 2565 2268 \nQ 2250 2553 1709 2553 \nQ 1456 2553 1204 2497 \nQ 953 2441 691 2322 \nL 691 4666 \nz\n\" transform=\"scale(0.015625)\"/>\n       </defs>\n       <use xlink:href=\"#DejaVuSans-35\"/>\n      </g>\n     </g>\n    </g>\n    <g id=\"xtick_3\">\n     <g id=\"line2d_3\">\n      <g>\n       <use xlink:href=\"#mc81c2d7f06\" x=\"138.062376\" y=\"273.312\" style=\"stroke: #000000; stroke-width: 0.8\"/>\n      </g>\n     </g>\n     <g id=\"text_3\">\n      <!-- 10 -->\n      <g transform=\"translate(131.699876 287.910437) scale(0.1 -0.1)\">\n       <defs>\n        <path id=\"DejaVuSans-31\" d=\"M 794 531 \nL 1825 531 \nL 1825 4091 \nL 703 3866 \nL 703 4441 \nL 1819 4666 \nL 2450 4666 \nL 2450 531 \nL 3481 531 \nL 3481 0 \nL 794 0 \nL 794 531 \nz\n\" transform=\"scale(0.015625)\"/>\n       </defs>\n       <use xlink:href=\"#DejaVuSans-31\"/>\n       <use xlink:href=\"#DejaVuSans-30\" x=\"63.623047\"/>\n      </g>\n     </g>\n    </g>\n    <g id=\"xtick_4\">\n     <g id=\"line2d_4\">\n      <g>\n       <use xlink:href=\"#mc81c2d7f06\" x=\"187.252459\" y=\"273.312\" style=\"stroke: #000000; stroke-width: 0.8\"/>\n      </g>\n     </g>\n     <g id=\"text_4\">\n      <!-- 15 -->\n      <g transform=\"translate(180.889959 287.910437) scale(0.1 -0.1)\">\n       <use xlink:href=\"#DejaVuSans-31\"/>\n       <use xlink:href=\"#DejaVuSans-35\" x=\"63.623047\"/>\n      </g>\n     </g>\n    </g>\n    <g id=\"xtick_5\">\n     <g id=\"line2d_5\">\n      <g>\n       <use xlink:href=\"#mc81c2d7f06\" x=\"236.442541\" y=\"273.312\" style=\"stroke: #000000; stroke-width: 0.8\"/>\n      </g>\n     </g>\n     <g id=\"text_5\">\n      <!-- 20 -->\n      <g transform=\"translate(230.080041 287.910437) scale(0.1 -0.1)\">\n       <defs>\n        <path id=\"DejaVuSans-32\" d=\"M 1228 531 \nL 3431 531 \nL 3431 0 \nL 469 0 \nL 469 531 \nQ 828 903 1448 1529 \nQ 2069 2156 2228 2338 \nQ 2531 2678 2651 2914 \nQ 2772 3150 2772 3378 \nQ 2772 3750 2511 3984 \nQ 2250 4219 1831 4219 \nQ 1534 4219 1204 4116 \nQ 875 4013 500 3803 \nL 500 4441 \nQ 881 4594 1212 4672 \nQ 1544 4750 1819 4750 \nQ 2544 4750 2975 4387 \nQ 3406 4025 3406 3419 \nQ 3406 3131 3298 2873 \nQ 3191 2616 2906 2266 \nQ 2828 2175 2409 1742 \nQ 1991 1309 1228 531 \nz\n\" transform=\"scale(0.015625)\"/>\n       </defs>\n       <use xlink:href=\"#DejaVuSans-32\"/>\n       <use xlink:href=\"#DejaVuSans-30\" x=\"63.623047\"/>\n      </g>\n     </g>\n    </g>\n    <g id=\"xtick_6\">\n     <g id=\"line2d_6\">\n      <g>\n       <use xlink:href=\"#mc81c2d7f06\" x=\"285.632624\" y=\"273.312\" style=\"stroke: #000000; stroke-width: 0.8\"/>\n      </g>\n     </g>\n     <g id=\"text_6\">\n      <!-- 25 -->\n      <g transform=\"translate(279.270124 287.910437) scale(0.1 -0.1)\">\n       <use xlink:href=\"#DejaVuSans-32\"/>\n       <use xlink:href=\"#DejaVuSans-35\" x=\"63.623047\"/>\n      </g>\n     </g>\n    </g>\n    <g id=\"xtick_7\">\n     <g id=\"line2d_7\">\n      <g>\n       <use xlink:href=\"#mc81c2d7f06\" x=\"334.822707\" y=\"273.312\" style=\"stroke: #000000; stroke-width: 0.8\"/>\n      </g>\n     </g>\n     <g id=\"text_7\">\n      <!-- 30 -->\n      <g transform=\"translate(328.460207 287.910437) scale(0.1 -0.1)\">\n       <defs>\n        <path id=\"DejaVuSans-33\" d=\"M 2597 2516 \nQ 3050 2419 3304 2112 \nQ 3559 1806 3559 1356 \nQ 3559 666 3084 287 \nQ 2609 -91 1734 -91 \nQ 1441 -91 1130 -33 \nQ 819 25 488 141 \nL 488 750 \nQ 750 597 1062 519 \nQ 1375 441 1716 441 \nQ 2309 441 2620 675 \nQ 2931 909 2931 1356 \nQ 2931 1769 2642 2001 \nQ 2353 2234 1838 2234 \nL 1294 2234 \nL 1294 2753 \nL 1863 2753 \nQ 2328 2753 2575 2939 \nQ 2822 3125 2822 3475 \nQ 2822 3834 2567 4026 \nQ 2313 4219 1838 4219 \nQ 1578 4219 1281 4162 \nQ 984 4106 628 3988 \nL 628 4550 \nQ 988 4650 1302 4700 \nQ 1616 4750 1894 4750 \nQ 2613 4750 3031 4423 \nQ 3450 4097 3450 3541 \nQ 3450 3153 3228 2886 \nQ 3006 2619 2597 2516 \nz\n\" transform=\"scale(0.015625)\"/>\n       </defs>\n       <use xlink:href=\"#DejaVuSans-33\"/>\n       <use xlink:href=\"#DejaVuSans-30\" x=\"63.623047\"/>\n      </g>\n     </g>\n    </g>\n    <g id=\"xtick_8\">\n     <g id=\"line2d_8\">\n      <g>\n       <use xlink:href=\"#mc81c2d7f06\" x=\"384.012789\" y=\"273.312\" style=\"stroke: #000000; stroke-width: 0.8\"/>\n      </g>\n     </g>\n     <g id=\"text_8\">\n      <!-- 35 -->\n      <g transform=\"translate(377.650289 287.910437) scale(0.1 -0.1)\">\n       <use xlink:href=\"#DejaVuSans-33\"/>\n       <use xlink:href=\"#DejaVuSans-35\" x=\"63.623047\"/>\n      </g>\n     </g>\n    </g>\n   </g>\n   <g id=\"matplotlib.axis_2\">\n    <g id=\"ytick_1\">\n     <g id=\"line2d_9\">\n      <defs>\n       <path id=\"m8c15bf8c55\" d=\"M 0 0 \nL -3.5 0 \n\" style=\"stroke: #000000; stroke-width: 0.8\"/>\n      </defs>\n      <g>\n       <use xlink:href=\"#m8c15bf8c55\" x=\"33.2875\" y=\"273.312\" style=\"stroke: #000000; stroke-width: 0.8\"/>\n      </g>\n     </g>\n     <g id=\"text_9\">\n      <!-- 0 -->\n      <g transform=\"translate(19.925 277.111219) scale(0.1 -0.1)\">\n       <use xlink:href=\"#DejaVuSans-30\"/>\n      </g>\n     </g>\n    </g>\n    <g id=\"ytick_2\">\n     <g id=\"line2d_10\">\n      <g>\n       <use xlink:href=\"#m8c15bf8c55\" x=\"33.2875\" y=\"239.063351\" style=\"stroke: #000000; stroke-width: 0.8\"/>\n      </g>\n     </g>\n     <g id=\"text_10\">\n      <!-- 20 -->\n      <g transform=\"translate(13.5625 242.86257) scale(0.1 -0.1)\">\n       <use xlink:href=\"#DejaVuSans-32\"/>\n       <use xlink:href=\"#DejaVuSans-30\" x=\"63.623047\"/>\n      </g>\n     </g>\n    </g>\n    <g id=\"ytick_3\">\n     <g id=\"line2d_11\">\n      <g>\n       <use xlink:href=\"#m8c15bf8c55\" x=\"33.2875\" y=\"204.814703\" style=\"stroke: #000000; stroke-width: 0.8\"/>\n      </g>\n     </g>\n     <g id=\"text_11\">\n      <!-- 40 -->\n      <g transform=\"translate(13.5625 208.613921) scale(0.1 -0.1)\">\n       <defs>\n        <path id=\"DejaVuSans-34\" d=\"M 2419 4116 \nL 825 1625 \nL 2419 1625 \nL 2419 4116 \nz\nM 2253 4666 \nL 3047 4666 \nL 3047 1625 \nL 3713 1625 \nL 3713 1100 \nL 3047 1100 \nL 3047 0 \nL 2419 0 \nL 2419 1100 \nL 313 1100 \nL 313 1709 \nL 2253 4666 \nz\n\" transform=\"scale(0.015625)\"/>\n       </defs>\n       <use xlink:href=\"#DejaVuSans-34\"/>\n       <use xlink:href=\"#DejaVuSans-30\" x=\"63.623047\"/>\n      </g>\n     </g>\n    </g>\n    <g id=\"ytick_4\">\n     <g id=\"line2d_12\">\n      <g>\n       <use xlink:href=\"#m8c15bf8c55\" x=\"33.2875\" y=\"170.566054\" style=\"stroke: #000000; stroke-width: 0.8\"/>\n      </g>\n     </g>\n     <g id=\"text_12\">\n      <!-- 60 -->\n      <g transform=\"translate(13.5625 174.365273) scale(0.1 -0.1)\">\n       <defs>\n        <path id=\"DejaVuSans-36\" d=\"M 2113 2584 \nQ 1688 2584 1439 2293 \nQ 1191 2003 1191 1497 \nQ 1191 994 1439 701 \nQ 1688 409 2113 409 \nQ 2538 409 2786 701 \nQ 3034 994 3034 1497 \nQ 3034 2003 2786 2293 \nQ 2538 2584 2113 2584 \nz\nM 3366 4563 \nL 3366 3988 \nQ 3128 4100 2886 4159 \nQ 2644 4219 2406 4219 \nQ 1781 4219 1451 3797 \nQ 1122 3375 1075 2522 \nQ 1259 2794 1537 2939 \nQ 1816 3084 2150 3084 \nQ 2853 3084 3261 2657 \nQ 3669 2231 3669 1497 \nQ 3669 778 3244 343 \nQ 2819 -91 2113 -91 \nQ 1303 -91 875 529 \nQ 447 1150 447 2328 \nQ 447 3434 972 4092 \nQ 1497 4750 2381 4750 \nQ 2619 4750 2861 4703 \nQ 3103 4656 3366 4563 \nz\n\" transform=\"scale(0.015625)\"/>\n       </defs>\n       <use xlink:href=\"#DejaVuSans-36\"/>\n       <use xlink:href=\"#DejaVuSans-30\" x=\"63.623047\"/>\n      </g>\n     </g>\n    </g>\n    <g id=\"ytick_5\">\n     <g id=\"line2d_13\">\n      <g>\n       <use xlink:href=\"#m8c15bf8c55\" x=\"33.2875\" y=\"136.317405\" style=\"stroke: #000000; stroke-width: 0.8\"/>\n      </g>\n     </g>\n     <g id=\"text_13\">\n      <!-- 80 -->\n      <g transform=\"translate(13.5625 140.116624) scale(0.1 -0.1)\">\n       <defs>\n        <path id=\"DejaVuSans-38\" d=\"M 2034 2216 \nQ 1584 2216 1326 1975 \nQ 1069 1734 1069 1313 \nQ 1069 891 1326 650 \nQ 1584 409 2034 409 \nQ 2484 409 2743 651 \nQ 3003 894 3003 1313 \nQ 3003 1734 2745 1975 \nQ 2488 2216 2034 2216 \nz\nM 1403 2484 \nQ 997 2584 770 2862 \nQ 544 3141 544 3541 \nQ 544 4100 942 4425 \nQ 1341 4750 2034 4750 \nQ 2731 4750 3128 4425 \nQ 3525 4100 3525 3541 \nQ 3525 3141 3298 2862 \nQ 3072 2584 2669 2484 \nQ 3125 2378 3379 2068 \nQ 3634 1759 3634 1313 \nQ 3634 634 3220 271 \nQ 2806 -91 2034 -91 \nQ 1263 -91 848 271 \nQ 434 634 434 1313 \nQ 434 1759 690 2068 \nQ 947 2378 1403 2484 \nz\nM 1172 3481 \nQ 1172 3119 1398 2916 \nQ 1625 2713 2034 2713 \nQ 2441 2713 2670 2916 \nQ 2900 3119 2900 3481 \nQ 2900 3844 2670 4047 \nQ 2441 4250 2034 4250 \nQ 1625 4250 1398 4047 \nQ 1172 3844 1172 3481 \nz\n\" transform=\"scale(0.015625)\"/>\n       </defs>\n       <use xlink:href=\"#DejaVuSans-38\"/>\n       <use xlink:href=\"#DejaVuSans-30\" x=\"63.623047\"/>\n      </g>\n     </g>\n    </g>\n    <g id=\"ytick_6\">\n     <g id=\"line2d_14\">\n      <g>\n       <use xlink:href=\"#m8c15bf8c55\" x=\"33.2875\" y=\"102.068757\" style=\"stroke: #000000; stroke-width: 0.8\"/>\n      </g>\n     </g>\n     <g id=\"text_14\">\n      <!-- 100 -->\n      <g transform=\"translate(7.2 105.867976) scale(0.1 -0.1)\">\n       <use xlink:href=\"#DejaVuSans-31\"/>\n       <use xlink:href=\"#DejaVuSans-30\" x=\"63.623047\"/>\n       <use xlink:href=\"#DejaVuSans-30\" x=\"127.246094\"/>\n      </g>\n     </g>\n    </g>\n    <g id=\"ytick_7\">\n     <g id=\"line2d_15\">\n      <g>\n       <use xlink:href=\"#m8c15bf8c55\" x=\"33.2875\" y=\"67.820108\" style=\"stroke: #000000; stroke-width: 0.8\"/>\n      </g>\n     </g>\n     <g id=\"text_15\">\n      <!-- 120 -->\n      <g transform=\"translate(7.2 71.619327) scale(0.1 -0.1)\">\n       <use xlink:href=\"#DejaVuSans-31\"/>\n       <use xlink:href=\"#DejaVuSans-32\" x=\"63.623047\"/>\n       <use xlink:href=\"#DejaVuSans-30\" x=\"127.246094\"/>\n      </g>\n     </g>\n    </g>\n    <g id=\"ytick_8\">\n     <g id=\"line2d_16\">\n      <g>\n       <use xlink:href=\"#m8c15bf8c55\" x=\"33.2875\" y=\"33.571459\" style=\"stroke: #000000; stroke-width: 0.8\"/>\n      </g>\n     </g>\n     <g id=\"text_16\">\n      <!-- 140 -->\n      <g transform=\"translate(7.2 37.370678) scale(0.1 -0.1)\">\n       <use xlink:href=\"#DejaVuSans-31\"/>\n       <use xlink:href=\"#DejaVuSans-34\" x=\"63.623047\"/>\n       <use xlink:href=\"#DejaVuSans-30\" x=\"127.246094\"/>\n      </g>\n     </g>\n    </g>\n   </g>\n   <g id=\"patch_37\">\n    <path d=\"M 33.2875 273.312 \nL 33.2875 7.2 \n\" style=\"fill: none; stroke: #000000; stroke-width: 0.8; stroke-linejoin: miter; stroke-linecap: square\"/>\n   </g>\n   <g id=\"patch_38\">\n    <path d=\"M 390.4075 273.312 \nL 390.4075 7.2 \n\" style=\"fill: none; stroke: #000000; stroke-width: 0.8; stroke-linejoin: miter; stroke-linecap: square\"/>\n   </g>\n   <g id=\"patch_39\">\n    <path d=\"M 33.2875 273.312 \nL 390.4075 273.312 \n\" style=\"fill: none; stroke: #000000; stroke-width: 0.8; stroke-linejoin: miter; stroke-linecap: square\"/>\n   </g>\n   <g id=\"patch_40\">\n    <path d=\"M 33.2875 7.2 \nL 390.4075 7.2 \n\" style=\"fill: none; stroke: #000000; stroke-width: 0.8; stroke-linejoin: miter; stroke-linecap: square\"/>\n   </g>\n  </g>\n </g>\n <defs>\n  <clipPath id=\"p5be88304de\">\n   <rect x=\"33.2875\" y=\"7.2\" width=\"357.12\" height=\"266.112\"/>\n  </clipPath>\n </defs>\n</svg>\n"
          },
          "metadata": {}
        },
        {
          "output_type": "stream",
          "name": "stdout",
          "text": [
            "Empirical mean: 5.9980\n"
          ]
        }
      ]
    },
    {
      "cell_type": "code",
      "source": [
        "# faster code but harder to read\n",
        "\n",
        "# Generate many rolls\n",
        "all_rolls = stats.randint(1,7).rvs(10000)\n",
        "\n",
        "# Count the rolls in between (and including) each 6. Add to list\n",
        "i = 0\n",
        "counts = []\n",
        "for j in all_rolls:\n",
        "    i += 1\n",
        "    if j == 6:\n",
        "        counts.append(i)\n",
        "        i = 0\n",
        "\n",
        "# Turn into an array\n",
        "counts = np.array(counts)\n",
        "\n",
        "# Histogram\n",
        "plt.hist(counts, bins=np.max(counts))\n",
        "plt.show()\n",
        "\n",
        "# Empirical mean\n",
        "print(f'Empirical mean: {np.mean(counts):0.4f}')"
      ],
      "metadata": {
        "colab": {
          "base_uri": "https://localhost:8080/",
          "height": 432
        },
        "id": "EjwjHF2ACosw",
        "outputId": "2e218330-41a2-4703-9362-69acb10783d5"
      },
      "execution_count": null,
      "outputs": [
        {
          "output_type": "display_data",
          "data": {
            "text/plain": [
              "<Figure size 640x480 with 1 Axes>"
            ],
            "image/svg+xml": "<?xml version=\"1.0\" encoding=\"utf-8\" standalone=\"no\"?>\n<!DOCTYPE svg PUBLIC \"-//W3C//DTD SVG 1.1//EN\"\n  \"http://www.w3.org/Graphics/SVG/1.1/DTD/svg11.dtd\">\n<svg xmlns:xlink=\"http://www.w3.org/1999/xlink\" width=\"397.6075pt\" height=\"297.190125pt\" viewBox=\"0 0 397.6075 297.190125\" xmlns=\"http://www.w3.org/2000/svg\" version=\"1.1\">\n <metadata>\n  <rdf:RDF xmlns:dc=\"http://purl.org/dc/elements/1.1/\" xmlns:cc=\"http://creativecommons.org/ns#\" xmlns:rdf=\"http://www.w3.org/1999/02/22-rdf-syntax-ns#\">\n   <cc:Work>\n    <dc:type rdf:resource=\"http://purl.org/dc/dcmitype/StillImage\"/>\n    <dc:date>2023-10-19T13:05:34.947555</dc:date>\n    <dc:format>image/svg+xml</dc:format>\n    <dc:creator>\n     <cc:Agent>\n      <dc:title>Matplotlib v3.7.1, https://matplotlib.org/</dc:title>\n     </cc:Agent>\n    </dc:creator>\n   </cc:Work>\n  </rdf:RDF>\n </metadata>\n <defs>\n  <style type=\"text/css\">*{stroke-linejoin: round; stroke-linecap: butt}</style>\n </defs>\n <g id=\"figure_1\">\n  <g id=\"patch_1\">\n   <path d=\"M 0 297.190125 \nL 397.6075 297.190125 \nL 397.6075 0 \nL 0 0 \nz\n\" style=\"fill: #ffffff\"/>\n  </g>\n  <g id=\"axes_1\">\n   <g id=\"patch_2\">\n    <path d=\"M 33.2875 273.312 \nL 390.4075 273.312 \nL 390.4075 7.2 \nL 33.2875 7.2 \nz\n\" style=\"fill: #ffffff\"/>\n   </g>\n   <g id=\"patch_3\">\n    <path d=\"M 49.520227 273.312 \nL 57.070333 273.312 \nL 57.070333 19.872 \nL 49.520227 19.872 \nz\n\" clip-path=\"url(#pcb0446777b)\" style=\"fill: #1f77b4\"/>\n   </g>\n   <g id=\"patch_4\">\n    <path d=\"M 57.070333 273.312 \nL 64.620439 273.312 \nL 64.620439 77.130667 \nL 57.070333 77.130667 \nz\n\" clip-path=\"url(#pcb0446777b)\" style=\"fill: #1f77b4\"/>\n   </g>\n   <g id=\"patch_5\">\n    <path d=\"M 64.620439 273.312 \nL 72.170544 273.312 \nL 72.170544 94.965333 \nL 64.620439 94.965333 \nz\n\" clip-path=\"url(#pcb0446777b)\" style=\"fill: #1f77b4\"/>\n   </g>\n   <g id=\"patch_6\">\n    <path d=\"M 72.170544 273.312 \nL 79.72065 273.312 \nL 79.72065 141.898667 \nL 72.170544 141.898667 \nz\n\" clip-path=\"url(#pcb0446777b)\" style=\"fill: #1f77b4\"/>\n   </g>\n   <g id=\"patch_7\">\n    <path d=\"M 79.72065 273.312 \nL 87.270756 273.312 \nL 87.270756 176.629333 \nL 79.72065 176.629333 \nz\n\" clip-path=\"url(#pcb0446777b)\" style=\"fill: #1f77b4\"/>\n   </g>\n   <g id=\"patch_8\">\n    <path d=\"M 87.270756 273.312 \nL 94.820862 273.312 \nL 94.820862 170.997333 \nL 87.270756 170.997333 \nz\n\" clip-path=\"url(#pcb0446777b)\" style=\"fill: #1f77b4\"/>\n   </g>\n   <g id=\"patch_9\">\n    <path d=\"M 94.820862 273.312 \nL 102.370967 273.312 \nL 102.370967 183.2 \nL 94.820862 183.2 \nz\n\" clip-path=\"url(#pcb0446777b)\" style=\"fill: #1f77b4\"/>\n   </g>\n   <g id=\"patch_10\">\n    <path d=\"M 102.370967 273.312 \nL 109.921073 273.312 \nL 109.921073 205.728 \nL 102.370967 205.728 \nz\n\" clip-path=\"url(#pcb0446777b)\" style=\"fill: #1f77b4\"/>\n   </g>\n   <g id=\"patch_11\">\n    <path d=\"M 109.921073 273.312 \nL 117.471179 273.312 \nL 117.471179 208.544 \nL 109.921073 208.544 \nz\n\" clip-path=\"url(#pcb0446777b)\" style=\"fill: #1f77b4\"/>\n   </g>\n   <g id=\"patch_12\">\n    <path d=\"M 117.471179 273.312 \nL 125.021284 273.312 \nL 125.021284 226.378667 \nL 117.471179 226.378667 \nz\n\" clip-path=\"url(#pcb0446777b)\" style=\"fill: #1f77b4\"/>\n   </g>\n   <g id=\"patch_13\">\n    <path d=\"M 125.021284 273.312 \nL 132.57139 273.312 \nL 132.57139 235.765333 \nL 125.021284 235.765333 \nz\n\" clip-path=\"url(#pcb0446777b)\" style=\"fill: #1f77b4\"/>\n   </g>\n   <g id=\"patch_14\">\n    <path d=\"M 132.57139 273.312 \nL 140.121496 273.312 \nL 140.121496 232.949333 \nL 132.57139 232.949333 \nz\n\" clip-path=\"url(#pcb0446777b)\" style=\"fill: #1f77b4\"/>\n   </g>\n   <g id=\"patch_15\">\n    <path d=\"M 140.121496 273.312 \nL 147.671601 273.312 \nL 147.671601 243.274667 \nL 140.121496 243.274667 \nz\n\" clip-path=\"url(#pcb0446777b)\" style=\"fill: #1f77b4\"/>\n   </g>\n   <g id=\"patch_16\">\n    <path d=\"M 147.671601 273.312 \nL 155.221707 273.312 \nL 155.221707 245.152 \nL 147.671601 245.152 \nz\n\" clip-path=\"url(#pcb0446777b)\" style=\"fill: #1f77b4\"/>\n   </g>\n   <g id=\"patch_17\">\n    <path d=\"M 155.221707 273.312 \nL 162.771813 273.312 \nL 162.771813 252.661333 \nL 155.221707 252.661333 \nz\n\" clip-path=\"url(#pcb0446777b)\" style=\"fill: #1f77b4\"/>\n   </g>\n   <g id=\"patch_18\">\n    <path d=\"M 162.771813 273.312 \nL 170.321919 273.312 \nL 170.321919 261.109333 \nL 162.771813 261.109333 \nz\n\" clip-path=\"url(#pcb0446777b)\" style=\"fill: #1f77b4\"/>\n   </g>\n   <g id=\"patch_19\">\n    <path d=\"M 170.321919 273.312 \nL 177.872024 273.312 \nL 177.872024 259.232 \nL 170.321919 259.232 \nz\n\" clip-path=\"url(#pcb0446777b)\" style=\"fill: #1f77b4\"/>\n   </g>\n   <g id=\"patch_20\">\n    <path d=\"M 177.872024 273.312 \nL 185.42213 273.312 \nL 185.42213 259.232 \nL 177.872024 259.232 \nz\n\" clip-path=\"url(#pcb0446777b)\" style=\"fill: #1f77b4\"/>\n   </g>\n   <g id=\"patch_21\">\n    <path d=\"M 185.42213 273.312 \nL 192.972236 273.312 \nL 192.972236 259.232 \nL 185.42213 259.232 \nz\n\" clip-path=\"url(#pcb0446777b)\" style=\"fill: #1f77b4\"/>\n   </g>\n   <g id=\"patch_22\">\n    <path d=\"M 192.972236 273.312 \nL 200.522341 273.312 \nL 200.522341 262.048 \nL 192.972236 262.048 \nz\n\" clip-path=\"url(#pcb0446777b)\" style=\"fill: #1f77b4\"/>\n   </g>\n   <g id=\"patch_23\">\n    <path d=\"M 200.522341 273.312 \nL 208.072447 273.312 \nL 208.072447 263.925333 \nL 200.522341 263.925333 \nz\n\" clip-path=\"url(#pcb0446777b)\" style=\"fill: #1f77b4\"/>\n   </g>\n   <g id=\"patch_24\">\n    <path d=\"M 208.072447 273.312 \nL 215.622553 273.312 \nL 215.622553 266.741333 \nL 208.072447 266.741333 \nz\n\" clip-path=\"url(#pcb0446777b)\" style=\"fill: #1f77b4\"/>\n   </g>\n   <g id=\"patch_25\">\n    <path d=\"M 215.622553 273.312 \nL 223.172659 273.312 \nL 223.172659 265.802667 \nL 215.622553 265.802667 \nz\n\" clip-path=\"url(#pcb0446777b)\" style=\"fill: #1f77b4\"/>\n   </g>\n   <g id=\"patch_26\">\n    <path d=\"M 223.172659 273.312 \nL 230.722764 273.312 \nL 230.722764 266.741333 \nL 223.172659 266.741333 \nz\n\" clip-path=\"url(#pcb0446777b)\" style=\"fill: #1f77b4\"/>\n   </g>\n   <g id=\"patch_27\">\n    <path d=\"M 230.722764 273.312 \nL 238.27287 273.312 \nL 238.27287 270.496 \nL 230.722764 270.496 \nz\n\" clip-path=\"url(#pcb0446777b)\" style=\"fill: #1f77b4\"/>\n   </g>\n   <g id=\"patch_28\">\n    <path d=\"M 238.27287 273.312 \nL 245.822976 273.312 \nL 245.822976 269.557333 \nL 238.27287 269.557333 \nz\n\" clip-path=\"url(#pcb0446777b)\" style=\"fill: #1f77b4\"/>\n   </g>\n   <g id=\"patch_29\">\n    <path d=\"M 245.822976 273.312 \nL 253.373081 273.312 \nL 253.373081 270.496 \nL 245.822976 270.496 \nz\n\" clip-path=\"url(#pcb0446777b)\" style=\"fill: #1f77b4\"/>\n   </g>\n   <g id=\"patch_30\">\n    <path d=\"M 253.373081 273.312 \nL 260.923187 273.312 \nL 260.923187 270.496 \nL 253.373081 270.496 \nz\n\" clip-path=\"url(#pcb0446777b)\" style=\"fill: #1f77b4\"/>\n   </g>\n   <g id=\"patch_31\">\n    <path d=\"M 260.923187 273.312 \nL 268.473293 273.312 \nL 268.473293 273.312 \nL 260.923187 273.312 \nz\n\" clip-path=\"url(#pcb0446777b)\" style=\"fill: #1f77b4\"/>\n   </g>\n   <g id=\"patch_32\">\n    <path d=\"M 268.473293 273.312 \nL 276.023399 273.312 \nL 276.023399 273.312 \nL 268.473293 273.312 \nz\n\" clip-path=\"url(#pcb0446777b)\" style=\"fill: #1f77b4\"/>\n   </g>\n   <g id=\"patch_33\">\n    <path d=\"M 276.023399 273.312 \nL 283.573504 273.312 \nL 283.573504 273.312 \nL 276.023399 273.312 \nz\n\" clip-path=\"url(#pcb0446777b)\" style=\"fill: #1f77b4\"/>\n   </g>\n   <g id=\"patch_34\">\n    <path d=\"M 283.573504 273.312 \nL 291.12361 273.312 \nL 291.12361 273.312 \nL 283.573504 273.312 \nz\n\" clip-path=\"url(#pcb0446777b)\" style=\"fill: #1f77b4\"/>\n   </g>\n   <g id=\"patch_35\">\n    <path d=\"M 291.12361 273.312 \nL 298.673716 273.312 \nL 298.673716 272.373333 \nL 291.12361 272.373333 \nz\n\" clip-path=\"url(#pcb0446777b)\" style=\"fill: #1f77b4\"/>\n   </g>\n   <g id=\"patch_36\">\n    <path d=\"M 298.673716 273.312 \nL 306.223821 273.312 \nL 306.223821 273.312 \nL 298.673716 273.312 \nz\n\" clip-path=\"url(#pcb0446777b)\" style=\"fill: #1f77b4\"/>\n   </g>\n   <g id=\"patch_37\">\n    <path d=\"M 306.223821 273.312 \nL 313.773927 273.312 \nL 313.773927 273.312 \nL 306.223821 273.312 \nz\n\" clip-path=\"url(#pcb0446777b)\" style=\"fill: #1f77b4\"/>\n   </g>\n   <g id=\"patch_38\">\n    <path d=\"M 313.773927 273.312 \nL 321.324033 273.312 \nL 321.324033 273.312 \nL 313.773927 273.312 \nz\n\" clip-path=\"url(#pcb0446777b)\" style=\"fill: #1f77b4\"/>\n   </g>\n   <g id=\"patch_39\">\n    <path d=\"M 321.324033 273.312 \nL 328.874138 273.312 \nL 328.874138 272.373333 \nL 321.324033 272.373333 \nz\n\" clip-path=\"url(#pcb0446777b)\" style=\"fill: #1f77b4\"/>\n   </g>\n   <g id=\"patch_40\">\n    <path d=\"M 328.874138 273.312 \nL 336.424244 273.312 \nL 336.424244 273.312 \nL 328.874138 273.312 \nz\n\" clip-path=\"url(#pcb0446777b)\" style=\"fill: #1f77b4\"/>\n   </g>\n   <g id=\"patch_41\">\n    <path d=\"M 336.424244 273.312 \nL 343.97435 273.312 \nL 343.97435 273.312 \nL 336.424244 273.312 \nz\n\" clip-path=\"url(#pcb0446777b)\" style=\"fill: #1f77b4\"/>\n   </g>\n   <g id=\"patch_42\">\n    <path d=\"M 343.97435 273.312 \nL 351.524456 273.312 \nL 351.524456 272.373333 \nL 343.97435 272.373333 \nz\n\" clip-path=\"url(#pcb0446777b)\" style=\"fill: #1f77b4\"/>\n   </g>\n   <g id=\"patch_43\">\n    <path d=\"M 351.524456 273.312 \nL 359.074561 273.312 \nL 359.074561 273.312 \nL 351.524456 273.312 \nz\n\" clip-path=\"url(#pcb0446777b)\" style=\"fill: #1f77b4\"/>\n   </g>\n   <g id=\"patch_44\">\n    <path d=\"M 359.074561 273.312 \nL 366.624667 273.312 \nL 366.624667 272.373333 \nL 359.074561 272.373333 \nz\n\" clip-path=\"url(#pcb0446777b)\" style=\"fill: #1f77b4\"/>\n   </g>\n   <g id=\"patch_45\">\n    <path d=\"M 366.624667 273.312 \nL 374.174773 273.312 \nL 374.174773 272.373333 \nL 366.624667 272.373333 \nz\n\" clip-path=\"url(#pcb0446777b)\" style=\"fill: #1f77b4\"/>\n   </g>\n   <g id=\"matplotlib.axis_1\">\n    <g id=\"xtick_1\">\n     <g id=\"line2d_1\">\n      <defs>\n       <path id=\"m7f7be3ceaf\" d=\"M 0 0 \nL 0 3.5 \n\" style=\"stroke: #000000; stroke-width: 0.8\"/>\n      </defs>\n      <g>\n       <use xlink:href=\"#m7f7be3ceaf\" x=\"41.790357\" y=\"273.312\" style=\"stroke: #000000; stroke-width: 0.8\"/>\n      </g>\n     </g>\n     <g id=\"text_1\">\n      <!-- 0 -->\n      <g transform=\"translate(38.609107 287.910437) scale(0.1 -0.1)\">\n       <defs>\n        <path id=\"DejaVuSans-30\" d=\"M 2034 4250 \nQ 1547 4250 1301 3770 \nQ 1056 3291 1056 2328 \nQ 1056 1369 1301 889 \nQ 1547 409 2034 409 \nQ 2525 409 2770 889 \nQ 3016 1369 3016 2328 \nQ 3016 3291 2770 3770 \nQ 2525 4250 2034 4250 \nz\nM 2034 4750 \nQ 2819 4750 3233 4129 \nQ 3647 3509 3647 2328 \nQ 3647 1150 3233 529 \nQ 2819 -91 2034 -91 \nQ 1250 -91 836 529 \nQ 422 1150 422 2328 \nQ 422 3509 836 4129 \nQ 1250 4750 2034 4750 \nz\n\" transform=\"scale(0.015625)\"/>\n       </defs>\n       <use xlink:href=\"#DejaVuSans-30\"/>\n      </g>\n     </g>\n    </g>\n    <g id=\"xtick_2\">\n     <g id=\"line2d_2\">\n      <g>\n       <use xlink:href=\"#m7f7be3ceaf\" x=\"119.089058\" y=\"273.312\" style=\"stroke: #000000; stroke-width: 0.8\"/>\n      </g>\n     </g>\n     <g id=\"text_2\">\n      <!-- 10 -->\n      <g transform=\"translate(112.726558 287.910437) scale(0.1 -0.1)\">\n       <defs>\n        <path id=\"DejaVuSans-31\" d=\"M 794 531 \nL 1825 531 \nL 1825 4091 \nL 703 3866 \nL 703 4441 \nL 1819 4666 \nL 2450 4666 \nL 2450 531 \nL 3481 531 \nL 3481 0 \nL 794 0 \nL 794 531 \nz\n\" transform=\"scale(0.015625)\"/>\n       </defs>\n       <use xlink:href=\"#DejaVuSans-31\"/>\n       <use xlink:href=\"#DejaVuSans-30\" x=\"63.623047\"/>\n      </g>\n     </g>\n    </g>\n    <g id=\"xtick_3\">\n     <g id=\"line2d_3\">\n      <g>\n       <use xlink:href=\"#m7f7be3ceaf\" x=\"196.38776\" y=\"273.312\" style=\"stroke: #000000; stroke-width: 0.8\"/>\n      </g>\n     </g>\n     <g id=\"text_3\">\n      <!-- 20 -->\n      <g transform=\"translate(190.02526 287.910437) scale(0.1 -0.1)\">\n       <defs>\n        <path id=\"DejaVuSans-32\" d=\"M 1228 531 \nL 3431 531 \nL 3431 0 \nL 469 0 \nL 469 531 \nQ 828 903 1448 1529 \nQ 2069 2156 2228 2338 \nQ 2531 2678 2651 2914 \nQ 2772 3150 2772 3378 \nQ 2772 3750 2511 3984 \nQ 2250 4219 1831 4219 \nQ 1534 4219 1204 4116 \nQ 875 4013 500 3803 \nL 500 4441 \nQ 881 4594 1212 4672 \nQ 1544 4750 1819 4750 \nQ 2544 4750 2975 4387 \nQ 3406 4025 3406 3419 \nQ 3406 3131 3298 2873 \nQ 3191 2616 2906 2266 \nQ 2828 2175 2409 1742 \nQ 1991 1309 1228 531 \nz\n\" transform=\"scale(0.015625)\"/>\n       </defs>\n       <use xlink:href=\"#DejaVuSans-32\"/>\n       <use xlink:href=\"#DejaVuSans-30\" x=\"63.623047\"/>\n      </g>\n     </g>\n    </g>\n    <g id=\"xtick_4\">\n     <g id=\"line2d_4\">\n      <g>\n       <use xlink:href=\"#m7f7be3ceaf\" x=\"273.686461\" y=\"273.312\" style=\"stroke: #000000; stroke-width: 0.8\"/>\n      </g>\n     </g>\n     <g id=\"text_4\">\n      <!-- 30 -->\n      <g transform=\"translate(267.323961 287.910437) scale(0.1 -0.1)\">\n       <defs>\n        <path id=\"DejaVuSans-33\" d=\"M 2597 2516 \nQ 3050 2419 3304 2112 \nQ 3559 1806 3559 1356 \nQ 3559 666 3084 287 \nQ 2609 -91 1734 -91 \nQ 1441 -91 1130 -33 \nQ 819 25 488 141 \nL 488 750 \nQ 750 597 1062 519 \nQ 1375 441 1716 441 \nQ 2309 441 2620 675 \nQ 2931 909 2931 1356 \nQ 2931 1769 2642 2001 \nQ 2353 2234 1838 2234 \nL 1294 2234 \nL 1294 2753 \nL 1863 2753 \nQ 2328 2753 2575 2939 \nQ 2822 3125 2822 3475 \nQ 2822 3834 2567 4026 \nQ 2313 4219 1838 4219 \nQ 1578 4219 1281 4162 \nQ 984 4106 628 3988 \nL 628 4550 \nQ 988 4650 1302 4700 \nQ 1616 4750 1894 4750 \nQ 2613 4750 3031 4423 \nQ 3450 4097 3450 3541 \nQ 3450 3153 3228 2886 \nQ 3006 2619 2597 2516 \nz\n\" transform=\"scale(0.015625)\"/>\n       </defs>\n       <use xlink:href=\"#DejaVuSans-33\"/>\n       <use xlink:href=\"#DejaVuSans-30\" x=\"63.623047\"/>\n      </g>\n     </g>\n    </g>\n    <g id=\"xtick_5\">\n     <g id=\"line2d_5\">\n      <g>\n       <use xlink:href=\"#m7f7be3ceaf\" x=\"350.985162\" y=\"273.312\" style=\"stroke: #000000; stroke-width: 0.8\"/>\n      </g>\n     </g>\n     <g id=\"text_5\">\n      <!-- 40 -->\n      <g transform=\"translate(344.622662 287.910437) scale(0.1 -0.1)\">\n       <defs>\n        <path id=\"DejaVuSans-34\" d=\"M 2419 4116 \nL 825 1625 \nL 2419 1625 \nL 2419 4116 \nz\nM 2253 4666 \nL 3047 4666 \nL 3047 1625 \nL 3713 1625 \nL 3713 1100 \nL 3047 1100 \nL 3047 0 \nL 2419 0 \nL 2419 1100 \nL 313 1100 \nL 313 1709 \nL 2253 4666 \nz\n\" transform=\"scale(0.015625)\"/>\n       </defs>\n       <use xlink:href=\"#DejaVuSans-34\"/>\n       <use xlink:href=\"#DejaVuSans-30\" x=\"63.623047\"/>\n      </g>\n     </g>\n    </g>\n   </g>\n   <g id=\"matplotlib.axis_2\">\n    <g id=\"ytick_1\">\n     <g id=\"line2d_6\">\n      <defs>\n       <path id=\"m39d2d2c8b5\" d=\"M 0 0 \nL -3.5 0 \n\" style=\"stroke: #000000; stroke-width: 0.8\"/>\n      </defs>\n      <g>\n       <use xlink:href=\"#m39d2d2c8b5\" x=\"33.2875\" y=\"273.312\" style=\"stroke: #000000; stroke-width: 0.8\"/>\n      </g>\n     </g>\n     <g id=\"text_6\">\n      <!-- 0 -->\n      <g transform=\"translate(19.925 277.111219) scale(0.1 -0.1)\">\n       <use xlink:href=\"#DejaVuSans-30\"/>\n      </g>\n     </g>\n    </g>\n    <g id=\"ytick_2\">\n     <g id=\"line2d_7\">\n      <g>\n       <use xlink:href=\"#m39d2d2c8b5\" x=\"33.2875\" y=\"226.378667\" style=\"stroke: #000000; stroke-width: 0.8\"/>\n      </g>\n     </g>\n     <g id=\"text_7\">\n      <!-- 50 -->\n      <g transform=\"translate(13.5625 230.177885) scale(0.1 -0.1)\">\n       <defs>\n        <path id=\"DejaVuSans-35\" d=\"M 691 4666 \nL 3169 4666 \nL 3169 4134 \nL 1269 4134 \nL 1269 2991 \nQ 1406 3038 1543 3061 \nQ 1681 3084 1819 3084 \nQ 2600 3084 3056 2656 \nQ 3513 2228 3513 1497 \nQ 3513 744 3044 326 \nQ 2575 -91 1722 -91 \nQ 1428 -91 1123 -41 \nQ 819 9 494 109 \nL 494 744 \nQ 775 591 1075 516 \nQ 1375 441 1709 441 \nQ 2250 441 2565 725 \nQ 2881 1009 2881 1497 \nQ 2881 1984 2565 2268 \nQ 2250 2553 1709 2553 \nQ 1456 2553 1204 2497 \nQ 953 2441 691 2322 \nL 691 4666 \nz\n\" transform=\"scale(0.015625)\"/>\n       </defs>\n       <use xlink:href=\"#DejaVuSans-35\"/>\n       <use xlink:href=\"#DejaVuSans-30\" x=\"63.623047\"/>\n      </g>\n     </g>\n    </g>\n    <g id=\"ytick_3\">\n     <g id=\"line2d_8\">\n      <g>\n       <use xlink:href=\"#m39d2d2c8b5\" x=\"33.2875\" y=\"179.445333\" style=\"stroke: #000000; stroke-width: 0.8\"/>\n      </g>\n     </g>\n     <g id=\"text_8\">\n      <!-- 100 -->\n      <g transform=\"translate(7.2 183.244552) scale(0.1 -0.1)\">\n       <use xlink:href=\"#DejaVuSans-31\"/>\n       <use xlink:href=\"#DejaVuSans-30\" x=\"63.623047\"/>\n       <use xlink:href=\"#DejaVuSans-30\" x=\"127.246094\"/>\n      </g>\n     </g>\n    </g>\n    <g id=\"ytick_4\">\n     <g id=\"line2d_9\">\n      <g>\n       <use xlink:href=\"#m39d2d2c8b5\" x=\"33.2875\" y=\"132.512\" style=\"stroke: #000000; stroke-width: 0.8\"/>\n      </g>\n     </g>\n     <g id=\"text_9\">\n      <!-- 150 -->\n      <g transform=\"translate(7.2 136.311219) scale(0.1 -0.1)\">\n       <use xlink:href=\"#DejaVuSans-31\"/>\n       <use xlink:href=\"#DejaVuSans-35\" x=\"63.623047\"/>\n       <use xlink:href=\"#DejaVuSans-30\" x=\"127.246094\"/>\n      </g>\n     </g>\n    </g>\n    <g id=\"ytick_5\">\n     <g id=\"line2d_10\">\n      <g>\n       <use xlink:href=\"#m39d2d2c8b5\" x=\"33.2875\" y=\"85.578667\" style=\"stroke: #000000; stroke-width: 0.8\"/>\n      </g>\n     </g>\n     <g id=\"text_10\">\n      <!-- 200 -->\n      <g transform=\"translate(7.2 89.377885) scale(0.1 -0.1)\">\n       <use xlink:href=\"#DejaVuSans-32\"/>\n       <use xlink:href=\"#DejaVuSans-30\" x=\"63.623047\"/>\n       <use xlink:href=\"#DejaVuSans-30\" x=\"127.246094\"/>\n      </g>\n     </g>\n    </g>\n    <g id=\"ytick_6\">\n     <g id=\"line2d_11\">\n      <g>\n       <use xlink:href=\"#m39d2d2c8b5\" x=\"33.2875\" y=\"38.645333\" style=\"stroke: #000000; stroke-width: 0.8\"/>\n      </g>\n     </g>\n     <g id=\"text_11\">\n      <!-- 250 -->\n      <g transform=\"translate(7.2 42.444552) scale(0.1 -0.1)\">\n       <use xlink:href=\"#DejaVuSans-32\"/>\n       <use xlink:href=\"#DejaVuSans-35\" x=\"63.623047\"/>\n       <use xlink:href=\"#DejaVuSans-30\" x=\"127.246094\"/>\n      </g>\n     </g>\n    </g>\n   </g>\n   <g id=\"patch_46\">\n    <path d=\"M 33.2875 273.312 \nL 33.2875 7.2 \n\" style=\"fill: none; stroke: #000000; stroke-width: 0.8; stroke-linejoin: miter; stroke-linecap: square\"/>\n   </g>\n   <g id=\"patch_47\">\n    <path d=\"M 390.4075 273.312 \nL 390.4075 7.2 \n\" style=\"fill: none; stroke: #000000; stroke-width: 0.8; stroke-linejoin: miter; stroke-linecap: square\"/>\n   </g>\n   <g id=\"patch_48\">\n    <path d=\"M 33.2875 273.312 \nL 390.4075 273.312 \n\" style=\"fill: none; stroke: #000000; stroke-width: 0.8; stroke-linejoin: miter; stroke-linecap: square\"/>\n   </g>\n   <g id=\"patch_49\">\n    <path d=\"M 33.2875 7.2 \nL 390.4075 7.2 \n\" style=\"fill: none; stroke: #000000; stroke-width: 0.8; stroke-linejoin: miter; stroke-linecap: square\"/>\n   </g>\n  </g>\n </g>\n <defs>\n  <clipPath id=\"pcb0446777b\">\n   <rect x=\"33.2875\" y=\"7.2\" width=\"357.12\" height=\"266.112\"/>\n  </clipPath>\n </defs>\n</svg>\n"
          },
          "metadata": {}
        },
        {
          "output_type": "stream",
          "name": "stdout",
          "text": [
            "Empirical mean: 6.2639\n"
          ]
        }
      ]
    },
    {
      "cell_type": "markdown",
      "metadata": {
        "id": "5NJLLWJ6RPwK"
      },
      "source": [
        "### Extension Question (Harder)"
      ]
    },
    {
      "cell_type": "markdown",
      "metadata": {
        "id": "oq0gg6OTRPcC"
      },
      "source": [
        "Only do this if you've completed everything else and want to explore this topic further.\n",
        "\n",
        "The Monty Hall problem is a famous problem of conditional probability which some of you might have come across before ([Wikipedia](https://en.wikipedia.org/wiki/Monty_Hall_problem)). The original question is as follows:\n",
        "\n",
        "*Suppose you're on a game show, and you're given the choice of three doors: Behind one door is a car; behind the others, goats. You pick a door, say No. 1, and the host, who knows what's behind the doors, opens another door, say No. 3, which has a goat. He then says to you, \"Do you want to pick door No. 2?\" Is it to your advantage to switch your choice?*\n",
        "\n",
        "The answer feels non-intuitive when you first see the problem and confused many mathematicians. Famously, when the answer was printed in a newspaper, thousands of PhD students and academics wrote in to say that the answer was wrong (it was not). [Erdos](https://en.wikipedia.org/wiki/Paul_Erdős), a prominent mathematician remained unconvinced of the answer until he saw a computer simulation.\n",
        "\n",
        "Create a simulation of this problem in the same way as the last problem then use a Monte Carlo method to show that the probabilities originally printed in the newspaper are correct.\n"
      ]
    },
    {
      "cell_type": "code",
      "execution_count": null,
      "metadata": {
        "id": "xIjFYLNhRN2b"
      },
      "outputs": [],
      "source": [
        "# Function to set up the game\n",
        "def game_set_up(switch):\n",
        "  \"\"\"Function simulating the Monty Hall problem. Call the doors 0, 1, 2 for simplicity of indexing\"\"\"\n",
        "\n",
        "  # Generate a list for the three doors and intially set all as goats\n",
        "  door_list = ['goat', 'goat', 'goat']\n",
        "\n",
        "  # Randomly pick int between 0 and 2 and exchange this for the relevant goat\n",
        "  door_list[np.random.randint(0,3)] = 'car'\n",
        "\n",
        "  # Selection of a door by the player\n",
        "  player_initial_selection = np.random.randint(0,3)\n",
        "\n",
        "  # Monty opens one of the other doors to reveal a goat\n",
        "  Monty_potential_doors_to_open = [0, 1, 2]\n",
        "  Monty_potential_doors_to_open.remove(player_initial_selection) # Remove the door player selected\n",
        "\n",
        "  # Monty chooses the correct door to reveal\n",
        "  # Account for the situation where both remaining doors are goats (random choice)\n",
        "  if door_list[Monty_potential_doors_to_open[0]] == door_list[Monty_potential_doors_to_open[1]]:\n",
        "    door_to_open = np.random.choice(Monty_potential_doors_to_open)\n",
        "\n",
        "  # If not, choose the door that has the goat\n",
        "  else:\n",
        "    for door_number in Monty_potential_doors_to_open:\n",
        "      if door_list[door_number] == 'goat':\n",
        "        door_to_open = door_number\n",
        "\n",
        "  # Define the door which the player can switch to.\n",
        "  Monty_potential_doors_to_open.remove(door_to_open)\n",
        "\n",
        "  # Monty opens `door_to_open'. Input player decision switch or not\n",
        "  if switch == False:\n",
        "    final_choice = player_initial_selection\n",
        "  if switch == True:\n",
        "    final_choice = Monty_potential_doors_to_open[0]\n",
        "\n",
        "  # Determine if they are a winner of not. Return 1 if winner, 0 if not\n",
        "  if door_list[final_choice] == 'car':\n",
        "    return 1\n",
        "  else:\n",
        "    return 0"
      ]
    },
    {
      "cell_type": "code",
      "source": [
        "# Do 1000 repeats and find the mean (equivalent to the probability)\n",
        "\n",
        "# Scenario where you don't switch\n",
        "no_switch = np.array([game_set_up(False) for _ in range(0, 1000)])\n",
        "p_winning_no_switch = no_switch.mean()\n",
        "\n",
        "# Scenario where you switch\n",
        "switch = np.array([game_set_up(True) for _ in range(0, 1000)])\n",
        "p_winning_switch = switch.mean()\n",
        "\n",
        "print(f\"The probability of winning if you don't switch is {p_winning_no_switch:0.4f}\")\n",
        "print(f\"The probability of winning if you switch is {p_winning_switch:0.4f}\")"
      ],
      "metadata": {
        "colab": {
          "base_uri": "https://localhost:8080/"
        },
        "id": "EgkEvYSiEL_6",
        "outputId": "9f336809-27d0-448c-837c-0e5c0db4c7ff"
      },
      "execution_count": null,
      "outputs": [
        {
          "output_type": "stream",
          "name": "stdout",
          "text": [
            "The probability of winning if you don't switch is 0.3410\n",
            "The probability of winning if you switch is 0.6800\n"
          ]
        }
      ]
    },
    {
      "cell_type": "code",
      "source": [
        "# Do 100000 to see if the values converge on the true probabilities\n",
        "\n",
        "# Scenario where you don't switch\n",
        "no_switch = np.array([game_set_up(False) for _ in range(0, 100000)])\n",
        "p_winning_no_switch = no_switch.mean()\n",
        "\n",
        "# Scenario where you switch\n",
        "switch = np.array([game_set_up(True) for _ in range(0, 100000)])\n",
        "p_winning_switch = switch.mean()\n",
        "\n",
        "print(f\"The probability of winning if you don't switch is {p_winning_no_switch:0.4f}\")\n",
        "print(f\"The probability of winning if you switch is {p_winning_switch:0.4f}\")"
      ],
      "metadata": {
        "colab": {
          "base_uri": "https://localhost:8080/"
        },
        "id": "3ThtucTHMMyx",
        "outputId": "d6c06c4c-1b51-4ced-a9f2-7574ba20685d"
      },
      "execution_count": null,
      "outputs": [
        {
          "output_type": "stream",
          "name": "stdout",
          "text": [
            "The probability of winning if you don't switch is 0.3333\n",
            "The probability of winning if you switch is 0.6671\n"
          ]
        }
      ]
    },
    {
      "cell_type": "markdown",
      "source": [
        "Got the desired result. Many other ways of doing this, likely with more efficient code."
      ],
      "metadata": {
        "id": "iSLkuzeDMivz"
      }
    },
    {
      "cell_type": "markdown",
      "metadata": {
        "id": "_K7HEqNC_h64"
      },
      "source": [
        "## **Central Limit Theorem: Motivating Example**\n"
      ]
    },
    {
      "cell_type": "markdown",
      "metadata": {
        "id": "0MeahovKkQGi"
      },
      "source": [
        "Arguably the most important theorem in statistics. The central limit theorem (CLT) underpins many of the results in the topics we will learn about in future weeks. One of my old statistics tutors described the result as the most beautiful thing humanity had ever discovered. This might be a bit of a stretch but it is certainly a remarkable result. **It is worth investing time to understand this.**\n",
        "\n",
        "The CLT tells us about the distribution of the sample mean as the number of observations grows. As mentioned, a lot of results in statistics rely on\n",
        "the CLT, so it is worth getting familiar with the details. There are some\n",
        "conditions that need to be satisfied for the CLT to hold, for example, we will\n",
        "usually want to know that the samples are independent and identically\n",
        "distributed (IID) and that they are drawn from a distribution with a finite\n",
        "variance.\n",
        "\n",
        "### CLT: Motivating example\n",
        "\n",
        "### Question 2 (unanswered questions at the end of the section)\n",
        "\n",
        "Write the following functions:\n",
        "\n",
        "1. A function called `rand_exp_mean` which takes a number, `n`, and a rate,\n",
        "   `lam` and returns the sample average of `n` exponentially distributed (with\n",
        "   rate `lam`) random variables. Note this should return a different value each\n",
        "   time you call it since it is a random function. `n` is the number of draws from the distribution in each sample mean.\n",
        "2. A function called `rand_sample_means` which takes a number, `n` and a rate,\n",
        "   `lam` and returns an array with 1000 evaluations of the function call\n",
        "   `rand_exp_mean(n, lam)`. Note that a list comprehension may help here.\n",
        "\n",
        "### Answer"
      ]
    },
    {
      "cell_type": "code",
      "execution_count": null,
      "metadata": {
        "id": "dRgAliZBkQGj"
      },
      "outputs": [],
      "source": [
        "# Define a function to generate the sample mean from n observations\n",
        "def rand_exp_mean(n, lam):\n",
        "    return stats.expon.rvs(scale = 1/lam, size = n).mean()\n",
        "\n",
        "# Define a function to generate 1000 sample means using the previous function\n",
        "def rand_sample_means(n, lam):\n",
        "    return np.array([rand_exp_mean(n, lam) for _ in range(1000)])"
      ]
    },
    {
      "cell_type": "markdown",
      "metadata": {
        "id": "V4JW3IM6kQGk"
      },
      "source": [
        "Next, make a histogram of the values from `rand_sample_means` in the question above with `lam=0.2` and `n=5`. On top of this, plot the probability density function of a normal distribution with mean $5$ and standard deviation $5 / \\sqrt{5}$. Keep in mind that `5` is a low number number of draws for each sample.\n",
        "\n",
        "Create a new plot where you repeat this process with `n=100` and with a normal distribution with standard deviation $5 / \\sqrt{100}$. `100` is a relatively high number of draws for each sample. What do you notice?\n",
        "\n",
        "### Answer\n",
        "\n",
        "First the plot with `n=5`"
      ]
    },
    {
      "cell_type": "code",
      "execution_count": null,
      "metadata": {
        "colab": {
          "base_uri": "https://localhost:8080/",
          "height": 416
        },
        "id": "I-cHZLaYkQGl",
        "outputId": "b01610f1-cf05-43a6-8454-3a5e925fb622"
      },
      "outputs": [
        {
          "output_type": "display_data",
          "data": {
            "text/plain": [
              "<Figure size 640x480 with 1 Axes>"
            ],
            "image/svg+xml": "<?xml version=\"1.0\" encoding=\"utf-8\" standalone=\"no\"?>\n<!DOCTYPE svg PUBLIC \"-//W3C//DTD SVG 1.1//EN\"\n  \"http://www.w3.org/Graphics/SVG/1.1/DTD/svg11.dtd\">\n<svg xmlns:xlink=\"http://www.w3.org/1999/xlink\" width=\"407.148125pt\" height=\"297.190125pt\" viewBox=\"0 0 407.148125 297.190125\" xmlns=\"http://www.w3.org/2000/svg\" version=\"1.1\">\n <metadata>\n  <rdf:RDF xmlns:dc=\"http://purl.org/dc/elements/1.1/\" xmlns:cc=\"http://creativecommons.org/ns#\" xmlns:rdf=\"http://www.w3.org/1999/02/22-rdf-syntax-ns#\">\n   <cc:Work>\n    <dc:type rdf:resource=\"http://purl.org/dc/dcmitype/StillImage\"/>\n    <dc:date>2023-10-19T13:06:26.255134</dc:date>\n    <dc:format>image/svg+xml</dc:format>\n    <dc:creator>\n     <cc:Agent>\n      <dc:title>Matplotlib v3.7.1, https://matplotlib.org/</dc:title>\n     </cc:Agent>\n    </dc:creator>\n   </cc:Work>\n  </rdf:RDF>\n </metadata>\n <defs>\n  <style type=\"text/css\">*{stroke-linejoin: round; stroke-linecap: butt}</style>\n </defs>\n <g id=\"figure_1\">\n  <g id=\"patch_1\">\n   <path d=\"M 0 297.190125 \nL 407.148125 297.190125 \nL 407.148125 0 \nL 0 0 \nz\n\" style=\"fill: #ffffff\"/>\n  </g>\n  <g id=\"axes_1\">\n   <g id=\"patch_2\">\n    <path d=\"M 42.828125 273.312 \nL 399.948125 273.312 \nL 399.948125 7.2 \nL 42.828125 7.2 \nz\n\" style=\"fill: #ffffff\"/>\n   </g>\n   <g id=\"patch_3\">\n    <path d=\"M 59.060852 273.312 \nL 91.526307 273.312 \nL 91.526307 222.448609 \nL 59.060852 222.448609 \nz\n\" clip-path=\"url(#p4a0cbf3321)\" style=\"fill: #1f77b4\"/>\n   </g>\n   <g id=\"patch_4\">\n    <path d=\"M 91.526307 273.312 \nL 123.991761 273.312 \nL 123.991761 76.874076 \nL 91.526307 76.874076 \nz\n\" clip-path=\"url(#p4a0cbf3321)\" style=\"fill: #1f77b4\"/>\n   </g>\n   <g id=\"patch_5\">\n    <path d=\"M 123.991761 273.312 \nL 156.457216 273.312 \nL 156.457216 19.872 \nL 123.991761 19.872 \nz\n\" clip-path=\"url(#p4a0cbf3321)\" style=\"fill: #1f77b4\"/>\n   </g>\n   <g id=\"patch_6\">\n    <path d=\"M 156.457216 273.312 \nL 188.92267 273.312 \nL 188.92267 93.536221 \nL 156.457216 93.536221 \nz\n\" clip-path=\"url(#p4a0cbf3321)\" style=\"fill: #1f77b4\"/>\n   </g>\n   <g id=\"patch_7\">\n    <path d=\"M 188.92267 273.312 \nL 221.388125 273.312 \nL 221.388125 176.846948 \nL 188.92267 176.846948 \nz\n\" clip-path=\"url(#p4a0cbf3321)\" style=\"fill: #1f77b4\"/>\n   </g>\n   <g id=\"patch_8\">\n    <path d=\"M 221.388125 273.312 \nL 253.85358 273.312 \nL 253.85358 211.925149 \nL 221.388125 211.925149 \nz\n\" clip-path=\"url(#p4a0cbf3321)\" style=\"fill: #1f77b4\"/>\n   </g>\n   <g id=\"patch_9\">\n    <path d=\"M 253.85358 273.312 \nL 286.319034 273.312 \nL 286.319034 251.388125 \nL 253.85358 251.388125 \nz\n\" clip-path=\"url(#p4a0cbf3321)\" style=\"fill: #1f77b4\"/>\n   </g>\n   <g id=\"patch_10\">\n    <path d=\"M 286.319034 273.312 \nL 318.784489 273.312 \nL 318.784489 264.54245 \nL 286.319034 264.54245 \nz\n\" clip-path=\"url(#p4a0cbf3321)\" style=\"fill: #1f77b4\"/>\n   </g>\n   <g id=\"patch_11\">\n    <path d=\"M 318.784489 273.312 \nL 351.249943 273.312 \nL 351.249943 269.80418 \nL 318.784489 269.80418 \nz\n\" clip-path=\"url(#p4a0cbf3321)\" style=\"fill: #1f77b4\"/>\n   </g>\n   <g id=\"patch_12\">\n    <path d=\"M 351.249943 273.312 \nL 383.715398 273.312 \nL 383.715398 268.927225 \nL 351.249943 268.927225 \nz\n\" clip-path=\"url(#p4a0cbf3321)\" style=\"fill: #1f77b4\"/>\n   </g>\n   <g id=\"matplotlib.axis_1\">\n    <g id=\"xtick_1\">\n     <g id=\"line2d_1\">\n      <defs>\n       <path id=\"m2c0ee3f72c\" d=\"M 0 0 \nL 0 3.5 \n\" style=\"stroke: #000000; stroke-width: 0.8\"/>\n      </defs>\n      <g>\n       <use xlink:href=\"#m2c0ee3f72c\" x=\"43.630872\" y=\"273.312\" style=\"stroke: #000000; stroke-width: 0.8\"/>\n      </g>\n     </g>\n     <g id=\"text_1\">\n      <!-- 0 -->\n      <g transform=\"translate(40.449622 287.910437) scale(0.1 -0.1)\">\n       <defs>\n        <path id=\"DejaVuSans-30\" d=\"M 2034 4250 \nQ 1547 4250 1301 3770 \nQ 1056 3291 1056 2328 \nQ 1056 1369 1301 889 \nQ 1547 409 2034 409 \nQ 2525 409 2770 889 \nQ 3016 1369 3016 2328 \nQ 3016 3291 2770 3770 \nQ 2525 4250 2034 4250 \nz\nM 2034 4750 \nQ 2819 4750 3233 4129 \nQ 3647 3509 3647 2328 \nQ 3647 1150 3233 529 \nQ 2819 -91 2034 -91 \nQ 1250 -91 836 529 \nQ 422 1150 422 2328 \nQ 422 3509 836 4129 \nQ 1250 4750 2034 4750 \nz\n\" transform=\"scale(0.015625)\"/>\n       </defs>\n       <use xlink:href=\"#DejaVuSans-30\"/>\n      </g>\n     </g>\n    </g>\n    <g id=\"xtick_2\">\n     <g id=\"line2d_2\">\n      <g>\n       <use xlink:href=\"#m2c0ee3f72c\" x=\"89.520846\" y=\"273.312\" style=\"stroke: #000000; stroke-width: 0.8\"/>\n      </g>\n     </g>\n     <g id=\"text_2\">\n      <!-- 2 -->\n      <g transform=\"translate(86.339596 287.910437) scale(0.1 -0.1)\">\n       <defs>\n        <path id=\"DejaVuSans-32\" d=\"M 1228 531 \nL 3431 531 \nL 3431 0 \nL 469 0 \nL 469 531 \nQ 828 903 1448 1529 \nQ 2069 2156 2228 2338 \nQ 2531 2678 2651 2914 \nQ 2772 3150 2772 3378 \nQ 2772 3750 2511 3984 \nQ 2250 4219 1831 4219 \nQ 1534 4219 1204 4116 \nQ 875 4013 500 3803 \nL 500 4441 \nQ 881 4594 1212 4672 \nQ 1544 4750 1819 4750 \nQ 2544 4750 2975 4387 \nQ 3406 4025 3406 3419 \nQ 3406 3131 3298 2873 \nQ 3191 2616 2906 2266 \nQ 2828 2175 2409 1742 \nQ 1991 1309 1228 531 \nz\n\" transform=\"scale(0.015625)\"/>\n       </defs>\n       <use xlink:href=\"#DejaVuSans-32\"/>\n      </g>\n     </g>\n    </g>\n    <g id=\"xtick_3\">\n     <g id=\"line2d_3\">\n      <g>\n       <use xlink:href=\"#m2c0ee3f72c\" x=\"135.410819\" y=\"273.312\" style=\"stroke: #000000; stroke-width: 0.8\"/>\n      </g>\n     </g>\n     <g id=\"text_3\">\n      <!-- 4 -->\n      <g transform=\"translate(132.229569 287.910437) scale(0.1 -0.1)\">\n       <defs>\n        <path id=\"DejaVuSans-34\" d=\"M 2419 4116 \nL 825 1625 \nL 2419 1625 \nL 2419 4116 \nz\nM 2253 4666 \nL 3047 4666 \nL 3047 1625 \nL 3713 1625 \nL 3713 1100 \nL 3047 1100 \nL 3047 0 \nL 2419 0 \nL 2419 1100 \nL 313 1100 \nL 313 1709 \nL 2253 4666 \nz\n\" transform=\"scale(0.015625)\"/>\n       </defs>\n       <use xlink:href=\"#DejaVuSans-34\"/>\n      </g>\n     </g>\n    </g>\n    <g id=\"xtick_4\">\n     <g id=\"line2d_4\">\n      <g>\n       <use xlink:href=\"#m2c0ee3f72c\" x=\"181.300792\" y=\"273.312\" style=\"stroke: #000000; stroke-width: 0.8\"/>\n      </g>\n     </g>\n     <g id=\"text_4\">\n      <!-- 6 -->\n      <g transform=\"translate(178.119542 287.910437) scale(0.1 -0.1)\">\n       <defs>\n        <path id=\"DejaVuSans-36\" d=\"M 2113 2584 \nQ 1688 2584 1439 2293 \nQ 1191 2003 1191 1497 \nQ 1191 994 1439 701 \nQ 1688 409 2113 409 \nQ 2538 409 2786 701 \nQ 3034 994 3034 1497 \nQ 3034 2003 2786 2293 \nQ 2538 2584 2113 2584 \nz\nM 3366 4563 \nL 3366 3988 \nQ 3128 4100 2886 4159 \nQ 2644 4219 2406 4219 \nQ 1781 4219 1451 3797 \nQ 1122 3375 1075 2522 \nQ 1259 2794 1537 2939 \nQ 1816 3084 2150 3084 \nQ 2853 3084 3261 2657 \nQ 3669 2231 3669 1497 \nQ 3669 778 3244 343 \nQ 2819 -91 2113 -91 \nQ 1303 -91 875 529 \nQ 447 1150 447 2328 \nQ 447 3434 972 4092 \nQ 1497 4750 2381 4750 \nQ 2619 4750 2861 4703 \nQ 3103 4656 3366 4563 \nz\n\" transform=\"scale(0.015625)\"/>\n       </defs>\n       <use xlink:href=\"#DejaVuSans-36\"/>\n      </g>\n     </g>\n    </g>\n    <g id=\"xtick_5\">\n     <g id=\"line2d_5\">\n      <g>\n       <use xlink:href=\"#m2c0ee3f72c\" x=\"227.190766\" y=\"273.312\" style=\"stroke: #000000; stroke-width: 0.8\"/>\n      </g>\n     </g>\n     <g id=\"text_5\">\n      <!-- 8 -->\n      <g transform=\"translate(224.009516 287.910437) scale(0.1 -0.1)\">\n       <defs>\n        <path id=\"DejaVuSans-38\" d=\"M 2034 2216 \nQ 1584 2216 1326 1975 \nQ 1069 1734 1069 1313 \nQ 1069 891 1326 650 \nQ 1584 409 2034 409 \nQ 2484 409 2743 651 \nQ 3003 894 3003 1313 \nQ 3003 1734 2745 1975 \nQ 2488 2216 2034 2216 \nz\nM 1403 2484 \nQ 997 2584 770 2862 \nQ 544 3141 544 3541 \nQ 544 4100 942 4425 \nQ 1341 4750 2034 4750 \nQ 2731 4750 3128 4425 \nQ 3525 4100 3525 3541 \nQ 3525 3141 3298 2862 \nQ 3072 2584 2669 2484 \nQ 3125 2378 3379 2068 \nQ 3634 1759 3634 1313 \nQ 3634 634 3220 271 \nQ 2806 -91 2034 -91 \nQ 1263 -91 848 271 \nQ 434 634 434 1313 \nQ 434 1759 690 2068 \nQ 947 2378 1403 2484 \nz\nM 1172 3481 \nQ 1172 3119 1398 2916 \nQ 1625 2713 2034 2713 \nQ 2441 2713 2670 2916 \nQ 2900 3119 2900 3481 \nQ 2900 3844 2670 4047 \nQ 2441 4250 2034 4250 \nQ 1625 4250 1398 4047 \nQ 1172 3844 1172 3481 \nz\n\" transform=\"scale(0.015625)\"/>\n       </defs>\n       <use xlink:href=\"#DejaVuSans-38\"/>\n      </g>\n     </g>\n    </g>\n    <g id=\"xtick_6\">\n     <g id=\"line2d_6\">\n      <g>\n       <use xlink:href=\"#m2c0ee3f72c\" x=\"273.080739\" y=\"273.312\" style=\"stroke: #000000; stroke-width: 0.8\"/>\n      </g>\n     </g>\n     <g id=\"text_6\">\n      <!-- 10 -->\n      <g transform=\"translate(266.718239 287.910437) scale(0.1 -0.1)\">\n       <defs>\n        <path id=\"DejaVuSans-31\" d=\"M 794 531 \nL 1825 531 \nL 1825 4091 \nL 703 3866 \nL 703 4441 \nL 1819 4666 \nL 2450 4666 \nL 2450 531 \nL 3481 531 \nL 3481 0 \nL 794 0 \nL 794 531 \nz\n\" transform=\"scale(0.015625)\"/>\n       </defs>\n       <use xlink:href=\"#DejaVuSans-31\"/>\n       <use xlink:href=\"#DejaVuSans-30\" x=\"63.623047\"/>\n      </g>\n     </g>\n    </g>\n    <g id=\"xtick_7\">\n     <g id=\"line2d_7\">\n      <g>\n       <use xlink:href=\"#m2c0ee3f72c\" x=\"318.970712\" y=\"273.312\" style=\"stroke: #000000; stroke-width: 0.8\"/>\n      </g>\n     </g>\n     <g id=\"text_7\">\n      <!-- 12 -->\n      <g transform=\"translate(312.608212 287.910437) scale(0.1 -0.1)\">\n       <use xlink:href=\"#DejaVuSans-31\"/>\n       <use xlink:href=\"#DejaVuSans-32\" x=\"63.623047\"/>\n      </g>\n     </g>\n    </g>\n    <g id=\"xtick_8\">\n     <g id=\"line2d_8\">\n      <g>\n       <use xlink:href=\"#m2c0ee3f72c\" x=\"364.860686\" y=\"273.312\" style=\"stroke: #000000; stroke-width: 0.8\"/>\n      </g>\n     </g>\n     <g id=\"text_8\">\n      <!-- 14 -->\n      <g transform=\"translate(358.498186 287.910437) scale(0.1 -0.1)\">\n       <use xlink:href=\"#DejaVuSans-31\"/>\n       <use xlink:href=\"#DejaVuSans-34\" x=\"63.623047\"/>\n      </g>\n     </g>\n    </g>\n   </g>\n   <g id=\"matplotlib.axis_2\">\n    <g id=\"ytick_1\">\n     <g id=\"line2d_9\">\n      <defs>\n       <path id=\"mb70ce3f3c0\" d=\"M 0 0 \nL -3.5 0 \n\" style=\"stroke: #000000; stroke-width: 0.8\"/>\n      </defs>\n      <g>\n       <use xlink:href=\"#mb70ce3f3c0\" x=\"42.828125\" y=\"273.312\" style=\"stroke: #000000; stroke-width: 0.8\"/>\n      </g>\n     </g>\n     <g id=\"text_9\">\n      <!-- 0.000 -->\n      <g transform=\"translate(7.2 277.111219) scale(0.1 -0.1)\">\n       <defs>\n        <path id=\"DejaVuSans-2e\" d=\"M 684 794 \nL 1344 794 \nL 1344 0 \nL 684 0 \nL 684 794 \nz\n\" transform=\"scale(0.015625)\"/>\n       </defs>\n       <use xlink:href=\"#DejaVuSans-30\"/>\n       <use xlink:href=\"#DejaVuSans-2e\" x=\"63.623047\"/>\n       <use xlink:href=\"#DejaVuSans-30\" x=\"95.410156\"/>\n       <use xlink:href=\"#DejaVuSans-30\" x=\"159.033203\"/>\n       <use xlink:href=\"#DejaVuSans-30\" x=\"222.65625\"/>\n      </g>\n     </g>\n    </g>\n    <g id=\"ytick_2\">\n     <g id=\"line2d_10\">\n      <g>\n       <use xlink:href=\"#mb70ce3f3c0\" x=\"42.828125\" y=\"242.291342\" style=\"stroke: #000000; stroke-width: 0.8\"/>\n      </g>\n     </g>\n     <g id=\"text_10\">\n      <!-- 0.025 -->\n      <g transform=\"translate(7.2 246.090561) scale(0.1 -0.1)\">\n       <defs>\n        <path id=\"DejaVuSans-35\" d=\"M 691 4666 \nL 3169 4666 \nL 3169 4134 \nL 1269 4134 \nL 1269 2991 \nQ 1406 3038 1543 3061 \nQ 1681 3084 1819 3084 \nQ 2600 3084 3056 2656 \nQ 3513 2228 3513 1497 \nQ 3513 744 3044 326 \nQ 2575 -91 1722 -91 \nQ 1428 -91 1123 -41 \nQ 819 9 494 109 \nL 494 744 \nQ 775 591 1075 516 \nQ 1375 441 1709 441 \nQ 2250 441 2565 725 \nQ 2881 1009 2881 1497 \nQ 2881 1984 2565 2268 \nQ 2250 2553 1709 2553 \nQ 1456 2553 1204 2497 \nQ 953 2441 691 2322 \nL 691 4666 \nz\n\" transform=\"scale(0.015625)\"/>\n       </defs>\n       <use xlink:href=\"#DejaVuSans-30\"/>\n       <use xlink:href=\"#DejaVuSans-2e\" x=\"63.623047\"/>\n       <use xlink:href=\"#DejaVuSans-30\" x=\"95.410156\"/>\n       <use xlink:href=\"#DejaVuSans-32\" x=\"159.033203\"/>\n       <use xlink:href=\"#DejaVuSans-35\" x=\"222.65625\"/>\n      </g>\n     </g>\n    </g>\n    <g id=\"ytick_3\">\n     <g id=\"line2d_11\">\n      <g>\n       <use xlink:href=\"#mb70ce3f3c0\" x=\"42.828125\" y=\"211.270684\" style=\"stroke: #000000; stroke-width: 0.8\"/>\n      </g>\n     </g>\n     <g id=\"text_11\">\n      <!-- 0.050 -->\n      <g transform=\"translate(7.2 215.069903) scale(0.1 -0.1)\">\n       <use xlink:href=\"#DejaVuSans-30\"/>\n       <use xlink:href=\"#DejaVuSans-2e\" x=\"63.623047\"/>\n       <use xlink:href=\"#DejaVuSans-30\" x=\"95.410156\"/>\n       <use xlink:href=\"#DejaVuSans-35\" x=\"159.033203\"/>\n       <use xlink:href=\"#DejaVuSans-30\" x=\"222.65625\"/>\n      </g>\n     </g>\n    </g>\n    <g id=\"ytick_4\">\n     <g id=\"line2d_12\">\n      <g>\n       <use xlink:href=\"#mb70ce3f3c0\" x=\"42.828125\" y=\"180.250026\" style=\"stroke: #000000; stroke-width: 0.8\"/>\n      </g>\n     </g>\n     <g id=\"text_12\">\n      <!-- 0.075 -->\n      <g transform=\"translate(7.2 184.049245) scale(0.1 -0.1)\">\n       <defs>\n        <path id=\"DejaVuSans-37\" d=\"M 525 4666 \nL 3525 4666 \nL 3525 4397 \nL 1831 0 \nL 1172 0 \nL 2766 4134 \nL 525 4134 \nL 525 4666 \nz\n\" transform=\"scale(0.015625)\"/>\n       </defs>\n       <use xlink:href=\"#DejaVuSans-30\"/>\n       <use xlink:href=\"#DejaVuSans-2e\" x=\"63.623047\"/>\n       <use xlink:href=\"#DejaVuSans-30\" x=\"95.410156\"/>\n       <use xlink:href=\"#DejaVuSans-37\" x=\"159.033203\"/>\n       <use xlink:href=\"#DejaVuSans-35\" x=\"222.65625\"/>\n      </g>\n     </g>\n    </g>\n    <g id=\"ytick_5\">\n     <g id=\"line2d_13\">\n      <g>\n       <use xlink:href=\"#mb70ce3f3c0\" x=\"42.828125\" y=\"149.229369\" style=\"stroke: #000000; stroke-width: 0.8\"/>\n      </g>\n     </g>\n     <g id=\"text_13\">\n      <!-- 0.100 -->\n      <g transform=\"translate(7.2 153.028587) scale(0.1 -0.1)\">\n       <use xlink:href=\"#DejaVuSans-30\"/>\n       <use xlink:href=\"#DejaVuSans-2e\" x=\"63.623047\"/>\n       <use xlink:href=\"#DejaVuSans-31\" x=\"95.410156\"/>\n       <use xlink:href=\"#DejaVuSans-30\" x=\"159.033203\"/>\n       <use xlink:href=\"#DejaVuSans-30\" x=\"222.65625\"/>\n      </g>\n     </g>\n    </g>\n    <g id=\"ytick_6\">\n     <g id=\"line2d_14\">\n      <g>\n       <use xlink:href=\"#mb70ce3f3c0\" x=\"42.828125\" y=\"118.208711\" style=\"stroke: #000000; stroke-width: 0.8\"/>\n      </g>\n     </g>\n     <g id=\"text_14\">\n      <!-- 0.125 -->\n      <g transform=\"translate(7.2 122.00793) scale(0.1 -0.1)\">\n       <use xlink:href=\"#DejaVuSans-30\"/>\n       <use xlink:href=\"#DejaVuSans-2e\" x=\"63.623047\"/>\n       <use xlink:href=\"#DejaVuSans-31\" x=\"95.410156\"/>\n       <use xlink:href=\"#DejaVuSans-32\" x=\"159.033203\"/>\n       <use xlink:href=\"#DejaVuSans-35\" x=\"222.65625\"/>\n      </g>\n     </g>\n    </g>\n    <g id=\"ytick_7\">\n     <g id=\"line2d_15\">\n      <g>\n       <use xlink:href=\"#mb70ce3f3c0\" x=\"42.828125\" y=\"87.188053\" style=\"stroke: #000000; stroke-width: 0.8\"/>\n      </g>\n     </g>\n     <g id=\"text_15\">\n      <!-- 0.150 -->\n      <g transform=\"translate(7.2 90.987272) scale(0.1 -0.1)\">\n       <use xlink:href=\"#DejaVuSans-30\"/>\n       <use xlink:href=\"#DejaVuSans-2e\" x=\"63.623047\"/>\n       <use xlink:href=\"#DejaVuSans-31\" x=\"95.410156\"/>\n       <use xlink:href=\"#DejaVuSans-35\" x=\"159.033203\"/>\n       <use xlink:href=\"#DejaVuSans-30\" x=\"222.65625\"/>\n      </g>\n     </g>\n    </g>\n    <g id=\"ytick_8\">\n     <g id=\"line2d_16\">\n      <g>\n       <use xlink:href=\"#mb70ce3f3c0\" x=\"42.828125\" y=\"56.167395\" style=\"stroke: #000000; stroke-width: 0.8\"/>\n      </g>\n     </g>\n     <g id=\"text_16\">\n      <!-- 0.175 -->\n      <g transform=\"translate(7.2 59.966614) scale(0.1 -0.1)\">\n       <use xlink:href=\"#DejaVuSans-30\"/>\n       <use xlink:href=\"#DejaVuSans-2e\" x=\"63.623047\"/>\n       <use xlink:href=\"#DejaVuSans-31\" x=\"95.410156\"/>\n       <use xlink:href=\"#DejaVuSans-37\" x=\"159.033203\"/>\n       <use xlink:href=\"#DejaVuSans-35\" x=\"222.65625\"/>\n      </g>\n     </g>\n    </g>\n    <g id=\"ytick_9\">\n     <g id=\"line2d_17\">\n      <g>\n       <use xlink:href=\"#mb70ce3f3c0\" x=\"42.828125\" y=\"25.146737\" style=\"stroke: #000000; stroke-width: 0.8\"/>\n      </g>\n     </g>\n     <g id=\"text_17\">\n      <!-- 0.200 -->\n      <g transform=\"translate(7.2 28.945956) scale(0.1 -0.1)\">\n       <use xlink:href=\"#DejaVuSans-30\"/>\n       <use xlink:href=\"#DejaVuSans-2e\" x=\"63.623047\"/>\n       <use xlink:href=\"#DejaVuSans-32\" x=\"95.410156\"/>\n       <use xlink:href=\"#DejaVuSans-30\" x=\"159.033203\"/>\n       <use xlink:href=\"#DejaVuSans-30\" x=\"222.65625\"/>\n      </g>\n     </g>\n    </g>\n   </g>\n   <g id=\"line2d_18\">\n    <path d=\"M 59.060852 239.285829 \nL 62.340191 234.883984 \nL 65.61953 230.089627 \nL 68.898869 224.895319 \nL 72.178208 219.297895 \nL 75.457546 213.299029 \nL 78.736885 206.90577 \nL 82.016224 200.131008 \nL 85.295563 192.993882 \nL 88.574902 185.520085 \nL 91.854241 177.742067 \nL 95.13358 169.699105 \nL 98.412918 161.437245 \nL 101.692257 153.009085 \nL 104.971596 144.473409 \nL 108.250935 135.894656 \nL 111.530274 127.342239 \nL 114.809613 118.889703 \nL 118.088951 110.613749 \nL 121.36829 102.593131 \nL 124.647629 94.907448 \nL 127.926968 87.635859 \nL 131.206307 80.855743 \nL 134.485646 74.641341 \nL 137.764985 69.062409 \nL 141.044323 64.182922 \nL 144.323662 60.059852 \nL 147.603001 56.742063 \nL 150.88234 54.269347 \nL 154.161679 52.67163 \nL 157.441018 51.968371 \nL 160.720356 52.168163 \nL 163.999695 53.268563 \nL 167.279034 55.25614 \nL 170.558373 58.106746 \nL 173.837712 61.786007 \nL 177.117051 66.250012 \nL 180.396389 71.446185 \nL 183.675728 77.314314 \nL 186.955067 83.787712 \nL 190.234406 90.794476 \nL 193.513745 98.258811 \nL 196.793084 106.102383 \nL 200.072423 114.245678 \nL 203.351761 122.609315 \nL 206.6311 131.115303 \nL 209.910439 139.688209 \nL 213.189778 148.256201 \nL 216.469117 156.751972 \nL 219.748456 165.113505 \nL 223.027794 173.284697 \nL 226.307133 181.215811 \nL 229.586472 188.863774 \nL 232.865811 196.19233 \nL 236.14515 203.172033 \nL 239.424489 209.780118 \nL 242.703827 216.000253 \nL 245.983166 221.822184 \nL 249.262505 227.241302 \nL 252.541844 232.258139 \nL 255.821183 236.877821 \nL 259.100522 241.109489 \nL 262.379861 244.965708 \nL 265.659199 248.461878 \nL 268.938538 251.615655 \nL 272.217877 254.446411 \nL 275.497216 256.974713 \nL 278.776555 259.221861 \nL 282.055894 261.209464 \nL 285.335232 262.959071 \nL 288.614571 264.491852 \nL 291.89391 265.828336 \nL 295.173249 266.988196 \nL 298.452588 267.99008 \nL 301.731927 268.851495 \nL 305.011265 269.588722 \nL 308.290604 270.216772 \nL 311.569943 270.749371 \nL 314.849282 271.198976 \nL 318.128621 271.576802 \nL 321.40796 271.89288 \nL 324.687299 272.156113 \nL 327.966637 272.374358 \nL 331.245976 272.554497 \nL 334.525315 272.702522 \nL 337.804654 272.823621 \nL 341.083993 272.922254 \nL 344.363332 273.002235 \nL 347.64267 273.066807 \nL 350.922009 273.118709 \nL 354.201348 273.160246 \nL 357.480687 273.193343 \nL 360.760026 273.2196 \nL 364.039365 273.24034 \nL 367.318704 273.256651 \nL 370.598042 273.269424 \nL 373.877381 273.279383 \nL 377.15672 273.287114 \nL 380.436059 273.29309 \nL 383.715398 273.29769 \n\" clip-path=\"url(#p4a0cbf3321)\" style=\"fill: none; stroke: #ff7f0e; stroke-width: 1.5; stroke-linecap: square\"/>\n   </g>\n   <g id=\"patch_13\">\n    <path d=\"M 42.828125 273.312 \nL 42.828125 7.2 \n\" style=\"fill: none; stroke: #000000; stroke-width: 0.8; stroke-linejoin: miter; stroke-linecap: square\"/>\n   </g>\n   <g id=\"patch_14\">\n    <path d=\"M 399.948125 273.312 \nL 399.948125 7.2 \n\" style=\"fill: none; stroke: #000000; stroke-width: 0.8; stroke-linejoin: miter; stroke-linecap: square\"/>\n   </g>\n   <g id=\"patch_15\">\n    <path d=\"M 42.828125 273.312 \nL 399.948125 273.312 \n\" style=\"fill: none; stroke: #000000; stroke-width: 0.8; stroke-linejoin: miter; stroke-linecap: square\"/>\n   </g>\n   <g id=\"patch_16\">\n    <path d=\"M 42.828125 7.2 \nL 399.948125 7.2 \n\" style=\"fill: none; stroke: #000000; stroke-width: 0.8; stroke-linejoin: miter; stroke-linecap: square\"/>\n   </g>\n  </g>\n </g>\n <defs>\n  <clipPath id=\"p4a0cbf3321\">\n   <rect x=\"42.828125\" y=\"7.2\" width=\"357.12\" height=\"266.112\"/>\n  </clipPath>\n </defs>\n</svg>\n"
          },
          "metadata": {}
        }
      ],
      "source": [
        "n = 5\n",
        "\n",
        "# Generate 1000 values from your random sample means function (each sample mean is the mean of n draws)\n",
        "rand_sms = rand_sample_means(n, 0.2)\n",
        "\n",
        "# Use the linspace function from numpy and the stats.norm.pdf function to generate x and y coordinates of a normal distribution\n",
        "clt_xs = np.linspace(rand_sms.min(), rand_sms.max(), num=100)\n",
        "clt_ys = stats.norm.pdf(clt_xs, loc=5, scale=5/np.sqrt(n))\n",
        "\n",
        "# Plot everything up using matplotlib\n",
        "plt.figure()\n",
        "plt.hist(rand_sms, density=True)\n",
        "plt.plot(clt_xs, clt_ys)\n",
        "plt.show()"
      ]
    },
    {
      "cell_type": "markdown",
      "metadata": {
        "id": "oUtJfR8HkQGm"
      },
      "source": [
        "Then the plot with `n=100`. Repeat. Your function still generates 1000 sample means but each sample mean is the mean of 100 draws from the distribution."
      ]
    },
    {
      "cell_type": "code",
      "execution_count": null,
      "metadata": {
        "colab": {
          "base_uri": "https://localhost:8080/",
          "height": 416
        },
        "id": "wKnJHcXMkQGn",
        "outputId": "41927dfc-b8bc-474a-86f0-3d9e58e2e417"
      },
      "outputs": [
        {
          "output_type": "display_data",
          "data": {
            "text/plain": [
              "<Figure size 640x480 with 1 Axes>"
            ],
            "image/svg+xml": "<?xml version=\"1.0\" encoding=\"utf-8\" standalone=\"no\"?>\n<!DOCTYPE svg PUBLIC \"-//W3C//DTD SVG 1.1//EN\"\n  \"http://www.w3.org/Graphics/SVG/1.1/DTD/svg11.dtd\">\n<svg xmlns:xlink=\"http://www.w3.org/1999/xlink\" width=\"394.423125pt\" height=\"297.190125pt\" viewBox=\"0 0 394.423125 297.190125\" xmlns=\"http://www.w3.org/2000/svg\" version=\"1.1\">\n <metadata>\n  <rdf:RDF xmlns:dc=\"http://purl.org/dc/elements/1.1/\" xmlns:cc=\"http://creativecommons.org/ns#\" xmlns:rdf=\"http://www.w3.org/1999/02/22-rdf-syntax-ns#\">\n   <cc:Work>\n    <dc:type rdf:resource=\"http://purl.org/dc/dcmitype/StillImage\"/>\n    <dc:date>2023-10-19T13:06:27.919266</dc:date>\n    <dc:format>image/svg+xml</dc:format>\n    <dc:creator>\n     <cc:Agent>\n      <dc:title>Matplotlib v3.7.1, https://matplotlib.org/</dc:title>\n     </cc:Agent>\n    </dc:creator>\n   </cc:Work>\n  </rdf:RDF>\n </metadata>\n <defs>\n  <style type=\"text/css\">*{stroke-linejoin: round; stroke-linecap: butt}</style>\n </defs>\n <g id=\"figure_1\">\n  <g id=\"patch_1\">\n   <path d=\"M 0 297.190125 \nL 394.423125 297.190125 \nL 394.423125 0 \nL 0 0 \nz\n\" style=\"fill: #ffffff\"/>\n  </g>\n  <g id=\"axes_1\">\n   <g id=\"patch_2\">\n    <path d=\"M 30.103125 273.312 \nL 387.223125 273.312 \nL 387.223125 7.2 \nL 30.103125 7.2 \nz\n\" style=\"fill: #ffffff\"/>\n   </g>\n   <g id=\"patch_3\">\n    <path d=\"M 46.335852 273.312 \nL 78.801307 273.312 \nL 78.801307 270.514955 \nL 46.335852 270.514955 \nz\n\" clip-path=\"url(#pe967340ac0)\" style=\"fill: #1f77b4\"/>\n   </g>\n   <g id=\"patch_4\">\n    <path d=\"M 78.801307 273.312 \nL 111.266761 273.312 \nL 111.266761 254.665036 \nL 78.801307 254.665036 \nz\n\" clip-path=\"url(#pe967340ac0)\" style=\"fill: #1f77b4\"/>\n   </g>\n   <g id=\"patch_5\">\n    <path d=\"M 111.266761 273.312 \nL 143.732216 273.312 \nL 143.732216 176.347788 \nL 111.266761 176.347788 \nz\n\" clip-path=\"url(#pe967340ac0)\" style=\"fill: #1f77b4\"/>\n   </g>\n   <g id=\"patch_6\">\n    <path d=\"M 143.732216 273.312 \nL 176.19767 273.312 \nL 176.19767 97.098191 \nL 143.732216 97.098191 \nz\n\" clip-path=\"url(#pe967340ac0)\" style=\"fill: #1f77b4\"/>\n   </g>\n   <g id=\"patch_7\">\n    <path d=\"M 176.19767 273.312 \nL 208.663125 273.312 \nL 208.663125 28.104424 \nL 176.19767 28.104424 \nz\n\" clip-path=\"url(#pe967340ac0)\" style=\"fill: #1f77b4\"/>\n   </g>\n   <g id=\"patch_8\">\n    <path d=\"M 208.663125 273.312 \nL 241.12858 273.312 \nL 241.12858 71.92479 \nL 208.663125 71.92479 \nz\n\" clip-path=\"url(#pe967340ac0)\" style=\"fill: #1f77b4\"/>\n   </g>\n   <g id=\"patch_9\">\n    <path d=\"M 241.12858 273.312 \nL 273.594034 273.312 \nL 273.594034 153.971431 \nL 241.12858 153.971431 \nz\n\" clip-path=\"url(#pe967340ac0)\" style=\"fill: #1f77b4\"/>\n   </g>\n   <g id=\"patch_10\">\n    <path d=\"M 273.594034 273.312 \nL 306.059489 273.312 \nL 306.059489 217.371108 \nL 273.594034 217.371108 \nz\n\" clip-path=\"url(#pe967340ac0)\" style=\"fill: #1f77b4\"/>\n   </g>\n   <g id=\"patch_11\">\n    <path d=\"M 306.059489 273.312 \nL 338.524943 273.312 \nL 338.524943 262.123822 \nL 306.059489 262.123822 \nz\n\" clip-path=\"url(#pe967340ac0)\" style=\"fill: #1f77b4\"/>\n   </g>\n   <g id=\"patch_12\">\n    <path d=\"M 338.524943 273.312 \nL 370.990398 273.312 \nL 370.990398 268.650259 \nL 338.524943 268.650259 \nz\n\" clip-path=\"url(#pe967340ac0)\" style=\"fill: #1f77b4\"/>\n   </g>\n   <g id=\"matplotlib.axis_1\">\n    <g id=\"xtick_1\">\n     <g id=\"line2d_1\">\n      <defs>\n       <path id=\"mce6fd0966d\" d=\"M 0 0 \nL 0 3.5 \n\" style=\"stroke: #000000; stroke-width: 0.8\"/>\n      </defs>\n      <g>\n       <use xlink:href=\"#mce6fd0966d\" x=\"58.284452\" y=\"273.312\" style=\"stroke: #000000; stroke-width: 0.8\"/>\n      </g>\n     </g>\n     <g id=\"text_1\">\n      <!-- 3.5 -->\n      <g transform=\"translate(50.332889 287.910437) scale(0.1 -0.1)\">\n       <defs>\n        <path id=\"DejaVuSans-33\" d=\"M 2597 2516 \nQ 3050 2419 3304 2112 \nQ 3559 1806 3559 1356 \nQ 3559 666 3084 287 \nQ 2609 -91 1734 -91 \nQ 1441 -91 1130 -33 \nQ 819 25 488 141 \nL 488 750 \nQ 750 597 1062 519 \nQ 1375 441 1716 441 \nQ 2309 441 2620 675 \nQ 2931 909 2931 1356 \nQ 2931 1769 2642 2001 \nQ 2353 2234 1838 2234 \nL 1294 2234 \nL 1294 2753 \nL 1863 2753 \nQ 2328 2753 2575 2939 \nQ 2822 3125 2822 3475 \nQ 2822 3834 2567 4026 \nQ 2313 4219 1838 4219 \nQ 1578 4219 1281 4162 \nQ 984 4106 628 3988 \nL 628 4550 \nQ 988 4650 1302 4700 \nQ 1616 4750 1894 4750 \nQ 2613 4750 3031 4423 \nQ 3450 4097 3450 3541 \nQ 3450 3153 3228 2886 \nQ 3006 2619 2597 2516 \nz\n\" transform=\"scale(0.015625)\"/>\n        <path id=\"DejaVuSans-2e\" d=\"M 684 794 \nL 1344 794 \nL 1344 0 \nL 684 0 \nL 684 794 \nz\n\" transform=\"scale(0.015625)\"/>\n        <path id=\"DejaVuSans-35\" d=\"M 691 4666 \nL 3169 4666 \nL 3169 4134 \nL 1269 4134 \nL 1269 2991 \nQ 1406 3038 1543 3061 \nQ 1681 3084 1819 3084 \nQ 2600 3084 3056 2656 \nQ 3513 2228 3513 1497 \nQ 3513 744 3044 326 \nQ 2575 -91 1722 -91 \nQ 1428 -91 1123 -41 \nQ 819 9 494 109 \nL 494 744 \nQ 775 591 1075 516 \nQ 1375 441 1709 441 \nQ 2250 441 2565 725 \nQ 2881 1009 2881 1497 \nQ 2881 1984 2565 2268 \nQ 2250 2553 1709 2553 \nQ 1456 2553 1204 2497 \nQ 953 2441 691 2322 \nL 691 4666 \nz\n\" transform=\"scale(0.015625)\"/>\n       </defs>\n       <use xlink:href=\"#DejaVuSans-33\"/>\n       <use xlink:href=\"#DejaVuSans-2e\" x=\"63.623047\"/>\n       <use xlink:href=\"#DejaVuSans-35\" x=\"95.410156\"/>\n      </g>\n     </g>\n    </g>\n    <g id=\"xtick_2\">\n     <g id=\"line2d_2\">\n      <g>\n       <use xlink:href=\"#mce6fd0966d\" x=\"105.925545\" y=\"273.312\" style=\"stroke: #000000; stroke-width: 0.8\"/>\n      </g>\n     </g>\n     <g id=\"text_2\">\n      <!-- 4.0 -->\n      <g transform=\"translate(97.973982 287.910437) scale(0.1 -0.1)\">\n       <defs>\n        <path id=\"DejaVuSans-34\" d=\"M 2419 4116 \nL 825 1625 \nL 2419 1625 \nL 2419 4116 \nz\nM 2253 4666 \nL 3047 4666 \nL 3047 1625 \nL 3713 1625 \nL 3713 1100 \nL 3047 1100 \nL 3047 0 \nL 2419 0 \nL 2419 1100 \nL 313 1100 \nL 313 1709 \nL 2253 4666 \nz\n\" transform=\"scale(0.015625)\"/>\n        <path id=\"DejaVuSans-30\" d=\"M 2034 4250 \nQ 1547 4250 1301 3770 \nQ 1056 3291 1056 2328 \nQ 1056 1369 1301 889 \nQ 1547 409 2034 409 \nQ 2525 409 2770 889 \nQ 3016 1369 3016 2328 \nQ 3016 3291 2770 3770 \nQ 2525 4250 2034 4250 \nz\nM 2034 4750 \nQ 2819 4750 3233 4129 \nQ 3647 3509 3647 2328 \nQ 3647 1150 3233 529 \nQ 2819 -91 2034 -91 \nQ 1250 -91 836 529 \nQ 422 1150 422 2328 \nQ 422 3509 836 4129 \nQ 1250 4750 2034 4750 \nz\n\" transform=\"scale(0.015625)\"/>\n       </defs>\n       <use xlink:href=\"#DejaVuSans-34\"/>\n       <use xlink:href=\"#DejaVuSans-2e\" x=\"63.623047\"/>\n       <use xlink:href=\"#DejaVuSans-30\" x=\"95.410156\"/>\n      </g>\n     </g>\n    </g>\n    <g id=\"xtick_3\">\n     <g id=\"line2d_3\">\n      <g>\n       <use xlink:href=\"#mce6fd0966d\" x=\"153.566638\" y=\"273.312\" style=\"stroke: #000000; stroke-width: 0.8\"/>\n      </g>\n     </g>\n     <g id=\"text_3\">\n      <!-- 4.5 -->\n      <g transform=\"translate(145.615076 287.910437) scale(0.1 -0.1)\">\n       <use xlink:href=\"#DejaVuSans-34\"/>\n       <use xlink:href=\"#DejaVuSans-2e\" x=\"63.623047\"/>\n       <use xlink:href=\"#DejaVuSans-35\" x=\"95.410156\"/>\n      </g>\n     </g>\n    </g>\n    <g id=\"xtick_4\">\n     <g id=\"line2d_4\">\n      <g>\n       <use xlink:href=\"#mce6fd0966d\" x=\"201.207731\" y=\"273.312\" style=\"stroke: #000000; stroke-width: 0.8\"/>\n      </g>\n     </g>\n     <g id=\"text_4\">\n      <!-- 5.0 -->\n      <g transform=\"translate(193.256169 287.910437) scale(0.1 -0.1)\">\n       <use xlink:href=\"#DejaVuSans-35\"/>\n       <use xlink:href=\"#DejaVuSans-2e\" x=\"63.623047\"/>\n       <use xlink:href=\"#DejaVuSans-30\" x=\"95.410156\"/>\n      </g>\n     </g>\n    </g>\n    <g id=\"xtick_5\">\n     <g id=\"line2d_5\">\n      <g>\n       <use xlink:href=\"#mce6fd0966d\" x=\"248.848825\" y=\"273.312\" style=\"stroke: #000000; stroke-width: 0.8\"/>\n      </g>\n     </g>\n     <g id=\"text_5\">\n      <!-- 5.5 -->\n      <g transform=\"translate(240.897262 287.910437) scale(0.1 -0.1)\">\n       <use xlink:href=\"#DejaVuSans-35\"/>\n       <use xlink:href=\"#DejaVuSans-2e\" x=\"63.623047\"/>\n       <use xlink:href=\"#DejaVuSans-35\" x=\"95.410156\"/>\n      </g>\n     </g>\n    </g>\n    <g id=\"xtick_6\">\n     <g id=\"line2d_6\">\n      <g>\n       <use xlink:href=\"#mce6fd0966d\" x=\"296.489918\" y=\"273.312\" style=\"stroke: #000000; stroke-width: 0.8\"/>\n      </g>\n     </g>\n     <g id=\"text_6\">\n      <!-- 6.0 -->\n      <g transform=\"translate(288.538355 287.910437) scale(0.1 -0.1)\">\n       <defs>\n        <path id=\"DejaVuSans-36\" d=\"M 2113 2584 \nQ 1688 2584 1439 2293 \nQ 1191 2003 1191 1497 \nQ 1191 994 1439 701 \nQ 1688 409 2113 409 \nQ 2538 409 2786 701 \nQ 3034 994 3034 1497 \nQ 3034 2003 2786 2293 \nQ 2538 2584 2113 2584 \nz\nM 3366 4563 \nL 3366 3988 \nQ 3128 4100 2886 4159 \nQ 2644 4219 2406 4219 \nQ 1781 4219 1451 3797 \nQ 1122 3375 1075 2522 \nQ 1259 2794 1537 2939 \nQ 1816 3084 2150 3084 \nQ 2853 3084 3261 2657 \nQ 3669 2231 3669 1497 \nQ 3669 778 3244 343 \nQ 2819 -91 2113 -91 \nQ 1303 -91 875 529 \nQ 447 1150 447 2328 \nQ 447 3434 972 4092 \nQ 1497 4750 2381 4750 \nQ 2619 4750 2861 4703 \nQ 3103 4656 3366 4563 \nz\n\" transform=\"scale(0.015625)\"/>\n       </defs>\n       <use xlink:href=\"#DejaVuSans-36\"/>\n       <use xlink:href=\"#DejaVuSans-2e\" x=\"63.623047\"/>\n       <use xlink:href=\"#DejaVuSans-30\" x=\"95.410156\"/>\n      </g>\n     </g>\n    </g>\n    <g id=\"xtick_7\">\n     <g id=\"line2d_7\">\n      <g>\n       <use xlink:href=\"#mce6fd0966d\" x=\"344.131011\" y=\"273.312\" style=\"stroke: #000000; stroke-width: 0.8\"/>\n      </g>\n     </g>\n     <g id=\"text_7\">\n      <!-- 6.5 -->\n      <g transform=\"translate(336.179449 287.910437) scale(0.1 -0.1)\">\n       <use xlink:href=\"#DejaVuSans-36\"/>\n       <use xlink:href=\"#DejaVuSans-2e\" x=\"63.623047\"/>\n       <use xlink:href=\"#DejaVuSans-35\" x=\"95.410156\"/>\n      </g>\n     </g>\n    </g>\n   </g>\n   <g id=\"matplotlib.axis_2\">\n    <g id=\"ytick_1\">\n     <g id=\"line2d_8\">\n      <defs>\n       <path id=\"md8308ad925\" d=\"M 0 0 \nL -3.5 0 \n\" style=\"stroke: #000000; stroke-width: 0.8\"/>\n      </defs>\n      <g>\n       <use xlink:href=\"#md8308ad925\" x=\"30.103125\" y=\"273.312\" style=\"stroke: #000000; stroke-width: 0.8\"/>\n      </g>\n     </g>\n     <g id=\"text_8\">\n      <!-- 0.0 -->\n      <g transform=\"translate(7.2 277.111219) scale(0.1 -0.1)\">\n       <use xlink:href=\"#DejaVuSans-30\"/>\n       <use xlink:href=\"#DejaVuSans-2e\" x=\"63.623047\"/>\n       <use xlink:href=\"#DejaVuSans-30\" x=\"95.410156\"/>\n      </g>\n     </g>\n    </g>\n    <g id=\"ytick_2\">\n     <g id=\"line2d_9\">\n      <g>\n       <use xlink:href=\"#md8308ad925\" x=\"30.103125\" y=\"241.544144\" style=\"stroke: #000000; stroke-width: 0.8\"/>\n      </g>\n     </g>\n     <g id=\"text_9\">\n      <!-- 0.1 -->\n      <g transform=\"translate(7.2 245.343363) scale(0.1 -0.1)\">\n       <defs>\n        <path id=\"DejaVuSans-31\" d=\"M 794 531 \nL 1825 531 \nL 1825 4091 \nL 703 3866 \nL 703 4441 \nL 1819 4666 \nL 2450 4666 \nL 2450 531 \nL 3481 531 \nL 3481 0 \nL 794 0 \nL 794 531 \nz\n\" transform=\"scale(0.015625)\"/>\n       </defs>\n       <use xlink:href=\"#DejaVuSans-30\"/>\n       <use xlink:href=\"#DejaVuSans-2e\" x=\"63.623047\"/>\n       <use xlink:href=\"#DejaVuSans-31\" x=\"95.410156\"/>\n      </g>\n     </g>\n    </g>\n    <g id=\"ytick_3\">\n     <g id=\"line2d_10\">\n      <g>\n       <use xlink:href=\"#md8308ad925\" x=\"30.103125\" y=\"209.776288\" style=\"stroke: #000000; stroke-width: 0.8\"/>\n      </g>\n     </g>\n     <g id=\"text_10\">\n      <!-- 0.2 -->\n      <g transform=\"translate(7.2 213.575506) scale(0.1 -0.1)\">\n       <defs>\n        <path id=\"DejaVuSans-32\" d=\"M 1228 531 \nL 3431 531 \nL 3431 0 \nL 469 0 \nL 469 531 \nQ 828 903 1448 1529 \nQ 2069 2156 2228 2338 \nQ 2531 2678 2651 2914 \nQ 2772 3150 2772 3378 \nQ 2772 3750 2511 3984 \nQ 2250 4219 1831 4219 \nQ 1534 4219 1204 4116 \nQ 875 4013 500 3803 \nL 500 4441 \nQ 881 4594 1212 4672 \nQ 1544 4750 1819 4750 \nQ 2544 4750 2975 4387 \nQ 3406 4025 3406 3419 \nQ 3406 3131 3298 2873 \nQ 3191 2616 2906 2266 \nQ 2828 2175 2409 1742 \nQ 1991 1309 1228 531 \nz\n\" transform=\"scale(0.015625)\"/>\n       </defs>\n       <use xlink:href=\"#DejaVuSans-30\"/>\n       <use xlink:href=\"#DejaVuSans-2e\" x=\"63.623047\"/>\n       <use xlink:href=\"#DejaVuSans-32\" x=\"95.410156\"/>\n      </g>\n     </g>\n    </g>\n    <g id=\"ytick_4\">\n     <g id=\"line2d_11\">\n      <g>\n       <use xlink:href=\"#md8308ad925\" x=\"30.103125\" y=\"178.008431\" style=\"stroke: #000000; stroke-width: 0.8\"/>\n      </g>\n     </g>\n     <g id=\"text_11\">\n      <!-- 0.3 -->\n      <g transform=\"translate(7.2 181.80765) scale(0.1 -0.1)\">\n       <use xlink:href=\"#DejaVuSans-30\"/>\n       <use xlink:href=\"#DejaVuSans-2e\" x=\"63.623047\"/>\n       <use xlink:href=\"#DejaVuSans-33\" x=\"95.410156\"/>\n      </g>\n     </g>\n    </g>\n    <g id=\"ytick_5\">\n     <g id=\"line2d_12\">\n      <g>\n       <use xlink:href=\"#md8308ad925\" x=\"30.103125\" y=\"146.240575\" style=\"stroke: #000000; stroke-width: 0.8\"/>\n      </g>\n     </g>\n     <g id=\"text_12\">\n      <!-- 0.4 -->\n      <g transform=\"translate(7.2 150.039794) scale(0.1 -0.1)\">\n       <use xlink:href=\"#DejaVuSans-30\"/>\n       <use xlink:href=\"#DejaVuSans-2e\" x=\"63.623047\"/>\n       <use xlink:href=\"#DejaVuSans-34\" x=\"95.410156\"/>\n      </g>\n     </g>\n    </g>\n    <g id=\"ytick_6\">\n     <g id=\"line2d_13\">\n      <g>\n       <use xlink:href=\"#md8308ad925\" x=\"30.103125\" y=\"114.472719\" style=\"stroke: #000000; stroke-width: 0.8\"/>\n      </g>\n     </g>\n     <g id=\"text_13\">\n      <!-- 0.5 -->\n      <g transform=\"translate(7.2 118.271938) scale(0.1 -0.1)\">\n       <use xlink:href=\"#DejaVuSans-30\"/>\n       <use xlink:href=\"#DejaVuSans-2e\" x=\"63.623047\"/>\n       <use xlink:href=\"#DejaVuSans-35\" x=\"95.410156\"/>\n      </g>\n     </g>\n    </g>\n    <g id=\"ytick_7\">\n     <g id=\"line2d_14\">\n      <g>\n       <use xlink:href=\"#md8308ad925\" x=\"30.103125\" y=\"82.704863\" style=\"stroke: #000000; stroke-width: 0.8\"/>\n      </g>\n     </g>\n     <g id=\"text_14\">\n      <!-- 0.6 -->\n      <g transform=\"translate(7.2 86.504082) scale(0.1 -0.1)\">\n       <use xlink:href=\"#DejaVuSans-30\"/>\n       <use xlink:href=\"#DejaVuSans-2e\" x=\"63.623047\"/>\n       <use xlink:href=\"#DejaVuSans-36\" x=\"95.410156\"/>\n      </g>\n     </g>\n    </g>\n    <g id=\"ytick_8\">\n     <g id=\"line2d_15\">\n      <g>\n       <use xlink:href=\"#md8308ad925\" x=\"30.103125\" y=\"50.937007\" style=\"stroke: #000000; stroke-width: 0.8\"/>\n      </g>\n     </g>\n     <g id=\"text_15\">\n      <!-- 0.7 -->\n      <g transform=\"translate(7.2 54.736225) scale(0.1 -0.1)\">\n       <defs>\n        <path id=\"DejaVuSans-37\" d=\"M 525 4666 \nL 3525 4666 \nL 3525 4397 \nL 1831 0 \nL 1172 0 \nL 2766 4134 \nL 525 4134 \nL 525 4666 \nz\n\" transform=\"scale(0.015625)\"/>\n       </defs>\n       <use xlink:href=\"#DejaVuSans-30\"/>\n       <use xlink:href=\"#DejaVuSans-2e\" x=\"63.623047\"/>\n       <use xlink:href=\"#DejaVuSans-37\" x=\"95.410156\"/>\n      </g>\n     </g>\n    </g>\n    <g id=\"ytick_9\">\n     <g id=\"line2d_16\">\n      <g>\n       <use xlink:href=\"#md8308ad925\" x=\"30.103125\" y=\"19.16915\" style=\"stroke: #000000; stroke-width: 0.8\"/>\n      </g>\n     </g>\n     <g id=\"text_16\">\n      <!-- 0.8 -->\n      <g transform=\"translate(7.2 22.968369) scale(0.1 -0.1)\">\n       <defs>\n        <path id=\"DejaVuSans-38\" d=\"M 2034 2216 \nQ 1584 2216 1326 1975 \nQ 1069 1734 1069 1313 \nQ 1069 891 1326 650 \nQ 1584 409 2034 409 \nQ 2484 409 2743 651 \nQ 3003 894 3003 1313 \nQ 3003 1734 2745 1975 \nQ 2488 2216 2034 2216 \nz\nM 1403 2484 \nQ 997 2584 770 2862 \nQ 544 3141 544 3541 \nQ 544 4100 942 4425 \nQ 1341 4750 2034 4750 \nQ 2731 4750 3128 4425 \nQ 3525 4100 3525 3541 \nQ 3525 3141 3298 2862 \nQ 3072 2584 2669 2484 \nQ 3125 2378 3379 2068 \nQ 3634 1759 3634 1313 \nQ 3634 634 3220 271 \nQ 2806 -91 2034 -91 \nQ 1263 -91 848 271 \nQ 434 634 434 1313 \nQ 434 1759 690 2068 \nQ 947 2378 1403 2484 \nz\nM 1172 3481 \nQ 1172 3119 1398 2916 \nQ 1625 2713 2034 2713 \nQ 2441 2713 2670 2916 \nQ 2900 3119 2900 3481 \nQ 2900 3844 2670 4047 \nQ 2441 4250 2034 4250 \nQ 1625 4250 1398 4047 \nQ 1172 3844 1172 3481 \nz\n\" transform=\"scale(0.015625)\"/>\n       </defs>\n       <use xlink:href=\"#DejaVuSans-30\"/>\n       <use xlink:href=\"#DejaVuSans-2e\" x=\"63.623047\"/>\n       <use xlink:href=\"#DejaVuSans-38\" x=\"95.410156\"/>\n      </g>\n     </g>\n    </g>\n   </g>\n   <g id=\"line2d_17\">\n    <path d=\"M 46.335852 272.026196 \nL 49.615191 271.707549 \nL 52.89453 271.319399 \nL 56.173869 270.849044 \nL 59.453208 270.282052 \nL 62.732546 269.602154 \nL 66.011885 268.791163 \nL 69.291224 267.828926 \nL 72.570563 266.693317 \nL 75.849902 265.360276 \nL 79.129241 263.80391 \nL 82.40858 261.996663 \nL 85.687918 259.909558 \nL 88.967257 257.512525 \nL 92.246596 254.774822 \nL 95.525935 251.665543 \nL 98.805274 248.154223 \nL 102.084613 244.211533 \nL 105.363951 239.810064 \nL 108.64329 234.925184 \nL 111.922629 229.535955 \nL 115.201968 223.626096 \nL 118.481307 217.184963 \nL 121.760646 210.208523 \nL 125.039985 202.700294 \nL 128.319323 194.672206 \nL 131.598662 186.145366 \nL 134.878001 177.150677 \nL 138.15734 167.729284 \nL 141.436679 157.932813 \nL 144.716018 147.823373 \nL 147.995356 137.473304 \nL 151.274695 126.964642 \nL 154.554034 116.388308 \nL 157.833373 105.843013 \nL 161.112712 95.433887 \nL 164.392051 85.270857 \nL 167.671389 75.46681 \nL 170.950728 66.135565 \nL 174.230067 57.389718 \nL 177.509406 49.33841 \nL 180.788745 42.085072 \nL 184.068084 35.72523 \nL 187.347423 30.344412 \nL 190.626761 26.016236 \nL 193.9061 22.800735 \nL 197.185439 20.742976 \nL 200.464778 19.872 \nL 203.744117 20.200149 \nL 207.023456 21.722771 \nL 210.302794 24.418328 \nL 213.582133 28.248906 \nL 216.861472 33.161101 \nL 220.140811 39.08726 \nL 223.42015 45.947027 \nL 226.699489 53.649156 \nL 229.978827 62.093532 \nL 233.258166 71.173322 \nL 236.537505 80.777216 \nL 239.816844 90.791678 \nL 243.096183 101.103138 \nL 246.375522 111.600087 \nL 249.654861 122.175007 \nL 252.934199 132.726093 \nL 256.213538 143.158743 \nL 259.492877 153.386775 \nL 262.772216 163.333374 \nL 266.051555 172.931748 \nL 269.330894 182.125505 \nL 272.610232 190.868769 \nL 275.889571 199.126037 \nL 279.16891 206.871833 \nL 282.448249 214.090155 \nL 285.727588 220.773774 \nL 289.006927 226.923416 \nL 292.286265 232.546847 \nL 295.565604 237.657916 \nL 298.844943 242.275572 \nL 302.124282 246.422889 \nL 305.403621 250.126131 \nL 308.68296 253.413856 \nL 311.962299 256.316106 \nL 315.241637 258.863669 \nL 318.520976 261.087429 \nL 321.800315 263.017819 \nL 325.079654 264.684356 \nL 328.358993 266.115275 \nL 331.638332 267.337249 \nL 334.91767 268.375184 \nL 338.197009 269.25209 \nL 341.476348 269.989018 \nL 344.755687 270.60504 \nL 348.035026 271.117285 \nL 351.314365 271.541009 \nL 354.593704 271.889681 \nL 357.873042 272.175106 \nL 361.152381 272.407549 \nL 364.43172 272.595869 \nL 367.711059 272.747658 \nL 370.990398 272.869377 \n\" clip-path=\"url(#pe967340ac0)\" style=\"fill: none; stroke: #ff7f0e; stroke-width: 1.5; stroke-linecap: square\"/>\n   </g>\n   <g id=\"patch_13\">\n    <path d=\"M 30.103125 273.312 \nL 30.103125 7.2 \n\" style=\"fill: none; stroke: #000000; stroke-width: 0.8; stroke-linejoin: miter; stroke-linecap: square\"/>\n   </g>\n   <g id=\"patch_14\">\n    <path d=\"M 387.223125 273.312 \nL 387.223125 7.2 \n\" style=\"fill: none; stroke: #000000; stroke-width: 0.8; stroke-linejoin: miter; stroke-linecap: square\"/>\n   </g>\n   <g id=\"patch_15\">\n    <path d=\"M 30.103125 273.312 \nL 387.223125 273.312 \n\" style=\"fill: none; stroke: #000000; stroke-width: 0.8; stroke-linejoin: miter; stroke-linecap: square\"/>\n   </g>\n   <g id=\"patch_16\">\n    <path d=\"M 30.103125 7.2 \nL 387.223125 7.2 \n\" style=\"fill: none; stroke: #000000; stroke-width: 0.8; stroke-linejoin: miter; stroke-linecap: square\"/>\n   </g>\n  </g>\n </g>\n <defs>\n  <clipPath id=\"pe967340ac0\">\n   <rect x=\"30.103125\" y=\"7.2\" width=\"357.12\" height=\"266.112\"/>\n  </clipPath>\n </defs>\n</svg>\n"
          },
          "metadata": {}
        }
      ],
      "source": [
        "n = 100\n",
        "rand_sms = rand_sample_means(n, 0.2)\n",
        "clt_xs = np.linspace(rand_sms.min(), rand_sms.max(), num=100)\n",
        "clt_ys = stats.norm.pdf(clt_xs, loc=5, scale=5/np.sqrt(n))\n",
        "\n",
        "plt.figure()\n",
        "plt.hist(rand_sms, density=True)\n",
        "plt.plot(clt_xs, clt_ys)\n",
        "plt.show()"
      ]
    },
    {
      "cell_type": "markdown",
      "metadata": {
        "id": "ksfLmgDX-kPJ"
      },
      "source": [
        "### Questions\n",
        "\n",
        "a) What do you notice about the two plots? Describe their differences?\n",
        "\n",
        "\n",
        "The first plot (small n) is skewed and is not very similar to the theoretical normal distribution. The second plot (large n) appears to be a bell-shaped curve, far more similar to the theoretical normal distribution. Nicely balanced curve.\n",
        "\n",
        "\n",
        "b) Why is this the case and what role does `n` have in this?\n",
        "\n",
        "When `n` is small, the distribution of the sample mean poorly approximates the normal distribution. When `n` becomes large (arbitrary but typically over 30-40 observations per sample mean), then the distribution of the sample means closely approximates the normal distribution. The larger `n` becomes, the better the approximation. When `n` is large we can use this approximation for inferences about the sample mean. This is the central limit theorem in action. We will discuss why this is useful later!"
      ]
    },
    {
      "cell_type": "markdown",
      "metadata": {
        "id": "4Wr_KOxrBdV-"
      },
      "source": [
        "## **Central Limit Theorem: Theory**"
      ]
    },
    {
      "cell_type": "markdown",
      "metadata": {
        "id": "boPTNP0gkQGo"
      },
      "source": [
        "### Question 3\n",
        "\n",
        "Write down a statement of the law of large numbers (LLN). See [here](https://en.wikipedia.org/wiki/Law_of_large_numbers) as not covered in the lecture. Also write down a statement of the central limit theorem. Make sure you understand what each of them tells you."
      ]
    },
    {
      "cell_type": "markdown",
      "metadata": {
        "id": "OVPrzID-kQGo"
      },
      "source": [
        "### Answer\n",
        "\n",
        "-   LLN: $\\bar{X}$ converges to $\\mu$ as the sample size increases.\n",
        "-   CLT: $\\sqrt{n}(\\bar{X} - \\mu) / \\sigma$ converges in distribution to the\n",
        "    standard normal distribution as the sample size increases.\n",
        "-   The LLN tells you what the limiting value is, the CLT tells you\n",
        "    about the fluctuations in the estimate."
      ]
    },
    {
      "cell_type": "markdown",
      "metadata": {
        "id": "azc7otuXkQGq"
      },
      "source": [
        "### Question 4\n",
        "\n",
        "Write down the distribution of the sample mean given an IID sample of\n",
        "exponential random variables with rate $1/5$."
      ]
    },
    {
      "cell_type": "markdown",
      "metadata": {
        "id": "EWR8DX4fkQGq"
      },
      "source": [
        "### Answer\n",
        "\n",
        "Given we have the rate, we know both the mean and the variance of this distribution.\n",
        "\n",
        "-   The mean of the exponential distribution is 5.\n",
        "-   The standard deviation of the exponential distribution is 5\n",
        "\n",
        "As a result...\n",
        "-   The CLT therefore tells us the limiting distribution for the sample mean is $N\\left(5,\\frac{5^2}{n}\\right)$"
      ]
    },
    {
      "cell_type": "markdown",
      "metadata": {
        "id": "EmOmSYVaRfA2"
      },
      "source": [
        "### Question 5 (longer answer required)\n",
        "\n",
        "Explain the central limit theorem in your own words being as detailed as possible. When might we use it? Why is it important in statistics?\n",
        "\n",
        "\n",
        "Hint: If completely unsure then check out this [video](https://www.youtube.com/watch?v=RzxYTQKjdTo). Other really good videos on YouTube as well."
      ]
    },
    {
      "cell_type": "markdown",
      "metadata": {
        "id": "LHBgUEgaRnOt"
      },
      "source": [
        "### Answer\n",
        "\n",
        "The central limit theorem states that the distribution of sample means (distribution of $\\bar{X}$), made of observation from ANY underlying distribution, will tend to a normal distribution as the number of observations in each sample mean, `n`, increases.\n",
        "\n",
        "The beauty of this is that we can model the distribution of the sample mean without knowing the details of the underlying distribution of data!! This is massive. The central limit theorem allows us to create structure from data which we might not know anything about. The underlying distribution may be something completely random and really difficult to model BUT given the CLT we know that the distribution of the sample mean will always limit towards a normal distribution as `n` increases.\n",
        "\n",
        "This allows us to perform hypothesis tests and make inferences about the nature of the underlying distribution - which will be covered properly next lecture. For example, we can do a hypothesis test to assess whether the mean of a distribution differs from the preconceived value.\n"
      ]
    }
  ],
  "metadata": {
    "colab": {
      "collapsed_sections": [
        "boPTNP0gkQGo"
      ],
      "provenance": []
    },
    "jupytext": {
      "formats": "ipynb,md"
    },
    "kernelspec": {
      "display_name": "Python 3 (ipykernel)",
      "language": "python",
      "name": "python3"
    },
    "language_info": {
      "codemirror_mode": {
        "name": "ipython",
        "version": 3
      },
      "file_extension": ".py",
      "mimetype": "text/x-python",
      "name": "python",
      "nbconvert_exporter": "python",
      "pygments_lexer": "ipython3",
      "version": "3.8.10"
    }
  },
  "nbformat": 4,
  "nbformat_minor": 0
}