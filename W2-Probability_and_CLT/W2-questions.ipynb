{
  "cells": [
    {
      "cell_type": "markdown",
      "source": [
        "# Week 2: Probability and the Central Limit Theorem (CLT)"
      ],
      "metadata": {
        "id": "Jld572X-CIDJ"
      }
    },
    {
      "cell_type": "markdown",
      "source": [
        "## **Notebook Overview**"
      ],
      "metadata": {
        "id": "PFmdyJqYCK_m"
      }
    },
    {
      "cell_type": "markdown",
      "metadata": {
        "id": "wjAkzaEGkQGT"
      },
      "source": [
        "\n",
        "This notebook reviews:\n",
        "\n",
        "- Probability\n",
        "- The central limit theorem\n",
        "\n",
        "I am aware the central limit theorem was only briefly covered in class so we will be doing a big recap in the Friday TA session."
      ]
    },
    {
      "cell_type": "markdown",
      "source": [
        "### **Additional Resources**"
      ],
      "metadata": {
        "id": "t9s-LZhpLlZe"
      }
    },
    {
      "cell_type": "markdown",
      "source": [
        "\n",
        "Some of you have been asking for additional resources to help understand the problems so here are a few below. Keep in mind that these are textbooks designed for whole degrees of study so they are in much more detail than you need and cover far more topics. Be selective with your reading and keep in mind that the theory in these books is far deeper than we need.\n",
        "\n",
        "1. [Wooldridge Econometrics:](https://www.academia.edu/44467534/ECONOMETRICS_A_Modern_Approach) A great textbook for statistical modelling, though goes into far more theoretical details than we need for this course. Maths Refreshers A, B and C would be very useful for people who have been away from maths for a while. Maths Refresher A (page 666) starts with recaps of things like percentages, summation...etc. Maths Refresher B (page 684) is a good section for probability. Maths Refresher C (page 714) is about statistics. All three of these chapters have more topics/theory than needed for this course so be selective with your reading. In general this is a great textbook for anyone wanting to explore the theory of the course in more detail.\n",
        "\n",
        "2. A-level/high school maths textbooks. The UK A-level maths textbooks explain this content from an introductory level. [Edexcel A-Level Maths Old-spec S1:](https://app.box.com/s/amidflaiy8mt2b19uxre6k59mjdfsuhg) Good for the basics. Probability, discrete random variables, normal distributions. [Edexcel A-Level Maths Old-spec S2:](https://app.box.com/s/nl94ctzktuhqofd0gngh6339oqvu85rk) Great for distributions, continuous random variables. [Edexcel A-Level Maths Old-spec S3 and S4:](https://www.aectutors.co.uk/resources/resources-maths-alevel-old-specs/maths-a-level-text-ebooks) You can download these from here though the online previews don't load for me. S3 is a good introduction to the central limit theorem and confidence intervals. S4 introduces the t-distribution and t-tests.\n",
        "\n",
        "3. The Fox textbook (available on the Canvas reading list) is also okay but mainly starts at regression (Week 3 onwards). Not fantastic for an introduction to statistical theory.\n",
        "___"
      ],
      "metadata": {
        "id": "Uu03A_0MG2pb"
      }
    },
    {
      "cell_type": "markdown",
      "source": [
        "### **Notebook Questions**\n",
        "\n",
        "In each subsection there is text, some code which is already filled in and then code or questions for you to answer at the end.\n",
        "\n",
        "Please work through each section. It's not a massively long notebook so worth doing it in detail."
      ],
      "metadata": {
        "id": "KgJSZgf-G6Nr"
      }
    },
    {
      "cell_type": "markdown",
      "source": [
        "As usual we will start by importing some useful libraries. Recall from the\n",
        "[previous\n",
        "notebook](https://github.com/Yushi-Y/AAS-ongoing-tutorials/tree/main/W1-Intro_to_Python)\n",
        "that it is good practise to import these packages with the standard\n",
        "abbreviations of their names."
      ],
      "metadata": {
        "id": "5vzhBZ2I_UFF"
      }
    },
    {
      "cell_type": "code",
      "execution_count": null,
      "metadata": {
        "id": "GQ4PO72tkQGY"
      },
      "outputs": [],
      "source": [
        "import pandas as pd\n",
        "import numpy as np\n",
        "import scipy.stats as stats\n",
        "import matplotlib.pyplot as plt\n",
        "%config InlineBackend.figure_format = 'svg' # format images as svgs (higher quality)"
      ]
    },
    {
      "cell_type": "markdown",
      "metadata": {
        "id": "kYNObWr1kQGc"
      },
      "source": [
        "## **Probability Review**\n"
      ]
    },
    {
      "cell_type": "markdown",
      "metadata": {
        "id": "aLW_CD1ykQGd"
      },
      "source": [
        "This section is a brief review of probability as a way to work towards the central limit theorem."
      ]
    },
    {
      "cell_type": "markdown",
      "metadata": {
        "id": "xLAMD8JpkQGd"
      },
      "source": [
        "### Expected Value"
      ]
    },
    {
      "cell_type": "markdown",
      "metadata": {
        "id": "jIcZ-4MfkQGe"
      },
      "source": [
        "For a real-valued random variable, the expected value is the average of the possible outcomes weighted by the respective probabilities of occurring. See the lecture notes for more explanation on this."
      ]
    },
    {
      "cell_type": "markdown",
      "metadata": {
        "id": "FmGKx_RLkQGf"
      },
      "source": [
        "### Question 1:\n",
        "\n",
        "Define a random variable X as follows: you roll a fair six-sided die until a six is rolled, X is the total number of rolls required to get a six (inclusive of the final roll). What is the expected value of X?\n",
        "\n",
        "We have answered this question mathematically below. Simulate this procedure and show the result with a chart to verify the math is correct."
      ]
    },
    {
      "cell_type": "markdown",
      "metadata": {
        "id": "_KikBrsZkQGg"
      },
      "source": [
        "### Mathematical Answer\n",
        "\n",
        "The expected value is given by the summation over all possible values of X multiplied by their probabilites:\n",
        "\n",
        "$\\mathbb{E}(X) = \\sum_{i=1}^{\\infty}i*P(X=i)$\n",
        "\n",
        "For a fair die, the probability $P(X=i) = \\frac{5}{6}^{i-1}*\\frac{1}{6}$.\n",
        "\n",
        "i.e. you have $i-1$ rolls which are not a six and then get a six.\n",
        "\n",
        "The summation is then:\n",
        "\n",
        "$\\mathbb{E}(X) = \\sum_{i=1}^{\\infty}i*\\frac{5}{6}^{i-1}*\\frac{1}{6} $\n",
        "\n",
        "$= 1*\\frac{5}{6}^{0}*\\frac{1}{6} + 2*\\frac{5}{6}^{1}*\\frac{1}{6} + 3*\\frac{5}{6}^{2}*\\frac{1}{6} ... $\n",
        "\n",
        "This is an infinite geometric series. Recall that a geometric series is a series such that each term of the summation is equal to the previous term times some ratio $r$,\n",
        "\n",
        "$a + ar + ar^2 + ar^3...$\n",
        "\n",
        "and the sum of an infinite geometric series is $\\frac{a}{1-r}$.\n",
        "\n",
        "We can observe that this is a sum of several geometric series with $r=\\frac{5}{6}$:\n",
        "\n",
        "$\\frac{5}{6}^{0}*\\frac{1}{6} + 2*\\frac{5}{6}^{1}*\\frac{1}{6} + 3*\\frac{5}{6}^{2}*\\frac{1}{6}... = $\n",
        "\n",
        "$\\frac{5}{6}^{0}*\\frac{1}{6} + \\quad  \\frac{5}{6}^{1}*\\frac{1}{6}  + \\quad \\frac{5}{6}^{2}*\\frac{1}{6}...$\n",
        "\n",
        "$\\qquad \\quad + \\quad  \\frac{5}{6}^{1}*\\frac{1}{6} + \\quad \\frac{5}{6}^{2}*\\frac{1}{6}...$\n",
        "\n",
        "$\\qquad \\quad + \\qquad  \\qquad + \\quad \\frac{5}{6}^{2}*\\frac{1}{6}...$\n",
        "\n",
        "The sum of each series is $\\frac{a}{1-r}$ where $a$ is the first term, so this is equivalent to:\n",
        "\n",
        "$\\frac{\\frac{1}{6}}{1-\\frac{5}{6}} + \\frac{\\frac{5}{36}}{1-\\frac{5}{6}} + \\frac{\\frac{25}{216}}{1-\\frac{5}{6}}...$\n",
        "\n",
        "$ = 1 + \\frac{5}{6} + \\frac{25}{36}...$\n",
        "\n",
        "Which is itself a geometric series:\n",
        "\n",
        "$\\sum_{i=1}^{\\infty}\\frac{5}{6}^i = \\frac{1}{1-\\frac{5}{6}} = 6$\n",
        "\n",
        "Therefore, $\\mathbb{E}(X) = 6$\n",
        "\n",
        "\n",
        "**NOTE:** As a shortcut, you could have noticed that this is one of the definitions of a geometric random variable and looked up the mean to find that it is $\\frac{1}{p}$\n",
        "\n",
        "\n"
      ]
    },
    {
      "cell_type": "markdown",
      "metadata": {
        "id": "zvDAQ4tjkQGh"
      },
      "source": [
        "### Monte Carlo Approach\n",
        "The Monte Carlo approach is a method of getting to the answer by simulating reality ([Wikipedia](https://en.wikipedia.org/wiki/Monte_Carlo_method)). It's generally used in siutations where determining the answer to a problem is mathematically difficult or even impossible. To overcome this, the user simulates the real world enviornment and runs a large number of repeats. The mean result gives an estimation for the answer.\n",
        "\n",
        "In this example, write a set of code to model the world described. Perhaps you need a function to model rolling a dice. Then, maybe a function to count the number of rolls until a 6...etc. With the real world modelled you should then repeat these functions many times. This can be hundreds, thoudands, tens of thousands... the more the better as it will reduce your sample error (in general Monte Carlo simulations you are limited by the time your code takes to run).\n",
        "\n",
        "From the repeats then calculate the empirical mean, which, given the set up and large number of repeats, should be close to the true mean.\n"
      ]
    },
    {
      "cell_type": "code",
      "execution_count": null,
      "metadata": {
        "id": "V-dYe-4-kQGi"
      },
      "outputs": [],
      "source": [
        "# Code..."
      ]
    },
    {
      "cell_type": "markdown",
      "source": [
        "### Extension Question (Harder)"
      ],
      "metadata": {
        "id": "5NJLLWJ6RPwK"
      }
    },
    {
      "cell_type": "markdown",
      "source": [
        "Only do this if you've completed everything else and want to explore this topic further.\n",
        "\n",
        "The Monty Hall problem is a famous problem of conditional probability which some of you might have come across before ([Wikipedia](https://en.wikipedia.org/wiki/Monty_Hall_problem)). The original question is as follows:\n",
        "\n",
        "*Suppose you're on a game show, and you're given the choice of three doors: Behind one door is a car; behind the others, goats. You pick a door, say No. 1, and the host, who knows what's behind the doors, opens another door, say No. 3, which has a goat. He then says to you, \"Do you want to pick door No. 2?\" Is it to your advantage to switch your choice?*\n",
        "\n",
        "The answer feels non-intuitive when you first see the problem and confused many mathematicians. Famously, when the answer was printed in a newspaper, thousands of PhD students and academics wrote in to say that the answer was wrong (it was not). [Erdos](https://en.wikipedia.org/wiki/Paul_Erdős), a prominent mathematician remained unconvinced of the answer until he saw a computer simulation.\n",
        "\n",
        "Create a simulation of this problem in the same way as the last problem then use a Monte Carlo method to show that the probabilities originally printed in the newspaper are correct.\n"
      ],
      "metadata": {
        "id": "oq0gg6OTRPcC"
      }
    },
    {
      "cell_type": "code",
      "source": [
        "# Code..."
      ],
      "metadata": {
        "id": "xIjFYLNhRN2b"
      },
      "execution_count": null,
      "outputs": []
    },
    {
      "cell_type": "markdown",
      "source": [
        "## **Central Limit Theorem: Motivating Example**\n"
      ],
      "metadata": {
        "id": "_K7HEqNC_h64"
      }
    },
    {
      "cell_type": "markdown",
      "metadata": {
        "id": "0MeahovKkQGi"
      },
      "source": [
        "Arguably the most important theorem in statistics. The central limit theorem (CLT) underpins many of the results in the topics we will learn about in future weeks. One of my old statistics tutors described the result as the most beautiful thing humanity had ever discovered. This might be a bit of a stretch but it is certainly a remarkable result. **It is worth investing time to understand this.**\n",
        "\n",
        "The CLT tells us about the distribution of the sample mean as the number of observations grows. As mentioned, a lot of results in statistics rely on\n",
        "the CLT, so it is worth getting familiar with the details. There are some\n",
        "conditions that need to be satisfied for the CLT to hold, for example, we will\n",
        "usually want to know that the samples are independent and identically\n",
        "distributed (IID) and that they are drawn from a distribution with a finite\n",
        "variance.\n",
        "\n",
        "### CLT: Motivating example\n",
        "\n",
        "### Question 2 (unanswered questions at the end of the section)\n",
        "\n",
        "Write the following functions:\n",
        "\n",
        "1. A function called `rand_exp_mean` which takes a number, `n`, and a rate,\n",
        "   `lam` and returns the sample average of `n` exponentially distributed (with\n",
        "   rate `lam`) random variables. Note this should return a different value each\n",
        "   time you call it since it is a random function. `n` is the number of draws from the distribution in each sample mean.\n",
        "2. A function called `rand_sample_means` which takes a number, `n` and a rate,\n",
        "   `lam` and returns an array with 1000 evaluations of the function call\n",
        "   `rand_exp_mean(n, lam)`. Note that a list comprehension may help here.\n",
        "\n",
        "### Answer"
      ]
    },
    {
      "cell_type": "code",
      "execution_count": null,
      "metadata": {
        "id": "dRgAliZBkQGj"
      },
      "outputs": [],
      "source": [
        "def rand_exp_mean(n, lam):\n",
        "    return stats.expon.rvs(scale = 1/lam, size = n).mean()\n",
        "\n",
        "def rand_sample_means(n, lam):\n",
        "    return np.array([rand_exp_mean(n, lam) for _ in range(1000)])"
      ]
    },
    {
      "cell_type": "markdown",
      "metadata": {
        "id": "V4JW3IM6kQGk"
      },
      "source": [
        "Next, make a histogram of the values from `rand_sample_means` in the question above with `lam=0.2` and `n=5`. On top of this, plot the probability density function of a normal distribution with mean $5$ and standard deviation $5 / \\sqrt{5}$. Keep in mind that `5` is a low number number of draws for each sample.\n",
        "\n",
        "Create a new plot where you repeat this process with `n=100` and with a normal distribution with standard deviation $5 / \\sqrt{100}$. `100` is a relatively high number of draws for each sample. What do you notice?\n",
        "\n",
        "### Answer\n",
        "\n",
        "First the plot with `n=5`"
      ]
    },
    {
      "cell_type": "code",
      "execution_count": null,
      "metadata": {
        "id": "I-cHZLaYkQGl",
        "outputId": "eca8adfc-079b-400d-a928-9d05d81a79fb",
        "colab": {
          "base_uri": "https://localhost:8080/",
          "height": 420
        }
      },
      "outputs": [
        {
          "output_type": "display_data",
          "data": {
            "text/plain": [
              "<Figure size 640x480 with 1 Axes>"
            ],
            "image/svg+xml": "<?xml version=\"1.0\" encoding=\"utf-8\" standalone=\"no\"?>\n<!DOCTYPE svg PUBLIC \"-//W3C//DTD SVG 1.1//EN\"\n  \"http://www.w3.org/Graphics/SVG/1.1/DTD/svg11.dtd\">\n<svg xmlns:xlink=\"http://www.w3.org/1999/xlink\" width=\"407.148125pt\" height=\"299.598198pt\" viewBox=\"0 0 407.148125 299.598198\" xmlns=\"http://www.w3.org/2000/svg\" version=\"1.1\">\n <metadata>\n  <rdf:RDF xmlns:dc=\"http://purl.org/dc/elements/1.1/\" xmlns:cc=\"http://creativecommons.org/ns#\" xmlns:rdf=\"http://www.w3.org/1999/02/22-rdf-syntax-ns#\">\n   <cc:Work>\n    <dc:type rdf:resource=\"http://purl.org/dc/dcmitype/StillImage\"/>\n    <dc:date>2023-10-18T13:28:20.237570</dc:date>\n    <dc:format>image/svg+xml</dc:format>\n    <dc:creator>\n     <cc:Agent>\n      <dc:title>Matplotlib v3.7.1, https://matplotlib.org/</dc:title>\n     </cc:Agent>\n    </dc:creator>\n   </cc:Work>\n  </rdf:RDF>\n </metadata>\n <defs>\n  <style type=\"text/css\">*{stroke-linejoin: round; stroke-linecap: butt}</style>\n </defs>\n <g id=\"figure_1\">\n  <g id=\"patch_1\">\n   <path d=\"M 0 299.598198 \nL 407.148125 299.598198 \nL 407.148125 0 \nL 0 0 \nz\n\" style=\"fill: #ffffff\"/>\n  </g>\n  <g id=\"axes_1\">\n   <g id=\"patch_2\">\n    <path d=\"M 42.828125 275.720073 \nL 399.948125 275.720073 \nL 399.948125 9.608073 \nL 42.828125 9.608073 \nz\n\" style=\"fill: #ffffff\"/>\n   </g>\n   <g id=\"patch_3\">\n    <path d=\"M 59.060852 275.720073 \nL 91.526307 275.720073 \nL 91.526307 197.421537 \nL 59.060852 197.421537 \nz\n\" clip-path=\"url(#p2347f97a30)\" style=\"fill: #1f77b4\"/>\n   </g>\n   <g id=\"patch_4\">\n    <path d=\"M 91.526307 275.720073 \nL 123.991761 275.720073 \nL 123.991761 59.368854 \nL 91.526307 59.368854 \nz\n\" clip-path=\"url(#p2347f97a30)\" style=\"fill: #1f77b4\"/>\n   </g>\n   <g id=\"patch_5\">\n    <path d=\"M 123.991761 275.720073 \nL 156.457216 275.720073 \nL 156.457216 22.280073 \nL 123.991761 22.280073 \nz\n\" clip-path=\"url(#p2347f97a30)\" style=\"fill: #1f77b4\"/>\n   </g>\n   <g id=\"patch_6\">\n    <path d=\"M 156.457216 275.720073 \nL 188.92267 275.720073 \nL 188.92267 64.520073 \nL 156.457216 64.520073 \nz\n\" clip-path=\"url(#p2347f97a30)\" style=\"fill: #1f77b4\"/>\n   </g>\n   <g id=\"patch_7\">\n    <path d=\"M 188.92267 275.720073 \nL 221.388125 275.720073 \nL 221.388125 147.969829 \nL 188.92267 147.969829 \nz\n\" clip-path=\"url(#p2347f97a30)\" style=\"fill: #1f77b4\"/>\n   </g>\n   <g id=\"patch_8\">\n    <path d=\"M 221.388125 275.720073 \nL 253.85358 275.720073 \nL 253.85358 204.633244 \nL 221.388125 204.633244 \nz\n\" clip-path=\"url(#p2347f97a30)\" style=\"fill: #1f77b4\"/>\n   </g>\n   <g id=\"patch_9\">\n    <path d=\"M 253.85358 275.720073 \nL 286.319034 275.720073 \nL 286.319034 235.540561 \nL 253.85358 235.540561 \nz\n\" clip-path=\"url(#p2347f97a30)\" style=\"fill: #1f77b4\"/>\n   </g>\n   <g id=\"patch_10\">\n    <path d=\"M 286.319034 275.720073 \nL 318.784489 275.720073 \nL 318.784489 256.145439 \nL 286.319034 256.145439 \nz\n\" clip-path=\"url(#p2347f97a30)\" style=\"fill: #1f77b4\"/>\n   </g>\n   <g id=\"patch_11\">\n    <path d=\"M 318.784489 275.720073 \nL 351.249943 275.720073 \nL 351.249943 269.53861 \nL 318.784489 269.53861 \nz\n\" clip-path=\"url(#p2347f97a30)\" style=\"fill: #1f77b4\"/>\n   </g>\n   <g id=\"patch_12\">\n    <path d=\"M 351.249943 275.720073 \nL 383.715398 275.720073 \nL 383.715398 269.53861 \nL 351.249943 269.53861 \nz\n\" clip-path=\"url(#p2347f97a30)\" style=\"fill: #1f77b4\"/>\n   </g>\n   <g id=\"matplotlib.axis_1\">\n    <g id=\"xtick_1\">\n     <g id=\"line2d_1\">\n      <defs>\n       <path id=\"m28150afcfd\" d=\"M 0 0 \nL 0 3.5 \n\" style=\"stroke: #000000; stroke-width: 0.8\"/>\n      </defs>\n      <g>\n       <use xlink:href=\"#m28150afcfd\" x=\"86.304672\" y=\"275.720073\" style=\"stroke: #000000; stroke-width: 0.8\"/>\n      </g>\n     </g>\n     <g id=\"text_1\">\n      <!-- 2 -->\n      <g transform=\"translate(83.123422 290.318511) scale(0.1 -0.1)\">\n       <defs>\n        <path id=\"DejaVuSans-32\" d=\"M 1228 531 \nL 3431 531 \nL 3431 0 \nL 469 0 \nL 469 531 \nQ 828 903 1448 1529 \nQ 2069 2156 2228 2338 \nQ 2531 2678 2651 2914 \nQ 2772 3150 2772 3378 \nQ 2772 3750 2511 3984 \nQ 2250 4219 1831 4219 \nQ 1534 4219 1204 4116 \nQ 875 4013 500 3803 \nL 500 4441 \nQ 881 4594 1212 4672 \nQ 1544 4750 1819 4750 \nQ 2544 4750 2975 4387 \nQ 3406 4025 3406 3419 \nQ 3406 3131 3298 2873 \nQ 3191 2616 2906 2266 \nQ 2828 2175 2409 1742 \nQ 1991 1309 1228 531 \nz\n\" transform=\"scale(0.015625)\"/>\n       </defs>\n       <use xlink:href=\"#DejaVuSans-32\"/>\n      </g>\n     </g>\n    </g>\n    <g id=\"xtick_2\">\n     <g id=\"line2d_2\">\n      <g>\n       <use xlink:href=\"#m28150afcfd\" x=\"136.844455\" y=\"275.720073\" style=\"stroke: #000000; stroke-width: 0.8\"/>\n      </g>\n     </g>\n     <g id=\"text_2\">\n      <!-- 4 -->\n      <g transform=\"translate(133.663205 290.318511) scale(0.1 -0.1)\">\n       <defs>\n        <path id=\"DejaVuSans-34\" d=\"M 2419 4116 \nL 825 1625 \nL 2419 1625 \nL 2419 4116 \nz\nM 2253 4666 \nL 3047 4666 \nL 3047 1625 \nL 3713 1625 \nL 3713 1100 \nL 3047 1100 \nL 3047 0 \nL 2419 0 \nL 2419 1100 \nL 313 1100 \nL 313 1709 \nL 2253 4666 \nz\n\" transform=\"scale(0.015625)\"/>\n       </defs>\n       <use xlink:href=\"#DejaVuSans-34\"/>\n      </g>\n     </g>\n    </g>\n    <g id=\"xtick_3\">\n     <g id=\"line2d_3\">\n      <g>\n       <use xlink:href=\"#m28150afcfd\" x=\"187.384239\" y=\"275.720073\" style=\"stroke: #000000; stroke-width: 0.8\"/>\n      </g>\n     </g>\n     <g id=\"text_3\">\n      <!-- 6 -->\n      <g transform=\"translate(184.202989 290.318511) scale(0.1 -0.1)\">\n       <defs>\n        <path id=\"DejaVuSans-36\" d=\"M 2113 2584 \nQ 1688 2584 1439 2293 \nQ 1191 2003 1191 1497 \nQ 1191 994 1439 701 \nQ 1688 409 2113 409 \nQ 2538 409 2786 701 \nQ 3034 994 3034 1497 \nQ 3034 2003 2786 2293 \nQ 2538 2584 2113 2584 \nz\nM 3366 4563 \nL 3366 3988 \nQ 3128 4100 2886 4159 \nQ 2644 4219 2406 4219 \nQ 1781 4219 1451 3797 \nQ 1122 3375 1075 2522 \nQ 1259 2794 1537 2939 \nQ 1816 3084 2150 3084 \nQ 2853 3084 3261 2657 \nQ 3669 2231 3669 1497 \nQ 3669 778 3244 343 \nQ 2819 -91 2113 -91 \nQ 1303 -91 875 529 \nQ 447 1150 447 2328 \nQ 447 3434 972 4092 \nQ 1497 4750 2381 4750 \nQ 2619 4750 2861 4703 \nQ 3103 4656 3366 4563 \nz\n\" transform=\"scale(0.015625)\"/>\n       </defs>\n       <use xlink:href=\"#DejaVuSans-36\"/>\n      </g>\n     </g>\n    </g>\n    <g id=\"xtick_4\">\n     <g id=\"line2d_4\">\n      <g>\n       <use xlink:href=\"#m28150afcfd\" x=\"237.924022\" y=\"275.720073\" style=\"stroke: #000000; stroke-width: 0.8\"/>\n      </g>\n     </g>\n     <g id=\"text_4\">\n      <!-- 8 -->\n      <g transform=\"translate(234.742772 290.318511) scale(0.1 -0.1)\">\n       <defs>\n        <path id=\"DejaVuSans-38\" d=\"M 2034 2216 \nQ 1584 2216 1326 1975 \nQ 1069 1734 1069 1313 \nQ 1069 891 1326 650 \nQ 1584 409 2034 409 \nQ 2484 409 2743 651 \nQ 3003 894 3003 1313 \nQ 3003 1734 2745 1975 \nQ 2488 2216 2034 2216 \nz\nM 1403 2484 \nQ 997 2584 770 2862 \nQ 544 3141 544 3541 \nQ 544 4100 942 4425 \nQ 1341 4750 2034 4750 \nQ 2731 4750 3128 4425 \nQ 3525 4100 3525 3541 \nQ 3525 3141 3298 2862 \nQ 3072 2584 2669 2484 \nQ 3125 2378 3379 2068 \nQ 3634 1759 3634 1313 \nQ 3634 634 3220 271 \nQ 2806 -91 2034 -91 \nQ 1263 -91 848 271 \nQ 434 634 434 1313 \nQ 434 1759 690 2068 \nQ 947 2378 1403 2484 \nz\nM 1172 3481 \nQ 1172 3119 1398 2916 \nQ 1625 2713 2034 2713 \nQ 2441 2713 2670 2916 \nQ 2900 3119 2900 3481 \nQ 2900 3844 2670 4047 \nQ 2441 4250 2034 4250 \nQ 1625 4250 1398 4047 \nQ 1172 3844 1172 3481 \nz\n\" transform=\"scale(0.015625)\"/>\n       </defs>\n       <use xlink:href=\"#DejaVuSans-38\"/>\n      </g>\n     </g>\n    </g>\n    <g id=\"xtick_5\">\n     <g id=\"line2d_5\">\n      <g>\n       <use xlink:href=\"#m28150afcfd\" x=\"288.463805\" y=\"275.720073\" style=\"stroke: #000000; stroke-width: 0.8\"/>\n      </g>\n     </g>\n     <g id=\"text_5\">\n      <!-- 10 -->\n      <g transform=\"translate(282.101305 290.318511) scale(0.1 -0.1)\">\n       <defs>\n        <path id=\"DejaVuSans-31\" d=\"M 794 531 \nL 1825 531 \nL 1825 4091 \nL 703 3866 \nL 703 4441 \nL 1819 4666 \nL 2450 4666 \nL 2450 531 \nL 3481 531 \nL 3481 0 \nL 794 0 \nL 794 531 \nz\n\" transform=\"scale(0.015625)\"/>\n        <path id=\"DejaVuSans-30\" d=\"M 2034 4250 \nQ 1547 4250 1301 3770 \nQ 1056 3291 1056 2328 \nQ 1056 1369 1301 889 \nQ 1547 409 2034 409 \nQ 2525 409 2770 889 \nQ 3016 1369 3016 2328 \nQ 3016 3291 2770 3770 \nQ 2525 4250 2034 4250 \nz\nM 2034 4750 \nQ 2819 4750 3233 4129 \nQ 3647 3509 3647 2328 \nQ 3647 1150 3233 529 \nQ 2819 -91 2034 -91 \nQ 1250 -91 836 529 \nQ 422 1150 422 2328 \nQ 422 3509 836 4129 \nQ 1250 4750 2034 4750 \nz\n\" transform=\"scale(0.015625)\"/>\n       </defs>\n       <use xlink:href=\"#DejaVuSans-31\"/>\n       <use xlink:href=\"#DejaVuSans-30\" x=\"63.623047\"/>\n      </g>\n     </g>\n    </g>\n    <g id=\"xtick_6\">\n     <g id=\"line2d_6\">\n      <g>\n       <use xlink:href=\"#m28150afcfd\" x=\"339.003589\" y=\"275.720073\" style=\"stroke: #000000; stroke-width: 0.8\"/>\n      </g>\n     </g>\n     <g id=\"text_6\">\n      <!-- 12 -->\n      <g transform=\"translate(332.641089 290.318511) scale(0.1 -0.1)\">\n       <use xlink:href=\"#DejaVuSans-31\"/>\n       <use xlink:href=\"#DejaVuSans-32\" x=\"63.623047\"/>\n      </g>\n     </g>\n    </g>\n    <g id=\"xtick_7\">\n     <g id=\"line2d_7\">\n      <g>\n       <use xlink:href=\"#m28150afcfd\" x=\"389.543372\" y=\"275.720073\" style=\"stroke: #000000; stroke-width: 0.8\"/>\n      </g>\n     </g>\n     <g id=\"text_7\">\n      <!-- 14 -->\n      <g transform=\"translate(383.180872 290.318511) scale(0.1 -0.1)\">\n       <use xlink:href=\"#DejaVuSans-31\"/>\n       <use xlink:href=\"#DejaVuSans-34\" x=\"63.623047\"/>\n      </g>\n     </g>\n    </g>\n   </g>\n   <g id=\"matplotlib.axis_2\">\n    <g id=\"ytick_1\">\n     <g id=\"line2d_8\">\n      <defs>\n       <path id=\"mfccb1e3227\" d=\"M 0 0 \nL -3.5 0 \n\" style=\"stroke: #000000; stroke-width: 0.8\"/>\n      </defs>\n      <g>\n       <use xlink:href=\"#mfccb1e3227\" x=\"42.828125\" y=\"275.720073\" style=\"stroke: #000000; stroke-width: 0.8\"/>\n      </g>\n     </g>\n     <g id=\"text_8\">\n      <!-- 0.000 -->\n      <g transform=\"translate(7.2 279.519292) scale(0.1 -0.1)\">\n       <defs>\n        <path id=\"DejaVuSans-2e\" d=\"M 684 794 \nL 1344 794 \nL 1344 0 \nL 684 0 \nL 684 794 \nz\n\" transform=\"scale(0.015625)\"/>\n       </defs>\n       <use xlink:href=\"#DejaVuSans-30\"/>\n       <use xlink:href=\"#DejaVuSans-2e\" x=\"63.623047\"/>\n       <use xlink:href=\"#DejaVuSans-30\" x=\"95.410156\"/>\n       <use xlink:href=\"#DejaVuSans-30\" x=\"159.033203\"/>\n       <use xlink:href=\"#DejaVuSans-30\" x=\"222.65625\"/>\n      </g>\n     </g>\n    </g>\n    <g id=\"ytick_2\">\n     <g id=\"line2d_9\">\n      <g>\n       <use xlink:href=\"#mfccb1e3227\" x=\"42.828125\" y=\"242.629966\" style=\"stroke: #000000; stroke-width: 0.8\"/>\n      </g>\n     </g>\n     <g id=\"text_9\">\n      <!-- 0.025 -->\n      <g transform=\"translate(7.2 246.429185) scale(0.1 -0.1)\">\n       <defs>\n        <path id=\"DejaVuSans-35\" d=\"M 691 4666 \nL 3169 4666 \nL 3169 4134 \nL 1269 4134 \nL 1269 2991 \nQ 1406 3038 1543 3061 \nQ 1681 3084 1819 3084 \nQ 2600 3084 3056 2656 \nQ 3513 2228 3513 1497 \nQ 3513 744 3044 326 \nQ 2575 -91 1722 -91 \nQ 1428 -91 1123 -41 \nQ 819 9 494 109 \nL 494 744 \nQ 775 591 1075 516 \nQ 1375 441 1709 441 \nQ 2250 441 2565 725 \nQ 2881 1009 2881 1497 \nQ 2881 1984 2565 2268 \nQ 2250 2553 1709 2553 \nQ 1456 2553 1204 2497 \nQ 953 2441 691 2322 \nL 691 4666 \nz\n\" transform=\"scale(0.015625)\"/>\n       </defs>\n       <use xlink:href=\"#DejaVuSans-30\"/>\n       <use xlink:href=\"#DejaVuSans-2e\" x=\"63.623047\"/>\n       <use xlink:href=\"#DejaVuSans-30\" x=\"95.410156\"/>\n       <use xlink:href=\"#DejaVuSans-32\" x=\"159.033203\"/>\n       <use xlink:href=\"#DejaVuSans-35\" x=\"222.65625\"/>\n      </g>\n     </g>\n    </g>\n    <g id=\"ytick_3\">\n     <g id=\"line2d_10\">\n      <g>\n       <use xlink:href=\"#mfccb1e3227\" x=\"42.828125\" y=\"209.53986\" style=\"stroke: #000000; stroke-width: 0.8\"/>\n      </g>\n     </g>\n     <g id=\"text_10\">\n      <!-- 0.050 -->\n      <g transform=\"translate(7.2 213.339078) scale(0.1 -0.1)\">\n       <use xlink:href=\"#DejaVuSans-30\"/>\n       <use xlink:href=\"#DejaVuSans-2e\" x=\"63.623047\"/>\n       <use xlink:href=\"#DejaVuSans-30\" x=\"95.410156\"/>\n       <use xlink:href=\"#DejaVuSans-35\" x=\"159.033203\"/>\n       <use xlink:href=\"#DejaVuSans-30\" x=\"222.65625\"/>\n      </g>\n     </g>\n    </g>\n    <g id=\"ytick_4\">\n     <g id=\"line2d_11\">\n      <g>\n       <use xlink:href=\"#mfccb1e3227\" x=\"42.828125\" y=\"176.449753\" style=\"stroke: #000000; stroke-width: 0.8\"/>\n      </g>\n     </g>\n     <g id=\"text_11\">\n      <!-- 0.075 -->\n      <g transform=\"translate(7.2 180.248972) scale(0.1 -0.1)\">\n       <defs>\n        <path id=\"DejaVuSans-37\" d=\"M 525 4666 \nL 3525 4666 \nL 3525 4397 \nL 1831 0 \nL 1172 0 \nL 2766 4134 \nL 525 4134 \nL 525 4666 \nz\n\" transform=\"scale(0.015625)\"/>\n       </defs>\n       <use xlink:href=\"#DejaVuSans-30\"/>\n       <use xlink:href=\"#DejaVuSans-2e\" x=\"63.623047\"/>\n       <use xlink:href=\"#DejaVuSans-30\" x=\"95.410156\"/>\n       <use xlink:href=\"#DejaVuSans-37\" x=\"159.033203\"/>\n       <use xlink:href=\"#DejaVuSans-35\" x=\"222.65625\"/>\n      </g>\n     </g>\n    </g>\n    <g id=\"ytick_5\">\n     <g id=\"line2d_12\">\n      <g>\n       <use xlink:href=\"#mfccb1e3227\" x=\"42.828125\" y=\"143.359646\" style=\"stroke: #000000; stroke-width: 0.8\"/>\n      </g>\n     </g>\n     <g id=\"text_12\">\n      <!-- 0.100 -->\n      <g transform=\"translate(7.2 147.158865) scale(0.1 -0.1)\">\n       <use xlink:href=\"#DejaVuSans-30\"/>\n       <use xlink:href=\"#DejaVuSans-2e\" x=\"63.623047\"/>\n       <use xlink:href=\"#DejaVuSans-31\" x=\"95.410156\"/>\n       <use xlink:href=\"#DejaVuSans-30\" x=\"159.033203\"/>\n       <use xlink:href=\"#DejaVuSans-30\" x=\"222.65625\"/>\n      </g>\n     </g>\n    </g>\n    <g id=\"ytick_6\">\n     <g id=\"line2d_13\">\n      <g>\n       <use xlink:href=\"#mfccb1e3227\" x=\"42.828125\" y=\"110.269539\" style=\"stroke: #000000; stroke-width: 0.8\"/>\n      </g>\n     </g>\n     <g id=\"text_13\">\n      <!-- 0.125 -->\n      <g transform=\"translate(7.2 114.068758) scale(0.1 -0.1)\">\n       <use xlink:href=\"#DejaVuSans-30\"/>\n       <use xlink:href=\"#DejaVuSans-2e\" x=\"63.623047\"/>\n       <use xlink:href=\"#DejaVuSans-31\" x=\"95.410156\"/>\n       <use xlink:href=\"#DejaVuSans-32\" x=\"159.033203\"/>\n       <use xlink:href=\"#DejaVuSans-35\" x=\"222.65625\"/>\n      </g>\n     </g>\n    </g>\n    <g id=\"ytick_7\">\n     <g id=\"line2d_14\">\n      <g>\n       <use xlink:href=\"#mfccb1e3227\" x=\"42.828125\" y=\"77.179432\" style=\"stroke: #000000; stroke-width: 0.8\"/>\n      </g>\n     </g>\n     <g id=\"text_14\">\n      <!-- 0.150 -->\n      <g transform=\"translate(7.2 80.978651) scale(0.1 -0.1)\">\n       <use xlink:href=\"#DejaVuSans-30\"/>\n       <use xlink:href=\"#DejaVuSans-2e\" x=\"63.623047\"/>\n       <use xlink:href=\"#DejaVuSans-31\" x=\"95.410156\"/>\n       <use xlink:href=\"#DejaVuSans-35\" x=\"159.033203\"/>\n       <use xlink:href=\"#DejaVuSans-30\" x=\"222.65625\"/>\n      </g>\n     </g>\n    </g>\n    <g id=\"ytick_8\">\n     <g id=\"line2d_15\">\n      <g>\n       <use xlink:href=\"#mfccb1e3227\" x=\"42.828125\" y=\"44.089326\" style=\"stroke: #000000; stroke-width: 0.8\"/>\n      </g>\n     </g>\n     <g id=\"text_15\">\n      <!-- 0.175 -->\n      <g transform=\"translate(7.2 47.888544) scale(0.1 -0.1)\">\n       <use xlink:href=\"#DejaVuSans-30\"/>\n       <use xlink:href=\"#DejaVuSans-2e\" x=\"63.623047\"/>\n       <use xlink:href=\"#DejaVuSans-31\" x=\"95.410156\"/>\n       <use xlink:href=\"#DejaVuSans-37\" x=\"159.033203\"/>\n       <use xlink:href=\"#DejaVuSans-35\" x=\"222.65625\"/>\n      </g>\n     </g>\n    </g>\n    <g id=\"ytick_9\">\n     <g id=\"line2d_16\">\n      <g>\n       <use xlink:href=\"#mfccb1e3227\" x=\"42.828125\" y=\"10.999219\" style=\"stroke: #000000; stroke-width: 0.8\"/>\n      </g>\n     </g>\n     <g id=\"text_16\">\n      <!-- 0.200 -->\n      <g transform=\"translate(7.2 14.798438) scale(0.1 -0.1)\">\n       <use xlink:href=\"#DejaVuSans-30\"/>\n       <use xlink:href=\"#DejaVuSans-2e\" x=\"63.623047\"/>\n       <use xlink:href=\"#DejaVuSans-32\" x=\"95.410156\"/>\n       <use xlink:href=\"#DejaVuSans-30\" x=\"159.033203\"/>\n       <use xlink:href=\"#DejaVuSans-30\" x=\"222.65625\"/>\n      </g>\n     </g>\n    </g>\n   </g>\n   <g id=\"line2d_17\">\n    <path d=\"M 59.060852 230.958274 \nL 62.340191 226.044345 \nL 65.61953 220.77634 \nL 68.898869 215.154015 \nL 72.178208 209.180859 \nL 75.457546 202.864423 \nL 78.736885 196.216613 \nL 82.016224 189.25394 \nL 85.295563 181.997703 \nL 88.574902 174.474114 \nL 91.854241 166.714336 \nL 95.13358 158.754453 \nL 98.412918 150.635338 \nL 101.692257 142.402433 \nL 104.971596 134.105438 \nL 108.250935 125.797898 \nL 111.530274 117.536702 \nL 114.809613 109.381491 \nL 118.088951 101.393986 \nL 121.36829 93.637248 \nL 124.647629 86.174869 \nL 127.926968 79.070126 \nL 131.206307 72.385099 \nL 134.485646 66.179778 \nL 137.764985 60.511171 \nL 141.044323 55.432432 \nL 144.323662 50.992042 \nL 147.603001 47.23303 \nL 150.88234 44.192284 \nL 154.161679 41.899948 \nL 157.441018 40.378925 \nL 160.720356 39.644494 \nL 163.999695 39.704056 \nL 167.279034 40.557012 \nL 170.558373 42.194767 \nL 173.837712 44.600881 \nL 177.117051 47.751339 \nL 180.396389 51.614951 \nL 183.675728 56.15387 \nL 186.955067 61.324202 \nL 190.234406 67.076717 \nL 193.513745 73.357628 \nL 196.793084 80.109425 \nL 200.072423 87.271747 \nL 203.351761 94.782279 \nL 206.6311 102.577641 \nL 209.910439 110.594266 \nL 213.189778 118.769246 \nL 216.469117 127.041125 \nL 219.748456 135.350633 \nL 223.027794 143.641346 \nL 226.307133 151.860267 \nL 229.586472 159.95831 \nL 232.865811 167.890699 \nL 236.14515 175.617267 \nL 239.424489 183.102662 \nL 242.703827 190.316461 \nL 245.983166 197.233194 \nL 249.262505 203.83229 \nL 252.541844 210.09794 \nL 255.821183 216.018908 \nL 259.100522 221.58827 \nL 262.379861 226.803121 \nL 265.659199 231.664231 \nL 268.938538 236.175687 \nL 272.217877 240.344508 \nL 275.497216 244.180257 \nL 278.776555 247.694653 \nL 282.055894 250.901185 \nL 285.335232 253.814746 \nL 288.614571 256.451286 \nL 291.89391 258.827484 \nL 295.173249 260.96045 \nL 298.452588 262.867457 \nL 301.731927 264.565703 \nL 305.011265 266.072107 \nL 308.290604 267.403131 \nL 311.569943 268.574636 \nL 314.849282 269.601767 \nL 318.128621 270.498868 \nL 321.40796 271.279413 \nL 324.687299 271.95597 \nL 327.966637 272.540178 \nL 331.245976 273.042747 \nL 334.525315 273.473467 \nL 337.804654 273.841233 \nL 341.083993 274.15408 \nL 344.363332 274.419224 \nL 347.64267 274.643108 \nL 350.922009 274.831459 \nL 354.201348 274.989334 \nL 357.480687 275.121181 \nL 360.760026 275.23089 \nL 364.039365 275.321845 \nL 367.318704 275.396978 \nL 370.598042 275.458818 \nL 373.877381 275.509532 \nL 377.15672 275.550972 \nL 380.436059 275.584712 \nL 383.715398 275.612085 \n\" clip-path=\"url(#p2347f97a30)\" style=\"fill: none; stroke: #ff7f0e; stroke-width: 1.5; stroke-linecap: square\"/>\n   </g>\n   <g id=\"patch_13\">\n    <path d=\"M 42.828125 275.720073 \nL 42.828125 9.608073 \n\" style=\"fill: none; stroke: #000000; stroke-width: 0.8; stroke-linejoin: miter; stroke-linecap: square\"/>\n   </g>\n   <g id=\"patch_14\">\n    <path d=\"M 399.948125 275.720073 \nL 399.948125 9.608073 \n\" style=\"fill: none; stroke: #000000; stroke-width: 0.8; stroke-linejoin: miter; stroke-linecap: square\"/>\n   </g>\n   <g id=\"patch_15\">\n    <path d=\"M 42.828125 275.720073 \nL 399.948125 275.720073 \n\" style=\"fill: none; stroke: #000000; stroke-width: 0.8; stroke-linejoin: miter; stroke-linecap: square\"/>\n   </g>\n   <g id=\"patch_16\">\n    <path d=\"M 42.828125 9.608073 \nL 399.948125 9.608073 \n\" style=\"fill: none; stroke: #000000; stroke-width: 0.8; stroke-linejoin: miter; stroke-linecap: square\"/>\n   </g>\n  </g>\n </g>\n <defs>\n  <clipPath id=\"p2347f97a30\">\n   <rect x=\"42.828125\" y=\"9.608073\" width=\"357.12\" height=\"266.112\"/>\n  </clipPath>\n </defs>\n</svg>\n"
          },
          "metadata": {}
        }
      ],
      "source": [
        "n = 5\n",
        "\n",
        "# Generate 1000 values from your random sample means function (each sample mean is the mean of n draws)\n",
        "rand_sms = rand_sample_means(n, 0.2)\n",
        "\n",
        "# Use the linspace function from numpy and the stats.norm.pdf function to generate x and y coordinates of a normal distribution\n",
        "clt_xs = np.linspace(rand_sms.min(), rand_sms.max(), num=100)\n",
        "clt_ys = stats.norm.pdf(clt_xs, loc=5, scale=5/np.sqrt(n))\n",
        "\n",
        "# Plot everything up using matplotlib\n",
        "plt.figure()\n",
        "plt.hist(rand_sms, density=True)\n",
        "plt.plot(clt_xs, clt_ys)\n",
        "plt.show()"
      ]
    },
    {
      "cell_type": "markdown",
      "metadata": {
        "id": "oUtJfR8HkQGm"
      },
      "source": [
        "Then the plot with `n=100`. Repeat. Your function still generates 1000 sample means but each sample mean is the mean of 100 draws from the distribution."
      ]
    },
    {
      "cell_type": "code",
      "execution_count": null,
      "metadata": {
        "id": "wKnJHcXMkQGn",
        "outputId": "799be1ed-4186-4434-c4a8-c4edff6e24b3",
        "colab": {
          "base_uri": "https://localhost:8080/",
          "height": 416
        }
      },
      "outputs": [
        {
          "output_type": "display_data",
          "data": {
            "text/plain": [
              "<Figure size 640x480 with 1 Axes>"
            ],
            "image/svg+xml": "<?xml version=\"1.0\" encoding=\"utf-8\" standalone=\"no\"?>\n<!DOCTYPE svg PUBLIC \"-//W3C//DTD SVG 1.1//EN\"\n  \"http://www.w3.org/Graphics/SVG/1.1/DTD/svg11.dtd\">\n<svg xmlns:xlink=\"http://www.w3.org/1999/xlink\" width=\"394.423125pt\" height=\"297.190125pt\" viewBox=\"0 0 394.423125 297.190125\" xmlns=\"http://www.w3.org/2000/svg\" version=\"1.1\">\n <metadata>\n  <rdf:RDF xmlns:dc=\"http://purl.org/dc/elements/1.1/\" xmlns:cc=\"http://creativecommons.org/ns#\" xmlns:rdf=\"http://www.w3.org/1999/02/22-rdf-syntax-ns#\">\n   <cc:Work>\n    <dc:type rdf:resource=\"http://purl.org/dc/dcmitype/StillImage\"/>\n    <dc:date>2023-10-18T13:28:54.377340</dc:date>\n    <dc:format>image/svg+xml</dc:format>\n    <dc:creator>\n     <cc:Agent>\n      <dc:title>Matplotlib v3.7.1, https://matplotlib.org/</dc:title>\n     </cc:Agent>\n    </dc:creator>\n   </cc:Work>\n  </rdf:RDF>\n </metadata>\n <defs>\n  <style type=\"text/css\">*{stroke-linejoin: round; stroke-linecap: butt}</style>\n </defs>\n <g id=\"figure_1\">\n  <g id=\"patch_1\">\n   <path d=\"M 0 297.190125 \nL 394.423125 297.190125 \nL 394.423125 0 \nL 0 0 \nz\n\" style=\"fill: #ffffff\"/>\n  </g>\n  <g id=\"axes_1\">\n   <g id=\"patch_2\">\n    <path d=\"M 30.103125 273.312 \nL 387.223125 273.312 \nL 387.223125 7.2 \nL 30.103125 7.2 \nz\n\" style=\"fill: #ffffff\"/>\n   </g>\n   <g id=\"patch_3\">\n    <path d=\"M 46.335852 273.312 \nL 78.801307 273.312 \nL 78.801307 264.128641 \nL 46.335852 264.128641 \nz\n\" clip-path=\"url(#pe015b7aa36)\" style=\"fill: #1f77b4\"/>\n   </g>\n   <g id=\"patch_4\">\n    <path d=\"M 78.801307 273.312 \nL 111.266761 273.312 \nL 111.266761 228.415579 \nL 78.801307 228.415579 \nz\n\" clip-path=\"url(#pe015b7aa36)\" style=\"fill: #1f77b4\"/>\n   </g>\n   <g id=\"patch_5\">\n    <path d=\"M 111.266761 273.312 \nL 143.732216 273.312 \nL 143.732216 175.356172 \nL 111.266761 175.356172 \nz\n\" clip-path=\"url(#pe015b7aa36)\" style=\"fill: #1f77b4\"/>\n   </g>\n   <g id=\"patch_6\">\n    <path d=\"M 143.732216 273.312 \nL 176.19767 273.312 \nL 176.19767 76.37997 \nL 143.732216 76.37997 \nz\n\" clip-path=\"url(#pe015b7aa36)\" style=\"fill: #1f77b4\"/>\n   </g>\n   <g id=\"patch_7\">\n    <path d=\"M 176.19767 273.312 \nL 208.663125 273.312 \nL 208.663125 27.402056 \nL 176.19767 27.402056 \nz\n\" clip-path=\"url(#pe015b7aa36)\" style=\"fill: #1f77b4\"/>\n   </g>\n   <g id=\"patch_8\">\n    <path d=\"M 208.663125 273.312 \nL 241.12858 273.312 \nL 241.12858 59.033625 \nL 208.663125 59.033625 \nz\n\" clip-path=\"url(#pe015b7aa36)\" style=\"fill: #1f77b4\"/>\n   </g>\n   <g id=\"patch_9\">\n    <path d=\"M 241.12858 273.312 \nL 273.594034 273.312 \nL 273.594034 139.643109 \nL 241.12858 139.643109 \nz\n\" clip-path=\"url(#pe015b7aa36)\" style=\"fill: #1f77b4\"/>\n   </g>\n   <g id=\"patch_10\">\n    <path d=\"M 273.594034 273.312 \nL 306.059489 273.312 \nL 306.059489 227.395205 \nL 273.594034 227.395205 \nz\n\" clip-path=\"url(#pe015b7aa36)\" style=\"fill: #1f77b4\"/>\n   </g>\n   <g id=\"patch_11\">\n    <path d=\"M 306.059489 273.312 \nL 338.524943 273.312 \nL 338.524943 250.863789 \nL 306.059489 250.863789 \nz\n\" clip-path=\"url(#pe015b7aa36)\" style=\"fill: #1f77b4\"/>\n   </g>\n   <g id=\"patch_12\">\n    <path d=\"M 338.524943 273.312 \nL 370.990398 273.312 \nL 370.990398 264.128641 \nL 338.524943 264.128641 \nz\n\" clip-path=\"url(#pe015b7aa36)\" style=\"fill: #1f77b4\"/>\n   </g>\n   <g id=\"matplotlib.axis_1\">\n    <g id=\"xtick_1\">\n     <g id=\"line2d_1\">\n      <defs>\n       <path id=\"mec9892f191\" d=\"M 0 0 \nL 0 3.5 \n\" style=\"stroke: #000000; stroke-width: 0.8\"/>\n      </defs>\n      <g>\n       <use xlink:href=\"#mec9892f191\" x=\"41.641364\" y=\"273.312\" style=\"stroke: #000000; stroke-width: 0.8\"/>\n      </g>\n     </g>\n     <g id=\"text_1\">\n      <!-- 3.5 -->\n      <g transform=\"translate(33.689802 287.910437) scale(0.1 -0.1)\">\n       <defs>\n        <path id=\"DejaVuSans-33\" d=\"M 2597 2516 \nQ 3050 2419 3304 2112 \nQ 3559 1806 3559 1356 \nQ 3559 666 3084 287 \nQ 2609 -91 1734 -91 \nQ 1441 -91 1130 -33 \nQ 819 25 488 141 \nL 488 750 \nQ 750 597 1062 519 \nQ 1375 441 1716 441 \nQ 2309 441 2620 675 \nQ 2931 909 2931 1356 \nQ 2931 1769 2642 2001 \nQ 2353 2234 1838 2234 \nL 1294 2234 \nL 1294 2753 \nL 1863 2753 \nQ 2328 2753 2575 2939 \nQ 2822 3125 2822 3475 \nQ 2822 3834 2567 4026 \nQ 2313 4219 1838 4219 \nQ 1578 4219 1281 4162 \nQ 984 4106 628 3988 \nL 628 4550 \nQ 988 4650 1302 4700 \nQ 1616 4750 1894 4750 \nQ 2613 4750 3031 4423 \nQ 3450 4097 3450 3541 \nQ 3450 3153 3228 2886 \nQ 3006 2619 2597 2516 \nz\n\" transform=\"scale(0.015625)\"/>\n        <path id=\"DejaVuSans-2e\" d=\"M 684 794 \nL 1344 794 \nL 1344 0 \nL 684 0 \nL 684 794 \nz\n\" transform=\"scale(0.015625)\"/>\n        <path id=\"DejaVuSans-35\" d=\"M 691 4666 \nL 3169 4666 \nL 3169 4134 \nL 1269 4134 \nL 1269 2991 \nQ 1406 3038 1543 3061 \nQ 1681 3084 1819 3084 \nQ 2600 3084 3056 2656 \nQ 3513 2228 3513 1497 \nQ 3513 744 3044 326 \nQ 2575 -91 1722 -91 \nQ 1428 -91 1123 -41 \nQ 819 9 494 109 \nL 494 744 \nQ 775 591 1075 516 \nQ 1375 441 1709 441 \nQ 2250 441 2565 725 \nQ 2881 1009 2881 1497 \nQ 2881 1984 2565 2268 \nQ 2250 2553 1709 2553 \nQ 1456 2553 1204 2497 \nQ 953 2441 691 2322 \nL 691 4666 \nz\n\" transform=\"scale(0.015625)\"/>\n       </defs>\n       <use xlink:href=\"#DejaVuSans-33\"/>\n       <use xlink:href=\"#DejaVuSans-2e\" x=\"63.623047\"/>\n       <use xlink:href=\"#DejaVuSans-35\" x=\"95.410156\"/>\n      </g>\n     </g>\n    </g>\n    <g id=\"xtick_2\">\n     <g id=\"line2d_2\">\n      <g>\n       <use xlink:href=\"#mec9892f191\" x=\"93.779435\" y=\"273.312\" style=\"stroke: #000000; stroke-width: 0.8\"/>\n      </g>\n     </g>\n     <g id=\"text_2\">\n      <!-- 4.0 -->\n      <g transform=\"translate(85.827873 287.910437) scale(0.1 -0.1)\">\n       <defs>\n        <path id=\"DejaVuSans-34\" d=\"M 2419 4116 \nL 825 1625 \nL 2419 1625 \nL 2419 4116 \nz\nM 2253 4666 \nL 3047 4666 \nL 3047 1625 \nL 3713 1625 \nL 3713 1100 \nL 3047 1100 \nL 3047 0 \nL 2419 0 \nL 2419 1100 \nL 313 1100 \nL 313 1709 \nL 2253 4666 \nz\n\" transform=\"scale(0.015625)\"/>\n        <path id=\"DejaVuSans-30\" d=\"M 2034 4250 \nQ 1547 4250 1301 3770 \nQ 1056 3291 1056 2328 \nQ 1056 1369 1301 889 \nQ 1547 409 2034 409 \nQ 2525 409 2770 889 \nQ 3016 1369 3016 2328 \nQ 3016 3291 2770 3770 \nQ 2525 4250 2034 4250 \nz\nM 2034 4750 \nQ 2819 4750 3233 4129 \nQ 3647 3509 3647 2328 \nQ 3647 1150 3233 529 \nQ 2819 -91 2034 -91 \nQ 1250 -91 836 529 \nQ 422 1150 422 2328 \nQ 422 3509 836 4129 \nQ 1250 4750 2034 4750 \nz\n\" transform=\"scale(0.015625)\"/>\n       </defs>\n       <use xlink:href=\"#DejaVuSans-34\"/>\n       <use xlink:href=\"#DejaVuSans-2e\" x=\"63.623047\"/>\n       <use xlink:href=\"#DejaVuSans-30\" x=\"95.410156\"/>\n      </g>\n     </g>\n    </g>\n    <g id=\"xtick_3\">\n     <g id=\"line2d_3\">\n      <g>\n       <use xlink:href=\"#mec9892f191\" x=\"145.917507\" y=\"273.312\" style=\"stroke: #000000; stroke-width: 0.8\"/>\n      </g>\n     </g>\n     <g id=\"text_3\">\n      <!-- 4.5 -->\n      <g transform=\"translate(137.965944 287.910437) scale(0.1 -0.1)\">\n       <use xlink:href=\"#DejaVuSans-34\"/>\n       <use xlink:href=\"#DejaVuSans-2e\" x=\"63.623047\"/>\n       <use xlink:href=\"#DejaVuSans-35\" x=\"95.410156\"/>\n      </g>\n     </g>\n    </g>\n    <g id=\"xtick_4\">\n     <g id=\"line2d_4\">\n      <g>\n       <use xlink:href=\"#mec9892f191\" x=\"198.055578\" y=\"273.312\" style=\"stroke: #000000; stroke-width: 0.8\"/>\n      </g>\n     </g>\n     <g id=\"text_4\">\n      <!-- 5.0 -->\n      <g transform=\"translate(190.104015 287.910437) scale(0.1 -0.1)\">\n       <use xlink:href=\"#DejaVuSans-35\"/>\n       <use xlink:href=\"#DejaVuSans-2e\" x=\"63.623047\"/>\n       <use xlink:href=\"#DejaVuSans-30\" x=\"95.410156\"/>\n      </g>\n     </g>\n    </g>\n    <g id=\"xtick_5\">\n     <g id=\"line2d_5\">\n      <g>\n       <use xlink:href=\"#mec9892f191\" x=\"250.193649\" y=\"273.312\" style=\"stroke: #000000; stroke-width: 0.8\"/>\n      </g>\n     </g>\n     <g id=\"text_5\">\n      <!-- 5.5 -->\n      <g transform=\"translate(242.242087 287.910437) scale(0.1 -0.1)\">\n       <use xlink:href=\"#DejaVuSans-35\"/>\n       <use xlink:href=\"#DejaVuSans-2e\" x=\"63.623047\"/>\n       <use xlink:href=\"#DejaVuSans-35\" x=\"95.410156\"/>\n      </g>\n     </g>\n    </g>\n    <g id=\"xtick_6\">\n     <g id=\"line2d_6\">\n      <g>\n       <use xlink:href=\"#mec9892f191\" x=\"302.33172\" y=\"273.312\" style=\"stroke: #000000; stroke-width: 0.8\"/>\n      </g>\n     </g>\n     <g id=\"text_6\">\n      <!-- 6.0 -->\n      <g transform=\"translate(294.380158 287.910437) scale(0.1 -0.1)\">\n       <defs>\n        <path id=\"DejaVuSans-36\" d=\"M 2113 2584 \nQ 1688 2584 1439 2293 \nQ 1191 2003 1191 1497 \nQ 1191 994 1439 701 \nQ 1688 409 2113 409 \nQ 2538 409 2786 701 \nQ 3034 994 3034 1497 \nQ 3034 2003 2786 2293 \nQ 2538 2584 2113 2584 \nz\nM 3366 4563 \nL 3366 3988 \nQ 3128 4100 2886 4159 \nQ 2644 4219 2406 4219 \nQ 1781 4219 1451 3797 \nQ 1122 3375 1075 2522 \nQ 1259 2794 1537 2939 \nQ 1816 3084 2150 3084 \nQ 2853 3084 3261 2657 \nQ 3669 2231 3669 1497 \nQ 3669 778 3244 343 \nQ 2819 -91 2113 -91 \nQ 1303 -91 875 529 \nQ 447 1150 447 2328 \nQ 447 3434 972 4092 \nQ 1497 4750 2381 4750 \nQ 2619 4750 2861 4703 \nQ 3103 4656 3366 4563 \nz\n\" transform=\"scale(0.015625)\"/>\n       </defs>\n       <use xlink:href=\"#DejaVuSans-36\"/>\n       <use xlink:href=\"#DejaVuSans-2e\" x=\"63.623047\"/>\n       <use xlink:href=\"#DejaVuSans-30\" x=\"95.410156\"/>\n      </g>\n     </g>\n    </g>\n    <g id=\"xtick_7\">\n     <g id=\"line2d_7\">\n      <g>\n       <use xlink:href=\"#mec9892f191\" x=\"354.469791\" y=\"273.312\" style=\"stroke: #000000; stroke-width: 0.8\"/>\n      </g>\n     </g>\n     <g id=\"text_7\">\n      <!-- 6.5 -->\n      <g transform=\"translate(346.518229 287.910437) scale(0.1 -0.1)\">\n       <use xlink:href=\"#DejaVuSans-36\"/>\n       <use xlink:href=\"#DejaVuSans-2e\" x=\"63.623047\"/>\n       <use xlink:href=\"#DejaVuSans-35\" x=\"95.410156\"/>\n      </g>\n     </g>\n    </g>\n   </g>\n   <g id=\"matplotlib.axis_2\">\n    <g id=\"ytick_1\">\n     <g id=\"line2d_8\">\n      <defs>\n       <path id=\"m1ec77fbfca\" d=\"M 0 0 \nL -3.5 0 \n\" style=\"stroke: #000000; stroke-width: 0.8\"/>\n      </defs>\n      <g>\n       <use xlink:href=\"#m1ec77fbfca\" x=\"30.103125\" y=\"273.312\" style=\"stroke: #000000; stroke-width: 0.8\"/>\n      </g>\n     </g>\n     <g id=\"text_8\">\n      <!-- 0.0 -->\n      <g transform=\"translate(7.2 277.111219) scale(0.1 -0.1)\">\n       <use xlink:href=\"#DejaVuSans-30\"/>\n       <use xlink:href=\"#DejaVuSans-2e\" x=\"63.623047\"/>\n       <use xlink:href=\"#DejaVuSans-30\" x=\"95.410156\"/>\n      </g>\n     </g>\n    </g>\n    <g id=\"ytick_2\">\n     <g id=\"line2d_9\">\n      <g>\n       <use xlink:href=\"#m1ec77fbfca\" x=\"30.103125\" y=\"241.543583\" style=\"stroke: #000000; stroke-width: 0.8\"/>\n      </g>\n     </g>\n     <g id=\"text_9\">\n      <!-- 0.1 -->\n      <g transform=\"translate(7.2 245.342801) scale(0.1 -0.1)\">\n       <defs>\n        <path id=\"DejaVuSans-31\" d=\"M 794 531 \nL 1825 531 \nL 1825 4091 \nL 703 3866 \nL 703 4441 \nL 1819 4666 \nL 2450 4666 \nL 2450 531 \nL 3481 531 \nL 3481 0 \nL 794 0 \nL 794 531 \nz\n\" transform=\"scale(0.015625)\"/>\n       </defs>\n       <use xlink:href=\"#DejaVuSans-30\"/>\n       <use xlink:href=\"#DejaVuSans-2e\" x=\"63.623047\"/>\n       <use xlink:href=\"#DejaVuSans-31\" x=\"95.410156\"/>\n      </g>\n     </g>\n    </g>\n    <g id=\"ytick_3\">\n     <g id=\"line2d_10\">\n      <g>\n       <use xlink:href=\"#m1ec77fbfca\" x=\"30.103125\" y=\"209.775165\" style=\"stroke: #000000; stroke-width: 0.8\"/>\n      </g>\n     </g>\n     <g id=\"text_10\">\n      <!-- 0.2 -->\n      <g transform=\"translate(7.2 213.574384) scale(0.1 -0.1)\">\n       <defs>\n        <path id=\"DejaVuSans-32\" d=\"M 1228 531 \nL 3431 531 \nL 3431 0 \nL 469 0 \nL 469 531 \nQ 828 903 1448 1529 \nQ 2069 2156 2228 2338 \nQ 2531 2678 2651 2914 \nQ 2772 3150 2772 3378 \nQ 2772 3750 2511 3984 \nQ 2250 4219 1831 4219 \nQ 1534 4219 1204 4116 \nQ 875 4013 500 3803 \nL 500 4441 \nQ 881 4594 1212 4672 \nQ 1544 4750 1819 4750 \nQ 2544 4750 2975 4387 \nQ 3406 4025 3406 3419 \nQ 3406 3131 3298 2873 \nQ 3191 2616 2906 2266 \nQ 2828 2175 2409 1742 \nQ 1991 1309 1228 531 \nz\n\" transform=\"scale(0.015625)\"/>\n       </defs>\n       <use xlink:href=\"#DejaVuSans-30\"/>\n       <use xlink:href=\"#DejaVuSans-2e\" x=\"63.623047\"/>\n       <use xlink:href=\"#DejaVuSans-32\" x=\"95.410156\"/>\n      </g>\n     </g>\n    </g>\n    <g id=\"ytick_4\">\n     <g id=\"line2d_11\">\n      <g>\n       <use xlink:href=\"#m1ec77fbfca\" x=\"30.103125\" y=\"178.006748\" style=\"stroke: #000000; stroke-width: 0.8\"/>\n      </g>\n     </g>\n     <g id=\"text_11\">\n      <!-- 0.3 -->\n      <g transform=\"translate(7.2 181.805967) scale(0.1 -0.1)\">\n       <use xlink:href=\"#DejaVuSans-30\"/>\n       <use xlink:href=\"#DejaVuSans-2e\" x=\"63.623047\"/>\n       <use xlink:href=\"#DejaVuSans-33\" x=\"95.410156\"/>\n      </g>\n     </g>\n    </g>\n    <g id=\"ytick_5\">\n     <g id=\"line2d_12\">\n      <g>\n       <use xlink:href=\"#m1ec77fbfca\" x=\"30.103125\" y=\"146.238331\" style=\"stroke: #000000; stroke-width: 0.8\"/>\n      </g>\n     </g>\n     <g id=\"text_12\">\n      <!-- 0.4 -->\n      <g transform=\"translate(7.2 150.037549) scale(0.1 -0.1)\">\n       <use xlink:href=\"#DejaVuSans-30\"/>\n       <use xlink:href=\"#DejaVuSans-2e\" x=\"63.623047\"/>\n       <use xlink:href=\"#DejaVuSans-34\" x=\"95.410156\"/>\n      </g>\n     </g>\n    </g>\n    <g id=\"ytick_6\">\n     <g id=\"line2d_13\">\n      <g>\n       <use xlink:href=\"#m1ec77fbfca\" x=\"30.103125\" y=\"114.469913\" style=\"stroke: #000000; stroke-width: 0.8\"/>\n      </g>\n     </g>\n     <g id=\"text_13\">\n      <!-- 0.5 -->\n      <g transform=\"translate(7.2 118.269132) scale(0.1 -0.1)\">\n       <use xlink:href=\"#DejaVuSans-30\"/>\n       <use xlink:href=\"#DejaVuSans-2e\" x=\"63.623047\"/>\n       <use xlink:href=\"#DejaVuSans-35\" x=\"95.410156\"/>\n      </g>\n     </g>\n    </g>\n    <g id=\"ytick_7\">\n     <g id=\"line2d_14\">\n      <g>\n       <use xlink:href=\"#m1ec77fbfca\" x=\"30.103125\" y=\"82.701496\" style=\"stroke: #000000; stroke-width: 0.8\"/>\n      </g>\n     </g>\n     <g id=\"text_14\">\n      <!-- 0.6 -->\n      <g transform=\"translate(7.2 86.500715) scale(0.1 -0.1)\">\n       <use xlink:href=\"#DejaVuSans-30\"/>\n       <use xlink:href=\"#DejaVuSans-2e\" x=\"63.623047\"/>\n       <use xlink:href=\"#DejaVuSans-36\" x=\"95.410156\"/>\n      </g>\n     </g>\n    </g>\n    <g id=\"ytick_8\">\n     <g id=\"line2d_15\">\n      <g>\n       <use xlink:href=\"#m1ec77fbfca\" x=\"30.103125\" y=\"50.933078\" style=\"stroke: #000000; stroke-width: 0.8\"/>\n      </g>\n     </g>\n     <g id=\"text_15\">\n      <!-- 0.7 -->\n      <g transform=\"translate(7.2 54.732297) scale(0.1 -0.1)\">\n       <defs>\n        <path id=\"DejaVuSans-37\" d=\"M 525 4666 \nL 3525 4666 \nL 3525 4397 \nL 1831 0 \nL 1172 0 \nL 2766 4134 \nL 525 4134 \nL 525 4666 \nz\n\" transform=\"scale(0.015625)\"/>\n       </defs>\n       <use xlink:href=\"#DejaVuSans-30\"/>\n       <use xlink:href=\"#DejaVuSans-2e\" x=\"63.623047\"/>\n       <use xlink:href=\"#DejaVuSans-37\" x=\"95.410156\"/>\n      </g>\n     </g>\n    </g>\n    <g id=\"ytick_9\">\n     <g id=\"line2d_16\">\n      <g>\n       <use xlink:href=\"#m1ec77fbfca\" x=\"30.103125\" y=\"19.164661\" style=\"stroke: #000000; stroke-width: 0.8\"/>\n      </g>\n     </g>\n     <g id=\"text_16\">\n      <!-- 0.8 -->\n      <g transform=\"translate(7.2 22.96388) scale(0.1 -0.1)\">\n       <defs>\n        <path id=\"DejaVuSans-38\" d=\"M 2034 2216 \nQ 1584 2216 1326 1975 \nQ 1069 1734 1069 1313 \nQ 1069 891 1326 650 \nQ 1584 409 2034 409 \nQ 2484 409 2743 651 \nQ 3003 894 3003 1313 \nQ 3003 1734 2745 1975 \nQ 2488 2216 2034 2216 \nz\nM 1403 2484 \nQ 997 2584 770 2862 \nQ 544 3141 544 3541 \nQ 544 4100 942 4425 \nQ 1341 4750 2034 4750 \nQ 2731 4750 3128 4425 \nQ 3525 4100 3525 3541 \nQ 3525 3141 3298 2862 \nQ 3072 2584 2669 2484 \nQ 3125 2378 3379 2068 \nQ 3634 1759 3634 1313 \nQ 3634 634 3220 271 \nQ 2806 -91 2034 -91 \nQ 1263 -91 848 271 \nQ 434 634 434 1313 \nQ 434 1759 690 2068 \nQ 947 2378 1403 2484 \nz\nM 1172 3481 \nQ 1172 3119 1398 2916 \nQ 1625 2713 2034 2713 \nQ 2441 2713 2670 2916 \nQ 2900 3119 2900 3481 \nQ 2900 3844 2670 4047 \nQ 2441 4250 2034 4250 \nQ 1625 4250 1398 4047 \nQ 1172 3844 1172 3481 \nz\n\" transform=\"scale(0.015625)\"/>\n       </defs>\n       <use xlink:href=\"#DejaVuSans-30\"/>\n       <use xlink:href=\"#DejaVuSans-2e\" x=\"63.623047\"/>\n       <use xlink:href=\"#DejaVuSans-38\" x=\"95.410156\"/>\n      </g>\n     </g>\n    </g>\n   </g>\n   <g id=\"line2d_17\">\n    <path d=\"M 46.335852 269.637815 \nL 49.615191 268.908579 \nL 52.89453 268.055444 \nL 56.173869 267.061795 \nL 59.453208 265.909658 \nL 62.732546 264.579754 \nL 66.011885 263.051592 \nL 69.291224 261.303597 \nL 72.570563 259.313299 \nL 75.849902 257.057554 \nL 79.129241 254.512838 \nL 82.40858 251.655578 \nL 85.687918 248.462547 \nL 88.967257 244.911312 \nL 92.246596 240.980727 \nL 95.525935 236.651477 \nL 98.805274 231.906655 \nL 102.084613 226.732367 \nL 105.363951 221.118355 \nL 108.64329 215.058624 \nL 111.922629 208.552055 \nL 115.201968 201.602986 \nL 118.481307 194.221752 \nL 121.760646 186.425154 \nL 125.039985 178.236847 \nL 128.319323 169.687622 \nL 131.598662 160.815569 \nL 134.878001 151.666104 \nL 138.15734 142.291853 \nL 141.436679 132.752369 \nL 144.716018 123.113691 \nL 147.995356 113.44774 \nL 151.274695 103.831543 \nL 154.554034 94.346311 \nL 157.833373 85.076369 \nL 161.112712 76.107966 \nL 164.392051 67.527972 \nL 167.671389 59.422514 \nL 170.950728 51.875547 \nL 174.230067 44.967423 \nL 177.509406 38.773473 \nL 180.788745 33.362644 \nL 184.068084 28.79622 \nL 187.347423 25.126674 \nL 190.626761 22.396659 \nL 193.9061 20.638187 \nL 197.185439 19.872 \nL 200.464778 20.107167 \nL 203.744117 21.340902 \nL 207.023456 23.558622 \nL 210.302794 26.73423 \nL 213.582133 30.830631 \nL 216.861472 35.800449 \nL 220.140811 41.586941 \nL 223.42015 48.125073 \nL 226.699489 55.342739 \nL 229.978827 63.162077 \nL 233.258166 71.500865 \nL 236.537505 80.273951 \nL 239.816844 89.394684 \nL 243.096183 98.776318 \nL 246.375522 108.333352 \nL 249.654861 117.982781 \nL 252.934199 127.645233 \nL 256.213538 137.245971 \nL 259.492877 146.715748 \nL 262.772216 155.991504 \nL 266.051555 165.016893 \nL 269.330894 173.742646 \nL 272.610232 182.126781 \nL 275.889571 190.134644 \nL 279.16891 197.738823 \nL 282.448249 204.918921 \nL 285.727588 211.661225 \nL 289.006927 217.958278 \nL 292.286265 223.808373 \nL 295.565604 229.214992 \nL 298.844943 234.186209 \nL 302.124282 238.734066 \nL 305.403621 242.873948 \nL 308.68296 246.623966 \nL 311.962299 250.004365 \nL 315.241637 253.036959 \nL 318.520976 255.744613 \nL 321.800315 258.150767 \nL 325.079654 260.279019 \nL 328.358993 262.152752 \nL 331.638332 263.794826 \nL 334.91767 265.227318 \nL 338.197009 266.471311 \nL 341.476348 267.546744 \nL 344.755687 268.47229 \nL 348.035026 269.265292 \nL 351.314365 269.941717 \nL 354.593704 270.516157 \nL 357.873042 271.001845 \nL 361.152381 271.410697 \nL 364.43172 271.753369 \nL 367.711059 272.039325 \nL 370.990398 272.276921 \n\" clip-path=\"url(#pe015b7aa36)\" style=\"fill: none; stroke: #ff7f0e; stroke-width: 1.5; stroke-linecap: square\"/>\n   </g>\n   <g id=\"patch_13\">\n    <path d=\"M 30.103125 273.312 \nL 30.103125 7.2 \n\" style=\"fill: none; stroke: #000000; stroke-width: 0.8; stroke-linejoin: miter; stroke-linecap: square\"/>\n   </g>\n   <g id=\"patch_14\">\n    <path d=\"M 387.223125 273.312 \nL 387.223125 7.2 \n\" style=\"fill: none; stroke: #000000; stroke-width: 0.8; stroke-linejoin: miter; stroke-linecap: square\"/>\n   </g>\n   <g id=\"patch_15\">\n    <path d=\"M 30.103125 273.312 \nL 387.223125 273.312 \n\" style=\"fill: none; stroke: #000000; stroke-width: 0.8; stroke-linejoin: miter; stroke-linecap: square\"/>\n   </g>\n   <g id=\"patch_16\">\n    <path d=\"M 30.103125 7.2 \nL 387.223125 7.2 \n\" style=\"fill: none; stroke: #000000; stroke-width: 0.8; stroke-linejoin: miter; stroke-linecap: square\"/>\n   </g>\n  </g>\n </g>\n <defs>\n  <clipPath id=\"pe015b7aa36\">\n   <rect x=\"30.103125\" y=\"7.2\" width=\"357.12\" height=\"266.112\"/>\n  </clipPath>\n </defs>\n</svg>\n"
          },
          "metadata": {}
        }
      ],
      "source": [
        "n = 100\n",
        "rand_sms = rand_sample_means(n, 0.2)\n",
        "clt_xs = np.linspace(rand_sms.min(), rand_sms.max(), num=100)\n",
        "clt_ys = stats.norm.pdf(clt_xs, loc=5, scale=5/np.sqrt(n))\n",
        "\n",
        "plt.figure()\n",
        "plt.hist(rand_sms, density=True)\n",
        "plt.plot(clt_xs, clt_ys)\n",
        "plt.show()"
      ]
    },
    {
      "cell_type": "markdown",
      "source": [
        "### Questions\n",
        "\n",
        "a) What do you notice about the two plots? Describe their differences?\n",
        "\n",
        "\n",
        "\n",
        "\n",
        "\n",
        "b) Why is this the case and what role does `n` have in this?"
      ],
      "metadata": {
        "id": "ksfLmgDX-kPJ"
      }
    },
    {
      "cell_type": "markdown",
      "source": [
        "## **Central Limit Theorem: Theory**"
      ],
      "metadata": {
        "id": "4Wr_KOxrBdV-"
      }
    },
    {
      "cell_type": "markdown",
      "metadata": {
        "id": "boPTNP0gkQGo"
      },
      "source": [
        "### Question 3\n",
        "\n",
        "Write down a statement of the law of large numbers (LLN). See [here](https://en.wikipedia.org/wiki/Law_of_large_numbers) as not covered in the lecture. Also write down a statement of the central limit theorem. Make sure you understand what each of them tells you."
      ]
    },
    {
      "cell_type": "markdown",
      "metadata": {
        "id": "OVPrzID-kQGo"
      },
      "source": [
        "### Answer\n",
        "\n",
        "-   LLN: $\\bar{X}$ converges to $\\mu$ as the sample size increases.\n",
        "-   CLT: $\\sqrt{n}(\\bar{X} - \\mu) / \\sigma$ converges in distribution to the\n",
        "    standard normal distribution as the sample size increases.\n",
        "-   The LLN tells you what the limiting value is, the CLT tells you\n",
        "    about the fluctuations in the estimate."
      ]
    },
    {
      "cell_type": "markdown",
      "metadata": {
        "id": "CLGQQbo4kQGp"
      },
      "source": [
        "### Example: CLT\n",
        "\n",
        "To see that the distribution of the sample mean converges to a normal\n",
        "distribution we will do a simulation study."
      ]
    },
    {
      "cell_type": "markdown",
      "metadata": {
        "id": "azc7otuXkQGq"
      },
      "source": [
        "### Question 4\n",
        "\n",
        "Write down the distribution of the sample mean given an IID sample of\n",
        "exponential random variables with rate $1/5$."
      ]
    },
    {
      "cell_type": "markdown",
      "metadata": {
        "id": "EWR8DX4fkQGq"
      },
      "source": [
        "### Answer\n",
        "\n",
        "-   The mean of the exponential distribution is 5.\n",
        "-   The standard deviation of the exponential distribution is 5\n",
        "-   The CLT tells us the limiting distribution for the sample mean is $N\\left(5,\\frac{5^2}{n}\\right)$"
      ]
    },
    {
      "cell_type": "markdown",
      "source": [
        "### Question 5\n",
        "\n",
        "Explain the central limit theorem in your own words being as detailed as possible. When might we use it? Why is it important in statistics?"
      ],
      "metadata": {
        "id": "EmOmSYVaRfA2"
      }
    },
    {
      "cell_type": "markdown",
      "source": [
        "### Answer\n",
        "\n"
      ],
      "metadata": {
        "id": "LHBgUEgaRnOt"
      }
    }
  ],
  "metadata": {
    "jupytext": {
      "formats": "ipynb,md"
    },
    "kernelspec": {
      "display_name": "Python 3 (ipykernel)",
      "language": "python",
      "name": "python3"
    },
    "language_info": {
      "codemirror_mode": {
        "name": "ipython",
        "version": 3
      },
      "file_extension": ".py",
      "mimetype": "text/x-python",
      "name": "python",
      "nbconvert_exporter": "python",
      "pygments_lexer": "ipython3",
      "version": "3.8.10"
    },
    "colab": {
      "provenance": [],
      "collapsed_sections": [
        "PFmdyJqYCK_m",
        "kYNObWr1kQGc",
        "boPTNP0gkQGo",
        "6c_fggHKBBMn",
        "Mii4SRlnkQGr",
        "FYrC73TAAZ4x",
        "EjTORfRcAL3F"
      ]
    }
  },
  "nbformat": 4,
  "nbformat_minor": 0
}