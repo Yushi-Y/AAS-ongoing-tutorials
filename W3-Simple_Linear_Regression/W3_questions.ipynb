{
  "cells": [
    {
      "cell_type": "markdown",
      "id": "2cca9e24-0d3e-480e-81db-bc4f02e3e364",
      "metadata": {
        "id": "2cca9e24-0d3e-480e-81db-bc4f02e3e364"
      },
      "source": [
        "Week 3: Simple Linear Regression\n",
        "=========\n",
        "\n"
      ]
    },
    {
      "cell_type": "markdown",
      "source": [
        "## **Notebook Overview**\n",
        "\n",
        "This notebook is available on github\n",
        "[here](https://github.com/Yushi-Y/AAS-ongoing-tutorials). If you find\n",
        "errors or would like to suggest an improvement then let me know.\n",
        "\n",
        "Some of the questions in this notebook are on simple linear regression (SLR). The other questions are on confidence intervals in general (not in the case of regression). These are exploring last week's content in a bit more detail so come to these once you've finished everything else.\n",
        "\n",
        "The confidence interval questions are helpful. I would also recommend spending some time to understand hypothesis testing because this is probably more useful to your research than confidence intervals. You will almost certainly need to use a hypothesis test in your summative. I'm not sure you could really do much statistics without using a hypothesis test. I haven't got any questions on hypothesis testing here but take some time to read about it in a textbook or watch one of the videos. There are also some questions on Adam's problem set."
      ],
      "metadata": {
        "id": "DpByVliJoqRY"
      },
      "id": "DpByVliJoqRY"
    },
    {
      "cell_type": "markdown",
      "source": [
        "### **Additional Resources**"
      ],
      "metadata": {
        "id": "YvXLfrTZot7W"
      },
      "id": "YvXLfrTZot7W"
    },
    {
      "cell_type": "markdown",
      "source": [
        "1. **[Useful Ben Lambert Videos:](https://www.youtube.com/playlist?list=PLwJRxp3blEvZyQBTTOMFRP_TDaSdly3gU)** First up a good one for the real basics of what linear regression is trying to do - [here](https://www.youtube.com/watch?v=KIQbe-FJoa8&list=PLwJRxp3blEvZyQBTTOMFRP_TDaSdly3gU&index=12). This starts from a really basic level. I would also recommend looking at [this one](https://www.youtube.com/watch?v=YL-NNb4gojA&list=PLwJRxp3blEvZyQBTTOMFRP_TDaSdly3gU&index=13), which is about the logic of linear regression and minimising the sum of squared errors. It's a bit more maths heavy but the theory is important.\n",
        "\n",
        "  A really key one is [interpreting coefficients within linear regression](https://www.youtube.com/watch?v=JwGaos2Y9bM). Very useful for your research. if you want to understand why linear regression is so good compared to other methods then see [here](https://www.youtube.com/watch?v=vOBtEiij-fA&list=PLwJRxp3blEvZyQBTTOMFRP_TDaSdly3gU&index=14). This is a video about the properties of the estimators and how they are BLUE (the best linear unbiased estimators). It's a good one for seeing the beauty of linear regression and the content isn't covered in the lecture notes.\n",
        "\n",
        "  Also one on [hypothesis testing for linear regression](https://www.youtube.com/watch?v=fZV4ntLEPlU) - there are a few different parts to this.\n",
        "  \n",
        "  There are also a couple of good *general* videos on hypothesis testing too. This is content from the last set of lecture slides which was breifly covered at the start of the lecture. [Hypothesis testing intuition](https://www.youtube.com/watch?v=_dULun-EpX0). Also an explanation of when to use the t-distribution: [Hypothesis testing with the t-distribution](https://www.youtube.com/watch?v=46SqMrzQQ2w). There are lots more useful ones as well so have a look through them.\n",
        "\n",
        "  One on confidence intervals [here](https://www.youtube.com/watch?v=MFqWrhWQgXo&t=107s). It is done in terms of the parameters of a linear regression so is pretty useful for doing research.\n",
        "\n",
        "2. **Other YouTube Videos:** [Introduction to the t-distribution](https://www.youtube.com/watch?v=Uv6nGIgZMVw&t=304s)\n",
        "\n",
        "3. **[Wooldridge Econometrics:](https://www.academia.edu/44467534/ECONOMETRICS_A_Modern_Approach) [Best resource for really understanding the theory]** Chapter 2 is well worth having a look at. Page 20 and 21 explain all of the terms without assuming any background knowledge. This is really helpful if you haven't come across regression before. It does it to a more technical level but useful. Quite maths heavy but it's good to understand the theory to a deep level.\n",
        "\n",
        "4. **Fox Textbook:** Starts with simple linear regression and assumes no background knowledge. Also a good resource for theory."
      ],
      "metadata": {
        "id": "Z9SayotGCAHT"
      },
      "id": "Z9SayotGCAHT"
    },
    {
      "cell_type": "markdown",
      "source": [
        "As usual we will start by importing some useful libraries."
      ],
      "metadata": {
        "id": "2iXPI4tMo2Tm"
      },
      "id": "2iXPI4tMo2Tm"
    },
    {
      "cell_type": "code",
      "execution_count": null,
      "id": "b7c9d48c-39e7-448d-8a5b-55f8c2e29844",
      "metadata": {
        "id": "b7c9d48c-39e7-448d-8a5b-55f8c2e29844"
      },
      "outputs": [],
      "source": [
        "%config InlineBackend.figure_format = 'svg'\n",
        "import pandas as pd\n",
        "import numpy as np\n",
        "import scipy.stats as stats\n",
        "import statsmodels.api as sm\n",
        "import statsmodels.formula.api as smf\n",
        "import matplotlib.pyplot as plt"
      ]
    },
    {
      "cell_type": "markdown",
      "source": [
        "## **Simple Linear Regression Worked Example**"
      ],
      "metadata": {
        "id": "oficrQZmp3bg"
      },
      "id": "oficrQZmp3bg"
    },
    {
      "cell_type": "markdown",
      "id": "4ea73615-e928-43f4-8aa3-993afbcc5645",
      "metadata": {
        "id": "4ea73615-e928-43f4-8aa3-993afbcc5645"
      },
      "source": [
        "The data in `data-auto.csv` is a popular dataset of car characteristics. We will be looking at the horsepower and miles per gallon (MPG) obtained by these cars. The model we will consider in this notebook is a simple linear regression:\n",
        "\n",
        "$$\n",
        "\\text{mpg}_{i} = \\alpha + \\beta \\text{horsepower}_{i} + \\epsilon_{i}\n",
        "$$\n",
        "\n",
        "where the $\\epsilon_{i}$ are IID normal fluctuations. We will estimate the parameters $\\alpha$ and $\\beta$."
      ]
    },
    {
      "cell_type": "code",
      "execution_count": null,
      "id": "d009dd50-452a-4d6a-af1a-cda0f780718e",
      "metadata": {
        "id": "d009dd50-452a-4d6a-af1a-cda0f780718e"
      },
      "outputs": [],
      "source": [
        "# Read in the data from GitHub\n",
        "data_url = \"https://raw.githubusercontent.com/Yushi-Y/AAS-ongoing-tutorials/main/W3-Simple_Linear_Regression/data-auto.csv\"\n",
        "df = pd.read_csv(data_url)\n",
        "\n",
        "# Define our dependent and independent variables\n",
        "y = df[\"mpg\"].to_numpy()\n",
        "x = df[\"horsepower\"].to_numpy()\n",
        "\n",
        "# Generate the means (useful for later)\n",
        "y_bar = y.mean()\n",
        "x_bar = x.mean()"
      ]
    },
    {
      "cell_type": "markdown",
      "id": "64b8edb3-70b2-40dc-b945-89cdb41c2364",
      "metadata": {
        "id": "64b8edb3-70b2-40dc-b945-89cdb41c2364"
      },
      "source": [
        "### Question 1\n",
        "\n",
        "Plot the horsepower and MPG, describe the relationship between these variables."
      ]
    },
    {
      "cell_type": "markdown",
      "id": "58d2e612-da7e-4408-9278-0448230533cc",
      "metadata": {
        "id": "58d2e612-da7e-4408-9278-0448230533cc"
      },
      "source": [
        "### Question 2\n",
        "\n",
        "Using the formula you saw in lectures, calculate the least squares estimates $\\hat{\\beta}$ and $\\hat{\\alpha}$"
      ]
    },
    {
      "cell_type": "markdown",
      "id": "b449825c-546e-47f1-ae18-7c13b2aac391",
      "metadata": {
        "id": "b449825c-546e-47f1-ae18-7c13b2aac391"
      },
      "source": [
        "### Question 3\n",
        "\n",
        "Using your parameter estimates, calculate the expected values for the MPG, $\\hat{y}_{i}$, and the residuals, $e_{i}$."
      ]
    },
    {
      "cell_type": "markdown",
      "id": "158fda9a-1f7a-41b3-a379-eefa9f1a7879",
      "metadata": {
        "id": "158fda9a-1f7a-41b3-a379-eefa9f1a7879"
      },
      "source": [
        "### Question 4\n",
        "\n",
        "Plot the model fit and the residuals. Are the assumptions (linearity, constant variance and independenc) of the model valid? What does the model predict would be the MPG for a car with the power of 400 horses?"
      ]
    },
    {
      "cell_type": "markdown",
      "id": "0b69b3b7-9d58-4651-a988-eb6ae842a0a2",
      "metadata": {
        "id": "0b69b3b7-9d58-4651-a988-eb6ae842a0a2"
      },
      "source": [
        "### Question 5\n",
        "\n",
        "Calculate the correlation coeffient, and $R^{2}$."
      ]
    },
    {
      "cell_type": "markdown",
      "id": "3b40a5d2-6acd-46a3-a047-1ee27200757e",
      "metadata": {
        "id": "3b40a5d2-6acd-46a3-a047-1ee27200757e"
      },
      "source": [
        "### Question 6\n",
        "\n",
        "Calculate the confidence intervals on your estimates. Is the result significant?"
      ]
    },
    {
      "cell_type": "markdown",
      "id": "b580f545-3869-47c0-811e-120ba60a4feb",
      "metadata": {
        "id": "b580f545-3869-47c0-811e-120ba60a4feb"
      },
      "source": [
        "## **Introduction to** `statsmodels`\n",
        "\n",
        "We are finally ready to use the `statsmodel` package. In the following code we perform ordinary least squares regression and print out a summary. You can see that all of the estimates agree with those we calculated above."
      ]
    },
    {
      "cell_type": "code",
      "execution_count": null,
      "id": "fcafe205-4124-473a-81ec-9d46300ab2c1",
      "metadata": {
        "id": "fcafe205-4124-473a-81ec-9d46300ab2c1",
        "outputId": "504641f2-3b54-4d3f-9476-dbe0350e1709",
        "colab": {
          "base_uri": "https://localhost:8080/"
        }
      },
      "outputs": [
        {
          "output_type": "stream",
          "name": "stdout",
          "text": [
            "                            OLS Regression Results                            \n",
            "==============================================================================\n",
            "Dep. Variable:                    mpg   R-squared:                       0.606\n",
            "Model:                            OLS   Adj. R-squared:                  0.605\n",
            "Method:                 Least Squares   F-statistic:                     599.7\n",
            "Date:                Wed, 25 Oct 2023   Prob (F-statistic):           7.03e-81\n",
            "Time:                        11:59:57   Log-Likelihood:                -1178.7\n",
            "No. Observations:                 392   AIC:                             2361.\n",
            "Df Residuals:                     390   BIC:                             2369.\n",
            "Df Model:                           1                                         \n",
            "Covariance Type:            nonrobust                                         \n",
            "==============================================================================\n",
            "                 coef    std err          t      P>|t|      [0.025      0.975]\n",
            "------------------------------------------------------------------------------\n",
            "Intercept     39.9359      0.717     55.660      0.000      38.525      41.347\n",
            "horsepower    -0.1578      0.006    -24.489      0.000      -0.171      -0.145\n",
            "==============================================================================\n",
            "Omnibus:                       16.432   Durbin-Watson:                   0.920\n",
            "Prob(Omnibus):                  0.000   Jarque-Bera (JB):               17.305\n",
            "Skew:                           0.492   Prob(JB):                     0.000175\n",
            "Kurtosis:                       3.299   Cond. No.                         322.\n",
            "==============================================================================\n",
            "\n",
            "Notes:\n",
            "[1] Standard Errors assume that the covariance matrix of the errors is correctly specified.\n"
          ]
        }
      ],
      "source": [
        "my_lm = smf.ols(\"mpg ~ horsepower\", df).fit()\n",
        "print(my_lm.summary())"
      ]
    },
    {
      "cell_type": "markdown",
      "source": [
        "If you have used STATA or R before then output like this will look pretty familiar. Here we are given A LOT of data so we have to be a bit selective in what we actually want.\n",
        "\n",
        "The most important part is the middle section with the estimated regression coefficients (coef), the standard errors (std err), the test statistics ($t$), the p-values (P>|t|) and a 95% confidence interval. The test statistic and p-value is based on a hypothesis test that the true coefficient is in fact 0. It starts with the assumption that the true coefficient is 0 and considers the probability of getting these results given that. In this case, the probability is approximately 0.000 for both coefficient indicating that there is sufficient evidence to reject this initial hypothesis.\n",
        "\n",
        "In practice you rarely need to do a hypothesis by hand because the results are given straight to you in regression output. However, it is critical to understand what is going on behind the scenes.\n",
        "\n",
        "The output also has a lot of results from other common regression diagnosis tests (some are covered in future lectures)."
      ],
      "metadata": {
        "id": "pmWHv9gXM58g"
      },
      "id": "pmWHv9gXM58g"
    },
    {
      "cell_type": "markdown",
      "source": [
        "## **Confidence Intervals and understanding the t-distribution**"
      ],
      "metadata": {
        "id": "tJbs49ie95iR"
      },
      "id": "tJbs49ie95iR"
    },
    {
      "cell_type": "markdown",
      "source": [
        "If we have a sample from a normal distribution with sample mean $\\bar{x}$ and\n",
        "known the standard deviation, $\\sigma$, the $(1-\\alpha)100\\%$ CI for the\n",
        "estimate of the mean is\n",
        "\n",
        "$$\n",
        "\\bar{x} \\pm z_{\\alpha / 2} \\frac{\\sigma}{\\sqrt{n}}\n",
        "$$\n",
        "\n",
        "where $z_{\\alpha / 2}$ comes from the inverse CDF of the normal distribution. You can look up its value in a book of statistical tables, online or on most modern scientific calculators. Commonly you'll want to find the $z_{\\alpha / 2}$ associated with the 95% or 99% confidence intervals."
      ],
      "metadata": {
        "id": "n4hkEnjD991t"
      },
      "id": "n4hkEnjD991t"
    },
    {
      "cell_type": "markdown",
      "source": [
        "\n",
        "### Question 7\n",
        "\n",
        "Simulate a set of 5 draws from a $N(1,1)$ distribution and, assuming the\n",
        "standard deviation is known, check if the $95\\%$ CI contains the true mean. To do this you  have to work out the confidence interval based on your sample. Tip: define a function to do this because we will use it in future questions."
      ],
      "metadata": {
        "id": "_1o8hKlc-MIe"
      },
      "id": "_1o8hKlc-MIe"
    },
    {
      "cell_type": "code",
      "source": [],
      "metadata": {
        "id": "0j7usS8y96Ya"
      },
      "id": "0j7usS8y96Ya",
      "execution_count": null,
      "outputs": []
    },
    {
      "cell_type": "markdown",
      "source": [
        "### Question 6\n",
        "\n",
        "Now repeat this process (simulating 5 draws and checking if the CI contains the true mean) 1000 times and check how many times it contains the true\n",
        "mean. Do you think the coverage of the CI will be correct and why? Tip: read about coverage [here](https://en.wikipedia.org/wiki/Coverage_probability)."
      ],
      "metadata": {
        "id": "xMiev2ZF-j8c"
      },
      "id": "xMiev2ZF-j8c"
    },
    {
      "cell_type": "code",
      "source": [],
      "metadata": {
        "id": "uMZGeqlj-lHM"
      },
      "id": "uMZGeqlj-lHM",
      "execution_count": null,
      "outputs": []
    },
    {
      "cell_type": "markdown",
      "source": [
        "### Question 7\n",
        "\n",
        "Now repeat this 1000-fold repetition using the *sample* standard deviation instead of the true standard deviation but treat it as though it is known, ie continue with $z_{\\alpha / 2}$. Now do you think the coverage of the CI will be correct and why? Tip: you will have to adjust you confidence interval using the sample standard deviation rather than 1. For the purpose of demonstration, continue to use the normal distribution."
      ],
      "metadata": {
        "id": "1QPIEZnO-sMm"
      },
      "id": "1QPIEZnO-sMm"
    },
    {
      "cell_type": "code",
      "source": [],
      "metadata": {
        "id": "u16jlQAe-vxw"
      },
      "id": "u16jlQAe-vxw",
      "execution_count": null,
      "outputs": []
    },
    {
      "cell_type": "markdown",
      "source": [
        "### Question 8\n",
        "\n",
        "Now repeat this process while accounting for the uncertainty in the standard error, ie use the $t_{\\alpha / 2}$. This is called the _t_-distribution and is used in place of the normal distribution when we have to estimate the standard deviation (note that for $n$ larger than 40 the _t_-distribution is similar to the normal distribution so continuing to use the normal distribution is not a big deal). How many degrees of freedom should you use to calculate your confidence interval? Do you think the coverage of the CI will be correct?"
      ],
      "metadata": {
        "id": "_dFCqVJY-wXz"
      },
      "id": "_dFCqVJY-wXz"
    },
    {
      "cell_type": "markdown",
      "source": [
        "## **Confidence Intervals (Extension)**"
      ],
      "metadata": {
        "id": "E0bm5_oYJux9"
      },
      "id": "E0bm5_oYJux9"
    },
    {
      "cell_type": "markdown",
      "source": [
        "### Parameter estimation of the binomial distribution\n",
        "\n",
        "We want to make an *estimate* of the probability that a coin comes up\n",
        "heads. We also want to understand the level of confidence we have in\n",
        "this estimate; we use a *confidence interval* (CI) to describe the range\n",
        "of values we are confident the \\\"true\\\" probability of heads lies\n",
        "within.\n",
        "\n",
        "Binomial random variables can be used to model the number of times a\n",
        "coin comes up heads when flipped $n$ times. Let $X$ be a binomial random\n",
        "variable (RV) representing the number of heads that are observed when a\n",
        "coin is flipped $n$ times and the probability of coming up heads is $p$.\n",
        "We assume that $n$ is known but $p$ is unknown.\n",
        "\n",
        "The expected value of $X$, ie the average number of times that the coin\n",
        "comes up heads, is $np$ ($E[X]$ of the binomial distribution). So a simple way to estimate $p$ is to divide\n",
        "the number of heads, $X$, by the number of flips, $n$. This gives the\n",
        "estimate\n",
        "\n",
        "$$\n",
        "\\hat{p} = X / n.\n",
        "$$\n",
        "\n",
        "This estimator is called the [the method of\n",
        "moments](https://en.wikipedia.org/wiki/Method_of_moments_(statistics)). This is\n",
        "also an example of a maximum likelihood estimate (MLE). Read more about this if you're interested in it.\n",
        "\n",
        "Given an estimator, such as $\\hat{p}$, we usually want to quantify the\n",
        "uncertainty. One way to construct a CI is to approximate the sampling\n",
        "distribution by a normal distribution. This is a bit crude but valid when $n$ is large. The estimated standard error of $\\hat{p}$ is\n",
        "$\\sqrt{\\hat{p}(1-\\hat{p})/n}$, so the CI is given by\n",
        "\n",
        "$$\n",
        "\\hat{p} \\pm z \\sqrt{\\frac{\\hat{p}(1-\\hat{p})}{n}}\n",
        "$$\n",
        "\n",
        "where $z$ is the appropriate quantile of the standard normal distribution. In\n",
        "the case of a $95\\%$ distribution this value is $1.96$."
      ],
      "metadata": {
        "id": "jjEFPVFgJtaN"
      },
      "id": "jjEFPVFgJtaN"
    },
    {
      "cell_type": "markdown",
      "source": [
        "### Question 9\n",
        "\n",
        "State the limitations on the estimator we are using for the CI."
      ],
      "metadata": {
        "id": "V-pqp7gCJ2M-"
      },
      "id": "V-pqp7gCJ2M-"
    },
    {
      "cell_type": "markdown",
      "source": [],
      "metadata": {
        "id": "Y2AThrzhJ1_j"
      },
      "id": "Y2AThrzhJ1_j"
    },
    {
      "cell_type": "markdown",
      "source": [
        "### Question 10\n",
        "\n",
        "Implement a function called `estimate_and_ci` which takes two\n",
        "arguments: `num_trials` which is $n$ in the description above, and\n",
        "`num_success` which is $X$ above. The function should return\n",
        "`(p_hat,(ci_lower,ci_upper))` where `p_hat` is $\\hat{p}$ and\n",
        "`ci_x` are the limits of the $95\\%$ CI."
      ],
      "metadata": {
        "id": "Xe0f6C9eJ50f"
      },
      "id": "Xe0f6C9eJ50f"
    },
    {
      "cell_type": "code",
      "source": [],
      "metadata": {
        "id": "8LOZ9dzvJ1W1"
      },
      "id": "8LOZ9dzvJ1W1",
      "execution_count": null,
      "outputs": []
    },
    {
      "cell_type": "markdown",
      "source": [
        "### Question 11\n",
        "\n",
        "Simulate a binomial random variable with $n=100$ and $p=0.6$. Then use\n",
        "the value and the `estimate_and_ci` function to see how well you\n",
        "can estimate $p$. Write a couple of sentences to explain this.\n",
        "\n",
        "Recall that in a previous example we have looked at how to simulate\n",
        "random variables using `scipy.stats`."
      ],
      "metadata": {
        "id": "3SDUow8sJ-Bk"
      },
      "id": "3SDUow8sJ-Bk"
    },
    {
      "cell_type": "code",
      "source": [],
      "metadata": {
        "id": "-kpX56AAJ-gl"
      },
      "id": "-kpX56AAJ-gl",
      "execution_count": null,
      "outputs": []
    },
    {
      "cell_type": "markdown",
      "source": [
        "### Question 12\n",
        "\n",
        "Repeat the process from the previous question 100000 times and see what\n",
        "proportion of the CIs capture the true value of $p$. Is it what you\n",
        "expect? Write a couple of sentences to explain what you found."
      ],
      "metadata": {
        "id": "hO2Dc6zOKBrt"
      },
      "id": "hO2Dc6zOKBrt"
    },
    {
      "cell_type": "code",
      "source": [],
      "metadata": {
        "id": "7bviEpZOKCLb"
      },
      "id": "7bviEpZOKCLb",
      "execution_count": null,
      "outputs": []
    }
  ],
  "metadata": {
    "jupytext": {
      "formats": "ipynb,md"
    },
    "kernelspec": {
      "display_name": "Python 3 (ipykernel)",
      "language": "python",
      "name": "python3"
    },
    "language_info": {
      "codemirror_mode": {
        "name": "ipython",
        "version": 3
      },
      "file_extension": ".py",
      "mimetype": "text/x-python",
      "name": "python",
      "nbconvert_exporter": "python",
      "pygments_lexer": "ipython3",
      "version": "3.8.10"
    },
    "colab": {
      "provenance": []
    }
  },
  "nbformat": 4,
  "nbformat_minor": 5
}