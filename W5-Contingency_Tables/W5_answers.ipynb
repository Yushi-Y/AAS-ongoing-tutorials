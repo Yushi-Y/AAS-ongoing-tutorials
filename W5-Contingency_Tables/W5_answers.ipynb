{
  "cells": [
    {
      "cell_type": "markdown",
      "id": "a61f4b1e-5b27-4cdc-83af-1119d0f692a9",
      "metadata": {
        "id": "a61f4b1e-5b27-4cdc-83af-1119d0f692a9"
      },
      "source": [
        "# Week 5: Contingency Tables"
      ]
    },
    {
      "cell_type": "markdown",
      "source": [
        "## **Notebook Overview**\n",
        "\n",
        "This notebook is available on github\n",
        "[here](https://github.com/Yushi-Y/AAS-ongoing-tutorials). If you find errors or would like to suggest an improvement then let me know.\n",
        "\n",
        "This week is about using contingency tables and a $\\chi^{2}$-test to make claims. You will need to use the usual libraries as well as scipy and statsmodels.\n",
        "\n",
        "The next notebook will be looking at logistic regression. I would also recommend spending a little bit of time on logistic regression as it is a much bigger topic and harder to understand!"
      ],
      "metadata": {
        "id": "pCqgqqXeJiAX"
      },
      "id": "pCqgqqXeJiAX"
    },
    {
      "cell_type": "markdown",
      "source": [
        "### **Additional Resources**"
      ],
      "metadata": {
        "id": "aKRyz6L8JYcE"
      },
      "id": "aKRyz6L8JYcE"
    },
    {
      "cell_type": "markdown",
      "source": [
        "1. **YouTube Videos**\n",
        "* [**Contingency Tables:**](https://www.youtube.com/watch?v=W95BgQCp_rQ) Runs through a similar (maybe the same...) example from class but at a slower pace and going into more detail. Okay resource.\n",
        "* [**Hypothesis Testing Example: [Best Resource]**](https://www.youtube.com/watch?v=hpWdDmgsIRE) A good Kahn Academy video walking through a hypothesis test for independence using contingency tables and chi-squared. This is better than the first video. It's at a pace where you can work along with it.\n",
        "* [**Hypothesis Testing with Two Means:**](https://www.youtube.com/watch?v=UcZwyzwWU7o) Relevant more generally.\n",
        "* [**Hypothesis Testing for Proportions:**](https://www.youtube.com/watch?v=76VruarGn2Q) Again, relevant more generally.\n",
        "* [**Ben Lambert on Degrees of Freedom:**](https://www.youtube.com/watch?v=-4aiKmPC994&pp=ygUeYmVuIGxhbWJlcnQgZGVncmVlcyBvZiBmcmVlZG9t) Really useful to understand this but not necessary if you just to want to know how to use the models. Part 2 can be found [here](https://www.youtube.com/watch?v=iA2KZHHZmmg). Would strongly recommend these videos for anyone who has been questioning where we pull the DOF value out from.\n",
        "\n",
        "2. **Documentation**\n",
        "* [**SciPy Contingency Tables**:](https://docs.scipy.org/doc/scipy/reference/generated/scipy.stats.chi2_contingency.html) Use SciPy to do a few of the questions in this notebook.\n",
        "\n",
        "3. **A Level Textbooks**\n",
        "* Contingency tables are topics taught at A Level so have a look at the textbooks. It will be explained at an introductory level there which might be useful if the other resources are too advanced.\n",
        "\n",
        "4. **Textbooks**\n",
        "* It is covered in the Fox textbook (briefly)."
      ],
      "metadata": {
        "id": "PYJq8TbXJZPU"
      },
      "id": "PYJq8TbXJZPU"
    },
    {
      "cell_type": "markdown",
      "source": [
        "As usual we will start by importing some useful libraries."
      ],
      "metadata": {
        "id": "0XUIaQo9JUS0"
      },
      "id": "0XUIaQo9JUS0"
    },
    {
      "cell_type": "code",
      "execution_count": 2,
      "id": "abb9087e-7cbf-43fd-9fd3-6465f613cf03",
      "metadata": {
        "id": "abb9087e-7cbf-43fd-9fd3-6465f613cf03"
      },
      "outputs": [],
      "source": [
        "%config InlineBackend.figure_format = 'svg'\n",
        "import statsmodels.api as sm\n",
        "from statsmodels.graphics.mosaicplot import mosaic\n",
        "import matplotlib.pyplot as plt\n",
        "import pandas as pd\n",
        "import scipy\n",
        "import numpy as np"
      ]
    },
    {
      "cell_type": "markdown",
      "id": "65f9801b-b722-4312-b720-2edb27a6d175",
      "metadata": {
        "id": "65f9801b-b722-4312-b720-2edb27a6d175"
      },
      "source": [
        "Today we will look at a dataset from a double-blind clinical trial of a new\n",
        "treatment for rheumatoid arthritis. We will test whether treatment is correlated\n",
        "with a change in symptoms using a $\\chi^{2}$-test.\n",
        "\n",
        "First, we need to load the data which comes bundled with `statsmodels`."
      ]
    },
    {
      "cell_type": "code",
      "execution_count": 3,
      "id": "de17ffee-8a0c-4730-949a-a7c621c5a1b5",
      "metadata": {
        "id": "de17ffee-8a0c-4730-949a-a7c621c5a1b5",
        "outputId": "1e7796ee-8297-4237-a03a-db8fc5c59af0",
        "colab": {
          "base_uri": "https://localhost:8080/",
          "height": 204
        }
      },
      "outputs": [
        {
          "output_type": "execute_result",
          "data": {
            "text/plain": [
              "   ID Treatment   Sex  Age Improved\n",
              "0  57   Treated  Male   27     Some\n",
              "1  46   Treated  Male   29     None\n",
              "2  77   Treated  Male   30     None\n",
              "3  17   Treated  Male   32   Marked\n",
              "4  36   Treated  Male   46   Marked"
            ],
            "text/html": [
              "\n",
              "  <div id=\"df-45682d74-998a-442c-8b7f-b7828b929b73\" class=\"colab-df-container\">\n",
              "    <div>\n",
              "<style scoped>\n",
              "    .dataframe tbody tr th:only-of-type {\n",
              "        vertical-align: middle;\n",
              "    }\n",
              "\n",
              "    .dataframe tbody tr th {\n",
              "        vertical-align: top;\n",
              "    }\n",
              "\n",
              "    .dataframe thead th {\n",
              "        text-align: right;\n",
              "    }\n",
              "</style>\n",
              "<table border=\"1\" class=\"dataframe\">\n",
              "  <thead>\n",
              "    <tr style=\"text-align: right;\">\n",
              "      <th></th>\n",
              "      <th>ID</th>\n",
              "      <th>Treatment</th>\n",
              "      <th>Sex</th>\n",
              "      <th>Age</th>\n",
              "      <th>Improved</th>\n",
              "    </tr>\n",
              "  </thead>\n",
              "  <tbody>\n",
              "    <tr>\n",
              "      <th>0</th>\n",
              "      <td>57</td>\n",
              "      <td>Treated</td>\n",
              "      <td>Male</td>\n",
              "      <td>27</td>\n",
              "      <td>Some</td>\n",
              "    </tr>\n",
              "    <tr>\n",
              "      <th>1</th>\n",
              "      <td>46</td>\n",
              "      <td>Treated</td>\n",
              "      <td>Male</td>\n",
              "      <td>29</td>\n",
              "      <td>None</td>\n",
              "    </tr>\n",
              "    <tr>\n",
              "      <th>2</th>\n",
              "      <td>77</td>\n",
              "      <td>Treated</td>\n",
              "      <td>Male</td>\n",
              "      <td>30</td>\n",
              "      <td>None</td>\n",
              "    </tr>\n",
              "    <tr>\n",
              "      <th>3</th>\n",
              "      <td>17</td>\n",
              "      <td>Treated</td>\n",
              "      <td>Male</td>\n",
              "      <td>32</td>\n",
              "      <td>Marked</td>\n",
              "    </tr>\n",
              "    <tr>\n",
              "      <th>4</th>\n",
              "      <td>36</td>\n",
              "      <td>Treated</td>\n",
              "      <td>Male</td>\n",
              "      <td>46</td>\n",
              "      <td>Marked</td>\n",
              "    </tr>\n",
              "  </tbody>\n",
              "</table>\n",
              "</div>\n",
              "    <div class=\"colab-df-buttons\">\n",
              "\n",
              "  <div class=\"colab-df-container\">\n",
              "    <button class=\"colab-df-convert\" onclick=\"convertToInteractive('df-45682d74-998a-442c-8b7f-b7828b929b73')\"\n",
              "            title=\"Convert this dataframe to an interactive table.\"\n",
              "            style=\"display:none;\">\n",
              "\n",
              "  <svg xmlns=\"http://www.w3.org/2000/svg\" height=\"24px\" viewBox=\"0 -960 960 960\">\n",
              "    <path d=\"M120-120v-720h720v720H120Zm60-500h600v-160H180v160Zm220 220h160v-160H400v160Zm0 220h160v-160H400v160ZM180-400h160v-160H180v160Zm440 0h160v-160H620v160ZM180-180h160v-160H180v160Zm440 0h160v-160H620v160Z\"/>\n",
              "  </svg>\n",
              "    </button>\n",
              "\n",
              "  <style>\n",
              "    .colab-df-container {\n",
              "      display:flex;\n",
              "      gap: 12px;\n",
              "    }\n",
              "\n",
              "    .colab-df-convert {\n",
              "      background-color: #E8F0FE;\n",
              "      border: none;\n",
              "      border-radius: 50%;\n",
              "      cursor: pointer;\n",
              "      display: none;\n",
              "      fill: #1967D2;\n",
              "      height: 32px;\n",
              "      padding: 0 0 0 0;\n",
              "      width: 32px;\n",
              "    }\n",
              "\n",
              "    .colab-df-convert:hover {\n",
              "      background-color: #E2EBFA;\n",
              "      box-shadow: 0px 1px 2px rgba(60, 64, 67, 0.3), 0px 1px 3px 1px rgba(60, 64, 67, 0.15);\n",
              "      fill: #174EA6;\n",
              "    }\n",
              "\n",
              "    .colab-df-buttons div {\n",
              "      margin-bottom: 4px;\n",
              "    }\n",
              "\n",
              "    [theme=dark] .colab-df-convert {\n",
              "      background-color: #3B4455;\n",
              "      fill: #D2E3FC;\n",
              "    }\n",
              "\n",
              "    [theme=dark] .colab-df-convert:hover {\n",
              "      background-color: #434B5C;\n",
              "      box-shadow: 0px 1px 3px 1px rgba(0, 0, 0, 0.15);\n",
              "      filter: drop-shadow(0px 1px 2px rgba(0, 0, 0, 0.3));\n",
              "      fill: #FFFFFF;\n",
              "    }\n",
              "  </style>\n",
              "\n",
              "    <script>\n",
              "      const buttonEl =\n",
              "        document.querySelector('#df-45682d74-998a-442c-8b7f-b7828b929b73 button.colab-df-convert');\n",
              "      buttonEl.style.display =\n",
              "        google.colab.kernel.accessAllowed ? 'block' : 'none';\n",
              "\n",
              "      async function convertToInteractive(key) {\n",
              "        const element = document.querySelector('#df-45682d74-998a-442c-8b7f-b7828b929b73');\n",
              "        const dataTable =\n",
              "          await google.colab.kernel.invokeFunction('convertToInteractive',\n",
              "                                                    [key], {});\n",
              "        if (!dataTable) return;\n",
              "\n",
              "        const docLinkHtml = 'Like what you see? Visit the ' +\n",
              "          '<a target=\"_blank\" href=https://colab.research.google.com/notebooks/data_table.ipynb>data table notebook</a>'\n",
              "          + ' to learn more about interactive tables.';\n",
              "        element.innerHTML = '';\n",
              "        dataTable['output_type'] = 'display_data';\n",
              "        await google.colab.output.renderOutput(dataTable, element);\n",
              "        const docLink = document.createElement('div');\n",
              "        docLink.innerHTML = docLinkHtml;\n",
              "        element.appendChild(docLink);\n",
              "      }\n",
              "    </script>\n",
              "  </div>\n",
              "\n",
              "\n",
              "<div id=\"df-47b09805-bd31-4053-8054-a123c808c306\">\n",
              "  <button class=\"colab-df-quickchart\" onclick=\"quickchart('df-47b09805-bd31-4053-8054-a123c808c306')\"\n",
              "            title=\"Suggest charts\"\n",
              "            style=\"display:none;\">\n",
              "\n",
              "<svg xmlns=\"http://www.w3.org/2000/svg\" height=\"24px\"viewBox=\"0 0 24 24\"\n",
              "     width=\"24px\">\n",
              "    <g>\n",
              "        <path d=\"M19 3H5c-1.1 0-2 .9-2 2v14c0 1.1.9 2 2 2h14c1.1 0 2-.9 2-2V5c0-1.1-.9-2-2-2zM9 17H7v-7h2v7zm4 0h-2V7h2v10zm4 0h-2v-4h2v4z\"/>\n",
              "    </g>\n",
              "</svg>\n",
              "  </button>\n",
              "\n",
              "<style>\n",
              "  .colab-df-quickchart {\n",
              "      --bg-color: #E8F0FE;\n",
              "      --fill-color: #1967D2;\n",
              "      --hover-bg-color: #E2EBFA;\n",
              "      --hover-fill-color: #174EA6;\n",
              "      --disabled-fill-color: #AAA;\n",
              "      --disabled-bg-color: #DDD;\n",
              "  }\n",
              "\n",
              "  [theme=dark] .colab-df-quickchart {\n",
              "      --bg-color: #3B4455;\n",
              "      --fill-color: #D2E3FC;\n",
              "      --hover-bg-color: #434B5C;\n",
              "      --hover-fill-color: #FFFFFF;\n",
              "      --disabled-bg-color: #3B4455;\n",
              "      --disabled-fill-color: #666;\n",
              "  }\n",
              "\n",
              "  .colab-df-quickchart {\n",
              "    background-color: var(--bg-color);\n",
              "    border: none;\n",
              "    border-radius: 50%;\n",
              "    cursor: pointer;\n",
              "    display: none;\n",
              "    fill: var(--fill-color);\n",
              "    height: 32px;\n",
              "    padding: 0;\n",
              "    width: 32px;\n",
              "  }\n",
              "\n",
              "  .colab-df-quickchart:hover {\n",
              "    background-color: var(--hover-bg-color);\n",
              "    box-shadow: 0 1px 2px rgba(60, 64, 67, 0.3), 0 1px 3px 1px rgba(60, 64, 67, 0.15);\n",
              "    fill: var(--button-hover-fill-color);\n",
              "  }\n",
              "\n",
              "  .colab-df-quickchart-complete:disabled,\n",
              "  .colab-df-quickchart-complete:disabled:hover {\n",
              "    background-color: var(--disabled-bg-color);\n",
              "    fill: var(--disabled-fill-color);\n",
              "    box-shadow: none;\n",
              "  }\n",
              "\n",
              "  .colab-df-spinner {\n",
              "    border: 2px solid var(--fill-color);\n",
              "    border-color: transparent;\n",
              "    border-bottom-color: var(--fill-color);\n",
              "    animation:\n",
              "      spin 1s steps(1) infinite;\n",
              "  }\n",
              "\n",
              "  @keyframes spin {\n",
              "    0% {\n",
              "      border-color: transparent;\n",
              "      border-bottom-color: var(--fill-color);\n",
              "      border-left-color: var(--fill-color);\n",
              "    }\n",
              "    20% {\n",
              "      border-color: transparent;\n",
              "      border-left-color: var(--fill-color);\n",
              "      border-top-color: var(--fill-color);\n",
              "    }\n",
              "    30% {\n",
              "      border-color: transparent;\n",
              "      border-left-color: var(--fill-color);\n",
              "      border-top-color: var(--fill-color);\n",
              "      border-right-color: var(--fill-color);\n",
              "    }\n",
              "    40% {\n",
              "      border-color: transparent;\n",
              "      border-right-color: var(--fill-color);\n",
              "      border-top-color: var(--fill-color);\n",
              "    }\n",
              "    60% {\n",
              "      border-color: transparent;\n",
              "      border-right-color: var(--fill-color);\n",
              "    }\n",
              "    80% {\n",
              "      border-color: transparent;\n",
              "      border-right-color: var(--fill-color);\n",
              "      border-bottom-color: var(--fill-color);\n",
              "    }\n",
              "    90% {\n",
              "      border-color: transparent;\n",
              "      border-bottom-color: var(--fill-color);\n",
              "    }\n",
              "  }\n",
              "</style>\n",
              "\n",
              "  <script>\n",
              "    async function quickchart(key) {\n",
              "      const quickchartButtonEl =\n",
              "        document.querySelector('#' + key + ' button');\n",
              "      quickchartButtonEl.disabled = true;  // To prevent multiple clicks.\n",
              "      quickchartButtonEl.classList.add('colab-df-spinner');\n",
              "      try {\n",
              "        const charts = await google.colab.kernel.invokeFunction(\n",
              "            'suggestCharts', [key], {});\n",
              "      } catch (error) {\n",
              "        console.error('Error during call to suggestCharts:', error);\n",
              "      }\n",
              "      quickchartButtonEl.classList.remove('colab-df-spinner');\n",
              "      quickchartButtonEl.classList.add('colab-df-quickchart-complete');\n",
              "    }\n",
              "    (() => {\n",
              "      let quickchartButtonEl =\n",
              "        document.querySelector('#df-47b09805-bd31-4053-8054-a123c808c306 button');\n",
              "      quickchartButtonEl.style.display =\n",
              "        google.colab.kernel.accessAllowed ? 'block' : 'none';\n",
              "    })();\n",
              "  </script>\n",
              "</div>\n",
              "    </div>\n",
              "  </div>\n"
            ]
          },
          "metadata": {},
          "execution_count": 3
        }
      ],
      "source": [
        "# Access the data\n",
        "ra = sm.datasets.get_rdataset(\"Arthritis\", \"vcd\").data\n",
        "\n",
        "# View it\n",
        "ra.head()"
      ]
    },
    {
      "cell_type": "markdown",
      "id": "c3729f85-5d76-4768-9c94-24533dbd34f1",
      "metadata": {
        "id": "c3729f85-5d76-4768-9c94-24533dbd34f1"
      },
      "source": [
        "### Question 1\n",
        "\n",
        "Use `pandas` to generate a cross tabulation of the treatment status and\n",
        "improvement.\n",
        "\n",
        "[hint](https://pandas.pydata.org/pandas-docs/stable/reference/api/pandas.crosstab.html)"
      ]
    },
    {
      "cell_type": "markdown",
      "source": [
        "\n",
        "### Answer"
      ],
      "metadata": {
        "id": "2cWuE2-HKNZz"
      },
      "id": "2cWuE2-HKNZz"
    },
    {
      "cell_type": "code",
      "execution_count": 4,
      "id": "aa6959e1-34d2-4f4c-9783-4c756dda3407",
      "metadata": {
        "id": "aa6959e1-34d2-4f4c-9783-4c756dda3407",
        "colab": {
          "base_uri": "https://localhost:8080/",
          "height": 142
        },
        "outputId": "44243ace-440c-457b-c3b0-d8a0c756070d"
      },
      "outputs": [
        {
          "output_type": "display_data",
          "data": {
            "text/plain": [
              "Improved   Marked  None  Some\n",
              "Treatment                    \n",
              "Placebo         7    29     7\n",
              "Treated        21    13     7"
            ],
            "text/html": [
              "\n",
              "  <div id=\"df-98accbe8-3041-4af6-88a3-1eb869e2da25\" class=\"colab-df-container\">\n",
              "    <div>\n",
              "<style scoped>\n",
              "    .dataframe tbody tr th:only-of-type {\n",
              "        vertical-align: middle;\n",
              "    }\n",
              "\n",
              "    .dataframe tbody tr th {\n",
              "        vertical-align: top;\n",
              "    }\n",
              "\n",
              "    .dataframe thead th {\n",
              "        text-align: right;\n",
              "    }\n",
              "</style>\n",
              "<table border=\"1\" class=\"dataframe\">\n",
              "  <thead>\n",
              "    <tr style=\"text-align: right;\">\n",
              "      <th>Improved</th>\n",
              "      <th>Marked</th>\n",
              "      <th>None</th>\n",
              "      <th>Some</th>\n",
              "    </tr>\n",
              "    <tr>\n",
              "      <th>Treatment</th>\n",
              "      <th></th>\n",
              "      <th></th>\n",
              "      <th></th>\n",
              "    </tr>\n",
              "  </thead>\n",
              "  <tbody>\n",
              "    <tr>\n",
              "      <th>Placebo</th>\n",
              "      <td>7</td>\n",
              "      <td>29</td>\n",
              "      <td>7</td>\n",
              "    </tr>\n",
              "    <tr>\n",
              "      <th>Treated</th>\n",
              "      <td>21</td>\n",
              "      <td>13</td>\n",
              "      <td>7</td>\n",
              "    </tr>\n",
              "  </tbody>\n",
              "</table>\n",
              "</div>\n",
              "    <div class=\"colab-df-buttons\">\n",
              "\n",
              "  <div class=\"colab-df-container\">\n",
              "    <button class=\"colab-df-convert\" onclick=\"convertToInteractive('df-98accbe8-3041-4af6-88a3-1eb869e2da25')\"\n",
              "            title=\"Convert this dataframe to an interactive table.\"\n",
              "            style=\"display:none;\">\n",
              "\n",
              "  <svg xmlns=\"http://www.w3.org/2000/svg\" height=\"24px\" viewBox=\"0 -960 960 960\">\n",
              "    <path d=\"M120-120v-720h720v720H120Zm60-500h600v-160H180v160Zm220 220h160v-160H400v160Zm0 220h160v-160H400v160ZM180-400h160v-160H180v160Zm440 0h160v-160H620v160ZM180-180h160v-160H180v160Zm440 0h160v-160H620v160Z\"/>\n",
              "  </svg>\n",
              "    </button>\n",
              "\n",
              "  <style>\n",
              "    .colab-df-container {\n",
              "      display:flex;\n",
              "      gap: 12px;\n",
              "    }\n",
              "\n",
              "    .colab-df-convert {\n",
              "      background-color: #E8F0FE;\n",
              "      border: none;\n",
              "      border-radius: 50%;\n",
              "      cursor: pointer;\n",
              "      display: none;\n",
              "      fill: #1967D2;\n",
              "      height: 32px;\n",
              "      padding: 0 0 0 0;\n",
              "      width: 32px;\n",
              "    }\n",
              "\n",
              "    .colab-df-convert:hover {\n",
              "      background-color: #E2EBFA;\n",
              "      box-shadow: 0px 1px 2px rgba(60, 64, 67, 0.3), 0px 1px 3px 1px rgba(60, 64, 67, 0.15);\n",
              "      fill: #174EA6;\n",
              "    }\n",
              "\n",
              "    .colab-df-buttons div {\n",
              "      margin-bottom: 4px;\n",
              "    }\n",
              "\n",
              "    [theme=dark] .colab-df-convert {\n",
              "      background-color: #3B4455;\n",
              "      fill: #D2E3FC;\n",
              "    }\n",
              "\n",
              "    [theme=dark] .colab-df-convert:hover {\n",
              "      background-color: #434B5C;\n",
              "      box-shadow: 0px 1px 3px 1px rgba(0, 0, 0, 0.15);\n",
              "      filter: drop-shadow(0px 1px 2px rgba(0, 0, 0, 0.3));\n",
              "      fill: #FFFFFF;\n",
              "    }\n",
              "  </style>\n",
              "\n",
              "    <script>\n",
              "      const buttonEl =\n",
              "        document.querySelector('#df-98accbe8-3041-4af6-88a3-1eb869e2da25 button.colab-df-convert');\n",
              "      buttonEl.style.display =\n",
              "        google.colab.kernel.accessAllowed ? 'block' : 'none';\n",
              "\n",
              "      async function convertToInteractive(key) {\n",
              "        const element = document.querySelector('#df-98accbe8-3041-4af6-88a3-1eb869e2da25');\n",
              "        const dataTable =\n",
              "          await google.colab.kernel.invokeFunction('convertToInteractive',\n",
              "                                                    [key], {});\n",
              "        if (!dataTable) return;\n",
              "\n",
              "        const docLinkHtml = 'Like what you see? Visit the ' +\n",
              "          '<a target=\"_blank\" href=https://colab.research.google.com/notebooks/data_table.ipynb>data table notebook</a>'\n",
              "          + ' to learn more about interactive tables.';\n",
              "        element.innerHTML = '';\n",
              "        dataTable['output_type'] = 'display_data';\n",
              "        await google.colab.output.renderOutput(dataTable, element);\n",
              "        const docLink = document.createElement('div');\n",
              "        docLink.innerHTML = docLinkHtml;\n",
              "        element.appendChild(docLink);\n",
              "      }\n",
              "    </script>\n",
              "  </div>\n",
              "\n",
              "\n",
              "<div id=\"df-d728aa17-68e3-46d3-bcd5-7af9aa3a43a9\">\n",
              "  <button class=\"colab-df-quickchart\" onclick=\"quickchart('df-d728aa17-68e3-46d3-bcd5-7af9aa3a43a9')\"\n",
              "            title=\"Suggest charts\"\n",
              "            style=\"display:none;\">\n",
              "\n",
              "<svg xmlns=\"http://www.w3.org/2000/svg\" height=\"24px\"viewBox=\"0 0 24 24\"\n",
              "     width=\"24px\">\n",
              "    <g>\n",
              "        <path d=\"M19 3H5c-1.1 0-2 .9-2 2v14c0 1.1.9 2 2 2h14c1.1 0 2-.9 2-2V5c0-1.1-.9-2-2-2zM9 17H7v-7h2v7zm4 0h-2V7h2v10zm4 0h-2v-4h2v4z\"/>\n",
              "    </g>\n",
              "</svg>\n",
              "  </button>\n",
              "\n",
              "<style>\n",
              "  .colab-df-quickchart {\n",
              "      --bg-color: #E8F0FE;\n",
              "      --fill-color: #1967D2;\n",
              "      --hover-bg-color: #E2EBFA;\n",
              "      --hover-fill-color: #174EA6;\n",
              "      --disabled-fill-color: #AAA;\n",
              "      --disabled-bg-color: #DDD;\n",
              "  }\n",
              "\n",
              "  [theme=dark] .colab-df-quickchart {\n",
              "      --bg-color: #3B4455;\n",
              "      --fill-color: #D2E3FC;\n",
              "      --hover-bg-color: #434B5C;\n",
              "      --hover-fill-color: #FFFFFF;\n",
              "      --disabled-bg-color: #3B4455;\n",
              "      --disabled-fill-color: #666;\n",
              "  }\n",
              "\n",
              "  .colab-df-quickchart {\n",
              "    background-color: var(--bg-color);\n",
              "    border: none;\n",
              "    border-radius: 50%;\n",
              "    cursor: pointer;\n",
              "    display: none;\n",
              "    fill: var(--fill-color);\n",
              "    height: 32px;\n",
              "    padding: 0;\n",
              "    width: 32px;\n",
              "  }\n",
              "\n",
              "  .colab-df-quickchart:hover {\n",
              "    background-color: var(--hover-bg-color);\n",
              "    box-shadow: 0 1px 2px rgba(60, 64, 67, 0.3), 0 1px 3px 1px rgba(60, 64, 67, 0.15);\n",
              "    fill: var(--button-hover-fill-color);\n",
              "  }\n",
              "\n",
              "  .colab-df-quickchart-complete:disabled,\n",
              "  .colab-df-quickchart-complete:disabled:hover {\n",
              "    background-color: var(--disabled-bg-color);\n",
              "    fill: var(--disabled-fill-color);\n",
              "    box-shadow: none;\n",
              "  }\n",
              "\n",
              "  .colab-df-spinner {\n",
              "    border: 2px solid var(--fill-color);\n",
              "    border-color: transparent;\n",
              "    border-bottom-color: var(--fill-color);\n",
              "    animation:\n",
              "      spin 1s steps(1) infinite;\n",
              "  }\n",
              "\n",
              "  @keyframes spin {\n",
              "    0% {\n",
              "      border-color: transparent;\n",
              "      border-bottom-color: var(--fill-color);\n",
              "      border-left-color: var(--fill-color);\n",
              "    }\n",
              "    20% {\n",
              "      border-color: transparent;\n",
              "      border-left-color: var(--fill-color);\n",
              "      border-top-color: var(--fill-color);\n",
              "    }\n",
              "    30% {\n",
              "      border-color: transparent;\n",
              "      border-left-color: var(--fill-color);\n",
              "      border-top-color: var(--fill-color);\n",
              "      border-right-color: var(--fill-color);\n",
              "    }\n",
              "    40% {\n",
              "      border-color: transparent;\n",
              "      border-right-color: var(--fill-color);\n",
              "      border-top-color: var(--fill-color);\n",
              "    }\n",
              "    60% {\n",
              "      border-color: transparent;\n",
              "      border-right-color: var(--fill-color);\n",
              "    }\n",
              "    80% {\n",
              "      border-color: transparent;\n",
              "      border-right-color: var(--fill-color);\n",
              "      border-bottom-color: var(--fill-color);\n",
              "    }\n",
              "    90% {\n",
              "      border-color: transparent;\n",
              "      border-bottom-color: var(--fill-color);\n",
              "    }\n",
              "  }\n",
              "</style>\n",
              "\n",
              "  <script>\n",
              "    async function quickchart(key) {\n",
              "      const quickchartButtonEl =\n",
              "        document.querySelector('#' + key + ' button');\n",
              "      quickchartButtonEl.disabled = true;  // To prevent multiple clicks.\n",
              "      quickchartButtonEl.classList.add('colab-df-spinner');\n",
              "      try {\n",
              "        const charts = await google.colab.kernel.invokeFunction(\n",
              "            'suggestCharts', [key], {});\n",
              "      } catch (error) {\n",
              "        console.error('Error during call to suggestCharts:', error);\n",
              "      }\n",
              "      quickchartButtonEl.classList.remove('colab-df-spinner');\n",
              "      quickchartButtonEl.classList.add('colab-df-quickchart-complete');\n",
              "    }\n",
              "    (() => {\n",
              "      let quickchartButtonEl =\n",
              "        document.querySelector('#df-d728aa17-68e3-46d3-bcd5-7af9aa3a43a9 button');\n",
              "      quickchartButtonEl.style.display =\n",
              "        google.colab.kernel.accessAllowed ? 'block' : 'none';\n",
              "    })();\n",
              "  </script>\n",
              "</div>\n",
              "    </div>\n",
              "  </div>\n"
            ]
          },
          "metadata": {}
        }
      ],
      "source": [
        "# Pandas crosstab function\n",
        "outcome_tbl = pd.crosstab(ra.Treatment, ra.Improved)\n",
        "display(outcome_tbl)"
      ]
    },
    {
      "cell_type": "markdown",
      "id": "e07a21a7-d039-45c8-b89f-f0051b889cab",
      "metadata": {
        "id": "e07a21a7-d039-45c8-b89f-f0051b889cab"
      },
      "source": [
        "### Question 2\n",
        "\n",
        "Generate a mosaic plot to display this data.\n",
        "\n",
        "[hint](https://www.statsmodels.org/dev/generated/statsmodels.graphics.mosaicplot.mosaic.html)"
      ]
    },
    {
      "cell_type": "markdown",
      "source": [
        "### Answer"
      ],
      "metadata": {
        "id": "LKaBngGTKQCM"
      },
      "id": "LKaBngGTKQCM"
    },
    {
      "cell_type": "code",
      "execution_count": 5,
      "id": "07c7b300-f8a2-44e9-8bc9-0dd04f720d68",
      "metadata": {
        "id": "07c7b300-f8a2-44e9-8bc9-0dd04f720d68",
        "colab": {
          "base_uri": "https://localhost:8080/",
          "height": 437
        },
        "outputId": "8c7c85a5-36c1-461b-9926-a50bf88135b3"
      },
      "outputs": [
        {
          "output_type": "display_data",
          "data": {
            "text/plain": [
              "<Figure size 640x480 with 3 Axes>"
            ],
            "image/svg+xml": "<?xml version=\"1.0\" encoding=\"utf-8\" standalone=\"no\"?>\n<!DOCTYPE svg PUBLIC \"-//W3C//DTD SVG 1.1//EN\"\n  \"http://www.w3.org/Graphics/SVG/1.1/DTD/svg11.dtd\">\n<svg xmlns:xlink=\"http://www.w3.org/1999/xlink\" width=\"415.316875pt\" height=\"312.30825pt\" viewBox=\"0 0 415.316875 312.30825\" xmlns=\"http://www.w3.org/2000/svg\" version=\"1.1\">\n <metadata>\n  <rdf:RDF xmlns:dc=\"http://purl.org/dc/elements/1.1/\" xmlns:cc=\"http://creativecommons.org/ns#\" xmlns:rdf=\"http://www.w3.org/1999/02/22-rdf-syntax-ns#\">\n   <cc:Work>\n    <dc:type rdf:resource=\"http://purl.org/dc/dcmitype/StillImage\"/>\n    <dc:date>2023-11-15T10:42:31.304731</dc:date>\n    <dc:format>image/svg+xml</dc:format>\n    <dc:creator>\n     <cc:Agent>\n      <dc:title>Matplotlib v3.7.1, https://matplotlib.org/</dc:title>\n     </cc:Agent>\n    </dc:creator>\n   </cc:Work>\n  </rdf:RDF>\n </metadata>\n <defs>\n  <style type=\"text/css\">*{stroke-linejoin: round; stroke-linecap: butt}</style>\n </defs>\n <g id=\"figure_1\">\n  <g id=\"patch_1\">\n   <path d=\"M 0 312.30825 \nL 415.316875 312.30825 \nL 415.316875 0 \nL 0 0 \nz\n\" style=\"fill: #ffffff\"/>\n  </g>\n  <g id=\"axes_1\">\n   <g id=\"patch_2\">\n    <path d=\"M 50.996875 288.430125 \nL 408.116875 288.430125 \nL 408.116875 22.318125 \nL 50.996875 22.318125 \nz\n\" style=\"fill: #ffffff\"/>\n   </g>\n   <g id=\"patch_3\">\n    <path d=\"M 50.996875 288.430125 \nL 224.43824 288.430125 \nL 224.43824 243.297255 \nL 50.996875 243.297255 \nz\n\" clip-path=\"url(#pb344d5bfbf)\" style=\"fill: #804040\"/>\n   </g>\n   <g id=\"patch_4\">\n    <path d=\"M 50.996875 242.416089 \nL 224.43824 242.416089 \nL 224.43824 158.597901 \nL 50.996875 158.597901 \nz\n\" clip-path=\"url(#pb344d5bfbf)\" style=\"fill: #802b2b\"/>\n   </g>\n   <g id=\"patch_5\">\n    <path d=\"M 50.996875 157.716736 \nL 224.43824 157.716736 \nL 224.43824 22.318125 \nL 50.996875 22.318125 \nz\n\" clip-path=\"url(#pb344d5bfbf)\" style=\"fill: #801515\"/>\n   </g>\n   <g id=\"patch_6\">\n    <path d=\"M 226.214956 288.430125 \nL 408.116875 288.430125 \nL 408.116875 245.396458 \nL 226.214956 245.396458 \nz\n\" clip-path=\"url(#pb344d5bfbf)\" style=\"fill: #408040\"/>\n   </g>\n   <g id=\"patch_7\">\n    <path d=\"M 226.214956 244.515292 \nL 408.116875 244.515292 \nL 408.116875 66.232958 \nL 226.214956 66.232958 \nz\n\" clip-path=\"url(#pb344d5bfbf)\" style=\"fill: #2b802b\"/>\n   </g>\n   <g id=\"patch_8\">\n    <path d=\"M 226.214956 65.351792 \nL 408.116875 65.351792 \nL 408.116875 22.318125 \nL 226.214956 22.318125 \nz\n\" clip-path=\"url(#pb344d5bfbf)\" style=\"fill: #158015\"/>\n   </g>\n   <g id=\"matplotlib.axis_1\">\n    <g id=\"xtick_1\">\n     <g id=\"line2d_1\">\n      <defs>\n       <path id=\"mfb580d22fa\" d=\"M 0 0 \nL 0 3.5 \n\" style=\"stroke: #000000; stroke-width: 0.8\"/>\n      </defs>\n      <g>\n       <use xlink:href=\"#mfb580d22fa\" x=\"137.717557\" y=\"288.430125\" style=\"stroke: #000000; stroke-width: 0.8\"/>\n      </g>\n     </g>\n     <g id=\"text_1\">\n      <!-- Treated -->\n      <g transform=\"translate(119.10662 303.028562) scale(0.1 -0.1)\">\n       <defs>\n        <path id=\"DejaVuSans-54\" d=\"M -19 4666 \nL 3928 4666 \nL 3928 4134 \nL 2272 4134 \nL 2272 0 \nL 1638 0 \nL 1638 4134 \nL -19 4134 \nL -19 4666 \nz\n\" transform=\"scale(0.015625)\"/>\n        <path id=\"DejaVuSans-72\" d=\"M 2631 2963 \nQ 2534 3019 2420 3045 \nQ 2306 3072 2169 3072 \nQ 1681 3072 1420 2755 \nQ 1159 2438 1159 1844 \nL 1159 0 \nL 581 0 \nL 581 3500 \nL 1159 3500 \nL 1159 2956 \nQ 1341 3275 1631 3429 \nQ 1922 3584 2338 3584 \nQ 2397 3584 2469 3576 \nQ 2541 3569 2628 3553 \nL 2631 2963 \nz\n\" transform=\"scale(0.015625)\"/>\n        <path id=\"DejaVuSans-65\" d=\"M 3597 1894 \nL 3597 1613 \nL 953 1613 \nQ 991 1019 1311 708 \nQ 1631 397 2203 397 \nQ 2534 397 2845 478 \nQ 3156 559 3463 722 \nL 3463 178 \nQ 3153 47 2828 -22 \nQ 2503 -91 2169 -91 \nQ 1331 -91 842 396 \nQ 353 884 353 1716 \nQ 353 2575 817 3079 \nQ 1281 3584 2069 3584 \nQ 2775 3584 3186 3129 \nQ 3597 2675 3597 1894 \nz\nM 3022 2063 \nQ 3016 2534 2758 2815 \nQ 2500 3097 2075 3097 \nQ 1594 3097 1305 2825 \nQ 1016 2553 972 2059 \nL 3022 2063 \nz\n\" transform=\"scale(0.015625)\"/>\n        <path id=\"DejaVuSans-61\" d=\"M 2194 1759 \nQ 1497 1759 1228 1600 \nQ 959 1441 959 1056 \nQ 959 750 1161 570 \nQ 1363 391 1709 391 \nQ 2188 391 2477 730 \nQ 2766 1069 2766 1631 \nL 2766 1759 \nL 2194 1759 \nz\nM 3341 1997 \nL 3341 0 \nL 2766 0 \nL 2766 531 \nQ 2569 213 2275 61 \nQ 1981 -91 1556 -91 \nQ 1019 -91 701 211 \nQ 384 513 384 1019 \nQ 384 1609 779 1909 \nQ 1175 2209 1959 2209 \nL 2766 2209 \nL 2766 2266 \nQ 2766 2663 2505 2880 \nQ 2244 3097 1772 3097 \nQ 1472 3097 1187 3025 \nQ 903 2953 641 2809 \nL 641 3341 \nQ 956 3463 1253 3523 \nQ 1550 3584 1831 3584 \nQ 2591 3584 2966 3190 \nQ 3341 2797 3341 1997 \nz\n\" transform=\"scale(0.015625)\"/>\n        <path id=\"DejaVuSans-74\" d=\"M 1172 4494 \nL 1172 3500 \nL 2356 3500 \nL 2356 3053 \nL 1172 3053 \nL 1172 1153 \nQ 1172 725 1289 603 \nQ 1406 481 1766 481 \nL 2356 481 \nL 2356 0 \nL 1766 0 \nQ 1100 0 847 248 \nQ 594 497 594 1153 \nL 594 3053 \nL 172 3053 \nL 172 3500 \nL 594 3500 \nL 594 4494 \nL 1172 4494 \nz\n\" transform=\"scale(0.015625)\"/>\n        <path id=\"DejaVuSans-64\" d=\"M 2906 2969 \nL 2906 4863 \nL 3481 4863 \nL 3481 0 \nL 2906 0 \nL 2906 525 \nQ 2725 213 2448 61 \nQ 2172 -91 1784 -91 \nQ 1150 -91 751 415 \nQ 353 922 353 1747 \nQ 353 2572 751 3078 \nQ 1150 3584 1784 3584 \nQ 2172 3584 2448 3432 \nQ 2725 3281 2906 2969 \nz\nM 947 1747 \nQ 947 1113 1208 752 \nQ 1469 391 1925 391 \nQ 2381 391 2643 752 \nQ 2906 1113 2906 1747 \nQ 2906 2381 2643 2742 \nQ 2381 3103 1925 3103 \nQ 1469 3103 1208 2742 \nQ 947 2381 947 1747 \nz\n\" transform=\"scale(0.015625)\"/>\n       </defs>\n       <use xlink:href=\"#DejaVuSans-54\"/>\n       <use xlink:href=\"#DejaVuSans-72\" x=\"46.333984\"/>\n       <use xlink:href=\"#DejaVuSans-65\" x=\"85.197266\"/>\n       <use xlink:href=\"#DejaVuSans-61\" x=\"146.720703\"/>\n       <use xlink:href=\"#DejaVuSans-74\" x=\"208\"/>\n       <use xlink:href=\"#DejaVuSans-65\" x=\"247.208984\"/>\n       <use xlink:href=\"#DejaVuSans-64\" x=\"308.732422\"/>\n      </g>\n     </g>\n    </g>\n    <g id=\"xtick_2\">\n     <g id=\"line2d_2\">\n      <g>\n       <use xlink:href=\"#mfb580d22fa\" x=\"317.165916\" y=\"288.430125\" style=\"stroke: #000000; stroke-width: 0.8\"/>\n      </g>\n     </g>\n     <g id=\"text_2\">\n      <!-- Placebo -->\n      <g transform=\"translate(297.638572 303.028562) scale(0.1 -0.1)\">\n       <defs>\n        <path id=\"DejaVuSans-50\" d=\"M 1259 4147 \nL 1259 2394 \nL 2053 2394 \nQ 2494 2394 2734 2622 \nQ 2975 2850 2975 3272 \nQ 2975 3691 2734 3919 \nQ 2494 4147 2053 4147 \nL 1259 4147 \nz\nM 628 4666 \nL 2053 4666 \nQ 2838 4666 3239 4311 \nQ 3641 3956 3641 3272 \nQ 3641 2581 3239 2228 \nQ 2838 1875 2053 1875 \nL 1259 1875 \nL 1259 0 \nL 628 0 \nL 628 4666 \nz\n\" transform=\"scale(0.015625)\"/>\n        <path id=\"DejaVuSans-6c\" d=\"M 603 4863 \nL 1178 4863 \nL 1178 0 \nL 603 0 \nL 603 4863 \nz\n\" transform=\"scale(0.015625)\"/>\n        <path id=\"DejaVuSans-63\" d=\"M 3122 3366 \nL 3122 2828 \nQ 2878 2963 2633 3030 \nQ 2388 3097 2138 3097 \nQ 1578 3097 1268 2742 \nQ 959 2388 959 1747 \nQ 959 1106 1268 751 \nQ 1578 397 2138 397 \nQ 2388 397 2633 464 \nQ 2878 531 3122 666 \nL 3122 134 \nQ 2881 22 2623 -34 \nQ 2366 -91 2075 -91 \nQ 1284 -91 818 406 \nQ 353 903 353 1747 \nQ 353 2603 823 3093 \nQ 1294 3584 2113 3584 \nQ 2378 3584 2631 3529 \nQ 2884 3475 3122 3366 \nz\n\" transform=\"scale(0.015625)\"/>\n        <path id=\"DejaVuSans-62\" d=\"M 3116 1747 \nQ 3116 2381 2855 2742 \nQ 2594 3103 2138 3103 \nQ 1681 3103 1420 2742 \nQ 1159 2381 1159 1747 \nQ 1159 1113 1420 752 \nQ 1681 391 2138 391 \nQ 2594 391 2855 752 \nQ 3116 1113 3116 1747 \nz\nM 1159 2969 \nQ 1341 3281 1617 3432 \nQ 1894 3584 2278 3584 \nQ 2916 3584 3314 3078 \nQ 3713 2572 3713 1747 \nQ 3713 922 3314 415 \nQ 2916 -91 2278 -91 \nQ 1894 -91 1617 61 \nQ 1341 213 1159 525 \nL 1159 0 \nL 581 0 \nL 581 4863 \nL 1159 4863 \nL 1159 2969 \nz\n\" transform=\"scale(0.015625)\"/>\n        <path id=\"DejaVuSans-6f\" d=\"M 1959 3097 \nQ 1497 3097 1228 2736 \nQ 959 2375 959 1747 \nQ 959 1119 1226 758 \nQ 1494 397 1959 397 \nQ 2419 397 2687 759 \nQ 2956 1122 2956 1747 \nQ 2956 2369 2687 2733 \nQ 2419 3097 1959 3097 \nz\nM 1959 3584 \nQ 2709 3584 3137 3096 \nQ 3566 2609 3566 1747 \nQ 3566 888 3137 398 \nQ 2709 -91 1959 -91 \nQ 1206 -91 779 398 \nQ 353 888 353 1747 \nQ 353 2609 779 3096 \nQ 1206 3584 1959 3584 \nz\n\" transform=\"scale(0.015625)\"/>\n       </defs>\n       <use xlink:href=\"#DejaVuSans-50\"/>\n       <use xlink:href=\"#DejaVuSans-6c\" x=\"60.302734\"/>\n       <use xlink:href=\"#DejaVuSans-61\" x=\"88.085938\"/>\n       <use xlink:href=\"#DejaVuSans-63\" x=\"149.365234\"/>\n       <use xlink:href=\"#DejaVuSans-65\" x=\"204.345703\"/>\n       <use xlink:href=\"#DejaVuSans-62\" x=\"265.869141\"/>\n       <use xlink:href=\"#DejaVuSans-6f\" x=\"329.345703\"/>\n      </g>\n     </g>\n    </g>\n   </g>\n   <g id=\"matplotlib.axis_2\">\n    <g id=\"ytick_1\">\n     <g id=\"line2d_3\">\n      <defs>\n       <path id=\"m5a98e7ffab\" d=\"M 0 0 \nL -3.5 0 \n\" style=\"stroke: #000000; stroke-width: 0.8\"/>\n      </defs>\n      <g>\n       <use xlink:href=\"#m5a98e7ffab\" x=\"50.996875\" y=\"265.86369\" style=\"stroke: #000000; stroke-width: 0.8\"/>\n      </g>\n     </g>\n     <g id=\"text_3\">\n      <!-- Some -->\n      <g transform=\"translate(15.635938 269.662909) scale(0.1 -0.1)\">\n       <defs>\n        <path id=\"DejaVuSans-53\" d=\"M 3425 4513 \nL 3425 3897 \nQ 3066 4069 2747 4153 \nQ 2428 4238 2131 4238 \nQ 1616 4238 1336 4038 \nQ 1056 3838 1056 3469 \nQ 1056 3159 1242 3001 \nQ 1428 2844 1947 2747 \nL 2328 2669 \nQ 3034 2534 3370 2195 \nQ 3706 1856 3706 1288 \nQ 3706 609 3251 259 \nQ 2797 -91 1919 -91 \nQ 1588 -91 1214 -16 \nQ 841 59 441 206 \nL 441 856 \nQ 825 641 1194 531 \nQ 1563 422 1919 422 \nQ 2459 422 2753 634 \nQ 3047 847 3047 1241 \nQ 3047 1584 2836 1778 \nQ 2625 1972 2144 2069 \nL 1759 2144 \nQ 1053 2284 737 2584 \nQ 422 2884 422 3419 \nQ 422 4038 858 4394 \nQ 1294 4750 2059 4750 \nQ 2388 4750 2728 4690 \nQ 3069 4631 3425 4513 \nz\n\" transform=\"scale(0.015625)\"/>\n        <path id=\"DejaVuSans-6d\" d=\"M 3328 2828 \nQ 3544 3216 3844 3400 \nQ 4144 3584 4550 3584 \nQ 5097 3584 5394 3201 \nQ 5691 2819 5691 2113 \nL 5691 0 \nL 5113 0 \nL 5113 2094 \nQ 5113 2597 4934 2840 \nQ 4756 3084 4391 3084 \nQ 3944 3084 3684 2787 \nQ 3425 2491 3425 1978 \nL 3425 0 \nL 2847 0 \nL 2847 2094 \nQ 2847 2600 2669 2842 \nQ 2491 3084 2119 3084 \nQ 1678 3084 1418 2786 \nQ 1159 2488 1159 1978 \nL 1159 0 \nL 581 0 \nL 581 3500 \nL 1159 3500 \nL 1159 2956 \nQ 1356 3278 1631 3431 \nQ 1906 3584 2284 3584 \nQ 2666 3584 2933 3390 \nQ 3200 3197 3328 2828 \nz\n\" transform=\"scale(0.015625)\"/>\n       </defs>\n       <use xlink:href=\"#DejaVuSans-53\"/>\n       <use xlink:href=\"#DejaVuSans-6f\" x=\"63.476562\"/>\n       <use xlink:href=\"#DejaVuSans-6d\" x=\"124.658203\"/>\n       <use xlink:href=\"#DejaVuSans-65\" x=\"222.070312\"/>\n      </g>\n     </g>\n    </g>\n    <g id=\"ytick_2\">\n     <g id=\"line2d_4\">\n      <g>\n       <use xlink:href=\"#m5a98e7ffab\" x=\"50.996875\" y=\"200.506995\" style=\"stroke: #000000; stroke-width: 0.8\"/>\n      </g>\n     </g>\n     <g id=\"text_4\">\n      <!-- None -->\n      <g transform=\"translate(17.90625 204.306214) scale(0.1 -0.1)\">\n       <defs>\n        <path id=\"DejaVuSans-4e\" d=\"M 628 4666 \nL 1478 4666 \nL 3547 763 \nL 3547 4666 \nL 4159 4666 \nL 4159 0 \nL 3309 0 \nL 1241 3903 \nL 1241 0 \nL 628 0 \nL 628 4666 \nz\n\" transform=\"scale(0.015625)\"/>\n        <path id=\"DejaVuSans-6e\" d=\"M 3513 2113 \nL 3513 0 \nL 2938 0 \nL 2938 2094 \nQ 2938 2591 2744 2837 \nQ 2550 3084 2163 3084 \nQ 1697 3084 1428 2787 \nQ 1159 2491 1159 1978 \nL 1159 0 \nL 581 0 \nL 581 3500 \nL 1159 3500 \nL 1159 2956 \nQ 1366 3272 1645 3428 \nQ 1925 3584 2291 3584 \nQ 2894 3584 3203 3211 \nQ 3513 2838 3513 2113 \nz\n\" transform=\"scale(0.015625)\"/>\n       </defs>\n       <use xlink:href=\"#DejaVuSans-4e\"/>\n       <use xlink:href=\"#DejaVuSans-6f\" x=\"74.804688\"/>\n       <use xlink:href=\"#DejaVuSans-6e\" x=\"135.986328\"/>\n       <use xlink:href=\"#DejaVuSans-65\" x=\"199.365234\"/>\n      </g>\n     </g>\n    </g>\n    <g id=\"ytick_3\">\n     <g id=\"line2d_5\">\n      <g>\n       <use xlink:href=\"#m5a98e7ffab\" x=\"50.996875\" y=\"90.01743\" style=\"stroke: #000000; stroke-width: 0.8\"/>\n      </g>\n     </g>\n     <g id=\"text_5\">\n      <!-- Marked -->\n      <g transform=\"translate(7.2 93.816649) scale(0.1 -0.1)\">\n       <defs>\n        <path id=\"DejaVuSans-4d\" d=\"M 628 4666 \nL 1569 4666 \nL 2759 1491 \nL 3956 4666 \nL 4897 4666 \nL 4897 0 \nL 4281 0 \nL 4281 4097 \nL 3078 897 \nL 2444 897 \nL 1241 4097 \nL 1241 0 \nL 628 0 \nL 628 4666 \nz\n\" transform=\"scale(0.015625)\"/>\n        <path id=\"DejaVuSans-6b\" d=\"M 581 4863 \nL 1159 4863 \nL 1159 1991 \nL 2875 3500 \nL 3609 3500 \nL 1753 1863 \nL 3688 0 \nL 2938 0 \nL 1159 1709 \nL 1159 0 \nL 581 0 \nL 581 4863 \nz\n\" transform=\"scale(0.015625)\"/>\n       </defs>\n       <use xlink:href=\"#DejaVuSans-4d\"/>\n       <use xlink:href=\"#DejaVuSans-61\" x=\"86.279297\"/>\n       <use xlink:href=\"#DejaVuSans-72\" x=\"147.558594\"/>\n       <use xlink:href=\"#DejaVuSans-6b\" x=\"188.671875\"/>\n       <use xlink:href=\"#DejaVuSans-65\" x=\"242.957031\"/>\n       <use xlink:href=\"#DejaVuSans-64\" x=\"304.480469\"/>\n      </g>\n     </g>\n    </g>\n   </g>\n   <g id=\"patch_9\">\n    <path d=\"M 50.996875 288.430125 \nL 50.996875 22.318125 \n\" style=\"fill: none; stroke: #000000; stroke-width: 0.8; stroke-linejoin: miter; stroke-linecap: square\"/>\n   </g>\n   <g id=\"patch_10\">\n    <path d=\"M 408.116875 288.430125 \nL 408.116875 22.318125 \n\" style=\"fill: none; stroke: #000000; stroke-width: 0.8; stroke-linejoin: miter; stroke-linecap: square\"/>\n   </g>\n   <g id=\"patch_11\">\n    <path d=\"M 50.996875 288.430125 \nL 408.116875 288.430125 \n\" style=\"fill: none; stroke: #000000; stroke-width: 0.8; stroke-linejoin: miter; stroke-linecap: square\"/>\n   </g>\n   <g id=\"patch_12\">\n    <path d=\"M 50.996875 22.318125 \nL 408.116875 22.318125 \n\" style=\"fill: none; stroke: #000000; stroke-width: 0.8; stroke-linejoin: miter; stroke-linecap: square\"/>\n   </g>\n   <g id=\"text_6\">\n    <!-- Treated -->\n    <g transform=\"translate(122.214646 263.49836) scale(0.0833 -0.0833)\">\n     <use xlink:href=\"#DejaVuSans-54\"/>\n     <use xlink:href=\"#DejaVuSans-72\" x=\"46.333984\"/>\n     <use xlink:href=\"#DejaVuSans-65\" x=\"85.197266\"/>\n     <use xlink:href=\"#DejaVuSans-61\" x=\"146.720703\"/>\n     <use xlink:href=\"#DejaVuSans-74\" x=\"208\"/>\n     <use xlink:href=\"#DejaVuSans-65\" x=\"247.208984\"/>\n     <use xlink:href=\"#DejaVuSans-64\" x=\"308.732422\"/>\n    </g>\n    <!-- Some -->\n    <g transform=\"translate(125.905227 272.826138) scale(0.0833 -0.0833)\">\n     <use xlink:href=\"#DejaVuSans-53\"/>\n     <use xlink:href=\"#DejaVuSans-6f\" x=\"63.476562\"/>\n     <use xlink:href=\"#DejaVuSans-6d\" x=\"124.658203\"/>\n     <use xlink:href=\"#DejaVuSans-65\" x=\"222.070312\"/>\n    </g>\n   </g>\n   <g id=\"text_7\">\n    <!-- Treated -->\n    <g transform=\"translate(122.214646 198.141666) scale(0.0833 -0.0833)\">\n     <use xlink:href=\"#DejaVuSans-54\"/>\n     <use xlink:href=\"#DejaVuSans-72\" x=\"46.333984\"/>\n     <use xlink:href=\"#DejaVuSans-65\" x=\"85.197266\"/>\n     <use xlink:href=\"#DejaVuSans-61\" x=\"146.720703\"/>\n     <use xlink:href=\"#DejaVuSans-74\" x=\"208\"/>\n     <use xlink:href=\"#DejaVuSans-65\" x=\"247.208984\"/>\n     <use xlink:href=\"#DejaVuSans-64\" x=\"308.732422\"/>\n    </g>\n    <!-- None -->\n    <g transform=\"translate(126.850812 207.469444) scale(0.0833 -0.0833)\">\n     <use xlink:href=\"#DejaVuSans-4e\"/>\n     <use xlink:href=\"#DejaVuSans-6f\" x=\"74.804688\"/>\n     <use xlink:href=\"#DejaVuSans-6e\" x=\"135.986328\"/>\n     <use xlink:href=\"#DejaVuSans-65\" x=\"199.365234\"/>\n    </g>\n   </g>\n   <g id=\"text_8\">\n    <!-- Treated -->\n    <g transform=\"translate(122.214646 87.652101) scale(0.0833 -0.0833)\">\n     <use xlink:href=\"#DejaVuSans-54\"/>\n     <use xlink:href=\"#DejaVuSans-72\" x=\"46.333984\"/>\n     <use xlink:href=\"#DejaVuSans-65\" x=\"85.197266\"/>\n     <use xlink:href=\"#DejaVuSans-61\" x=\"146.720703\"/>\n     <use xlink:href=\"#DejaVuSans-74\" x=\"208\"/>\n     <use xlink:href=\"#DejaVuSans-65\" x=\"247.208984\"/>\n     <use xlink:href=\"#DejaVuSans-64\" x=\"308.732422\"/>\n    </g>\n    <!-- Marked -->\n    <g transform=\"translate(122.391659 96.979879) scale(0.0833 -0.0833)\">\n     <use xlink:href=\"#DejaVuSans-4d\"/>\n     <use xlink:href=\"#DejaVuSans-61\" x=\"86.279297\"/>\n     <use xlink:href=\"#DejaVuSans-72\" x=\"147.558594\"/>\n     <use xlink:href=\"#DejaVuSans-6b\" x=\"188.671875\"/>\n     <use xlink:href=\"#DejaVuSans-65\" x=\"242.957031\"/>\n     <use xlink:href=\"#DejaVuSans-64\" x=\"304.480469\"/>\n    </g>\n   </g>\n   <g id=\"text_9\">\n    <!-- Placebo -->\n    <g transform=\"translate(300.899638 264.547962) scale(0.0833 -0.0833)\">\n     <use xlink:href=\"#DejaVuSans-50\"/>\n     <use xlink:href=\"#DejaVuSans-6c\" x=\"60.302734\"/>\n     <use xlink:href=\"#DejaVuSans-61\" x=\"88.085938\"/>\n     <use xlink:href=\"#DejaVuSans-63\" x=\"149.365234\"/>\n     <use xlink:href=\"#DejaVuSans-65\" x=\"204.345703\"/>\n     <use xlink:href=\"#DejaVuSans-62\" x=\"265.869141\"/>\n     <use xlink:href=\"#DejaVuSans-6f\" x=\"329.345703\"/>\n    </g>\n    <!-- Some -->\n    <g transform=\"translate(305.353585 273.87574) scale(0.0833 -0.0833)\">\n     <use xlink:href=\"#DejaVuSans-53\"/>\n     <use xlink:href=\"#DejaVuSans-6f\" x=\"63.476562\"/>\n     <use xlink:href=\"#DejaVuSans-6d\" x=\"124.658203\"/>\n     <use xlink:href=\"#DejaVuSans-65\" x=\"222.070312\"/>\n    </g>\n   </g>\n   <g id=\"text_10\">\n    <!-- Placebo -->\n    <g transform=\"translate(300.899638 153.008795) scale(0.0833 -0.0833)\">\n     <use xlink:href=\"#DejaVuSans-50\"/>\n     <use xlink:href=\"#DejaVuSans-6c\" x=\"60.302734\"/>\n     <use xlink:href=\"#DejaVuSans-61\" x=\"88.085938\"/>\n     <use xlink:href=\"#DejaVuSans-63\" x=\"149.365234\"/>\n     <use xlink:href=\"#DejaVuSans-65\" x=\"204.345703\"/>\n     <use xlink:href=\"#DejaVuSans-62\" x=\"265.869141\"/>\n     <use xlink:href=\"#DejaVuSans-6f\" x=\"329.345703\"/>\n    </g>\n    <!-- None -->\n    <g transform=\"translate(306.29917 162.336573) scale(0.0833 -0.0833)\">\n     <use xlink:href=\"#DejaVuSans-4e\"/>\n     <use xlink:href=\"#DejaVuSans-6f\" x=\"74.804688\"/>\n     <use xlink:href=\"#DejaVuSans-6e\" x=\"135.986328\"/>\n     <use xlink:href=\"#DejaVuSans-65\" x=\"199.365234\"/>\n    </g>\n   </g>\n   <g id=\"text_11\">\n    <!-- Placebo -->\n    <g transform=\"translate(300.899638 41.469629) scale(0.0833 -0.0833)\">\n     <use xlink:href=\"#DejaVuSans-50\"/>\n     <use xlink:href=\"#DejaVuSans-6c\" x=\"60.302734\"/>\n     <use xlink:href=\"#DejaVuSans-61\" x=\"88.085938\"/>\n     <use xlink:href=\"#DejaVuSans-63\" x=\"149.365234\"/>\n     <use xlink:href=\"#DejaVuSans-65\" x=\"204.345703\"/>\n     <use xlink:href=\"#DejaVuSans-62\" x=\"265.869141\"/>\n     <use xlink:href=\"#DejaVuSans-6f\" x=\"329.345703\"/>\n    </g>\n    <!-- Marked -->\n    <g transform=\"translate(301.840017 50.797407) scale(0.0833 -0.0833)\">\n     <use xlink:href=\"#DejaVuSans-4d\"/>\n     <use xlink:href=\"#DejaVuSans-61\" x=\"86.279297\"/>\n     <use xlink:href=\"#DejaVuSans-72\" x=\"147.558594\"/>\n     <use xlink:href=\"#DejaVuSans-6b\" x=\"188.671875\"/>\n     <use xlink:href=\"#DejaVuSans-65\" x=\"242.957031\"/>\n     <use xlink:href=\"#DejaVuSans-64\" x=\"304.480469\"/>\n    </g>\n   </g>\n   <g id=\"text_12\">\n    <!-- Arthritis Treatment -->\n    <g transform=\"translate(173.123125 16.318125) scale(0.12 -0.12)\">\n     <defs>\n      <path id=\"DejaVuSans-41\" d=\"M 2188 4044 \nL 1331 1722 \nL 3047 1722 \nL 2188 4044 \nz\nM 1831 4666 \nL 2547 4666 \nL 4325 0 \nL 3669 0 \nL 3244 1197 \nL 1141 1197 \nL 716 0 \nL 50 0 \nL 1831 4666 \nz\n\" transform=\"scale(0.015625)\"/>\n      <path id=\"DejaVuSans-68\" d=\"M 3513 2113 \nL 3513 0 \nL 2938 0 \nL 2938 2094 \nQ 2938 2591 2744 2837 \nQ 2550 3084 2163 3084 \nQ 1697 3084 1428 2787 \nQ 1159 2491 1159 1978 \nL 1159 0 \nL 581 0 \nL 581 4863 \nL 1159 4863 \nL 1159 2956 \nQ 1366 3272 1645 3428 \nQ 1925 3584 2291 3584 \nQ 2894 3584 3203 3211 \nQ 3513 2838 3513 2113 \nz\n\" transform=\"scale(0.015625)\"/>\n      <path id=\"DejaVuSans-69\" d=\"M 603 3500 \nL 1178 3500 \nL 1178 0 \nL 603 0 \nL 603 3500 \nz\nM 603 4863 \nL 1178 4863 \nL 1178 4134 \nL 603 4134 \nL 603 4863 \nz\n\" transform=\"scale(0.015625)\"/>\n      <path id=\"DejaVuSans-73\" d=\"M 2834 3397 \nL 2834 2853 \nQ 2591 2978 2328 3040 \nQ 2066 3103 1784 3103 \nQ 1356 3103 1142 2972 \nQ 928 2841 928 2578 \nQ 928 2378 1081 2264 \nQ 1234 2150 1697 2047 \nL 1894 2003 \nQ 2506 1872 2764 1633 \nQ 3022 1394 3022 966 \nQ 3022 478 2636 193 \nQ 2250 -91 1575 -91 \nQ 1294 -91 989 -36 \nQ 684 19 347 128 \nL 347 722 \nQ 666 556 975 473 \nQ 1284 391 1588 391 \nQ 1994 391 2212 530 \nQ 2431 669 2431 922 \nQ 2431 1156 2273 1281 \nQ 2116 1406 1581 1522 \nL 1381 1569 \nQ 847 1681 609 1914 \nQ 372 2147 372 2553 \nQ 372 3047 722 3315 \nQ 1072 3584 1716 3584 \nQ 2034 3584 2315 3537 \nQ 2597 3491 2834 3397 \nz\n\" transform=\"scale(0.015625)\"/>\n      <path id=\"DejaVuSans-20\" transform=\"scale(0.015625)\"/>\n     </defs>\n     <use xlink:href=\"#DejaVuSans-41\"/>\n     <use xlink:href=\"#DejaVuSans-72\" x=\"68.408203\"/>\n     <use xlink:href=\"#DejaVuSans-74\" x=\"109.521484\"/>\n     <use xlink:href=\"#DejaVuSans-68\" x=\"148.730469\"/>\n     <use xlink:href=\"#DejaVuSans-72\" x=\"212.109375\"/>\n     <use xlink:href=\"#DejaVuSans-69\" x=\"253.222656\"/>\n     <use xlink:href=\"#DejaVuSans-74\" x=\"281.005859\"/>\n     <use xlink:href=\"#DejaVuSans-69\" x=\"320.214844\"/>\n     <use xlink:href=\"#DejaVuSans-73\" x=\"347.998047\"/>\n     <use xlink:href=\"#DejaVuSans-20\" x=\"400.097656\"/>\n     <use xlink:href=\"#DejaVuSans-54\" x=\"431.884766\"/>\n     <use xlink:href=\"#DejaVuSans-72\" x=\"478.21875\"/>\n     <use xlink:href=\"#DejaVuSans-65\" x=\"517.082031\"/>\n     <use xlink:href=\"#DejaVuSans-61\" x=\"578.605469\"/>\n     <use xlink:href=\"#DejaVuSans-74\" x=\"639.884766\"/>\n     <use xlink:href=\"#DejaVuSans-6d\" x=\"679.09375\"/>\n     <use xlink:href=\"#DejaVuSans-65\" x=\"776.505859\"/>\n     <use xlink:href=\"#DejaVuSans-6e\" x=\"838.029297\"/>\n     <use xlink:href=\"#DejaVuSans-74\" x=\"901.408203\"/>\n    </g>\n   </g>\n  </g>\n  <g id=\"axes_2\">\n   <g id=\"matplotlib.axis_3\"/>\n   <g id=\"patch_13\">\n    <path d=\"M 50.996875 288.430125 \nL 50.996875 22.318125 \n\" style=\"fill: none; stroke: #000000; stroke-width: 0.8; stroke-linejoin: miter; stroke-linecap: square\"/>\n   </g>\n   <g id=\"patch_14\">\n    <path d=\"M 408.116875 288.430125 \nL 408.116875 22.318125 \n\" style=\"fill: none; stroke: #000000; stroke-width: 0.8; stroke-linejoin: miter; stroke-linecap: square\"/>\n   </g>\n   <g id=\"patch_15\">\n    <path d=\"M 50.996875 288.430125 \nL 408.116875 288.430125 \n\" style=\"fill: none; stroke: #000000; stroke-width: 0.8; stroke-linejoin: miter; stroke-linecap: square\"/>\n   </g>\n   <g id=\"patch_16\">\n    <path d=\"M 50.996875 22.318125 \nL 408.116875 22.318125 \n\" style=\"fill: none; stroke: #000000; stroke-width: 0.8; stroke-linejoin: miter; stroke-linecap: square\"/>\n   </g>\n  </g>\n  <g id=\"axes_3\">\n   <g id=\"matplotlib.axis_4\"/>\n   <g id=\"patch_17\">\n    <path d=\"M 50.996875 288.430125 \nL 50.996875 22.318125 \n\" style=\"fill: none; stroke: #000000; stroke-width: 0.8; stroke-linejoin: miter; stroke-linecap: square\"/>\n   </g>\n   <g id=\"patch_18\">\n    <path d=\"M 408.116875 288.430125 \nL 408.116875 22.318125 \n\" style=\"fill: none; stroke: #000000; stroke-width: 0.8; stroke-linejoin: miter; stroke-linecap: square\"/>\n   </g>\n   <g id=\"patch_19\">\n    <path d=\"M 50.996875 288.430125 \nL 408.116875 288.430125 \n\" style=\"fill: none; stroke: #000000; stroke-width: 0.8; stroke-linejoin: miter; stroke-linecap: square\"/>\n   </g>\n   <g id=\"patch_20\">\n    <path d=\"M 50.996875 22.318125 \nL 408.116875 22.318125 \n\" style=\"fill: none; stroke: #000000; stroke-width: 0.8; stroke-linejoin: miter; stroke-linecap: square\"/>\n   </g>\n  </g>\n </g>\n <defs>\n  <clipPath id=\"pb344d5bfbf\">\n   <rect x=\"50.996875\" y=\"22.318125\" width=\"357.12\" height=\"266.112\"/>\n  </clipPath>\n </defs>\n</svg>\n"
          },
          "metadata": {}
        }
      ],
      "source": [
        "# Use the mosaic function froms statsmodels\n",
        "mosaic(ra, ['Treatment','Improved'], title = \"Arthritis Treatment\")\n",
        "plt.show()"
      ]
    },
    {
      "cell_type": "markdown",
      "id": "ca90f04b-49ab-4ef8-bf96-44f926f7640f",
      "metadata": {
        "id": "ca90f04b-49ab-4ef8-bf96-44f926f7640f"
      },
      "source": [
        "### Question 3\n",
        "\n",
        "a) What errors does the default plot from `pandas` make?\n",
        "\n",
        "Hint: these are not numerical errors but things that make it harder to interpret.\n",
        "\n",
        "b) [EXTENSION] Once you identify the errors then try to write some code to overcome them. Note that depending on which errors you've suggested, this may take you a while so come back to this if you have time."
      ]
    },
    {
      "cell_type": "markdown",
      "source": [
        "### Answer\n"
      ],
      "metadata": {
        "id": "v1cEZpRZKXaj"
      },
      "id": "v1cEZpRZKXaj"
    },
    {
      "cell_type": "markdown",
      "source": [
        "1. It uses red and green as the only colours which can be difficult for people\n",
        "   with colour blindness.\n",
        "2. It has not respected the implicit ordering of the response values.\n",
        "\n",
        "The figure below makes the pattern in the data far clearer (at the expense of a\n",
        "few extra lines of code)."
      ],
      "metadata": {
        "id": "Ld6B9Ec_KZLX"
      },
      "id": "Ld6B9Ec_KZLX"
    },
    {
      "cell_type": "code",
      "execution_count": 6,
      "id": "6f429058-2786-401f-9116-f4657113ec77",
      "metadata": {
        "id": "6f429058-2786-401f-9116-f4657113ec77",
        "colab": {
          "base_uri": "https://localhost:8080/",
          "height": 437
        },
        "outputId": "e81a05f9-98da-47e0-e9d9-4b334ddebec0"
      },
      "outputs": [
        {
          "output_type": "display_data",
          "data": {
            "text/plain": [
              "<Figure size 640x480 with 3 Axes>"
            ],
            "image/svg+xml": "<?xml version=\"1.0\" encoding=\"utf-8\" standalone=\"no\"?>\n<!DOCTYPE svg PUBLIC \"-//W3C//DTD SVG 1.1//EN\"\n  \"http://www.w3.org/Graphics/SVG/1.1/DTD/svg11.dtd\">\n<svg xmlns:xlink=\"http://www.w3.org/1999/xlink\" width=\"415.316875pt\" height=\"312.30825pt\" viewBox=\"0 0 415.316875 312.30825\" xmlns=\"http://www.w3.org/2000/svg\" version=\"1.1\">\n <metadata>\n  <rdf:RDF xmlns:dc=\"http://purl.org/dc/elements/1.1/\" xmlns:cc=\"http://creativecommons.org/ns#\" xmlns:rdf=\"http://www.w3.org/1999/02/22-rdf-syntax-ns#\">\n   <cc:Work>\n    <dc:type rdf:resource=\"http://purl.org/dc/dcmitype/StillImage\"/>\n    <dc:date>2023-11-15T10:42:31.486210</dc:date>\n    <dc:format>image/svg+xml</dc:format>\n    <dc:creator>\n     <cc:Agent>\n      <dc:title>Matplotlib v3.7.1, https://matplotlib.org/</dc:title>\n     </cc:Agent>\n    </dc:creator>\n   </cc:Work>\n  </rdf:RDF>\n </metadata>\n <defs>\n  <style type=\"text/css\">*{stroke-linejoin: round; stroke-linecap: butt}</style>\n </defs>\n <g id=\"figure_1\">\n  <g id=\"patch_1\">\n   <path d=\"M 0 312.30825 \nL 415.316875 312.30825 \nL 415.316875 0 \nL 0 0 \nz\n\" style=\"fill: #ffffff\"/>\n  </g>\n  <g id=\"axes_1\">\n   <g id=\"patch_2\">\n    <path d=\"M 50.996875 288.430125 \nL 408.116875 288.430125 \nL 408.116875 22.318125 \nL 50.996875 22.318125 \nz\n\" style=\"fill: #ffffff\"/>\n   </g>\n   <g id=\"patch_3\">\n    <path d=\"M 50.996875 288.430125 \nL 232.898794 288.430125 \nL 232.898794 110.14779 \nL 50.996875 110.14779 \nz\n\" clip-path=\"url(#p450d00261c)\" style=\"fill: #542788; stroke: #542788; stroke-linejoin: miter\"/>\n   </g>\n   <g id=\"patch_4\">\n    <path d=\"M 50.996875 109.266625 \nL 232.898794 109.266625 \nL 232.898794 66.232958 \nL 50.996875 66.232958 \nz\n\" clip-path=\"url(#p450d00261c)\" style=\"fill: #998ec3; stroke: #998ec3; stroke-linejoin: miter\"/>\n   </g>\n   <g id=\"patch_5\">\n    <path d=\"M 50.996875 65.351792 \nL 232.898794 65.351792 \nL 232.898794 22.318125 \nL 50.996875 22.318125 \nz\n\" clip-path=\"url(#p450d00261c)\" style=\"fill: #d8daeb; stroke: #d8daeb; stroke-linejoin: miter\"/>\n   </g>\n   <g id=\"patch_6\">\n    <path d=\"M 234.67551 288.430125 \nL 408.116875 288.430125 \nL 408.116875 204.611937 \nL 234.67551 204.611937 \nz\n\" clip-path=\"url(#p450d00261c)\" style=\"fill: #fee0b6; stroke: #fee0b6; stroke-linejoin: miter\"/>\n   </g>\n   <g id=\"patch_7\">\n    <path d=\"M 234.67551 203.730772 \nL 408.116875 203.730772 \nL 408.116875 158.597901 \nL 234.67551 158.597901 \nz\n\" clip-path=\"url(#p450d00261c)\" style=\"fill: #f1a340; stroke: #f1a340; stroke-linejoin: miter\"/>\n   </g>\n   <g id=\"patch_8\">\n    <path d=\"M 234.67551 157.716736 \nL 408.116875 157.716736 \nL 408.116875 22.318125 \nL 234.67551 22.318125 \nz\n\" clip-path=\"url(#p450d00261c)\" style=\"fill: #b35806; stroke: #b35806; stroke-linejoin: miter\"/>\n   </g>\n   <g id=\"matplotlib.axis_1\">\n    <g id=\"xtick_1\">\n     <g id=\"line2d_1\">\n      <defs>\n       <path id=\"m3f785fa428\" d=\"M 0 0 \nL 0 3.5 \n\" style=\"stroke: #000000; stroke-width: 0.8\"/>\n      </defs>\n      <g>\n       <use xlink:href=\"#m3f785fa428\" x=\"141.947834\" y=\"288.430125\" style=\"stroke: #000000; stroke-width: 0.8\"/>\n      </g>\n     </g>\n     <g id=\"text_1\">\n      <!-- Placebo -->\n      <g transform=\"translate(122.420491 303.028562) scale(0.1 -0.1)\">\n       <defs>\n        <path id=\"DejaVuSans-50\" d=\"M 1259 4147 \nL 1259 2394 \nL 2053 2394 \nQ 2494 2394 2734 2622 \nQ 2975 2850 2975 3272 \nQ 2975 3691 2734 3919 \nQ 2494 4147 2053 4147 \nL 1259 4147 \nz\nM 628 4666 \nL 2053 4666 \nQ 2838 4666 3239 4311 \nQ 3641 3956 3641 3272 \nQ 3641 2581 3239 2228 \nQ 2838 1875 2053 1875 \nL 1259 1875 \nL 1259 0 \nL 628 0 \nL 628 4666 \nz\n\" transform=\"scale(0.015625)\"/>\n        <path id=\"DejaVuSans-6c\" d=\"M 603 4863 \nL 1178 4863 \nL 1178 0 \nL 603 0 \nL 603 4863 \nz\n\" transform=\"scale(0.015625)\"/>\n        <path id=\"DejaVuSans-61\" d=\"M 2194 1759 \nQ 1497 1759 1228 1600 \nQ 959 1441 959 1056 \nQ 959 750 1161 570 \nQ 1363 391 1709 391 \nQ 2188 391 2477 730 \nQ 2766 1069 2766 1631 \nL 2766 1759 \nL 2194 1759 \nz\nM 3341 1997 \nL 3341 0 \nL 2766 0 \nL 2766 531 \nQ 2569 213 2275 61 \nQ 1981 -91 1556 -91 \nQ 1019 -91 701 211 \nQ 384 513 384 1019 \nQ 384 1609 779 1909 \nQ 1175 2209 1959 2209 \nL 2766 2209 \nL 2766 2266 \nQ 2766 2663 2505 2880 \nQ 2244 3097 1772 3097 \nQ 1472 3097 1187 3025 \nQ 903 2953 641 2809 \nL 641 3341 \nQ 956 3463 1253 3523 \nQ 1550 3584 1831 3584 \nQ 2591 3584 2966 3190 \nQ 3341 2797 3341 1997 \nz\n\" transform=\"scale(0.015625)\"/>\n        <path id=\"DejaVuSans-63\" d=\"M 3122 3366 \nL 3122 2828 \nQ 2878 2963 2633 3030 \nQ 2388 3097 2138 3097 \nQ 1578 3097 1268 2742 \nQ 959 2388 959 1747 \nQ 959 1106 1268 751 \nQ 1578 397 2138 397 \nQ 2388 397 2633 464 \nQ 2878 531 3122 666 \nL 3122 134 \nQ 2881 22 2623 -34 \nQ 2366 -91 2075 -91 \nQ 1284 -91 818 406 \nQ 353 903 353 1747 \nQ 353 2603 823 3093 \nQ 1294 3584 2113 3584 \nQ 2378 3584 2631 3529 \nQ 2884 3475 3122 3366 \nz\n\" transform=\"scale(0.015625)\"/>\n        <path id=\"DejaVuSans-65\" d=\"M 3597 1894 \nL 3597 1613 \nL 953 1613 \nQ 991 1019 1311 708 \nQ 1631 397 2203 397 \nQ 2534 397 2845 478 \nQ 3156 559 3463 722 \nL 3463 178 \nQ 3153 47 2828 -22 \nQ 2503 -91 2169 -91 \nQ 1331 -91 842 396 \nQ 353 884 353 1716 \nQ 353 2575 817 3079 \nQ 1281 3584 2069 3584 \nQ 2775 3584 3186 3129 \nQ 3597 2675 3597 1894 \nz\nM 3022 2063 \nQ 3016 2534 2758 2815 \nQ 2500 3097 2075 3097 \nQ 1594 3097 1305 2825 \nQ 1016 2553 972 2059 \nL 3022 2063 \nz\n\" transform=\"scale(0.015625)\"/>\n        <path id=\"DejaVuSans-62\" d=\"M 3116 1747 \nQ 3116 2381 2855 2742 \nQ 2594 3103 2138 3103 \nQ 1681 3103 1420 2742 \nQ 1159 2381 1159 1747 \nQ 1159 1113 1420 752 \nQ 1681 391 2138 391 \nQ 2594 391 2855 752 \nQ 3116 1113 3116 1747 \nz\nM 1159 2969 \nQ 1341 3281 1617 3432 \nQ 1894 3584 2278 3584 \nQ 2916 3584 3314 3078 \nQ 3713 2572 3713 1747 \nQ 3713 922 3314 415 \nQ 2916 -91 2278 -91 \nQ 1894 -91 1617 61 \nQ 1341 213 1159 525 \nL 1159 0 \nL 581 0 \nL 581 4863 \nL 1159 4863 \nL 1159 2969 \nz\n\" transform=\"scale(0.015625)\"/>\n        <path id=\"DejaVuSans-6f\" d=\"M 1959 3097 \nQ 1497 3097 1228 2736 \nQ 959 2375 959 1747 \nQ 959 1119 1226 758 \nQ 1494 397 1959 397 \nQ 2419 397 2687 759 \nQ 2956 1122 2956 1747 \nQ 2956 2369 2687 2733 \nQ 2419 3097 1959 3097 \nz\nM 1959 3584 \nQ 2709 3584 3137 3096 \nQ 3566 2609 3566 1747 \nQ 3566 888 3137 398 \nQ 2709 -91 1959 -91 \nQ 1206 -91 779 398 \nQ 353 888 353 1747 \nQ 353 2609 779 3096 \nQ 1206 3584 1959 3584 \nz\n\" transform=\"scale(0.015625)\"/>\n       </defs>\n       <use xlink:href=\"#DejaVuSans-50\"/>\n       <use xlink:href=\"#DejaVuSans-6c\" x=\"60.302734\"/>\n       <use xlink:href=\"#DejaVuSans-61\" x=\"88.085938\"/>\n       <use xlink:href=\"#DejaVuSans-63\" x=\"149.365234\"/>\n       <use xlink:href=\"#DejaVuSans-65\" x=\"204.345703\"/>\n       <use xlink:href=\"#DejaVuSans-62\" x=\"265.869141\"/>\n       <use xlink:href=\"#DejaVuSans-6f\" x=\"329.345703\"/>\n      </g>\n     </g>\n    </g>\n    <g id=\"xtick_2\">\n     <g id=\"line2d_2\">\n      <g>\n       <use xlink:href=\"#m3f785fa428\" x=\"321.396193\" y=\"288.430125\" style=\"stroke: #000000; stroke-width: 0.8\"/>\n      </g>\n     </g>\n     <g id=\"text_2\">\n      <!-- Treated -->\n      <g transform=\"translate(302.785255 303.028562) scale(0.1 -0.1)\">\n       <defs>\n        <path id=\"DejaVuSans-54\" d=\"M -19 4666 \nL 3928 4666 \nL 3928 4134 \nL 2272 4134 \nL 2272 0 \nL 1638 0 \nL 1638 4134 \nL -19 4134 \nL -19 4666 \nz\n\" transform=\"scale(0.015625)\"/>\n        <path id=\"DejaVuSans-72\" d=\"M 2631 2963 \nQ 2534 3019 2420 3045 \nQ 2306 3072 2169 3072 \nQ 1681 3072 1420 2755 \nQ 1159 2438 1159 1844 \nL 1159 0 \nL 581 0 \nL 581 3500 \nL 1159 3500 \nL 1159 2956 \nQ 1341 3275 1631 3429 \nQ 1922 3584 2338 3584 \nQ 2397 3584 2469 3576 \nQ 2541 3569 2628 3553 \nL 2631 2963 \nz\n\" transform=\"scale(0.015625)\"/>\n        <path id=\"DejaVuSans-74\" d=\"M 1172 4494 \nL 1172 3500 \nL 2356 3500 \nL 2356 3053 \nL 1172 3053 \nL 1172 1153 \nQ 1172 725 1289 603 \nQ 1406 481 1766 481 \nL 2356 481 \nL 2356 0 \nL 1766 0 \nQ 1100 0 847 248 \nQ 594 497 594 1153 \nL 594 3053 \nL 172 3053 \nL 172 3500 \nL 594 3500 \nL 594 4494 \nL 1172 4494 \nz\n\" transform=\"scale(0.015625)\"/>\n        <path id=\"DejaVuSans-64\" d=\"M 2906 2969 \nL 2906 4863 \nL 3481 4863 \nL 3481 0 \nL 2906 0 \nL 2906 525 \nQ 2725 213 2448 61 \nQ 2172 -91 1784 -91 \nQ 1150 -91 751 415 \nQ 353 922 353 1747 \nQ 353 2572 751 3078 \nQ 1150 3584 1784 3584 \nQ 2172 3584 2448 3432 \nQ 2725 3281 2906 2969 \nz\nM 947 1747 \nQ 947 1113 1208 752 \nQ 1469 391 1925 391 \nQ 2381 391 2643 752 \nQ 2906 1113 2906 1747 \nQ 2906 2381 2643 2742 \nQ 2381 3103 1925 3103 \nQ 1469 3103 1208 2742 \nQ 947 2381 947 1747 \nz\n\" transform=\"scale(0.015625)\"/>\n       </defs>\n       <use xlink:href=\"#DejaVuSans-54\"/>\n       <use xlink:href=\"#DejaVuSans-72\" x=\"46.333984\"/>\n       <use xlink:href=\"#DejaVuSans-65\" x=\"85.197266\"/>\n       <use xlink:href=\"#DejaVuSans-61\" x=\"146.720703\"/>\n       <use xlink:href=\"#DejaVuSans-74\" x=\"208\"/>\n       <use xlink:href=\"#DejaVuSans-65\" x=\"247.208984\"/>\n       <use xlink:href=\"#DejaVuSans-64\" x=\"308.732422\"/>\n      </g>\n     </g>\n    </g>\n   </g>\n   <g id=\"matplotlib.axis_2\">\n    <g id=\"ytick_1\">\n     <g id=\"line2d_3\">\n      <defs>\n       <path id=\"mf674b9f74e\" d=\"M 0 0 \nL -3.5 0 \n\" style=\"stroke: #000000; stroke-width: 0.8\"/>\n      </defs>\n      <g>\n       <use xlink:href=\"#mf674b9f74e\" x=\"50.996875\" y=\"199.288958\" style=\"stroke: #000000; stroke-width: 0.8\"/>\n      </g>\n     </g>\n     <g id=\"text_3\">\n      <!-- None -->\n      <g transform=\"translate(17.90625 203.088176) scale(0.1 -0.1)\">\n       <defs>\n        <path id=\"DejaVuSans-4e\" d=\"M 628 4666 \nL 1478 4666 \nL 3547 763 \nL 3547 4666 \nL 4159 4666 \nL 4159 0 \nL 3309 0 \nL 1241 3903 \nL 1241 0 \nL 628 0 \nL 628 4666 \nz\n\" transform=\"scale(0.015625)\"/>\n        <path id=\"DejaVuSans-6e\" d=\"M 3513 2113 \nL 3513 0 \nL 2938 0 \nL 2938 2094 \nQ 2938 2591 2744 2837 \nQ 2550 3084 2163 3084 \nQ 1697 3084 1428 2787 \nQ 1159 2491 1159 1978 \nL 1159 0 \nL 581 0 \nL 581 3500 \nL 1159 3500 \nL 1159 2956 \nQ 1366 3272 1645 3428 \nQ 1925 3584 2291 3584 \nQ 2894 3584 3203 3211 \nQ 3513 2838 3513 2113 \nz\n\" transform=\"scale(0.015625)\"/>\n       </defs>\n       <use xlink:href=\"#DejaVuSans-4e\"/>\n       <use xlink:href=\"#DejaVuSans-6f\" x=\"74.804688\"/>\n       <use xlink:href=\"#DejaVuSans-6e\" x=\"135.986328\"/>\n       <use xlink:href=\"#DejaVuSans-65\" x=\"199.365234\"/>\n      </g>\n     </g>\n    </g>\n    <g id=\"ytick_2\">\n     <g id=\"line2d_4\">\n      <g>\n       <use xlink:href=\"#mf674b9f74e\" x=\"50.996875\" y=\"87.749791\" style=\"stroke: #000000; stroke-width: 0.8\"/>\n      </g>\n     </g>\n     <g id=\"text_4\">\n      <!-- Some -->\n      <g transform=\"translate(15.635938 91.54901) scale(0.1 -0.1)\">\n       <defs>\n        <path id=\"DejaVuSans-53\" d=\"M 3425 4513 \nL 3425 3897 \nQ 3066 4069 2747 4153 \nQ 2428 4238 2131 4238 \nQ 1616 4238 1336 4038 \nQ 1056 3838 1056 3469 \nQ 1056 3159 1242 3001 \nQ 1428 2844 1947 2747 \nL 2328 2669 \nQ 3034 2534 3370 2195 \nQ 3706 1856 3706 1288 \nQ 3706 609 3251 259 \nQ 2797 -91 1919 -91 \nQ 1588 -91 1214 -16 \nQ 841 59 441 206 \nL 441 856 \nQ 825 641 1194 531 \nQ 1563 422 1919 422 \nQ 2459 422 2753 634 \nQ 3047 847 3047 1241 \nQ 3047 1584 2836 1778 \nQ 2625 1972 2144 2069 \nL 1759 2144 \nQ 1053 2284 737 2584 \nQ 422 2884 422 3419 \nQ 422 4038 858 4394 \nQ 1294 4750 2059 4750 \nQ 2388 4750 2728 4690 \nQ 3069 4631 3425 4513 \nz\n\" transform=\"scale(0.015625)\"/>\n        <path id=\"DejaVuSans-6d\" d=\"M 3328 2828 \nQ 3544 3216 3844 3400 \nQ 4144 3584 4550 3584 \nQ 5097 3584 5394 3201 \nQ 5691 2819 5691 2113 \nL 5691 0 \nL 5113 0 \nL 5113 2094 \nQ 5113 2597 4934 2840 \nQ 4756 3084 4391 3084 \nQ 3944 3084 3684 2787 \nQ 3425 2491 3425 1978 \nL 3425 0 \nL 2847 0 \nL 2847 2094 \nQ 2847 2600 2669 2842 \nQ 2491 3084 2119 3084 \nQ 1678 3084 1418 2786 \nQ 1159 2488 1159 1978 \nL 1159 0 \nL 581 0 \nL 581 3500 \nL 1159 3500 \nL 1159 2956 \nQ 1356 3278 1631 3431 \nQ 1906 3584 2284 3584 \nQ 2666 3584 2933 3390 \nQ 3200 3197 3328 2828 \nz\n\" transform=\"scale(0.015625)\"/>\n       </defs>\n       <use xlink:href=\"#DejaVuSans-53\"/>\n       <use xlink:href=\"#DejaVuSans-6f\" x=\"63.476562\"/>\n       <use xlink:href=\"#DejaVuSans-6d\" x=\"124.658203\"/>\n       <use xlink:href=\"#DejaVuSans-65\" x=\"222.070312\"/>\n      </g>\n     </g>\n    </g>\n    <g id=\"ytick_3\">\n     <g id=\"line2d_5\">\n      <g>\n       <use xlink:href=\"#mf674b9f74e\" x=\"50.996875\" y=\"43.834959\" style=\"stroke: #000000; stroke-width: 0.8\"/>\n      </g>\n     </g>\n     <g id=\"text_5\">\n      <!-- Marked -->\n      <g transform=\"translate(7.2 47.634177) scale(0.1 -0.1)\">\n       <defs>\n        <path id=\"DejaVuSans-4d\" d=\"M 628 4666 \nL 1569 4666 \nL 2759 1491 \nL 3956 4666 \nL 4897 4666 \nL 4897 0 \nL 4281 0 \nL 4281 4097 \nL 3078 897 \nL 2444 897 \nL 1241 4097 \nL 1241 0 \nL 628 0 \nL 628 4666 \nz\n\" transform=\"scale(0.015625)\"/>\n        <path id=\"DejaVuSans-6b\" d=\"M 581 4863 \nL 1159 4863 \nL 1159 1991 \nL 2875 3500 \nL 3609 3500 \nL 1753 1863 \nL 3688 0 \nL 2938 0 \nL 1159 1709 \nL 1159 0 \nL 581 0 \nL 581 4863 \nz\n\" transform=\"scale(0.015625)\"/>\n       </defs>\n       <use xlink:href=\"#DejaVuSans-4d\"/>\n       <use xlink:href=\"#DejaVuSans-61\" x=\"86.279297\"/>\n       <use xlink:href=\"#DejaVuSans-72\" x=\"147.558594\"/>\n       <use xlink:href=\"#DejaVuSans-6b\" x=\"188.671875\"/>\n       <use xlink:href=\"#DejaVuSans-65\" x=\"242.957031\"/>\n       <use xlink:href=\"#DejaVuSans-64\" x=\"304.480469\"/>\n      </g>\n     </g>\n    </g>\n   </g>\n   <g id=\"patch_9\">\n    <path d=\"M 50.996875 288.430125 \nL 50.996875 22.318125 \n\" style=\"fill: none; stroke: #000000; stroke-width: 0.8; stroke-linejoin: miter; stroke-linecap: square\"/>\n   </g>\n   <g id=\"patch_10\">\n    <path d=\"M 408.116875 288.430125 \nL 408.116875 22.318125 \n\" style=\"fill: none; stroke: #000000; stroke-width: 0.8; stroke-linejoin: miter; stroke-linecap: square\"/>\n   </g>\n   <g id=\"patch_11\">\n    <path d=\"M 50.996875 288.430125 \nL 408.116875 288.430125 \n\" style=\"fill: none; stroke: #000000; stroke-width: 0.8; stroke-linejoin: miter; stroke-linecap: square\"/>\n   </g>\n   <g id=\"patch_12\">\n    <path d=\"M 50.996875 22.318125 \nL 408.116875 22.318125 \n\" style=\"fill: none; stroke: #000000; stroke-width: 0.8; stroke-linejoin: miter; stroke-linecap: square\"/>\n   </g>\n   <g id=\"text_6\">\n    <!-- Placebo -->\n    <g transform=\"translate(125.681557 196.923628) scale(0.0833 -0.0833)\">\n     <use xlink:href=\"#DejaVuSans-50\"/>\n     <use xlink:href=\"#DejaVuSans-6c\" x=\"60.302734\"/>\n     <use xlink:href=\"#DejaVuSans-61\" x=\"88.085938\"/>\n     <use xlink:href=\"#DejaVuSans-63\" x=\"149.365234\"/>\n     <use xlink:href=\"#DejaVuSans-65\" x=\"204.345703\"/>\n     <use xlink:href=\"#DejaVuSans-62\" x=\"265.869141\"/>\n     <use xlink:href=\"#DejaVuSans-6f\" x=\"329.345703\"/>\n    </g>\n    <!-- None -->\n    <g transform=\"translate(131.081089 206.251406) scale(0.0833 -0.0833)\">\n     <use xlink:href=\"#DejaVuSans-4e\"/>\n     <use xlink:href=\"#DejaVuSans-6f\" x=\"74.804688\"/>\n     <use xlink:href=\"#DejaVuSans-6e\" x=\"135.986328\"/>\n     <use xlink:href=\"#DejaVuSans-65\" x=\"199.365234\"/>\n    </g>\n   </g>\n   <g id=\"text_7\">\n    <!-- Placebo -->\n    <g transform=\"translate(125.681557 85.384462) scale(0.0833 -0.0833)\">\n     <use xlink:href=\"#DejaVuSans-50\"/>\n     <use xlink:href=\"#DejaVuSans-6c\" x=\"60.302734\"/>\n     <use xlink:href=\"#DejaVuSans-61\" x=\"88.085938\"/>\n     <use xlink:href=\"#DejaVuSans-63\" x=\"149.365234\"/>\n     <use xlink:href=\"#DejaVuSans-65\" x=\"204.345703\"/>\n     <use xlink:href=\"#DejaVuSans-62\" x=\"265.869141\"/>\n     <use xlink:href=\"#DejaVuSans-6f\" x=\"329.345703\"/>\n    </g>\n    <!-- Some -->\n    <g transform=\"translate(130.135504 94.712239) scale(0.0833 -0.0833)\">\n     <use xlink:href=\"#DejaVuSans-53\"/>\n     <use xlink:href=\"#DejaVuSans-6f\" x=\"63.476562\"/>\n     <use xlink:href=\"#DejaVuSans-6d\" x=\"124.658203\"/>\n     <use xlink:href=\"#DejaVuSans-65\" x=\"222.070312\"/>\n    </g>\n   </g>\n   <g id=\"text_8\">\n    <!-- Placebo -->\n    <g transform=\"translate(125.681557 41.469629) scale(0.0833 -0.0833)\">\n     <use xlink:href=\"#DejaVuSans-50\"/>\n     <use xlink:href=\"#DejaVuSans-6c\" x=\"60.302734\"/>\n     <use xlink:href=\"#DejaVuSans-61\" x=\"88.085938\"/>\n     <use xlink:href=\"#DejaVuSans-63\" x=\"149.365234\"/>\n     <use xlink:href=\"#DejaVuSans-65\" x=\"204.345703\"/>\n     <use xlink:href=\"#DejaVuSans-62\" x=\"265.869141\"/>\n     <use xlink:href=\"#DejaVuSans-6f\" x=\"329.345703\"/>\n    </g>\n    <!-- Marked -->\n    <g transform=\"translate(126.621936 50.797407) scale(0.0833 -0.0833)\">\n     <use xlink:href=\"#DejaVuSans-4d\"/>\n     <use xlink:href=\"#DejaVuSans-61\" x=\"86.279297\"/>\n     <use xlink:href=\"#DejaVuSans-72\" x=\"147.558594\"/>\n     <use xlink:href=\"#DejaVuSans-6b\" x=\"188.671875\"/>\n     <use xlink:href=\"#DejaVuSans-65\" x=\"242.957031\"/>\n     <use xlink:href=\"#DejaVuSans-64\" x=\"304.480469\"/>\n    </g>\n   </g>\n   <g id=\"text_9\">\n    <!-- Treated -->\n    <g transform=\"translate(305.893282 244.155702) scale(0.0833 -0.0833)\">\n     <use xlink:href=\"#DejaVuSans-54\"/>\n     <use xlink:href=\"#DejaVuSans-72\" x=\"46.333984\"/>\n     <use xlink:href=\"#DejaVuSans-65\" x=\"85.197266\"/>\n     <use xlink:href=\"#DejaVuSans-61\" x=\"146.720703\"/>\n     <use xlink:href=\"#DejaVuSans-74\" x=\"208\"/>\n     <use xlink:href=\"#DejaVuSans-65\" x=\"247.208984\"/>\n     <use xlink:href=\"#DejaVuSans-64\" x=\"308.732422\"/>\n    </g>\n    <!-- None -->\n    <g transform=\"translate(310.529447 253.483479) scale(0.0833 -0.0833)\">\n     <use xlink:href=\"#DejaVuSans-4e\"/>\n     <use xlink:href=\"#DejaVuSans-6f\" x=\"74.804688\"/>\n     <use xlink:href=\"#DejaVuSans-6e\" x=\"135.986328\"/>\n     <use xlink:href=\"#DejaVuSans-65\" x=\"199.365234\"/>\n    </g>\n   </g>\n   <g id=\"text_10\">\n    <!-- Treated -->\n    <g transform=\"translate(305.893282 178.799007) scale(0.0833 -0.0833)\">\n     <use xlink:href=\"#DejaVuSans-54\"/>\n     <use xlink:href=\"#DejaVuSans-72\" x=\"46.333984\"/>\n     <use xlink:href=\"#DejaVuSans-65\" x=\"85.197266\"/>\n     <use xlink:href=\"#DejaVuSans-61\" x=\"146.720703\"/>\n     <use xlink:href=\"#DejaVuSans-74\" x=\"208\"/>\n     <use xlink:href=\"#DejaVuSans-65\" x=\"247.208984\"/>\n     <use xlink:href=\"#DejaVuSans-64\" x=\"308.732422\"/>\n    </g>\n    <!-- Some -->\n    <g transform=\"translate(309.583862 188.126785) scale(0.0833 -0.0833)\">\n     <use xlink:href=\"#DejaVuSans-53\"/>\n     <use xlink:href=\"#DejaVuSans-6f\" x=\"63.476562\"/>\n     <use xlink:href=\"#DejaVuSans-6d\" x=\"124.658203\"/>\n     <use xlink:href=\"#DejaVuSans-65\" x=\"222.070312\"/>\n    </g>\n   </g>\n   <g id=\"text_11\">\n    <!-- Treated -->\n    <g transform=\"translate(305.893282 87.652101) scale(0.0833 -0.0833)\">\n     <use xlink:href=\"#DejaVuSans-54\"/>\n     <use xlink:href=\"#DejaVuSans-72\" x=\"46.333984\"/>\n     <use xlink:href=\"#DejaVuSans-65\" x=\"85.197266\"/>\n     <use xlink:href=\"#DejaVuSans-61\" x=\"146.720703\"/>\n     <use xlink:href=\"#DejaVuSans-74\" x=\"208\"/>\n     <use xlink:href=\"#DejaVuSans-65\" x=\"247.208984\"/>\n     <use xlink:href=\"#DejaVuSans-64\" x=\"308.732422\"/>\n    </g>\n    <!-- Marked -->\n    <g transform=\"translate(306.070294 96.979879) scale(0.0833 -0.0833)\">\n     <use xlink:href=\"#DejaVuSans-4d\"/>\n     <use xlink:href=\"#DejaVuSans-61\" x=\"86.279297\"/>\n     <use xlink:href=\"#DejaVuSans-72\" x=\"147.558594\"/>\n     <use xlink:href=\"#DejaVuSans-6b\" x=\"188.671875\"/>\n     <use xlink:href=\"#DejaVuSans-65\" x=\"242.957031\"/>\n     <use xlink:href=\"#DejaVuSans-64\" x=\"304.480469\"/>\n    </g>\n   </g>\n   <g id=\"text_12\">\n    <!-- Arthritis Treatment -->\n    <g transform=\"translate(173.123125 16.318125) scale(0.12 -0.12)\">\n     <defs>\n      <path id=\"DejaVuSans-41\" d=\"M 2188 4044 \nL 1331 1722 \nL 3047 1722 \nL 2188 4044 \nz\nM 1831 4666 \nL 2547 4666 \nL 4325 0 \nL 3669 0 \nL 3244 1197 \nL 1141 1197 \nL 716 0 \nL 50 0 \nL 1831 4666 \nz\n\" transform=\"scale(0.015625)\"/>\n      <path id=\"DejaVuSans-68\" d=\"M 3513 2113 \nL 3513 0 \nL 2938 0 \nL 2938 2094 \nQ 2938 2591 2744 2837 \nQ 2550 3084 2163 3084 \nQ 1697 3084 1428 2787 \nQ 1159 2491 1159 1978 \nL 1159 0 \nL 581 0 \nL 581 4863 \nL 1159 4863 \nL 1159 2956 \nQ 1366 3272 1645 3428 \nQ 1925 3584 2291 3584 \nQ 2894 3584 3203 3211 \nQ 3513 2838 3513 2113 \nz\n\" transform=\"scale(0.015625)\"/>\n      <path id=\"DejaVuSans-69\" d=\"M 603 3500 \nL 1178 3500 \nL 1178 0 \nL 603 0 \nL 603 3500 \nz\nM 603 4863 \nL 1178 4863 \nL 1178 4134 \nL 603 4134 \nL 603 4863 \nz\n\" transform=\"scale(0.015625)\"/>\n      <path id=\"DejaVuSans-73\" d=\"M 2834 3397 \nL 2834 2853 \nQ 2591 2978 2328 3040 \nQ 2066 3103 1784 3103 \nQ 1356 3103 1142 2972 \nQ 928 2841 928 2578 \nQ 928 2378 1081 2264 \nQ 1234 2150 1697 2047 \nL 1894 2003 \nQ 2506 1872 2764 1633 \nQ 3022 1394 3022 966 \nQ 3022 478 2636 193 \nQ 2250 -91 1575 -91 \nQ 1294 -91 989 -36 \nQ 684 19 347 128 \nL 347 722 \nQ 666 556 975 473 \nQ 1284 391 1588 391 \nQ 1994 391 2212 530 \nQ 2431 669 2431 922 \nQ 2431 1156 2273 1281 \nQ 2116 1406 1581 1522 \nL 1381 1569 \nQ 847 1681 609 1914 \nQ 372 2147 372 2553 \nQ 372 3047 722 3315 \nQ 1072 3584 1716 3584 \nQ 2034 3584 2315 3537 \nQ 2597 3491 2834 3397 \nz\n\" transform=\"scale(0.015625)\"/>\n      <path id=\"DejaVuSans-20\" transform=\"scale(0.015625)\"/>\n     </defs>\n     <use xlink:href=\"#DejaVuSans-41\"/>\n     <use xlink:href=\"#DejaVuSans-72\" x=\"68.408203\"/>\n     <use xlink:href=\"#DejaVuSans-74\" x=\"109.521484\"/>\n     <use xlink:href=\"#DejaVuSans-68\" x=\"148.730469\"/>\n     <use xlink:href=\"#DejaVuSans-72\" x=\"212.109375\"/>\n     <use xlink:href=\"#DejaVuSans-69\" x=\"253.222656\"/>\n     <use xlink:href=\"#DejaVuSans-74\" x=\"281.005859\"/>\n     <use xlink:href=\"#DejaVuSans-69\" x=\"320.214844\"/>\n     <use xlink:href=\"#DejaVuSans-73\" x=\"347.998047\"/>\n     <use xlink:href=\"#DejaVuSans-20\" x=\"400.097656\"/>\n     <use xlink:href=\"#DejaVuSans-54\" x=\"431.884766\"/>\n     <use xlink:href=\"#DejaVuSans-72\" x=\"478.21875\"/>\n     <use xlink:href=\"#DejaVuSans-65\" x=\"517.082031\"/>\n     <use xlink:href=\"#DejaVuSans-61\" x=\"578.605469\"/>\n     <use xlink:href=\"#DejaVuSans-74\" x=\"639.884766\"/>\n     <use xlink:href=\"#DejaVuSans-6d\" x=\"679.09375\"/>\n     <use xlink:href=\"#DejaVuSans-65\" x=\"776.505859\"/>\n     <use xlink:href=\"#DejaVuSans-6e\" x=\"838.029297\"/>\n     <use xlink:href=\"#DejaVuSans-74\" x=\"901.408203\"/>\n    </g>\n   </g>\n  </g>\n  <g id=\"axes_2\">\n   <g id=\"matplotlib.axis_3\"/>\n   <g id=\"patch_13\">\n    <path d=\"M 50.996875 288.430125 \nL 50.996875 22.318125 \n\" style=\"fill: none; stroke: #000000; stroke-width: 0.8; stroke-linejoin: miter; stroke-linecap: square\"/>\n   </g>\n   <g id=\"patch_14\">\n    <path d=\"M 408.116875 288.430125 \nL 408.116875 22.318125 \n\" style=\"fill: none; stroke: #000000; stroke-width: 0.8; stroke-linejoin: miter; stroke-linecap: square\"/>\n   </g>\n   <g id=\"patch_15\">\n    <path d=\"M 50.996875 288.430125 \nL 408.116875 288.430125 \n\" style=\"fill: none; stroke: #000000; stroke-width: 0.8; stroke-linejoin: miter; stroke-linecap: square\"/>\n   </g>\n   <g id=\"patch_16\">\n    <path d=\"M 50.996875 22.318125 \nL 408.116875 22.318125 \n\" style=\"fill: none; stroke: #000000; stroke-width: 0.8; stroke-linejoin: miter; stroke-linecap: square\"/>\n   </g>\n  </g>\n  <g id=\"axes_3\">\n   <g id=\"matplotlib.axis_4\"/>\n   <g id=\"patch_17\">\n    <path d=\"M 50.996875 288.430125 \nL 50.996875 22.318125 \n\" style=\"fill: none; stroke: #000000; stroke-width: 0.8; stroke-linejoin: miter; stroke-linecap: square\"/>\n   </g>\n   <g id=\"patch_18\">\n    <path d=\"M 408.116875 288.430125 \nL 408.116875 22.318125 \n\" style=\"fill: none; stroke: #000000; stroke-width: 0.8; stroke-linejoin: miter; stroke-linecap: square\"/>\n   </g>\n   <g id=\"patch_19\">\n    <path d=\"M 50.996875 288.430125 \nL 408.116875 288.430125 \n\" style=\"fill: none; stroke: #000000; stroke-width: 0.8; stroke-linejoin: miter; stroke-linecap: square\"/>\n   </g>\n   <g id=\"patch_20\">\n    <path d=\"M 50.996875 22.318125 \nL 408.116875 22.318125 \n\" style=\"fill: none; stroke: #000000; stroke-width: 0.8; stroke-linejoin: miter; stroke-linecap: square\"/>\n   </g>\n  </g>\n </g>\n <defs>\n  <clipPath id=\"p450d00261c\">\n   <rect x=\"50.996875\" y=\"22.318125\" width=\"357.12\" height=\"266.112\"/>\n  </clipPath>\n </defs>\n</svg>\n"
          },
          "metadata": {}
        }
      ],
      "source": [
        "ra['Improved'] = pd.Series(\n",
        "    pd.Categorical(ra.Improved,\n",
        "                 categories=['None','Some','Marked'],\n",
        "                 ordered=True))\n",
        "\n",
        "props = lambda key: {'color': 'r' if 'a' in key else 'gray'}\n",
        "props = {}\n",
        "props[('Treated','Marked')] = {'color': '#b35806'}\n",
        "props[('Treated','Some')] = {'color': '#f1a340'}\n",
        "props[('Treated','None')] = {'color': '#fee0b6'}\n",
        "props[('Placebo','Marked')] = {'color': '#d8daeb'}\n",
        "props[('Placebo','Some')] = {'color': '#998ec3'}\n",
        "props[('Placebo','None')] = {'color': '#542788'}\n",
        "\n",
        "mosaic(ra, ['Treatment','Improved'], title = \"Arthritis Treatment\", properties=props)\n",
        "plt.show()"
      ]
    },
    {
      "cell_type": "markdown",
      "source": [
        "### Question 4\n",
        "\n",
        "For this trial, what was the null hypothesis?"
      ],
      "metadata": {
        "id": "81p2y-LJK6lx"
      },
      "id": "81p2y-LJK6lx"
    },
    {
      "cell_type": "markdown",
      "source": [
        "### Answer\n"
      ],
      "metadata": {
        "id": "VPwsEMOvK8Xv"
      },
      "id": "VPwsEMOvK8Xv"
    },
    {
      "cell_type": "markdown",
      "source": [
        "The null hypothesis is that any change in symptoms is independent of whether the patient recieved the treatment or a placebo."
      ],
      "metadata": {
        "id": "Mv__Roh0LCzq"
      },
      "id": "Mv__Roh0LCzq"
    },
    {
      "cell_type": "markdown",
      "source": [
        "### Question 5\n",
        "\n",
        "Is it valid to use a $\\chi^{2}$-test for this data?"
      ],
      "metadata": {
        "id": "hbWHHIZZLHdC"
      },
      "id": "hbWHHIZZLHdC"
    },
    {
      "cell_type": "markdown",
      "source": [
        "### Answer"
      ],
      "metadata": {
        "id": "_gAi72fFLDKb"
      },
      "id": "_gAi72fFLDKb"
    },
    {
      "cell_type": "markdown",
      "source": [
        "We have more than 5 counts in each cell of the table, so we meet the rule of\n",
        "thumb that says we can use the $\\chi^{2}$-test. Be warned, some statisticians\n",
        "would prefer that you had at least 10 in each cell."
      ],
      "metadata": {
        "id": "CPsL8zY1LKcT"
      },
      "id": "CPsL8zY1LKcT"
    },
    {
      "cell_type": "markdown",
      "source": [
        "### Question 6\n",
        "\n",
        "How many degrees of freedom are there in this data?\n",
        "\n",
        "Hint: Do a bit of research to actually understand degrees of freedom (DOF) more generally. When learning statistics it seems a little bit random where you get the DOF from in each different model but once you realise the theory behind it then it all makes sense. Knowing the theory means that it is much easier to remember the rules for each model as well. I will try to link a good DOF explainer in the resources section."
      ],
      "metadata": {
        "id": "vCVGix_RLLGF"
      },
      "id": "vCVGix_RLLGF"
    },
    {
      "cell_type": "markdown",
      "source": [
        "\n",
        "### Answer\n",
        "\n",
        "Two, because there are two rows of three columns and $(2 - 1)(3 - 1) = 2$.\n",
        "\n",
        "See the DOF video in the resources section!"
      ],
      "metadata": {
        "id": "9CR0AFEnLMip"
      },
      "id": "9CR0AFEnLMip"
    },
    {
      "cell_type": "markdown",
      "source": [
        "### Question 7\n",
        "\n",
        "Perform a $\\chi^{2}$-test on the contingency table; are treatment and changes in symptoms independent?\n",
        "\n",
        "Make sure that when you do a hypothesis test you make it nice and formal. Define your hypothesis clearly,...etc"
      ],
      "metadata": {
        "id": "kaSxPMi0LoPB"
      },
      "id": "kaSxPMi0LoPB"
    },
    {
      "cell_type": "markdown",
      "id": "cfa426fe-0491-4fad-9616-cfb652a03f08",
      "metadata": {
        "id": "cfa426fe-0491-4fad-9616-cfb652a03f08"
      },
      "source": [
        "\n",
        "\n",
        "\n",
        "\n",
        "\n",
        "\n",
        "\n",
        "\n",
        "\n",
        "\n",
        "### Answer"
      ]
    },
    {
      "cell_type": "markdown",
      "source": [
        "The following code carries out the test and suggests we should reject the null\n",
        "hypothesis.\n",
        "\n",
        "Null Hypothesis: Treatment and changes are independent\n",
        "\n",
        "Alternative Hypothesis: Treatment and changes are not independent (looks weird but we say this over 'dependent')"
      ],
      "metadata": {
        "id": "NKvCnDU0LxyA"
      },
      "id": "NKvCnDU0LxyA"
    },
    {
      "cell_type": "code",
      "execution_count": 7,
      "id": "38bf2706-777a-48de-99a5-b676f4856aed",
      "metadata": {
        "id": "38bf2706-777a-48de-99a5-b676f4856aed",
        "colab": {
          "base_uri": "https://localhost:8080/"
        },
        "outputId": "534658ce-2ae3-4811-e3f9-514f3b53143e"
      },
      "outputs": [
        {
          "output_type": "stream",
          "name": "stdout",
          "text": [
            "Observed values\n",
            "[[ 7 29  7]\n",
            " [21 13  7]]\n",
            "Expected values under null\n",
            "[[14.33333333 21.5         7.16666667]\n",
            " [13.66666667 20.5         6.83333333]]\n",
            "Chi-squared statistic\n",
            "13.055019852524108\n",
            "p-value\n",
            "0.0014626434089526352\n"
          ]
        }
      ],
      "source": [
        "t = outcome_tbl.to_numpy()\n",
        "col_sums = np.sum(t, axis=0)\n",
        "row_sums = np.sum(t, axis=1)\n",
        "total_sum = t.sum()\n",
        "\n",
        "my_et = np.zeros((2,3))\n",
        "for ix in range(2):\n",
        "    for jx in range(3):\n",
        "        my_et[ix,jx] = col_sums[jx] * row_sums[ix] / total_sum\n",
        "\n",
        "print(\"Observed values\")\n",
        "print(t)\n",
        "print(\"Expected values under null\")\n",
        "print(my_et)\n",
        "print(\"Chi-squared statistic\")\n",
        "my_chi = (np.power(t - my_et, 2) / my_et).sum()\n",
        "print(my_chi)\n",
        "print(\"p-value\")\n",
        "print(1 - scipy.stats.chi2.cdf(my_chi, df=2))"
      ]
    },
    {
      "cell_type": "code",
      "execution_count": 8,
      "id": "e326eb76-8b96-4091-8699-fd3fa7c15657",
      "metadata": {
        "id": "e326eb76-8b96-4091-8699-fd3fa7c15657",
        "colab": {
          "base_uri": "https://localhost:8080/"
        },
        "outputId": "30be1be9-6714-4ce5-e8dc-e8adccf7c1a8"
      },
      "outputs": [
        {
          "output_type": "stream",
          "name": "stdout",
          "text": [
            "13.055019852524108\n",
            "0.0014626434089526504\n",
            "2\n",
            "[[14.33333333 21.5         7.16666667]\n",
            " [13.66666667 20.5         6.83333333]]\n"
          ]
        }
      ],
      "source": [
        "chi2, p, dof, expected = scipy.stats.chi2_contingency(outcome_tbl.to_numpy())\n",
        "print(chi2)\n",
        "print(p)\n",
        "print(dof)\n",
        "print(expected)"
      ]
    },
    {
      "cell_type": "markdown",
      "source": [
        "### Question 8\n",
        "\n",
        "A) What can we conclude from this hypothesis test?\n",
        "\n",
        "- We can conclude that treatment and changes in symptoms are not independent.\n",
        "\n",
        "B) Why did we need to randomise the treatment?\n",
        "\n",
        "Note that a proper treatment of causality goes well beyond the scope of this course, but recall that randomised controlled trials provide very very high quality evidence.\n",
        "\n",
        "- Randomisation helps avoid confounding factors which lends more credibility to\n",
        "  the conclusion that the treatment improves the condition."
      ],
      "metadata": {
        "id": "-6JNed_xMIrg"
      },
      "id": "-6JNed_xMIrg"
    },
    {
      "cell_type": "markdown",
      "source": [
        "### Question 9 [Extension - Do this if time]"
      ],
      "metadata": {
        "id": "RqP1Bx3ONWGp"
      },
      "id": "RqP1Bx3ONWGp"
    },
    {
      "cell_type": "markdown",
      "source": [
        "\n",
        "Recall from earlier notebooks the function estimate_and_ci which computes the probability of success in repeated Bernoulli trials and the  95%  confidence interval on this estimate.\n",
        "\n"
      ],
      "metadata": {
        "id": "Vipgr5s9NWez"
      },
      "id": "Vipgr5s9NWez"
    },
    {
      "cell_type": "code",
      "execution_count": 12,
      "id": "bbf97501-455e-42fd-b4ca-85804deed44f",
      "metadata": {
        "id": "bbf97501-455e-42fd-b4ca-85804deed44f"
      },
      "outputs": [],
      "source": [
        "def estimate_and_ci(num_trials, num_success):\n",
        "  \"\"\" returns a tuple of the probability of success and a confidence interval\"\"\"\n",
        "\n",
        "  # sample probability\n",
        "  p_hat = num_success / num_trials\n",
        "\n",
        "  # Define the critical value of standard normal for 2.5% either side\n",
        "  z = 1.96\n",
        "\n",
        "  # Calculate +/- part of the CI\n",
        "  delta = z * np.sqrt(p_hat * (1 - p_hat) / num_trials)\n",
        "\n",
        "  # Return the CI\n",
        "  return (p_hat,(p_hat - delta, p_hat + delta))"
      ]
    },
    {
      "cell_type": "markdown",
      "source": [
        "The functions `rand_small_table` and `rand_big_table` defined below return\n",
        "random datasets of the same shape as our arthritis dataset under the null\n",
        "hypothesis, i.e. when the outcome is independent of treatment. The\n",
        "`rand_small_table` returns data from a smaller cohort and the `rand_big_table`\n",
        "returns data from a larger cohort.\n",
        "\n",
        "We're use the Poisson to model each outcome since events are independent and there is no fixed number of trials (i.e. binomial would not be appropriate). We work out the mean of the each outcome using the expected outcomes from the contingency table. We could just scale these expected outcomes up and down but we've added some Poisson randomness to make it more realistic of data you might get."
      ],
      "metadata": {
        "id": "zNYCNuXqMyxH"
      },
      "id": "zNYCNuXqMyxH"
    },
    {
      "cell_type": "code",
      "source": [
        "# Remind ourselves of the outcome table.\n",
        "outcome_tbl"
      ],
      "metadata": {
        "colab": {
          "base_uri": "https://localhost:8080/",
          "height": 142
        },
        "id": "9fzN5Y8tld1-",
        "outputId": "302d4e32-8ec9-491e-9cc9-b81a10073acc"
      },
      "id": "9fzN5Y8tld1-",
      "execution_count": 14,
      "outputs": [
        {
          "output_type": "execute_result",
          "data": {
            "text/plain": [
              "Improved   Marked  None  Some\n",
              "Treatment                    \n",
              "Placebo         7    29     7\n",
              "Treated        21    13     7"
            ],
            "text/html": [
              "\n",
              "  <div id=\"df-37822774-03ea-42df-8f6b-58a68bce24e6\" class=\"colab-df-container\">\n",
              "    <div>\n",
              "<style scoped>\n",
              "    .dataframe tbody tr th:only-of-type {\n",
              "        vertical-align: middle;\n",
              "    }\n",
              "\n",
              "    .dataframe tbody tr th {\n",
              "        vertical-align: top;\n",
              "    }\n",
              "\n",
              "    .dataframe thead th {\n",
              "        text-align: right;\n",
              "    }\n",
              "</style>\n",
              "<table border=\"1\" class=\"dataframe\">\n",
              "  <thead>\n",
              "    <tr style=\"text-align: right;\">\n",
              "      <th>Improved</th>\n",
              "      <th>Marked</th>\n",
              "      <th>None</th>\n",
              "      <th>Some</th>\n",
              "    </tr>\n",
              "    <tr>\n",
              "      <th>Treatment</th>\n",
              "      <th></th>\n",
              "      <th></th>\n",
              "      <th></th>\n",
              "    </tr>\n",
              "  </thead>\n",
              "  <tbody>\n",
              "    <tr>\n",
              "      <th>Placebo</th>\n",
              "      <td>7</td>\n",
              "      <td>29</td>\n",
              "      <td>7</td>\n",
              "    </tr>\n",
              "    <tr>\n",
              "      <th>Treated</th>\n",
              "      <td>21</td>\n",
              "      <td>13</td>\n",
              "      <td>7</td>\n",
              "    </tr>\n",
              "  </tbody>\n",
              "</table>\n",
              "</div>\n",
              "    <div class=\"colab-df-buttons\">\n",
              "\n",
              "  <div class=\"colab-df-container\">\n",
              "    <button class=\"colab-df-convert\" onclick=\"convertToInteractive('df-37822774-03ea-42df-8f6b-58a68bce24e6')\"\n",
              "            title=\"Convert this dataframe to an interactive table.\"\n",
              "            style=\"display:none;\">\n",
              "\n",
              "  <svg xmlns=\"http://www.w3.org/2000/svg\" height=\"24px\" viewBox=\"0 -960 960 960\">\n",
              "    <path d=\"M120-120v-720h720v720H120Zm60-500h600v-160H180v160Zm220 220h160v-160H400v160Zm0 220h160v-160H400v160ZM180-400h160v-160H180v160Zm440 0h160v-160H620v160ZM180-180h160v-160H180v160Zm440 0h160v-160H620v160Z\"/>\n",
              "  </svg>\n",
              "    </button>\n",
              "\n",
              "  <style>\n",
              "    .colab-df-container {\n",
              "      display:flex;\n",
              "      gap: 12px;\n",
              "    }\n",
              "\n",
              "    .colab-df-convert {\n",
              "      background-color: #E8F0FE;\n",
              "      border: none;\n",
              "      border-radius: 50%;\n",
              "      cursor: pointer;\n",
              "      display: none;\n",
              "      fill: #1967D2;\n",
              "      height: 32px;\n",
              "      padding: 0 0 0 0;\n",
              "      width: 32px;\n",
              "    }\n",
              "\n",
              "    .colab-df-convert:hover {\n",
              "      background-color: #E2EBFA;\n",
              "      box-shadow: 0px 1px 2px rgba(60, 64, 67, 0.3), 0px 1px 3px 1px rgba(60, 64, 67, 0.15);\n",
              "      fill: #174EA6;\n",
              "    }\n",
              "\n",
              "    .colab-df-buttons div {\n",
              "      margin-bottom: 4px;\n",
              "    }\n",
              "\n",
              "    [theme=dark] .colab-df-convert {\n",
              "      background-color: #3B4455;\n",
              "      fill: #D2E3FC;\n",
              "    }\n",
              "\n",
              "    [theme=dark] .colab-df-convert:hover {\n",
              "      background-color: #434B5C;\n",
              "      box-shadow: 0px 1px 3px 1px rgba(0, 0, 0, 0.15);\n",
              "      filter: drop-shadow(0px 1px 2px rgba(0, 0, 0, 0.3));\n",
              "      fill: #FFFFFF;\n",
              "    }\n",
              "  </style>\n",
              "\n",
              "    <script>\n",
              "      const buttonEl =\n",
              "        document.querySelector('#df-37822774-03ea-42df-8f6b-58a68bce24e6 button.colab-df-convert');\n",
              "      buttonEl.style.display =\n",
              "        google.colab.kernel.accessAllowed ? 'block' : 'none';\n",
              "\n",
              "      async function convertToInteractive(key) {\n",
              "        const element = document.querySelector('#df-37822774-03ea-42df-8f6b-58a68bce24e6');\n",
              "        const dataTable =\n",
              "          await google.colab.kernel.invokeFunction('convertToInteractive',\n",
              "                                                    [key], {});\n",
              "        if (!dataTable) return;\n",
              "\n",
              "        const docLinkHtml = 'Like what you see? Visit the ' +\n",
              "          '<a target=\"_blank\" href=https://colab.research.google.com/notebooks/data_table.ipynb>data table notebook</a>'\n",
              "          + ' to learn more about interactive tables.';\n",
              "        element.innerHTML = '';\n",
              "        dataTable['output_type'] = 'display_data';\n",
              "        await google.colab.output.renderOutput(dataTable, element);\n",
              "        const docLink = document.createElement('div');\n",
              "        docLink.innerHTML = docLinkHtml;\n",
              "        element.appendChild(docLink);\n",
              "      }\n",
              "    </script>\n",
              "  </div>\n",
              "\n",
              "\n",
              "<div id=\"df-7ab563fa-c7c9-4dc0-a1ec-c8e1330b1a0c\">\n",
              "  <button class=\"colab-df-quickchart\" onclick=\"quickchart('df-7ab563fa-c7c9-4dc0-a1ec-c8e1330b1a0c')\"\n",
              "            title=\"Suggest charts\"\n",
              "            style=\"display:none;\">\n",
              "\n",
              "<svg xmlns=\"http://www.w3.org/2000/svg\" height=\"24px\"viewBox=\"0 0 24 24\"\n",
              "     width=\"24px\">\n",
              "    <g>\n",
              "        <path d=\"M19 3H5c-1.1 0-2 .9-2 2v14c0 1.1.9 2 2 2h14c1.1 0 2-.9 2-2V5c0-1.1-.9-2-2-2zM9 17H7v-7h2v7zm4 0h-2V7h2v10zm4 0h-2v-4h2v4z\"/>\n",
              "    </g>\n",
              "</svg>\n",
              "  </button>\n",
              "\n",
              "<style>\n",
              "  .colab-df-quickchart {\n",
              "      --bg-color: #E8F0FE;\n",
              "      --fill-color: #1967D2;\n",
              "      --hover-bg-color: #E2EBFA;\n",
              "      --hover-fill-color: #174EA6;\n",
              "      --disabled-fill-color: #AAA;\n",
              "      --disabled-bg-color: #DDD;\n",
              "  }\n",
              "\n",
              "  [theme=dark] .colab-df-quickchart {\n",
              "      --bg-color: #3B4455;\n",
              "      --fill-color: #D2E3FC;\n",
              "      --hover-bg-color: #434B5C;\n",
              "      --hover-fill-color: #FFFFFF;\n",
              "      --disabled-bg-color: #3B4455;\n",
              "      --disabled-fill-color: #666;\n",
              "  }\n",
              "\n",
              "  .colab-df-quickchart {\n",
              "    background-color: var(--bg-color);\n",
              "    border: none;\n",
              "    border-radius: 50%;\n",
              "    cursor: pointer;\n",
              "    display: none;\n",
              "    fill: var(--fill-color);\n",
              "    height: 32px;\n",
              "    padding: 0;\n",
              "    width: 32px;\n",
              "  }\n",
              "\n",
              "  .colab-df-quickchart:hover {\n",
              "    background-color: var(--hover-bg-color);\n",
              "    box-shadow: 0 1px 2px rgba(60, 64, 67, 0.3), 0 1px 3px 1px rgba(60, 64, 67, 0.15);\n",
              "    fill: var(--button-hover-fill-color);\n",
              "  }\n",
              "\n",
              "  .colab-df-quickchart-complete:disabled,\n",
              "  .colab-df-quickchart-complete:disabled:hover {\n",
              "    background-color: var(--disabled-bg-color);\n",
              "    fill: var(--disabled-fill-color);\n",
              "    box-shadow: none;\n",
              "  }\n",
              "\n",
              "  .colab-df-spinner {\n",
              "    border: 2px solid var(--fill-color);\n",
              "    border-color: transparent;\n",
              "    border-bottom-color: var(--fill-color);\n",
              "    animation:\n",
              "      spin 1s steps(1) infinite;\n",
              "  }\n",
              "\n",
              "  @keyframes spin {\n",
              "    0% {\n",
              "      border-color: transparent;\n",
              "      border-bottom-color: var(--fill-color);\n",
              "      border-left-color: var(--fill-color);\n",
              "    }\n",
              "    20% {\n",
              "      border-color: transparent;\n",
              "      border-left-color: var(--fill-color);\n",
              "      border-top-color: var(--fill-color);\n",
              "    }\n",
              "    30% {\n",
              "      border-color: transparent;\n",
              "      border-left-color: var(--fill-color);\n",
              "      border-top-color: var(--fill-color);\n",
              "      border-right-color: var(--fill-color);\n",
              "    }\n",
              "    40% {\n",
              "      border-color: transparent;\n",
              "      border-right-color: var(--fill-color);\n",
              "      border-top-color: var(--fill-color);\n",
              "    }\n",
              "    60% {\n",
              "      border-color: transparent;\n",
              "      border-right-color: var(--fill-color);\n",
              "    }\n",
              "    80% {\n",
              "      border-color: transparent;\n",
              "      border-right-color: var(--fill-color);\n",
              "      border-bottom-color: var(--fill-color);\n",
              "    }\n",
              "    90% {\n",
              "      border-color: transparent;\n",
              "      border-bottom-color: var(--fill-color);\n",
              "    }\n",
              "  }\n",
              "</style>\n",
              "\n",
              "  <script>\n",
              "    async function quickchart(key) {\n",
              "      const quickchartButtonEl =\n",
              "        document.querySelector('#' + key + ' button');\n",
              "      quickchartButtonEl.disabled = true;  // To prevent multiple clicks.\n",
              "      quickchartButtonEl.classList.add('colab-df-spinner');\n",
              "      try {\n",
              "        const charts = await google.colab.kernel.invokeFunction(\n",
              "            'suggestCharts', [key], {});\n",
              "      } catch (error) {\n",
              "        console.error('Error during call to suggestCharts:', error);\n",
              "      }\n",
              "      quickchartButtonEl.classList.remove('colab-df-spinner');\n",
              "      quickchartButtonEl.classList.add('colab-df-quickchart-complete');\n",
              "    }\n",
              "    (() => {\n",
              "      let quickchartButtonEl =\n",
              "        document.querySelector('#df-7ab563fa-c7c9-4dc0-a1ec-c8e1330b1a0c button');\n",
              "      quickchartButtonEl.style.display =\n",
              "        google.colab.kernel.accessAllowed ? 'block' : 'none';\n",
              "    })();\n",
              "  </script>\n",
              "</div>\n",
              "    </div>\n",
              "  </div>\n"
            ]
          },
          "metadata": {},
          "execution_count": 14
        }
      ]
    },
    {
      "cell_type": "code",
      "source": [
        "# Do a chi2 test using scipy. See the documentation for what this returns\n",
        "_, _, _, expected = scipy.stats.chi2_contingency(outcome_tbl.to_numpy())\n",
        "\n",
        "def rand_small_table():\n",
        "    \"\"\"Return a random dataset with a small cohort. Null hypothesis that events are independent\"\"\"\n",
        "    x = np.array(0)\n",
        "    while x.min() < 1:\n",
        "        x = scipy.stats.poisson.rvs(mu = np.array(0.5) * expected) # Scale down with 0.5*expected values.\n",
        "    return x\n",
        "\n",
        "def rand_big_table():\n",
        "  \"\"\"Return a random dataset with a large cohort. Null hypothesis that events are independent\"\"\"\n",
        "    x = np.array(0)\n",
        "    while x.min() < 1:\n",
        "        x = scipy.stats.poisson.rvs(mu = np.array(1.5) * expected) # Scale up with 1.5*expected values.\n",
        "    return x"
      ],
      "metadata": {
        "id": "ap6BRHe-Myg5"
      },
      "id": "ap6BRHe-Myg5",
      "execution_count": 16,
      "outputs": []
    },
    {
      "cell_type": "markdown",
      "id": "0eabddc5-8a23-414b-b8a0-90d74fe55312",
      "metadata": {
        "id": "0eabddc5-8a23-414b-b8a0-90d74fe55312"
      },
      "source": [
        "Using the functions `estimate_and_ci`, and `rand_small_table` and\n",
        "`rand_big_table`, demonstrate how the $\\chi^{2}$-test will fail if the cell values are too small."
      ]
    },
    {
      "cell_type": "markdown",
      "source": [
        "### Answer"
      ],
      "metadata": {
        "id": "NwY8zGoXNgOg"
      },
      "id": "NwY8zGoXNgOg"
    },
    {
      "cell_type": "markdown",
      "source": [
        "The false positive test suggests that the test will not be powerful enough on\n",
        "smaller tables. Our data is generated using the independence assumption. This is a repeated Bernoulli trial - if all was set up well we would want the false positive rate to be roughly equal to the significance level (10%). If this were not the case then the test would fail."
      ],
      "metadata": {
        "id": "507aYsQXNhU9"
      },
      "id": "507aYsQXNhU9"
    },
    {
      "cell_type": "markdown",
      "source": [
        "First consider the test when we use the table with a large number of trials"
      ],
      "metadata": {
        "id": "n-1VYRm2qh4e"
      },
      "id": "n-1VYRm2qh4e"
    },
    {
      "cell_type": "code",
      "execution_count": 29,
      "id": "748f2fb8-1627-44e7-8f9d-09b2d0af4b2f",
      "metadata": {
        "id": "748f2fb8-1627-44e7-8f9d-09b2d0af4b2f",
        "colab": {
          "base_uri": "https://localhost:8080/"
        },
        "outputId": "d32b918f-c760-442d-fdd2-28d911c179f1"
      },
      "outputs": [
        {
          "output_type": "stream",
          "name": "stdout",
          "text": [
            "We ran 10000 trials and got 1049 false positives\n",
            "(0.1049, (0.09889407929469593, 0.11090592070530406))\n"
          ]
        }
      ],
      "source": [
        "# Define the number of trials and set up a count for false positives\n",
        "num_trials = 10000\n",
        "false_pos_count = 0\n",
        "\n",
        "# Loop over the trials and count the number of false positives\n",
        "for _ in range(num_trials):\n",
        "\n",
        "    # Generate possible data using the big sample function\n",
        "    x = rand_big_table()\n",
        "\n",
        "    # Do a test for independence using this data. Extract p_value\n",
        "    _, p_value, _, _ = scipy.stats.chi2_contingency(x)\n",
        "\n",
        "    # Add one to the count when the p_value < 10% i.e. false positive\n",
        "    if p_value < 0.1:\n",
        "        false_pos_count+=1\n",
        "\n",
        "# Print the results\n",
        "print(f\"We ran {num_trials} trials and got {false_pos_count} false positives\")\n",
        "\n",
        "# Use our confidence interval function\n",
        "print(estimate_and_ci(num_trials, false_pos_count))"
      ]
    },
    {
      "cell_type": "markdown",
      "source": [
        "We get a sample false positive rate which is very close to our define false positive rate (i.e. the significance level). 10% is within our confidence interval we we've confirmed that the test is working as we would expect it to. Fantastic."
      ],
      "metadata": {
        "id": "v0vj5YStpNOX"
      },
      "id": "v0vj5YStpNOX"
    },
    {
      "cell_type": "markdown",
      "source": [
        "Now consider what happens when we use the small table"
      ],
      "metadata": {
        "id": "R-ddztjmq0xv"
      },
      "id": "R-ddztjmq0xv"
    },
    {
      "cell_type": "code",
      "source": [
        "# Define the number of trials and set up a count for false positives\n",
        "num_trials = 10000\n",
        "false_pos_count = 0\n",
        "\n",
        "# Loop over the trials and count the number of false positives\n",
        "for _ in range(num_trials):\n",
        "\n",
        "    # Generate possible data using the small sample function\n",
        "    x = rand_small_table()\n",
        "\n",
        "    # Do a test for independence using this data. Extract p_value\n",
        "    _, p_value, _, _ = scipy.stats.chi2_contingency(x)\n",
        "\n",
        "    # Add one to the count when the p_value < 10%\n",
        "    if p_value < 0.1:\n",
        "        false_pos_count+=1\n",
        "\n",
        "# Print the results\n",
        "print(f\"We ran {num_trials} trials and got {false_pos_count} false positives\")\n",
        "\n",
        "# Use our confidence interval function\n",
        "print(estimate_and_ci(num_trials, false_pos_count))"
      ],
      "metadata": {
        "colab": {
          "base_uri": "https://localhost:8080/"
        },
        "id": "ervms3kgo_0Q",
        "outputId": "e36d4a76-b60b-4977-91d6-4cb6e86f1f39"
      },
      "id": "ervms3kgo_0Q",
      "execution_count": 30,
      "outputs": [
        {
          "output_type": "stream",
          "name": "stdout",
          "text": [
            "We ran 10000 trials and got 846 false positives\n",
            "(0.0846, (0.07914560347844053, 0.09005439652155946))\n"
          ]
        }
      ]
    },
    {
      "cell_type": "markdown",
      "source": [
        "Ah! The false positive rate is lower than 10% even though we defined it as 10%! Nightmare. In fact, 0.1 doesn't even lie in our confidence interval. If we used a chi-square test here then we would actually be used a significance level around 8.5% rather than 10% which could lead us to make the wrong conclusion. i.e. the p-values from the test are incorrect.\n",
        "\n",
        "\n",
        "Conclusion is that the test fails when the cell values are too small"
      ],
      "metadata": {
        "id": "8sTsOwa9rBwp"
      },
      "id": "8sTsOwa9rBwp"
    },
    {
      "cell_type": "code",
      "source": [],
      "metadata": {
        "id": "uzlaDzD0s7zY"
      },
      "id": "uzlaDzD0s7zY",
      "execution_count": null,
      "outputs": []
    }
  ],
  "metadata": {
    "jupytext": {
      "formats": "ipynb,md"
    },
    "kernelspec": {
      "display_name": "Python 3 (ipykernel)",
      "language": "python",
      "name": "python3"
    },
    "language_info": {
      "codemirror_mode": {
        "name": "ipython",
        "version": 3
      },
      "file_extension": ".py",
      "mimetype": "text/x-python",
      "name": "python",
      "nbconvert_exporter": "python",
      "pygments_lexer": "ipython3",
      "version": "3.10.6"
    },
    "colab": {
      "provenance": []
    }
  },
  "nbformat": 4,
  "nbformat_minor": 5
}