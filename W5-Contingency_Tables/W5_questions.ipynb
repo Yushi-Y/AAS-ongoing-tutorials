{
  "cells": [
    {
      "cell_type": "markdown",
      "id": "a61f4b1e-5b27-4cdc-83af-1119d0f692a9",
      "metadata": {
        "id": "a61f4b1e-5b27-4cdc-83af-1119d0f692a9"
      },
      "source": [
        "# Week 5: Contingency Tables"
      ]
    },
    {
      "cell_type": "markdown",
      "source": [
        "## **Notebook Overview**\n",
        "\n",
        "This notebook is available on github\n",
        "[here](https://github.com/Yushi-Y/AAS-ongoing-tutorials). If you find errors or would like to suggest an improvement then let me know.\n",
        "\n",
        "This week is about using contingency tables and a $\\chi^{2}$-test to make claims. You will need to use the usual libraries as well as scipy and statsmodels.\n",
        "\n",
        "The next notebook will be looking at logistic regression. I would also recommend spending a little bit of time on logistic regression as it is a much bigger topic and harder to understand!"
      ],
      "metadata": {
        "id": "pCqgqqXeJiAX"
      },
      "id": "pCqgqqXeJiAX"
    },
    {
      "cell_type": "markdown",
      "source": [
        "### **Additional Resources**"
      ],
      "metadata": {
        "id": "aKRyz6L8JYcE"
      },
      "id": "aKRyz6L8JYcE"
    },
    {
      "cell_type": "markdown",
      "source": [
        "1. **YouTube Videos**\n",
        "* [**Contingency Tables:**](https://www.youtube.com/watch?v=W95BgQCp_rQ) Runs through a similar (maybe the same...) example from class but at a slower pace and going into more detail. Okay resource.\n",
        "* [**Hypothesis Testing Example: [Best Resource]**](https://www.youtube.com/watch?v=hpWdDmgsIRE) A good Kahn Academy video walking through a hypothesis test for independence using contingency tables and chi-squared. This is better than the first video. It's at a pace where you can work along with it.\n",
        "* [**Hypothesis Testing with Two Means:**](https://www.youtube.com/watch?v=UcZwyzwWU7o) Relevant more generally.\n",
        "* [**Hypothesis Testing for Proportions:**](https://www.youtube.com/watch?v=76VruarGn2Q) Again, relevant more generally.\n",
        "* [**Ben Lambert on Degrees of Freedom:**](https://www.youtube.com/watch?v=-4aiKmPC994&pp=ygUeYmVuIGxhbWJlcnQgZGVncmVlcyBvZiBmcmVlZG9t) Really useful to understand this but not necessary if you just to want to know how to use the models. Part 2 can be found [here](https://www.youtube.com/watch?v=iA2KZHHZmmg). Would strongly recommend these videos for anyone who has been questioning where we pull the DOF value out from.\n",
        "\n",
        "2. **Documentation**\n",
        "* [**SciPy Contingency Tables**:](https://docs.scipy.org/doc/scipy/reference/generated/scipy.stats.chi2_contingency.html) Use SciPy to do a few of the questions in this notebook.\n",
        "\n",
        "3. **A Level Textbooks**\n",
        "* Contingency tables are topics taught at A Level so have a look at the textbooks. It will be explained at an introductory level there which might be useful if the other resources are too advanced.\n",
        "\n",
        "4. **Textbooks**\n",
        "* It is covered in the Fox textbook (briefly)."
      ],
      "metadata": {
        "id": "PYJq8TbXJZPU"
      },
      "id": "PYJq8TbXJZPU"
    },
    {
      "cell_type": "markdown",
      "source": [
        "As usual we will start by importing some useful libraries."
      ],
      "metadata": {
        "id": "0XUIaQo9JUS0"
      },
      "id": "0XUIaQo9JUS0"
    },
    {
      "cell_type": "code",
      "execution_count": 1,
      "id": "abb9087e-7cbf-43fd-9fd3-6465f613cf03",
      "metadata": {
        "id": "abb9087e-7cbf-43fd-9fd3-6465f613cf03"
      },
      "outputs": [],
      "source": [
        "%config InlineBackend.figure_format = 'svg'\n",
        "import statsmodels.api as sm\n",
        "from statsmodels.graphics.mosaicplot import mosaic\n",
        "import matplotlib.pyplot as plt\n",
        "import pandas as pd\n",
        "import scipy\n",
        "import numpy as np"
      ]
    },
    {
      "cell_type": "markdown",
      "id": "65f9801b-b722-4312-b720-2edb27a6d175",
      "metadata": {
        "id": "65f9801b-b722-4312-b720-2edb27a6d175"
      },
      "source": [
        "Today we will look at a dataset from a double-blind clinical trial of a new\n",
        "treatment for rheumatoid arthritis. We will test whether treatment is correlated\n",
        "with a change in symptoms using a $\\chi^{2}$-test.\n",
        "\n",
        "First, we need to load the data which comes bundled with `statsmodels`."
      ]
    },
    {
      "cell_type": "code",
      "execution_count": 3,
      "id": "de17ffee-8a0c-4730-949a-a7c621c5a1b5",
      "metadata": {
        "id": "de17ffee-8a0c-4730-949a-a7c621c5a1b5",
        "outputId": "91deac15-25ea-42aa-d7a0-31b9a1aed5ce",
        "colab": {
          "base_uri": "https://localhost:8080/",
          "height": 204
        }
      },
      "outputs": [
        {
          "output_type": "execute_result",
          "data": {
            "text/plain": [
              "   ID Treatment   Sex  Age Improved\n",
              "0  57   Treated  Male   27     Some\n",
              "1  46   Treated  Male   29     None\n",
              "2  77   Treated  Male   30     None\n",
              "3  17   Treated  Male   32   Marked\n",
              "4  36   Treated  Male   46   Marked"
            ],
            "text/html": [
              "\n",
              "  <div id=\"df-4dfb5c46-ff57-43bf-a52b-9fefe7644ef1\" class=\"colab-df-container\">\n",
              "    <div>\n",
              "<style scoped>\n",
              "    .dataframe tbody tr th:only-of-type {\n",
              "        vertical-align: middle;\n",
              "    }\n",
              "\n",
              "    .dataframe tbody tr th {\n",
              "        vertical-align: top;\n",
              "    }\n",
              "\n",
              "    .dataframe thead th {\n",
              "        text-align: right;\n",
              "    }\n",
              "</style>\n",
              "<table border=\"1\" class=\"dataframe\">\n",
              "  <thead>\n",
              "    <tr style=\"text-align: right;\">\n",
              "      <th></th>\n",
              "      <th>ID</th>\n",
              "      <th>Treatment</th>\n",
              "      <th>Sex</th>\n",
              "      <th>Age</th>\n",
              "      <th>Improved</th>\n",
              "    </tr>\n",
              "  </thead>\n",
              "  <tbody>\n",
              "    <tr>\n",
              "      <th>0</th>\n",
              "      <td>57</td>\n",
              "      <td>Treated</td>\n",
              "      <td>Male</td>\n",
              "      <td>27</td>\n",
              "      <td>Some</td>\n",
              "    </tr>\n",
              "    <tr>\n",
              "      <th>1</th>\n",
              "      <td>46</td>\n",
              "      <td>Treated</td>\n",
              "      <td>Male</td>\n",
              "      <td>29</td>\n",
              "      <td>None</td>\n",
              "    </tr>\n",
              "    <tr>\n",
              "      <th>2</th>\n",
              "      <td>77</td>\n",
              "      <td>Treated</td>\n",
              "      <td>Male</td>\n",
              "      <td>30</td>\n",
              "      <td>None</td>\n",
              "    </tr>\n",
              "    <tr>\n",
              "      <th>3</th>\n",
              "      <td>17</td>\n",
              "      <td>Treated</td>\n",
              "      <td>Male</td>\n",
              "      <td>32</td>\n",
              "      <td>Marked</td>\n",
              "    </tr>\n",
              "    <tr>\n",
              "      <th>4</th>\n",
              "      <td>36</td>\n",
              "      <td>Treated</td>\n",
              "      <td>Male</td>\n",
              "      <td>46</td>\n",
              "      <td>Marked</td>\n",
              "    </tr>\n",
              "  </tbody>\n",
              "</table>\n",
              "</div>\n",
              "    <div class=\"colab-df-buttons\">\n",
              "\n",
              "  <div class=\"colab-df-container\">\n",
              "    <button class=\"colab-df-convert\" onclick=\"convertToInteractive('df-4dfb5c46-ff57-43bf-a52b-9fefe7644ef1')\"\n",
              "            title=\"Convert this dataframe to an interactive table.\"\n",
              "            style=\"display:none;\">\n",
              "\n",
              "  <svg xmlns=\"http://www.w3.org/2000/svg\" height=\"24px\" viewBox=\"0 -960 960 960\">\n",
              "    <path d=\"M120-120v-720h720v720H120Zm60-500h600v-160H180v160Zm220 220h160v-160H400v160Zm0 220h160v-160H400v160ZM180-400h160v-160H180v160Zm440 0h160v-160H620v160ZM180-180h160v-160H180v160Zm440 0h160v-160H620v160Z\"/>\n",
              "  </svg>\n",
              "    </button>\n",
              "\n",
              "  <style>\n",
              "    .colab-df-container {\n",
              "      display:flex;\n",
              "      gap: 12px;\n",
              "    }\n",
              "\n",
              "    .colab-df-convert {\n",
              "      background-color: #E8F0FE;\n",
              "      border: none;\n",
              "      border-radius: 50%;\n",
              "      cursor: pointer;\n",
              "      display: none;\n",
              "      fill: #1967D2;\n",
              "      height: 32px;\n",
              "      padding: 0 0 0 0;\n",
              "      width: 32px;\n",
              "    }\n",
              "\n",
              "    .colab-df-convert:hover {\n",
              "      background-color: #E2EBFA;\n",
              "      box-shadow: 0px 1px 2px rgba(60, 64, 67, 0.3), 0px 1px 3px 1px rgba(60, 64, 67, 0.15);\n",
              "      fill: #174EA6;\n",
              "    }\n",
              "\n",
              "    .colab-df-buttons div {\n",
              "      margin-bottom: 4px;\n",
              "    }\n",
              "\n",
              "    [theme=dark] .colab-df-convert {\n",
              "      background-color: #3B4455;\n",
              "      fill: #D2E3FC;\n",
              "    }\n",
              "\n",
              "    [theme=dark] .colab-df-convert:hover {\n",
              "      background-color: #434B5C;\n",
              "      box-shadow: 0px 1px 3px 1px rgba(0, 0, 0, 0.15);\n",
              "      filter: drop-shadow(0px 1px 2px rgba(0, 0, 0, 0.3));\n",
              "      fill: #FFFFFF;\n",
              "    }\n",
              "  </style>\n",
              "\n",
              "    <script>\n",
              "      const buttonEl =\n",
              "        document.querySelector('#df-4dfb5c46-ff57-43bf-a52b-9fefe7644ef1 button.colab-df-convert');\n",
              "      buttonEl.style.display =\n",
              "        google.colab.kernel.accessAllowed ? 'block' : 'none';\n",
              "\n",
              "      async function convertToInteractive(key) {\n",
              "        const element = document.querySelector('#df-4dfb5c46-ff57-43bf-a52b-9fefe7644ef1');\n",
              "        const dataTable =\n",
              "          await google.colab.kernel.invokeFunction('convertToInteractive',\n",
              "                                                    [key], {});\n",
              "        if (!dataTable) return;\n",
              "\n",
              "        const docLinkHtml = 'Like what you see? Visit the ' +\n",
              "          '<a target=\"_blank\" href=https://colab.research.google.com/notebooks/data_table.ipynb>data table notebook</a>'\n",
              "          + ' to learn more about interactive tables.';\n",
              "        element.innerHTML = '';\n",
              "        dataTable['output_type'] = 'display_data';\n",
              "        await google.colab.output.renderOutput(dataTable, element);\n",
              "        const docLink = document.createElement('div');\n",
              "        docLink.innerHTML = docLinkHtml;\n",
              "        element.appendChild(docLink);\n",
              "      }\n",
              "    </script>\n",
              "  </div>\n",
              "\n",
              "\n",
              "<div id=\"df-661d4eae-d1f7-432a-a7a9-84f39c621d9c\">\n",
              "  <button class=\"colab-df-quickchart\" onclick=\"quickchart('df-661d4eae-d1f7-432a-a7a9-84f39c621d9c')\"\n",
              "            title=\"Suggest charts\"\n",
              "            style=\"display:none;\">\n",
              "\n",
              "<svg xmlns=\"http://www.w3.org/2000/svg\" height=\"24px\"viewBox=\"0 0 24 24\"\n",
              "     width=\"24px\">\n",
              "    <g>\n",
              "        <path d=\"M19 3H5c-1.1 0-2 .9-2 2v14c0 1.1.9 2 2 2h14c1.1 0 2-.9 2-2V5c0-1.1-.9-2-2-2zM9 17H7v-7h2v7zm4 0h-2V7h2v10zm4 0h-2v-4h2v4z\"/>\n",
              "    </g>\n",
              "</svg>\n",
              "  </button>\n",
              "\n",
              "<style>\n",
              "  .colab-df-quickchart {\n",
              "      --bg-color: #E8F0FE;\n",
              "      --fill-color: #1967D2;\n",
              "      --hover-bg-color: #E2EBFA;\n",
              "      --hover-fill-color: #174EA6;\n",
              "      --disabled-fill-color: #AAA;\n",
              "      --disabled-bg-color: #DDD;\n",
              "  }\n",
              "\n",
              "  [theme=dark] .colab-df-quickchart {\n",
              "      --bg-color: #3B4455;\n",
              "      --fill-color: #D2E3FC;\n",
              "      --hover-bg-color: #434B5C;\n",
              "      --hover-fill-color: #FFFFFF;\n",
              "      --disabled-bg-color: #3B4455;\n",
              "      --disabled-fill-color: #666;\n",
              "  }\n",
              "\n",
              "  .colab-df-quickchart {\n",
              "    background-color: var(--bg-color);\n",
              "    border: none;\n",
              "    border-radius: 50%;\n",
              "    cursor: pointer;\n",
              "    display: none;\n",
              "    fill: var(--fill-color);\n",
              "    height: 32px;\n",
              "    padding: 0;\n",
              "    width: 32px;\n",
              "  }\n",
              "\n",
              "  .colab-df-quickchart:hover {\n",
              "    background-color: var(--hover-bg-color);\n",
              "    box-shadow: 0 1px 2px rgba(60, 64, 67, 0.3), 0 1px 3px 1px rgba(60, 64, 67, 0.15);\n",
              "    fill: var(--button-hover-fill-color);\n",
              "  }\n",
              "\n",
              "  .colab-df-quickchart-complete:disabled,\n",
              "  .colab-df-quickchart-complete:disabled:hover {\n",
              "    background-color: var(--disabled-bg-color);\n",
              "    fill: var(--disabled-fill-color);\n",
              "    box-shadow: none;\n",
              "  }\n",
              "\n",
              "  .colab-df-spinner {\n",
              "    border: 2px solid var(--fill-color);\n",
              "    border-color: transparent;\n",
              "    border-bottom-color: var(--fill-color);\n",
              "    animation:\n",
              "      spin 1s steps(1) infinite;\n",
              "  }\n",
              "\n",
              "  @keyframes spin {\n",
              "    0% {\n",
              "      border-color: transparent;\n",
              "      border-bottom-color: var(--fill-color);\n",
              "      border-left-color: var(--fill-color);\n",
              "    }\n",
              "    20% {\n",
              "      border-color: transparent;\n",
              "      border-left-color: var(--fill-color);\n",
              "      border-top-color: var(--fill-color);\n",
              "    }\n",
              "    30% {\n",
              "      border-color: transparent;\n",
              "      border-left-color: var(--fill-color);\n",
              "      border-top-color: var(--fill-color);\n",
              "      border-right-color: var(--fill-color);\n",
              "    }\n",
              "    40% {\n",
              "      border-color: transparent;\n",
              "      border-right-color: var(--fill-color);\n",
              "      border-top-color: var(--fill-color);\n",
              "    }\n",
              "    60% {\n",
              "      border-color: transparent;\n",
              "      border-right-color: var(--fill-color);\n",
              "    }\n",
              "    80% {\n",
              "      border-color: transparent;\n",
              "      border-right-color: var(--fill-color);\n",
              "      border-bottom-color: var(--fill-color);\n",
              "    }\n",
              "    90% {\n",
              "      border-color: transparent;\n",
              "      border-bottom-color: var(--fill-color);\n",
              "    }\n",
              "  }\n",
              "</style>\n",
              "\n",
              "  <script>\n",
              "    async function quickchart(key) {\n",
              "      const quickchartButtonEl =\n",
              "        document.querySelector('#' + key + ' button');\n",
              "      quickchartButtonEl.disabled = true;  // To prevent multiple clicks.\n",
              "      quickchartButtonEl.classList.add('colab-df-spinner');\n",
              "      try {\n",
              "        const charts = await google.colab.kernel.invokeFunction(\n",
              "            'suggestCharts', [key], {});\n",
              "      } catch (error) {\n",
              "        console.error('Error during call to suggestCharts:', error);\n",
              "      }\n",
              "      quickchartButtonEl.classList.remove('colab-df-spinner');\n",
              "      quickchartButtonEl.classList.add('colab-df-quickchart-complete');\n",
              "    }\n",
              "    (() => {\n",
              "      let quickchartButtonEl =\n",
              "        document.querySelector('#df-661d4eae-d1f7-432a-a7a9-84f39c621d9c button');\n",
              "      quickchartButtonEl.style.display =\n",
              "        google.colab.kernel.accessAllowed ? 'block' : 'none';\n",
              "    })();\n",
              "  </script>\n",
              "</div>\n",
              "    </div>\n",
              "  </div>\n"
            ]
          },
          "metadata": {},
          "execution_count": 3
        }
      ],
      "source": [
        "# Access the data\n",
        "ra = sm.datasets.get_rdataset(\"Arthritis\", \"vcd\").data\n",
        "\n",
        "# View it\n",
        "ra.head()"
      ]
    },
    {
      "cell_type": "markdown",
      "id": "c3729f85-5d76-4768-9c94-24533dbd34f1",
      "metadata": {
        "id": "c3729f85-5d76-4768-9c94-24533dbd34f1"
      },
      "source": [
        "### Question 1\n",
        "\n",
        "Use `pandas` to generate a cross tabulation of the treatment status and\n",
        "improvement.\n",
        "\n",
        "[hint](https://pandas.pydata.org/pandas-docs/stable/reference/api/pandas.crosstab.html)"
      ]
    },
    {
      "cell_type": "markdown",
      "source": [
        "\n",
        "### Answer"
      ],
      "metadata": {
        "id": "2cWuE2-HKNZz"
      },
      "id": "2cWuE2-HKNZz"
    },
    {
      "cell_type": "code",
      "execution_count": 4,
      "id": "aa6959e1-34d2-4f4c-9783-4c756dda3407",
      "metadata": {
        "id": "aa6959e1-34d2-4f4c-9783-4c756dda3407"
      },
      "outputs": [],
      "source": [
        "# answer..."
      ]
    },
    {
      "cell_type": "markdown",
      "id": "e07a21a7-d039-45c8-b89f-f0051b889cab",
      "metadata": {
        "id": "e07a21a7-d039-45c8-b89f-f0051b889cab"
      },
      "source": [
        "### Question 2\n",
        "\n",
        "Generate a mosaic plot to display this data.\n",
        "\n",
        "[hint](https://www.statsmodels.org/dev/generated/statsmodels.graphics.mosaicplot.mosaic.html)"
      ]
    },
    {
      "cell_type": "markdown",
      "source": [
        "### Answer"
      ],
      "metadata": {
        "id": "LKaBngGTKQCM"
      },
      "id": "LKaBngGTKQCM"
    },
    {
      "cell_type": "code",
      "execution_count": 5,
      "id": "07c7b300-f8a2-44e9-8bc9-0dd04f720d68",
      "metadata": {
        "id": "07c7b300-f8a2-44e9-8bc9-0dd04f720d68"
      },
      "outputs": [],
      "source": [
        "# answer..."
      ]
    },
    {
      "cell_type": "markdown",
      "id": "ca90f04b-49ab-4ef8-bf96-44f926f7640f",
      "metadata": {
        "id": "ca90f04b-49ab-4ef8-bf96-44f926f7640f"
      },
      "source": [
        "### Question 3\n",
        "\n",
        "a) What errors does the default plot from `pandas` make?\n",
        "\n",
        "Hint: these are not numerical errors but things that make it harder to interpret.\n",
        "\n",
        "b) [EXTENSION] Once you identify the errors then try to write some code to overcome them. Note that depending on which errors you've suggested, this may take you a while so come back to this if you have time."
      ]
    },
    {
      "cell_type": "markdown",
      "source": [
        "### Answer\n"
      ],
      "metadata": {
        "id": "v1cEZpRZKXaj"
      },
      "id": "v1cEZpRZKXaj"
    },
    {
      "cell_type": "markdown",
      "source": [
        "text..."
      ],
      "metadata": {
        "id": "Ld6B9Ec_KZLX"
      },
      "id": "Ld6B9Ec_KZLX"
    },
    {
      "cell_type": "code",
      "execution_count": 6,
      "id": "6f429058-2786-401f-9116-f4657113ec77",
      "metadata": {
        "id": "6f429058-2786-401f-9116-f4657113ec77"
      },
      "outputs": [],
      "source": [
        "# code..."
      ]
    },
    {
      "cell_type": "markdown",
      "source": [
        "### Question 4\n",
        "\n",
        "For this trial, what was the null hypothesis?"
      ],
      "metadata": {
        "id": "81p2y-LJK6lx"
      },
      "id": "81p2y-LJK6lx"
    },
    {
      "cell_type": "markdown",
      "source": [
        "### Answer\n"
      ],
      "metadata": {
        "id": "VPwsEMOvK8Xv"
      },
      "id": "VPwsEMOvK8Xv"
    },
    {
      "cell_type": "markdown",
      "source": [],
      "metadata": {
        "id": "Mv__Roh0LCzq"
      },
      "id": "Mv__Roh0LCzq"
    },
    {
      "cell_type": "markdown",
      "source": [
        "### Question 5\n",
        "\n",
        "Is it valid to use a $\\chi^{2}$-test for this data?"
      ],
      "metadata": {
        "id": "hbWHHIZZLHdC"
      },
      "id": "hbWHHIZZLHdC"
    },
    {
      "cell_type": "markdown",
      "source": [
        "### Answer"
      ],
      "metadata": {
        "id": "_gAi72fFLDKb"
      },
      "id": "_gAi72fFLDKb"
    },
    {
      "cell_type": "markdown",
      "source": [],
      "metadata": {
        "id": "CPsL8zY1LKcT"
      },
      "id": "CPsL8zY1LKcT"
    },
    {
      "cell_type": "markdown",
      "source": [
        "### Question 6\n",
        "\n",
        "How many degrees of freedom are there in this data?\n",
        "\n",
        "Hint: Do a bit of research to actually understand degrees of freedom (DOF) more generally. When learning statistics it seems a little bit random where you get the DOF from in each different model but once you realise the theory behind it then it all makes sense. Knowing the theory means that it is much easier to remember the rules for each model as well. I will try to link a good DOF explainer in the resources section."
      ],
      "metadata": {
        "id": "vCVGix_RLLGF"
      },
      "id": "vCVGix_RLLGF"
    },
    {
      "cell_type": "markdown",
      "source": [
        "\n",
        "### Answer\n"
      ],
      "metadata": {
        "id": "9CR0AFEnLMip"
      },
      "id": "9CR0AFEnLMip"
    },
    {
      "cell_type": "markdown",
      "source": [
        "### Question 7\n",
        "\n",
        "Perform a $\\chi^{2}$-test on the contingency table; are treatment and changes in symptoms independent?\n",
        "\n",
        "Make sure that when you do a hypothesis test you make it nice and formal. Define your hypothesis clearly,...etc"
      ],
      "metadata": {
        "id": "kaSxPMi0LoPB"
      },
      "id": "kaSxPMi0LoPB"
    },
    {
      "cell_type": "markdown",
      "id": "cfa426fe-0491-4fad-9616-cfb652a03f08",
      "metadata": {
        "id": "cfa426fe-0491-4fad-9616-cfb652a03f08"
      },
      "source": [
        "\n",
        "\n",
        "\n",
        "\n",
        "\n",
        "\n",
        "\n",
        "\n",
        "\n",
        "\n",
        "### Answer"
      ]
    },
    {
      "cell_type": "markdown",
      "source": [
        "text..."
      ],
      "metadata": {
        "id": "NKvCnDU0LxyA"
      },
      "id": "NKvCnDU0LxyA"
    },
    {
      "cell_type": "code",
      "execution_count": 7,
      "id": "38bf2706-777a-48de-99a5-b676f4856aed",
      "metadata": {
        "id": "38bf2706-777a-48de-99a5-b676f4856aed"
      },
      "outputs": [],
      "source": [
        "# code"
      ]
    },
    {
      "cell_type": "code",
      "execution_count": 7,
      "id": "e326eb76-8b96-4091-8699-fd3fa7c15657",
      "metadata": {
        "id": "e326eb76-8b96-4091-8699-fd3fa7c15657"
      },
      "outputs": [],
      "source": []
    },
    {
      "cell_type": "markdown",
      "source": [
        "### Question 8\n",
        "\n",
        "A) What can we conclude from this hypothesis test?\n",
        "\n",
        "B) Why did we need to randomise the treatment?\n",
        "\n",
        "Note that a proper treatment of causality goes well beyond the scope of this course, but recall that randomised controlled trials provide very very high quality evidence."
      ],
      "metadata": {
        "id": "-6JNed_xMIrg"
      },
      "id": "-6JNed_xMIrg"
    },
    {
      "cell_type": "markdown",
      "source": [
        "### Question 9 [Extension - Do this if time]"
      ],
      "metadata": {
        "id": "RqP1Bx3ONWGp"
      },
      "id": "RqP1Bx3ONWGp"
    },
    {
      "cell_type": "markdown",
      "source": [
        "\n",
        "Recall from earlier notebooks the function estimate_and_ci which computes the probability of success in repeated Bernoulli trials and the  95%  confidence interval on this estimate.\n",
        "\n"
      ],
      "metadata": {
        "id": "Vipgr5s9NWez"
      },
      "id": "Vipgr5s9NWez"
    },
    {
      "cell_type": "code",
      "execution_count": null,
      "id": "bbf97501-455e-42fd-b4ca-85804deed44f",
      "metadata": {
        "id": "bbf97501-455e-42fd-b4ca-85804deed44f"
      },
      "outputs": [],
      "source": [
        "def estimate_and_ci(num_trials, num_success):\n",
        "  \"\"\" returns a tuple of the probability of success and a confidence interval\"\"\"\n",
        "    p_hat = num_success / num_trials\n",
        "    z = 1.96\n",
        "    delta = z * np.sqrt(p_hat * (1 - p_hat) / num_trials)\n",
        "    return (p_hat,(p_hat - delta, p_hat + delta))"
      ]
    },
    {
      "cell_type": "markdown",
      "source": [
        "The functions `rand_small_table` and `rand_big_table` defined below return\n",
        "random datasets of the same shape as our arthritis dataset under the null\n",
        "hypothesis, i.e. when the outcome is independent of treatment. The\n",
        "`rand_small_table` returns data from a smaller cohort and the `rand_big_table`\n",
        "returns data from a larger cohort."
      ],
      "metadata": {
        "id": "zNYCNuXqMyxH"
      },
      "id": "zNYCNuXqMyxH"
    },
    {
      "cell_type": "code",
      "source": [
        "_, _, _, expected = scipy.stats.chi2_contingency(outcome_tbl.to_numpy())\n",
        "\n",
        "def rand_small_table():\n",
        "    x = np.array(0)\n",
        "    while x.min() < 1:\n",
        "        x = scipy.stats.poisson.rvs(mu = np.array(0.5) * expected)\n",
        "    return x\n",
        "\n",
        "def rand_big_table():\n",
        "    x = np.array(0)\n",
        "    while x.min() < 1:\n",
        "        x = scipy.stats.poisson.rvs(mu = np.array(1.5) * expected)\n",
        "    return x"
      ],
      "metadata": {
        "id": "ap6BRHe-Myg5"
      },
      "id": "ap6BRHe-Myg5",
      "execution_count": null,
      "outputs": []
    },
    {
      "cell_type": "markdown",
      "id": "0eabddc5-8a23-414b-b8a0-90d74fe55312",
      "metadata": {
        "id": "0eabddc5-8a23-414b-b8a0-90d74fe55312"
      },
      "source": [
        "Using the functions `estimate_and_ci`, and `rand_small_table` and\n",
        "`rand_big_table`, demonstrate how the $\\chi^{2}$-test will fail if the cell values are too small."
      ]
    },
    {
      "cell_type": "markdown",
      "source": [
        "### Answer"
      ],
      "metadata": {
        "id": "NwY8zGoXNgOg"
      },
      "id": "NwY8zGoXNgOg"
    },
    {
      "cell_type": "markdown",
      "source": [
        "text"
      ],
      "metadata": {
        "id": "507aYsQXNhU9"
      },
      "id": "507aYsQXNhU9"
    },
    {
      "cell_type": "code",
      "execution_count": 8,
      "id": "748f2fb8-1627-44e7-8f9d-09b2d0af4b2f",
      "metadata": {
        "id": "748f2fb8-1627-44e7-8f9d-09b2d0af4b2f"
      },
      "outputs": [],
      "source": [
        "# code..."
      ]
    }
  ],
  "metadata": {
    "jupytext": {
      "formats": "ipynb,md"
    },
    "kernelspec": {
      "display_name": "Python 3 (ipykernel)",
      "language": "python",
      "name": "python3"
    },
    "language_info": {
      "codemirror_mode": {
        "name": "ipython",
        "version": 3
      },
      "file_extension": ".py",
      "mimetype": "text/x-python",
      "name": "python",
      "nbconvert_exporter": "python",
      "pygments_lexer": "ipython3",
      "version": "3.10.6"
    },
    "colab": {
      "provenance": []
    }
  },
  "nbformat": 4,
  "nbformat_minor": 5
}